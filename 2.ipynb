{
 "cells": [
  {
   "cell_type": "markdown",
   "metadata": {},
   "source": [
    "### **2. Disease prediction**"
   ]
  },
  {
   "cell_type": "code",
   "execution_count": 263,
   "metadata": {},
   "outputs": [],
   "source": [
    "import math\n",
    "import pandas as pd\n",
    "import matplotlib.pyplot as plt\n",
    "import numpy as np\n",
    "from sklearn.model_selection import train_test_split\n",
    "from sklearn.linear_model import LogisticRegression\n",
    "from sklearn.preprocessing import StandardScaler, MinMaxScaler\n",
    "from sklearn.metrics import recall_score, classification_report, confusion_matrix, ConfusionMatrixDisplay\n",
    "folder = \"kaggle-cardio/\"\n",
    "cardio_file = \"cardio_train.csv\"\n",
    "\n",
    "df_cardio = pd.read_csv(f\"{folder}{cardio_file}\", sep = \";\")"
   ]
  },
  {
   "cell_type": "code",
   "execution_count": 264,
   "metadata": {},
   "outputs": [],
   "source": [
    "df_cardio[\"bmi\"] = df_cardio[\"weight\"] / (df_cardio[\"height\"] / 100) ** 2"
   ]
  },
  {
   "cell_type": "code",
   "execution_count": 265,
   "metadata": {},
   "outputs": [],
   "source": [
    "def plot_column(df, col_name, min, max):\n",
    "    return df[(df[col_name] > min) & (df[col_name] < max)]"
   ]
  },
  {
   "cell_type": "code",
   "execution_count": 266,
   "metadata": {},
   "outputs": [],
   "source": [
    "df_cardio = plot_column(df_cardio, \"bmi\", min = 15, max = 50)"
   ]
  },
  {
   "cell_type": "code",
   "execution_count": 267,
   "metadata": {},
   "outputs": [],
   "source": [
    "df_cardio[\"bmi_category\"] = pd.cut(\n",
    "    df_cardio[\"bmi\"], \n",
    "    bins = [0, 25, 30, 35, 40, 1000], \n",
    "    labels = [\"Normal\", \"Overweight\", \"Obese (Class I)\", \"Obese (Class II)\", \"Obese (Class III)\"], \n",
    "    right = False\n",
    ")"
   ]
  },
  {
   "cell_type": "code",
   "execution_count": 268,
   "metadata": {},
   "outputs": [],
   "source": [
    "df_cardio = plot_column(df_cardio, \"ap_hi\", min = 75, max = 200)"
   ]
  },
  {
   "cell_type": "code",
   "execution_count": 269,
   "metadata": {},
   "outputs": [],
   "source": [
    "df_cardio = plot_column(df_cardio, \"ap_lo\", min = 50, max = 150)"
   ]
  },
  {
   "cell_type": "code",
   "execution_count": 270,
   "metadata": {},
   "outputs": [],
   "source": [
    "def ap_categorizer(hi, lo):\n",
    "    '''ap_categorizer() takes blood two pressure values as arguments and returns the blood pressure category'''\n",
    "\n",
    "    if hi >= 180 or lo >= 120: return \"Hypertension crisis\"\n",
    "    if hi >= 140 or lo >= 90: return \"Stage 2 hypertension\"\n",
    "    if hi < 120 and lo < 80: return \"Healthy\"\n",
    "    if hi < 130 and lo < 80: return \"Elevated\"\n",
    "    return \"Stage 1 hypertension\"\n",
    "\n",
    "df_cardio[\"ap_category\"] = df_cardio.apply(lambda x: ap_categorizer(x[\"ap_hi\"], x[\"ap_lo\"]), axis = 1).astype(\"category\")"
   ]
  },
  {
   "cell_type": "code",
   "execution_count": 271,
   "metadata": {},
   "outputs": [],
   "source": [
    "df_cardio_first = df_cardio.drop([\"ap_hi\", \"ap_lo\", \"height\", \"weight\", \"bmi\"], axis = 1)\n",
    "df_cardio_first = pd.get_dummies(df_cardio_first, columns = [\"bmi_category\", \"ap_category\", \"gender\"], drop_first = True)\n",
    "\n",
    "df_cardio_second = df_cardio.drop([\"bmi_category\", \"ap_category\", \"height\", \"weight\"], axis = 1)\n",
    "df_cardio_second = pd.get_dummies(df_cardio_second, columns = [\"gender\"], drop_first = True)"
   ]
  },
  {
   "cell_type": "code",
   "execution_count": 272,
   "metadata": {},
   "outputs": [
    {
     "data": {
      "text/html": [
       "<div>\n",
       "<style scoped>\n",
       "    .dataframe tbody tr th:only-of-type {\n",
       "        vertical-align: middle;\n",
       "    }\n",
       "\n",
       "    .dataframe tbody tr th {\n",
       "        vertical-align: top;\n",
       "    }\n",
       "\n",
       "    .dataframe thead th {\n",
       "        text-align: right;\n",
       "    }\n",
       "</style>\n",
       "<table border=\"1\" class=\"dataframe\">\n",
       "  <thead>\n",
       "    <tr style=\"text-align: right;\">\n",
       "      <th></th>\n",
       "      <th>id</th>\n",
       "      <th>age</th>\n",
       "      <th>ap_hi</th>\n",
       "      <th>ap_lo</th>\n",
       "      <th>cholesterol</th>\n",
       "      <th>gluc</th>\n",
       "      <th>smoke</th>\n",
       "      <th>alco</th>\n",
       "      <th>active</th>\n",
       "      <th>cardio</th>\n",
       "      <th>bmi</th>\n",
       "      <th>gender_2</th>\n",
       "    </tr>\n",
       "  </thead>\n",
       "  <tbody>\n",
       "    <tr>\n",
       "      <th>0</th>\n",
       "      <td>0</td>\n",
       "      <td>18393</td>\n",
       "      <td>110</td>\n",
       "      <td>80</td>\n",
       "      <td>1</td>\n",
       "      <td>1</td>\n",
       "      <td>0</td>\n",
       "      <td>0</td>\n",
       "      <td>1</td>\n",
       "      <td>0</td>\n",
       "      <td>21.967120</td>\n",
       "      <td>1</td>\n",
       "    </tr>\n",
       "    <tr>\n",
       "      <th>1</th>\n",
       "      <td>1</td>\n",
       "      <td>20228</td>\n",
       "      <td>140</td>\n",
       "      <td>90</td>\n",
       "      <td>3</td>\n",
       "      <td>1</td>\n",
       "      <td>0</td>\n",
       "      <td>0</td>\n",
       "      <td>1</td>\n",
       "      <td>1</td>\n",
       "      <td>34.927679</td>\n",
       "      <td>0</td>\n",
       "    </tr>\n",
       "    <tr>\n",
       "      <th>2</th>\n",
       "      <td>2</td>\n",
       "      <td>18857</td>\n",
       "      <td>130</td>\n",
       "      <td>70</td>\n",
       "      <td>3</td>\n",
       "      <td>1</td>\n",
       "      <td>0</td>\n",
       "      <td>0</td>\n",
       "      <td>0</td>\n",
       "      <td>1</td>\n",
       "      <td>23.507805</td>\n",
       "      <td>0</td>\n",
       "    </tr>\n",
       "    <tr>\n",
       "      <th>3</th>\n",
       "      <td>3</td>\n",
       "      <td>17623</td>\n",
       "      <td>150</td>\n",
       "      <td>100</td>\n",
       "      <td>1</td>\n",
       "      <td>1</td>\n",
       "      <td>0</td>\n",
       "      <td>0</td>\n",
       "      <td>1</td>\n",
       "      <td>1</td>\n",
       "      <td>28.710479</td>\n",
       "      <td>1</td>\n",
       "    </tr>\n",
       "    <tr>\n",
       "      <th>4</th>\n",
       "      <td>4</td>\n",
       "      <td>17474</td>\n",
       "      <td>100</td>\n",
       "      <td>60</td>\n",
       "      <td>1</td>\n",
       "      <td>1</td>\n",
       "      <td>0</td>\n",
       "      <td>0</td>\n",
       "      <td>0</td>\n",
       "      <td>0</td>\n",
       "      <td>23.011177</td>\n",
       "      <td>0</td>\n",
       "    </tr>\n",
       "  </tbody>\n",
       "</table>\n",
       "</div>"
      ],
      "text/plain": [
       "   id    age  ap_hi  ap_lo  cholesterol  gluc  smoke  alco  active  cardio  \\\n",
       "0   0  18393    110     80            1     1      0     0       1       0   \n",
       "1   1  20228    140     90            3     1      0     0       1       1   \n",
       "2   2  18857    130     70            3     1      0     0       0       1   \n",
       "3   3  17623    150    100            1     1      0     0       1       1   \n",
       "4   4  17474    100     60            1     1      0     0       0       0   \n",
       "\n",
       "         bmi  gender_2  \n",
       "0  21.967120         1  \n",
       "1  34.927679         0  \n",
       "2  23.507805         0  \n",
       "3  28.710479         1  \n",
       "4  23.011177         0  "
      ]
     },
     "execution_count": 272,
     "metadata": {},
     "output_type": "execute_result"
    }
   ],
   "source": [
    "df_cardio_second.head()"
   ]
  },
  {
   "cell_type": "code",
   "execution_count": 273,
   "metadata": {},
   "outputs": [
    {
     "data": {
      "text/plain": [
       "((34130, 10), (17065, 10), (17065, 10), (34130,), (17065,), (17065,))"
      ]
     },
     "execution_count": 273,
     "metadata": {},
     "output_type": "execute_result"
    }
   ],
   "source": [
    "\n",
    "def tvt_split(X, y):\n",
    "    X_train, X_test, y_train, y_test = train_test_split(X.values, y.values, test_size = 0.5, random_state = 42)\n",
    "    X_val, X_test, y_val, y_test = train_test_split(X_test, y_test, test_size = 0.5, random_state = 42)\n",
    "\n",
    "    return X_train, X_val, X_test, y_train, y_val, y_test\n",
    "\n",
    "datasets = {}\n",
    "\n",
    "X_train, X_val, X_test, y_train, y_val, y_test = tvt_split(df_cardio_first.drop([\"id\", \"cardio\"], axis = 1), df_cardio_first[\"cardio\"])\n",
    "#datasets[\"first\"] = {\"X_train\": X_train, \"X_val\": X_val, \"X_test\": X_test, \"y_train\": y_train, \"y_val\": y_val, \"y_test\": y_test}\n",
    "\n",
    "X_train, X_val, X_test, y_train, y_val, y_test = tvt_split(df_cardio_second.drop([\"id\", \"cardio\"], axis = 1), df_cardio_second[\"cardio\"])\n",
    "#datasets[\"second\"] = {\"X_train\": X_train, \"X_val\": X_val, \"X_test\": X_test, \"y_train\": y_train, \"y_val\": y_val, \"y_test\": y_test}\n",
    "\n",
    "# To minimize risk of bugs these are deleted\n",
    "#X_train, X_val, X_test, y_train, y_val, y_test\n",
    "\n",
    "X_train.shape, X_val.shape, X_test.shape, y_train.shape, y_val.shape, y_test.shape"
   ]
  },
  {
   "cell_type": "code",
   "execution_count": 274,
   "metadata": {},
   "outputs": [],
   "source": [
    "scaler = StandardScaler()\n",
    "\n",
    "X_train = scaler.fit_transform(X_train)\n",
    "X_val = scaler.transform(X_val)\n",
    "X_test = scaler.transform(X_test)"
   ]
  },
  {
   "cell_type": "code",
   "execution_count": 275,
   "metadata": {},
   "outputs": [],
   "source": [
    "class EvoClassifier:\n",
    "    def __init__(self, n = 100, hidden_layers = False, activation = \"sigmoid\", random_state = None):\n",
    "\n",
    "        self.n = n // 2 * 2\n",
    "        self.nets = []\n",
    "        self.best_net = -1\n",
    "        self.best_result = None\n",
    "        self.validation_loss_history = []\n",
    "        self.training_loss_history = []\n",
    "        self.mutation_sigma = 0\n",
    "\n",
    "        if activation == \"sigmoid\":\n",
    "            self.activation_function = lambda x: 1 / (1 + np.exp(-x))\n",
    "        elif activation == \"relu\":\n",
    "            self.activation_function = lambda x: np.maximum(0, x)\n",
    "        elif activation == \"leaky_relu\":\n",
    "            self.activation_function = lambda x: np.maximum(0.1 * x, x)\n",
    "\n",
    "        self.output_activation_function = lambda x: 1 / (1 + np.exp(-x))\n",
    "        \n",
    "        if hidden_layers:\n",
    "            self.layers = hidden_layers + [1]\n",
    "        else:\n",
    "            self.layers = [1]\n",
    "        \n",
    "        if random_state != None:\n",
    "            np.random.seed(random_state)\n",
    "\n",
    "    \n",
    "    def fit(self, X_train, y_train, epochs = 100, validation_data = False, verbose = 0):\n",
    "        X_train = np.c_[np.ones(X_train.shape[0]), X_train]\n",
    "\n",
    "        if validation_data:\n",
    "            X_val, y_val = validation_data\n",
    "        \n",
    "        self.layers = [X_train.shape[1]] + self.layers\n",
    "\n",
    "        for i in range(self.n):\n",
    "            self.nets += [[]]\n",
    "            for j in range(len(self.layers) - 1):\n",
    "                self.nets[i] += [np.random.uniform(-3, 3, (self.layers[j], self.layers[j + 1]))]\n",
    "\n",
    "        self.y_preds = np.zeros((len(self.nets), y_train.shape[0]))\n",
    "        self.nets_loss = np.zeros(len(self.nets))\n",
    "        self.sorted_indecies = np.zeros(len(self.nets))\n",
    "\n",
    "        for epoch in range(epochs):\n",
    "            for i in range(len(self.nets)):\n",
    "                forward_pass = X_train.T\n",
    "\n",
    "                for j in range(0, len(self.layers) - 2):\n",
    "                    forward_pass = self.activation_function(self.nets[i][j].T @ forward_pass)\n",
    "\n",
    "                forward_pass = self.nets[i][-1].T @ forward_pass\n",
    "                forward_pass = self.output_activation_function(forward_pass)\n",
    "                \n",
    "                self.y_preds[i] = forward_pass.reshape(-1)\n",
    "            \n",
    "            self.nets_loss = np.mean(np.abs(self.y_preds - y_train), axis = 1)\n",
    "            \n",
    "            self.sorted_indecies = np.argsort(self.nets_loss)\n",
    "            \n",
    "            self.mutation_sigma = 0.1 + 5 * 1 / math.exp(epoch / (epochs / (10 * math.log10(epochs + 1))))\n",
    "            \n",
    "            for i in range(0, self.n // 2, 2):\n",
    "                for j in range(len(self.layers) - 1):\n",
    "                    self.nets[self.sorted_indecies[self.n // 2 + i]][j] = (self.nets[self.sorted_indecies[i]][j] + self.nets[self.sorted_indecies[1 + i]][j]) / 2 + np.random.normal(0, self.mutation_sigma, (self.layers[j], self.layers[j + 1]))\n",
    "                    self.nets[self.sorted_indecies[self.n // 2 + 1 + i]][j] = (self.nets[self.sorted_indecies[i]][j] + self.nets[self.sorted_indecies[1 + i]][j]) / 2 + np.random.normal(0, self.mutation_sigma, (self.layers[j], self.layers[j + 1]))\n",
    "\n",
    "            if self.best_net != self.sorted_indecies[0]:\n",
    "                self.best_net = self.sorted_indecies[0]\n",
    "                self.training_loss_history += [self.nets_loss[self.best_net]]\n",
    "\n",
    "                if validation_data:\n",
    "                    self.validation_loss_history += [np.mean(np.abs(y_val - self.predict(X_val)))]\n",
    "                    if verbose == 1:\n",
    "                        print(f\"Epoch {epoch} - loss: {self.training_loss_history[-1]} - val_loss: {self.validation_loss_history[-1]}\")\n",
    "                else:\n",
    "                    if verbose == 1:\n",
    "                        print(f\"Epoch {epoch} - loss: {self.training_loss_history[-1]}\")\n",
    "\n",
    "\n",
    "    def predict(self, X):\n",
    "        X = np.c_[np.ones(X.shape[0]), X]\n",
    "\n",
    "        forward_pass = X.T\n",
    "        for j in range(0, len(self.layers) - 2):\n",
    "            forward_pass = self.activation_function(self.nets[self.best_net][j].T @ forward_pass)\n",
    "\n",
    "        forward_pass = self.output_activation_function(self.nets[self.best_net][-1].T @ forward_pass)\n",
    "\n",
    "\n",
    "        return forward_pass.reshape(-1)\n",
    "        "
   ]
  },
  {
   "cell_type": "code",
   "execution_count": 276,
   "metadata": {},
   "outputs": [
    {
     "name": "stdout",
     "output_type": "stream",
     "text": [
      "Epoch 0 - loss: 0.3647060073389555\n",
      "Epoch 3 - loss: 0.35809176402459497\n",
      "Epoch 4 - loss: 0.3519175356556816\n",
      "Epoch 5 - loss: 0.35181399455029494\n",
      "Epoch 6 - loss: 0.34954363182710424\n",
      "Epoch 7 - loss: 0.3473300210972537\n",
      "Epoch 8 - loss: 0.3464092224033374\n",
      "Epoch 9 - loss: 0.34558039223402187\n"
     ]
    },
    {
     "name": "stderr",
     "output_type": "stream",
     "text": [
      "/var/folders/xz/f2gwbn5n3vs4pz044n49z3cw0000gn/T/ipykernel_19235/1224193588.py:19: RuntimeWarning: overflow encountered in exp\n",
      "  self.output_activation_function = lambda x: 1 / (1 + np.exp(-x))\n"
     ]
    }
   ],
   "source": [
    "start, stop = 37, 38\n",
    "\n",
    "classifier = EvoClassifier(n = 100, hidden_layers = [2], activation = \"relu\", random_state = 42)\n",
    "#classifier.fit(datasets[\"second\"][\"X_train\"][start:stop], datasets[\"second\"][\"y_train\"][start:stop], epochs = 2, verbose = 1)\n",
    "classifier.fit(X_train[::10], y_train[::10], epochs = 10, verbose = 1)"
   ]
  },
  {
   "cell_type": "code",
   "execution_count": 285,
   "metadata": {},
   "outputs": [],
   "source": [
    "y_pred = classifier.predict(X_test)\n",
    "#y_pred.tolist()"
   ]
  },
  {
   "cell_type": "code",
   "execution_count": 293,
   "metadata": {},
   "outputs": [
    {
     "name": "stdout",
     "output_type": "stream",
     "text": [
      "              precision    recall  f1-score   support\n",
      "\n",
      "           0       0.72      0.72      0.72      8683\n",
      "           1       0.71      0.71      0.71      8382\n",
      "\n",
      "    accuracy                           0.72     17065\n",
      "   macro avg       0.71      0.71      0.71     17065\n",
      "weighted avg       0.72      0.72      0.72     17065\n",
      "\n"
     ]
    },
    {
     "data": {
      "image/png": "[encoded data removed]",
      "text/plain": [
       "<Figure size 432x288 with 2 Axes>"
      ]
     },
     "metadata": {
      "needs_background": "light"
     },
     "output_type": "display_data"
    }
   ],
   "source": [
    "y_pred = classifier.predict(X_test)\n",
    "y_pred = (y_pred > 0.5) * 1\n",
    "\n",
    "print(classification_report(y_test, y_pred))\n",
    "disp = ConfusionMatrixDisplay(confusion_matrix(y_test, y_pred)).plot()\n",
    "plt.show()"
   ]
  },
  {
   "cell_type": "code",
   "execution_count": 109,
   "metadata": {},
   "outputs": [
    {
     "name": "stdout",
     "output_type": "stream",
     "text": [
      "0.5108256237659907\n",
      "0.2231435513142097\n",
      "1.6094379124341003\n",
      "0.35667494393873245\n"
     ]
    }
   ],
   "source": [
    "import math\n",
    "import numpy as np\n",
    "\n",
    "true = [1, 0, 1, 0]\n",
    "pred = [0.6, 0.2, 0.2, 0.3]\n",
    "\n",
    "for i in range(4):\n",
    "    loss = -(true[i] * math.log(pred[i]) + (1 - true[i]) * math.log(1 - pred[i]))\n",
    "\n",
    "    print(loss)"
   ]
  },
  {
   "cell_type": "code",
   "execution_count": 110,
   "metadata": {},
   "outputs": [
    {
     "data": {
      "text/plain": [
       "0.6750205078632583"
      ]
     },
     "execution_count": 110,
     "metadata": {},
     "output_type": "execute_result"
    }
   ],
   "source": [
    "y = np.array(true)\n",
    "p = np.array(pred)\n",
    "\n",
    "np.mean((y * np.log(p) + (1 - y) * np.log(1 - p))) * -1"
   ]
  },
  {
   "cell_type": "code",
   "execution_count": 294,
   "metadata": {},
   "outputs": [],
   "source": [
    "class VectorizedEvoClassifier:\n",
    "    def __init__(self, n = 100, hidden_layers = False, activation = \"sigmoid\", random_state = None):\n",
    "\n",
    "        self.n = n // 2 * 2\n",
    "        self.best_net = -1\n",
    "        self.best_result = None\n",
    "        self.validation_loss_history = []\n",
    "        self.training_loss_history = []\n",
    "        self.mutation_sigma = 0\n",
    "\n",
    "        if activation == \"sigmoid\":\n",
    "            self.activation_function = lambda x: 1 / (1 + np.exp(-x))\n",
    "        elif activation == \"relu\":\n",
    "            self.activation_function = lambda x: np.maximum(0, x)\n",
    "        elif activation == \"leaky_relu\":\n",
    "            self.activation_function = lambda x: np.maximum(0.1 * x, x)\n",
    "        \n",
    "        self.output_activation_function = lambda x: 1 / (1 + np.exp(-x))\n",
    "        \n",
    "        if hidden_layers:\n",
    "            self.layers = hidden_layers + [1]\n",
    "        else:\n",
    "            self.layers = [1]\n",
    "        \n",
    "        if random_state != None:\n",
    "            np.random.seed(random_state)\n",
    "\n",
    "    \n",
    "    def fit(self, X_train, y_train, epochs = 100, validation_data = False, verbose = 0):\n",
    "        X_train = np.c_[np.ones(X_train.shape[0]), X_train]\n",
    "\n",
    "        if validation_data:\n",
    "            X_val, y_val = validation_data\n",
    "\n",
    "        self.layers = [X_train.shape[1]] + self.layers\n",
    "\n",
    "        self.y_preds = np.zeros((self.n, y_train.shape[0]))\n",
    "        self.nets_loss = np.zeros(self.n)\n",
    "        self.sorted_indecies = np.zeros(self.n)\n",
    "\n",
    "        self.weights = []\n",
    "\n",
    "        for i in range(len(self.layers) - 1):\n",
    "            self.weights += [np.random.uniform(-3, 3, (self.n, self.layers[i], self.layers[i + 1]))]\n",
    "\n",
    "        for epoch in range(epochs):\n",
    "            forward_pass = X_train.T\n",
    "            \n",
    "            for j in range(0, len(self.layers) - 2):\n",
    "                forward_pass = self.activation_function(self.weights[j].transpose(0, 2, 1) @ forward_pass)\n",
    "\n",
    "            forward_pass = self.output_activation_function(self.weights[-1].transpose(0, 2, 1) @ forward_pass)\n",
    "            \n",
    "            self.y_preds = forward_pass.reshape(self.n, -1)\n",
    "\n",
    "            self.nets_loss = np.mean(np.abs(self.y_preds - y_train), axis = 1)\n",
    "            \n",
    "            \n",
    "            self.sorted_indecies = np.argsort(self.nets_loss)\n",
    "\n",
    "            self.mutation_sigma = 0.1 + 5 * 1 / math.exp(epoch / ((epochs + 1) / (100 * math.log10(epochs + 1))))\n",
    "\n",
    "            for j in range(0, len(self.layers) - 1):\n",
    "                self.weights[j][self.sorted_indecies[self.n // 2::2]] = np.mean((self.weights[j][self.sorted_indecies[:self.n // 2:2]], self.weights[j][self.sorted_indecies[1:1 + self.n // 2:2]]), axis = 0) + np.random.normal(0, self.mutation_sigma, (self.n // 4, self.layers[j], self.layers[j + 1]))\n",
    "                self.weights[j][self.sorted_indecies[1 + self.n // 2::2]] = np.mean((self.weights[j][self.sorted_indecies[:self.n // 2:2]], self.weights[j][self.sorted_indecies[1:1 + self.n // 2:2]]), axis = 0) + np.random.normal(0, self.mutation_sigma, (self.n // 4, self.layers[j], self.layers[j + 1]))\n",
    "\n",
    "            if self.best_net != self.sorted_indecies[0]:\n",
    "                self.best_net = self.sorted_indecies[0]\n",
    "                self.training_loss_history += [self.nets_loss[self.best_net]]\n",
    "                \n",
    "                if validation_data:\n",
    "                    self.validation_loss_history += [np.mean(np.abs(y_val - self.predict(X_val)))]\n",
    "                    if verbose == 1:\n",
    "                        print(f\"Epoch {epoch} - loss: {self.training_loss_history[-1]} - val_loss: {self.validation_loss_history[-1]}\")\n",
    "                else:\n",
    "                    if verbose == 1:\n",
    "                        pass\n",
    "                        print(f\"Epoch {epoch} - loss: {self.training_loss_history[-1]}\")\n",
    "\n",
    "\n",
    "    def predict(self, X):\n",
    "        X = np.c_[np.ones(X.shape[0]), X]\n",
    "\n",
    "        forward_pass = X.T\n",
    "        for j in range(0, len(self.layers) - 2):\n",
    "            forward_pass = self.activation_function(self.weights[j][self.best_net].T @ forward_pass)\n",
    "\n",
    "        forward_pass = self.output_activation_function(self.weights[-1][self.best_net].T @ forward_pass)\n",
    "        return forward_pass.reshape(-1)\n"
   ]
  },
  {
   "cell_type": "code",
   "execution_count": 295,
   "metadata": {},
   "outputs": [
    {
     "name": "stdout",
     "output_type": "stream",
     "text": [
      "Epoch 0 - loss: 0.42746949799450706\n",
      "Epoch 3 - loss: 0.4154939474712217\n",
      "Epoch 5 - loss: 0.40581017929922036\n",
      "Epoch 6 - loss: 0.3943298099403504\n",
      "Epoch 7 - loss: 0.35049899091064035\n",
      "Epoch 8 - loss: 0.3273857037771006\n",
      "Epoch 9 - loss: 0.3220967501726527\n",
      "Epoch 10 - loss: 0.3134629649062136\n",
      "Epoch 13 - loss: 0.3102942367373127\n",
      "Epoch 15 - loss: 0.3099184375132321\n",
      "Epoch 16 - loss: 0.3095102987503707\n",
      "Epoch 18 - loss: 0.30863135628465066\n",
      "Epoch 19 - loss: 0.3071634528405456\n",
      "Epoch 21 - loss: 0.3049965345266566\n",
      "Epoch 23 - loss: 0.30392086917366523\n",
      "Epoch 25 - loss: 0.30307322986099994\n",
      "Epoch 26 - loss: 0.3024846273841812\n",
      "Epoch 28 - loss: 0.302394158133429\n"
     ]
    },
    {
     "name": "stderr",
     "output_type": "stream",
     "text": [
      "/var/folders/xz/f2gwbn5n3vs4pz044n49z3cw0000gn/T/ipykernel_19235/4173347241.py:18: RuntimeWarning: overflow encountered in exp\n",
      "  self.output_activation_function = lambda x: 1 / (1 + np.exp(-x))\n"
     ]
    },
    {
     "name": "stdout",
     "output_type": "stream",
     "text": [
      "Epoch 34 - loss: 0.30132542112074284\n",
      "Epoch 37 - loss: 0.30052824159735003\n",
      "Epoch 39 - loss: 0.2998163415097673\n",
      "Epoch 46 - loss: 0.2997429185923565\n",
      "Epoch 58 - loss: 0.29880611399245294\n",
      "Epoch 66 - loss: 0.29777768775930885\n",
      "Epoch 70 - loss: 0.29762104230074327\n",
      "Epoch 71 - loss: 0.2968592249258625\n",
      "Epoch 79 - loss: 0.2958410567405483\n",
      "Epoch 81 - loss: 0.29557409384698125\n",
      "Epoch 82 - loss: 0.29431674520265094\n",
      "Epoch 94 - loss: 0.29389199977828484\n",
      "Epoch 100 - loss: 0.2929786965645215\n",
      "Epoch 117 - loss: 0.2925638004032246\n",
      "Epoch 119 - loss: 0.2909377702574609\n",
      "Epoch 126 - loss: 0.2908389829854036\n",
      "Epoch 130 - loss: 0.28972158580186663\n",
      "Epoch 173 - loss: 0.28918440271392515\n",
      "Epoch 177 - loss: 0.28900429050781756\n",
      "Epoch 184 - loss: 0.2889180905919715\n",
      "Epoch 196 - loss: 0.28858352243586605\n",
      "Epoch 205 - loss: 0.2881578514486328\n",
      "Epoch 207 - loss: 0.2879959536072837\n",
      "Epoch 214 - loss: 0.28753895461581186\n",
      "Epoch 222 - loss: 0.28715866450968386\n",
      "Epoch 224 - loss: 0.2866865485455407\n",
      "Epoch 252 - loss: 0.2866103508659988\n",
      "Epoch 262 - loss: 0.286413739118204\n",
      "Epoch 268 - loss: 0.2859700068839174\n",
      "Epoch 297 - loss: 0.28578944041107535\n",
      "Epoch 313 - loss: 0.28545572094886884\n",
      "Epoch 328 - loss: 0.28530158133327416\n",
      "Epoch 331 - loss: 0.28502967889219444\n",
      "Epoch 386 - loss: 0.28476914992220975\n",
      "Epoch 427 - loss: 0.2840027852415198\n",
      "Epoch 538 - loss: 0.2834877939760464\n",
      "Epoch 952 - loss: 0.28346551880831344\n"
     ]
    }
   ],
   "source": [
    "classifier = VectorizedEvoClassifier(n = 8, hidden_layers = [16, 4], activation = \"relu\", random_state = 42)\n",
    "#classifier.fit(datasets[\"second\"][\"X_train\"][start:stop], datasets[\"second\"][\"y_train\"][start:stop], epochs = 2, verbose = 1)\n",
    "classifier.fit(X_train[::10], y_train[::10], epochs = 1000, verbose = 1)"
   ]
  }
 ],
 "metadata": {
  "interpreter": {
   "hash": "89755740b7ae626787368751d18928e1c57f789b29910009fe21160c1737907e"
  },
  "kernelspec": {
   "display_name": "Python 3.9.10 ('Maskininlarning-Daniel-Petersson-KQXPI0Ug')",
   "language": "python",
   "name": "python3"
  },
  "language_info": {
   "codemirror_mode": {
    "name": "ipython",
    "version": 3
   },
   "file_extension": ".py",
   "mimetype": "text/x-python",
   "name": "python",
   "nbconvert_exporter": "python",
   "pygments_lexer": "ipython3",
   "version": "3.9.12"
  },
  "orig_nbformat": 4
 },
 "nbformat": 4,
 "nbformat_minor": 2
}
