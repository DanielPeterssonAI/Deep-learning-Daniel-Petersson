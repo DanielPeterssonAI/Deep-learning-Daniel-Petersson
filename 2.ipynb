{
 "cells": [
  {
   "cell_type": "markdown",
   "metadata": {},
   "source": [
    "### **2. Disease prediction**"
   ]
  },
  {
   "cell_type": "code",
   "execution_count": 240,
   "metadata": {},
   "outputs": [],
   "source": [
    "import math\n",
    "import pandas as pd\n",
    "import matplotlib.pyplot as plt\n",
    "import numpy as np\n",
    "from sklearn.model_selection import train_test_split\n",
    "from sklearn.linear_model import LogisticRegression\n",
    "from sklearn.preprocessing import StandardScaler, MinMaxScaler\n",
    "from sklearn.metrics import recall_score, classification_report, confusion_matrix, ConfusionMatrixDisplay\n",
    "folder = \"kaggle-cardio/\"\n",
    "cardio_file = \"cardio_train.csv\"\n",
    "\n",
    "df_cardio = pd.read_csv(f\"{folder}{cardio_file}\", sep = \";\")"
   ]
  },
  {
   "cell_type": "code",
   "execution_count": 241,
   "metadata": {},
   "outputs": [],
   "source": [
    "df_cardio[\"bmi\"] = df_cardio[\"weight\"] / (df_cardio[\"height\"] / 100) ** 2"
   ]
  },
  {
   "cell_type": "code",
   "execution_count": 242,
   "metadata": {},
   "outputs": [],
   "source": [
    "def plot_column(df, col_name, min, max):\n",
    "    return df[(df[col_name] > min) & (df[col_name] < max)]"
   ]
  },
  {
   "cell_type": "code",
   "execution_count": 243,
   "metadata": {},
   "outputs": [],
   "source": [
    "df_cardio = plot_column(df_cardio, \"bmi\", min = 15, max = 50)"
   ]
  },
  {
   "cell_type": "code",
   "execution_count": 244,
   "metadata": {},
   "outputs": [],
   "source": [
    "df_cardio[\"bmi_category\"] = pd.cut(\n",
    "    df_cardio[\"bmi\"], \n",
    "    bins = [0, 25, 30, 35, 40, 1000], \n",
    "    labels = [\"Normal\", \"Overweight\", \"Obese (Class I)\", \"Obese (Class II)\", \"Obese (Class III)\"], \n",
    "    right = False\n",
    ")"
   ]
  },
  {
   "cell_type": "code",
   "execution_count": 245,
   "metadata": {},
   "outputs": [],
   "source": [
    "df_cardio = plot_column(df_cardio, \"ap_hi\", min = 75, max = 200)"
   ]
  },
  {
   "cell_type": "code",
   "execution_count": 246,
   "metadata": {},
   "outputs": [],
   "source": [
    "df_cardio = plot_column(df_cardio, \"ap_lo\", min = 50, max = 150)"
   ]
  },
  {
   "cell_type": "code",
   "execution_count": 247,
   "metadata": {},
   "outputs": [],
   "source": [
    "def ap_categorizer(hi, lo):\n",
    "    '''ap_categorizer() takes blood two pressure values as arguments and returns the blood pressure category'''\n",
    "\n",
    "    if hi >= 180 or lo >= 120: return \"Hypertension crisis\"\n",
    "    if hi >= 140 or lo >= 90: return \"Stage 2 hypertension\"\n",
    "    if hi < 120 and lo < 80: return \"Healthy\"\n",
    "    if hi < 130 and lo < 80: return \"Elevated\"\n",
    "    return \"Stage 1 hypertension\"\n",
    "\n",
    "df_cardio[\"ap_category\"] = df_cardio.apply(lambda x: ap_categorizer(x[\"ap_hi\"], x[\"ap_lo\"]), axis = 1).astype(\"category\")"
   ]
  },
  {
   "cell_type": "code",
   "execution_count": 248,
   "metadata": {},
   "outputs": [],
   "source": [
    "df_cardio_first = df_cardio.drop([\"ap_hi\", \"ap_lo\", \"height\", \"weight\", \"bmi\"], axis = 1)\n",
    "df_cardio_first = pd.get_dummies(df_cardio_first, columns = [\"bmi_category\", \"ap_category\", \"gender\"], drop_first = True)\n",
    "\n",
    "df_cardio_second = df_cardio.drop([\"bmi_category\", \"ap_category\", \"height\", \"weight\"], axis = 1)\n",
    "df_cardio_second = pd.get_dummies(df_cardio_second, columns = [\"gender\"], drop_first = True)"
   ]
  },
  {
   "cell_type": "code",
   "execution_count": 249,
   "metadata": {},
   "outputs": [
    {
     "data": {
      "text/html": [
       "<div>\n",
       "<style scoped>\n",
       "    .dataframe tbody tr th:only-of-type {\n",
       "        vertical-align: middle;\n",
       "    }\n",
       "\n",
       "    .dataframe tbody tr th {\n",
       "        vertical-align: top;\n",
       "    }\n",
       "\n",
       "    .dataframe thead th {\n",
       "        text-align: right;\n",
       "    }\n",
       "</style>\n",
       "<table border=\"1\" class=\"dataframe\">\n",
       "  <thead>\n",
       "    <tr style=\"text-align: right;\">\n",
       "      <th></th>\n",
       "      <th>id</th>\n",
       "      <th>age</th>\n",
       "      <th>ap_hi</th>\n",
       "      <th>ap_lo</th>\n",
       "      <th>cholesterol</th>\n",
       "      <th>gluc</th>\n",
       "      <th>smoke</th>\n",
       "      <th>alco</th>\n",
       "      <th>active</th>\n",
       "      <th>cardio</th>\n",
       "      <th>bmi</th>\n",
       "      <th>gender_2</th>\n",
       "    </tr>\n",
       "  </thead>\n",
       "  <tbody>\n",
       "    <tr>\n",
       "      <th>0</th>\n",
       "      <td>0</td>\n",
       "      <td>18393</td>\n",
       "      <td>110</td>\n",
       "      <td>80</td>\n",
       "      <td>1</td>\n",
       "      <td>1</td>\n",
       "      <td>0</td>\n",
       "      <td>0</td>\n",
       "      <td>1</td>\n",
       "      <td>0</td>\n",
       "      <td>21.967120</td>\n",
       "      <td>1</td>\n",
       "    </tr>\n",
       "    <tr>\n",
       "      <th>1</th>\n",
       "      <td>1</td>\n",
       "      <td>20228</td>\n",
       "      <td>140</td>\n",
       "      <td>90</td>\n",
       "      <td>3</td>\n",
       "      <td>1</td>\n",
       "      <td>0</td>\n",
       "      <td>0</td>\n",
       "      <td>1</td>\n",
       "      <td>1</td>\n",
       "      <td>34.927679</td>\n",
       "      <td>0</td>\n",
       "    </tr>\n",
       "    <tr>\n",
       "      <th>2</th>\n",
       "      <td>2</td>\n",
       "      <td>18857</td>\n",
       "      <td>130</td>\n",
       "      <td>70</td>\n",
       "      <td>3</td>\n",
       "      <td>1</td>\n",
       "      <td>0</td>\n",
       "      <td>0</td>\n",
       "      <td>0</td>\n",
       "      <td>1</td>\n",
       "      <td>23.507805</td>\n",
       "      <td>0</td>\n",
       "    </tr>\n",
       "    <tr>\n",
       "      <th>3</th>\n",
       "      <td>3</td>\n",
       "      <td>17623</td>\n",
       "      <td>150</td>\n",
       "      <td>100</td>\n",
       "      <td>1</td>\n",
       "      <td>1</td>\n",
       "      <td>0</td>\n",
       "      <td>0</td>\n",
       "      <td>1</td>\n",
       "      <td>1</td>\n",
       "      <td>28.710479</td>\n",
       "      <td>1</td>\n",
       "    </tr>\n",
       "    <tr>\n",
       "      <th>4</th>\n",
       "      <td>4</td>\n",
       "      <td>17474</td>\n",
       "      <td>100</td>\n",
       "      <td>60</td>\n",
       "      <td>1</td>\n",
       "      <td>1</td>\n",
       "      <td>0</td>\n",
       "      <td>0</td>\n",
       "      <td>0</td>\n",
       "      <td>0</td>\n",
       "      <td>23.011177</td>\n",
       "      <td>0</td>\n",
       "    </tr>\n",
       "  </tbody>\n",
       "</table>\n",
       "</div>"
      ],
      "text/plain": [
       "   id    age  ap_hi  ap_lo  cholesterol  gluc  smoke  alco  active  cardio  \\\n",
       "0   0  18393    110     80            1     1      0     0       1       0   \n",
       "1   1  20228    140     90            3     1      0     0       1       1   \n",
       "2   2  18857    130     70            3     1      0     0       0       1   \n",
       "3   3  17623    150    100            1     1      0     0       1       1   \n",
       "4   4  17474    100     60            1     1      0     0       0       0   \n",
       "\n",
       "         bmi  gender_2  \n",
       "0  21.967120         1  \n",
       "1  34.927679         0  \n",
       "2  23.507805         0  \n",
       "3  28.710479         1  \n",
       "4  23.011177         0  "
      ]
     },
     "execution_count": 249,
     "metadata": {},
     "output_type": "execute_result"
    }
   ],
   "source": [
    "df_cardio_second.head()"
   ]
  },
  {
   "cell_type": "code",
   "execution_count": 250,
   "metadata": {},
   "outputs": [],
   "source": [
    "\n",
    "def tvt_split(X, y):\n",
    "    X_train, X_test, y_train, y_test = train_test_split(X.values, y.values, test_size = 0.5, random_state = 42)\n",
    "    X_val, X_test, y_val, y_test = train_test_split(X_test, y_test, test_size = 0.5, random_state = 42)\n",
    "\n",
    "    return X_train, X_val, X_test, y_train, y_val, y_test\n",
    "\n",
    "datasets = {}\n",
    "\n",
    "X_train, X_val, X_test, y_train, y_val, y_test = tvt_split(df_cardio_first.drop([\"id\", \"cardio\"], axis = 1), df_cardio_first[\"cardio\"])\n",
    "#datasets[\"first\"] = {\"X_train\": X_train, \"X_val\": X_val, \"X_test\": X_test, \"y_train\": y_train, \"y_val\": y_val, \"y_test\": y_test}\n",
    "\n",
    "X_train, X_val, X_test, y_train, y_val, y_test = tvt_split(df_cardio_second.drop([\"id\", \"cardio\"], axis = 1), df_cardio_second[\"cardio\"])\n",
    "#datasets[\"second\"] = {\"X_train\": X_train, \"X_val\": X_val, \"X_test\": X_test, \"y_train\": y_train, \"y_val\": y_val, \"y_test\": y_test}\n",
    "\n",
    "# To minimize risk of bugs these are deleted\n",
    "#X_train, X_val, X_test, y_train, y_val, y_test"
   ]
  },
  {
   "cell_type": "code",
   "execution_count": 251,
   "metadata": {},
   "outputs": [],
   "source": [
    "scaler = StandardScaler()\n",
    "\n",
    "X_train = scaler.fit_transform(X_train)\n",
    "X_val = scaler.transform(X_val)\n",
    "X_test = scaler.transform(X_test)"
   ]
  },
  {
   "cell_type": "code",
   "execution_count": 285,
   "metadata": {},
   "outputs": [],
   "source": [
    "class EvoClassifier:\n",
    "    def __init__(self, n = 100, hidden_layers = False, activation = \"sigmoid\", random_state = None):\n",
    "\n",
    "        self.n = n // 2 * 2\n",
    "        self.nets = []\n",
    "        self.best_net = -1\n",
    "        self.best_result = None\n",
    "        self.validation_loss_history = []\n",
    "        self.training_loss_history = []\n",
    "        self.mutation_sigma = 0\n",
    "\n",
    "        if activation == \"sigmoid\":\n",
    "            self.activation_function = lambda x: 1 / (1 + np.exp(-x))\n",
    "        elif activation == \"relu\":\n",
    "            self.activation_function = lambda x: np.maximum(0, x)\n",
    "        elif activation == \"leaky_relu\":\n",
    "            self.activation_function = lambda x: np.maximum(0.1 * x, x)\n",
    "\n",
    "        self.output_activation_function = lambda x: 1 / (1 + np.exp(-x))\n",
    "        \n",
    "        if hidden_layers:\n",
    "            self.layers = hidden_layers + [1]\n",
    "        else:\n",
    "            self.layers = [1]\n",
    "        \n",
    "        if random_state != None:\n",
    "            np.random.seed(random_state)\n",
    "\n",
    "    \n",
    "    def fit(self, X_train, y_train, epochs = 100, validation_data = False, verbose = 0):\n",
    "        X_train = np.c_[np.ones(X_train.shape[0]), X_train]\n",
    "\n",
    "        if validation_data:\n",
    "            X_val, y_val = validation_data\n",
    "        \n",
    "        self.layers = [X_train.shape[1]] + self.layers\n",
    "\n",
    "        for i in range(self.n):\n",
    "            self.nets += [[]]\n",
    "            for j in range(len(self.layers) - 1):\n",
    "                self.nets[i] += [np.random.uniform(-1, 1, (self.layers[j], self.layers[j + 1]))]\n",
    "\n",
    "        self.y_preds = np.zeros((len(self.nets), y_train.shape[0]))\n",
    "        self.nets_loss = np.zeros(len(self.nets))\n",
    "        self.sorted_indecies = np.zeros(len(self.nets))\n",
    "\n",
    "        for epoch in range(epochs):\n",
    "            for i in range(len(self.nets)):\n",
    "                forward_pass = X_train.T\n",
    "\n",
    "                for j in range(0, len(self.layers) - 2):\n",
    "                    forward_pass = self.activation_function(self.nets[i][j].T @ forward_pass)\n",
    "\n",
    "                forward_pass = self.nets[i][-1].T @ forward_pass\n",
    "                forward_pass = self.output_activation_function(forward_pass)\n",
    "                \n",
    "                self.y_preds[i] = forward_pass.reshape(-1)\n",
    "            \n",
    "            self.nets_loss = np.mean(np.abs(self.y_preds - y_train), axis = 1)\n",
    "            \n",
    "            self.sorted_indecies = np.argsort(self.nets_loss)\n",
    "            \n",
    "            self.mutation_sigma = 0.1 + 2 * 1 / math.exp(epoch / (epochs / (10 * math.log10(epochs + 1))))\n",
    "            \n",
    "            for i in range(0, self.n // 2, 2):\n",
    "                for j in range(len(self.layers) - 1):\n",
    "                    self.nets[self.sorted_indecies[self.n // 2 + i]][j] = (self.nets[self.sorted_indecies[i]][j] + self.nets[self.sorted_indecies[1 + i]][j]) / 2 + np.random.normal(0, self.mutation_sigma, (self.layers[j], self.layers[j + 1]))\n",
    "                    self.nets[self.sorted_indecies[self.n // 2 + 1 + i]][j] = (self.nets[self.sorted_indecies[i]][j] + self.nets[self.sorted_indecies[1 + i]][j]) / 2 + np.random.normal(0, self.mutation_sigma, (self.layers[j], self.layers[j + 1]))\n",
    "\n",
    "            if self.best_net != self.sorted_indecies[0]:\n",
    "                self.best_net = self.sorted_indecies[0]\n",
    "                self.training_loss_history += [self.nets_loss[self.best_net]]\n",
    "\n",
    "                if validation_data:\n",
    "                    self.validation_loss_history += [np.mean(np.abs(y_val - self.predict(X_val)))]\n",
    "                    if verbose == 1:\n",
    "                        print(f\"Epoch {epoch} - loss: {self.training_loss_history[-1]} - val_loss: {self.validation_loss_history[-1]}\")\n",
    "                else:\n",
    "                    if verbose == 1:\n",
    "                        print(f\"Epoch {epoch} - loss: {self.training_loss_history[-1]}\")\n",
    "\n",
    "\n",
    "    def predict(self, X):\n",
    "        X = np.c_[np.ones(X.shape[0]), X]\n",
    "\n",
    "        forward_pass = X.T\n",
    "        for j in range(0, len(self.layers) - 2):\n",
    "            forward_pass = self.activation_function(self.nets[self.best_net][j].T @ forward_pass)\n",
    "\n",
    "        forward_pass = self.output_activation_function(self.nets[self.best_net][-1].T @ forward_pass)\n",
    "\n",
    "\n",
    "        return forward_pass.reshape(-1)\n",
    "        "
   ]
  },
  {
   "cell_type": "code",
   "execution_count": 304,
   "metadata": {},
   "outputs": [
    {
     "name": "stdout",
     "output_type": "stream",
     "text": [
      "Epoch 0 - loss: 0.4356472586764751\n",
      "Epoch 1 - loss: 0.37960098236761614\n",
      "Epoch 2 - loss: 0.37423468987567976\n",
      "Epoch 3 - loss: 0.3560069572906758\n",
      "Epoch 5 - loss: 0.3473529990931614\n",
      "Epoch 6 - loss: 0.3468261958950741\n",
      "Epoch 7 - loss: 0.3410504900080006\n",
      "Epoch 8 - loss: 0.3327231306535484\n",
      "Epoch 9 - loss: 0.3312691710866956\n",
      "Epoch 10 - loss: 0.3054796055854596\n",
      "Epoch 11 - loss: 0.3054366215641491\n",
      "Epoch 12 - loss: 0.29423063725337584\n",
      "Epoch 15 - loss: 0.29329292376853705\n",
      "Epoch 17 - loss: 0.2914355825829531\n",
      "Epoch 18 - loss: 0.2896571584524774\n",
      "Epoch 19 - loss: 0.28932038025322043\n",
      "Epoch 20 - loss: 0.28734892943496876\n",
      "Epoch 21 - loss: 0.28638490292476737\n",
      "Epoch 22 - loss: 0.28421284353505627\n",
      "Epoch 24 - loss: 0.2830086073944372\n",
      "Epoch 25 - loss: 0.28132202730142675\n",
      "Epoch 27 - loss: 0.2804760804367065\n",
      "Epoch 28 - loss: 0.2802996654172389\n",
      "Epoch 29 - loss: 0.2799365045543804\n",
      "Epoch 30 - loss: 0.27937051716089734\n",
      "Epoch 31 - loss: 0.2784086180904581\n",
      "Epoch 32 - loss: 0.27772445485440395\n",
      "Epoch 33 - loss: 0.2772925065007446\n",
      "Epoch 34 - loss: 0.2771761970623261\n",
      "Epoch 35 - loss: 0.2767142406497878\n",
      "Epoch 36 - loss: 0.27668095130874804\n",
      "Epoch 37 - loss: 0.27624571974215\n",
      "Epoch 38 - loss: 0.27562696294701533\n",
      "Epoch 40 - loss: 0.27531413242636077\n",
      "Epoch 42 - loss: 0.27491830866272826\n",
      "Epoch 43 - loss: 0.2743774193836263\n",
      "Epoch 44 - loss: 0.27421731309091657\n",
      "Epoch 46 - loss: 0.27380002965226113\n",
      "Epoch 47 - loss: 0.27336831658201066\n",
      "Epoch 48 - loss: 0.27335768555172263\n",
      "Epoch 49 - loss: 0.2733308230364235\n",
      "Epoch 50 - loss: 0.2732211871061827\n",
      "Epoch 51 - loss: 0.2730868052086583\n",
      "Epoch 52 - loss: 0.27246800106956515\n",
      "Epoch 53 - loss: 0.2720444298078484\n",
      "Epoch 55 - loss: 0.2718150421672334\n",
      "Epoch 57 - loss: 0.2716764375286225\n",
      "Epoch 58 - loss: 0.2714703408967103\n",
      "Epoch 61 - loss: 0.2711740474846673\n",
      "Epoch 64 - loss: 0.27113039370467\n",
      "Epoch 65 - loss: 0.2708650476630943\n",
      "Epoch 66 - loss: 0.2705120793926149\n",
      "Epoch 70 - loss: 0.27015727642489756\n",
      "Epoch 71 - loss: 0.2701462242291995\n",
      "Epoch 74 - loss: 0.27008543616543923\n",
      "Epoch 75 - loss: 0.2700351117504256\n",
      "Epoch 76 - loss: 0.2699633295038324\n",
      "Epoch 77 - loss: 0.26985616908409865\n",
      "Epoch 82 - loss: 0.2697567150628031\n",
      "Epoch 85 - loss: 0.2696866145896556\n",
      "Epoch 87 - loss: 0.26945035661521377\n",
      "Epoch 92 - loss: 0.26942696931043053\n",
      "Epoch 94 - loss: 0.2693886565615967\n"
     ]
    }
   ],
   "source": [
    "start, stop = 37, 38\n",
    "\n",
    "classifier = EvoClassifier(n = 100, hidden_layers = [2], activation = \"relu\", random_state = 42)\n",
    "#classifier.fit(datasets[\"second\"][\"X_train\"][start:stop], datasets[\"second\"][\"y_train\"][start:stop], epochs = 2, verbose = 1)\n",
    "classifier.fit(X_train, y_train, epochs = 100, verbose = 1)"
   ]
  },
  {
   "cell_type": "code",
   "execution_count": 305,
   "metadata": {},
   "outputs": [],
   "source": [
    "y_pred = classifier.predict(X_test)\n",
    "#y_pred.tolist()"
   ]
  },
  {
   "cell_type": "code",
   "execution_count": 306,
   "metadata": {},
   "outputs": [
    {
     "name": "stdout",
     "output_type": "stream",
     "text": [
      "              precision    recall  f1-score   support\n",
      "\n",
      "           0       0.72      0.77      0.74      8683\n",
      "           1       0.74      0.68      0.71      8382\n",
      "\n",
      "    accuracy                           0.73     17065\n",
      "   macro avg       0.73      0.73      0.73     17065\n",
      "weighted avg       0.73      0.73      0.73     17065\n",
      "\n"
     ]
    },
    {
     "data": {
      "image/png": "[encoded data removed]",
      "text/plain": [
       "<Figure size 432x288 with 2 Axes>"
      ]
     },
     "metadata": {
      "needs_background": "light"
     },
     "output_type": "display_data"
    }
   ],
   "source": [
    "y_pred = (y_pred > 0.5) * 1\n",
    "\n",
    "print(classification_report(y_test, y_pred))\n",
    "disp = ConfusionMatrixDisplay(confusion_matrix(y_test, y_pred)).plot()\n",
    "plt.show()"
   ]
  }
 ],
 "metadata": {
  "interpreter": {
   "hash": "89755740b7ae626787368751d18928e1c57f789b29910009fe21160c1737907e"
  },
  "kernelspec": {
   "display_name": "Python 3.9.10 ('Maskininlarning-Daniel-Petersson-KQXPI0Ug')",
   "language": "python",
   "name": "python3"
  },
  "language_info": {
   "codemirror_mode": {
    "name": "ipython",
    "version": 3
   },
   "file_extension": ".py",
   "mimetype": "text/x-python",
   "name": "python",
   "nbconvert_exporter": "python",
   "pygments_lexer": "ipython3",
   "version": "3.9.12"
  },
  "orig_nbformat": 4
 },
 "nbformat": 4,
 "nbformat_minor": 2
}
