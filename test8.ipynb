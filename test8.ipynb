{
 "cells": [
  {
   "cell_type": "code",
   "execution_count": 2,
   "metadata": {},
   "outputs": [],
   "source": [
    "import math\n",
    "import numpy as np\n",
    "import pandas as pd\n",
    "import matplotlib.pyplot as plt\n",
    "import seaborn as sns\n",
    "from sklearn.linear_model import LinearRegression\n",
    "from sklearn.model_selection import train_test_split\n",
    "from sklearn.preprocessing import StandardScaler\n",
    "from sklearn.metrics import mean_absolute_error, mean_squared_error"
   ]
  },
  {
   "cell_type": "code",
   "execution_count": 3,
   "metadata": {},
   "outputs": [
    {
     "data": {
      "text/html": [
       "<div>\n",
       "<style scoped>\n",
       "    .dataframe tbody tr th:only-of-type {\n",
       "        vertical-align: middle;\n",
       "    }\n",
       "\n",
       "    .dataframe tbody tr th {\n",
       "        vertical-align: top;\n",
       "    }\n",
       "\n",
       "    .dataframe thead th {\n",
       "        text-align: right;\n",
       "    }\n",
       "</style>\n",
       "<table border=\"1\" class=\"dataframe\">\n",
       "  <thead>\n",
       "    <tr style=\"text-align: right;\">\n",
       "      <th></th>\n",
       "      <th>mpg</th>\n",
       "      <th>cylinders</th>\n",
       "      <th>displacement</th>\n",
       "      <th>horsepower</th>\n",
       "      <th>weight</th>\n",
       "      <th>acceleration</th>\n",
       "      <th>model_year</th>\n",
       "      <th>origin_europe</th>\n",
       "      <th>origin_japan</th>\n",
       "      <th>origin_usa</th>\n",
       "    </tr>\n",
       "  </thead>\n",
       "  <tbody>\n",
       "    <tr>\n",
       "      <th>0</th>\n",
       "      <td>18.0</td>\n",
       "      <td>8</td>\n",
       "      <td>307.0</td>\n",
       "      <td>130.0</td>\n",
       "      <td>3504</td>\n",
       "      <td>12.0</td>\n",
       "      <td>70</td>\n",
       "      <td>0</td>\n",
       "      <td>0</td>\n",
       "      <td>1</td>\n",
       "    </tr>\n",
       "    <tr>\n",
       "      <th>1</th>\n",
       "      <td>15.0</td>\n",
       "      <td>8</td>\n",
       "      <td>350.0</td>\n",
       "      <td>165.0</td>\n",
       "      <td>3693</td>\n",
       "      <td>11.5</td>\n",
       "      <td>70</td>\n",
       "      <td>0</td>\n",
       "      <td>0</td>\n",
       "      <td>1</td>\n",
       "    </tr>\n",
       "    <tr>\n",
       "      <th>2</th>\n",
       "      <td>18.0</td>\n",
       "      <td>8</td>\n",
       "      <td>318.0</td>\n",
       "      <td>150.0</td>\n",
       "      <td>3436</td>\n",
       "      <td>11.0</td>\n",
       "      <td>70</td>\n",
       "      <td>0</td>\n",
       "      <td>0</td>\n",
       "      <td>1</td>\n",
       "    </tr>\n",
       "    <tr>\n",
       "      <th>3</th>\n",
       "      <td>16.0</td>\n",
       "      <td>8</td>\n",
       "      <td>304.0</td>\n",
       "      <td>150.0</td>\n",
       "      <td>3433</td>\n",
       "      <td>12.0</td>\n",
       "      <td>70</td>\n",
       "      <td>0</td>\n",
       "      <td>0</td>\n",
       "      <td>1</td>\n",
       "    </tr>\n",
       "    <tr>\n",
       "      <th>4</th>\n",
       "      <td>17.0</td>\n",
       "      <td>8</td>\n",
       "      <td>302.0</td>\n",
       "      <td>140.0</td>\n",
       "      <td>3449</td>\n",
       "      <td>10.5</td>\n",
       "      <td>70</td>\n",
       "      <td>0</td>\n",
       "      <td>0</td>\n",
       "      <td>1</td>\n",
       "    </tr>\n",
       "  </tbody>\n",
       "</table>\n",
       "</div>"
      ],
      "text/plain": [
       "    mpg  cylinders  displacement  horsepower  weight  acceleration  \\\n",
       "0  18.0          8         307.0       130.0    3504          12.0   \n",
       "1  15.0          8         350.0       165.0    3693          11.5   \n",
       "2  18.0          8         318.0       150.0    3436          11.0   \n",
       "3  16.0          8         304.0       150.0    3433          12.0   \n",
       "4  17.0          8         302.0       140.0    3449          10.5   \n",
       "\n",
       "   model_year  origin_europe  origin_japan  origin_usa  \n",
       "0          70              0             0           1  \n",
       "1          70              0             0           1  \n",
       "2          70              0             0           1  \n",
       "3          70              0             0           1  \n",
       "4          70              0             0           1  "
      ]
     },
     "execution_count": 3,
     "metadata": {},
     "output_type": "execute_result"
    }
   ],
   "source": [
    "df = sns.load_dataset(\"mpg\")\n",
    "\n",
    "X_train, y_train = df[~df[\"horsepower\"].isna()][[\"displacement\", \"acceleration\"]], df[~df[\"horsepower\"].isna()][\"horsepower\"]\n",
    "X_pred = df[df[\"horsepower\"].isna()][[\"displacement\", \"acceleration\"]]\n",
    "\n",
    "linreg = LinearRegression()\n",
    "linreg.fit(X_train, y_train)\n",
    "y_pred = linreg.predict(X_pred)\n",
    "y_pred = np.round(y_pred)\n",
    "df.loc[X_pred.index, \"horsepower\"] = y_pred\n",
    "df = pd.get_dummies(df.drop(\"name\", axis = 1), columns = [\"origin\"])\n",
    "df.head()"
   ]
  },
  {
   "cell_type": "code",
   "execution_count": 4,
   "metadata": {},
   "outputs": [],
   "source": [
    "X, y = df.drop([\"mpg\"], axis = 1).values, df[\"mpg\"].values\n",
    "\n",
    "X_train, X_test, y_train, y_test = train_test_split(X, y, test_size = 0.2, random_state = 42)\n",
    "X_val, X_test, y_val, y_test = train_test_split(X_test, y_test, test_size = 0.5, random_state = 42)"
   ]
  },
  {
   "cell_type": "code",
   "execution_count": 5,
   "metadata": {},
   "outputs": [],
   "source": [
    "scaler = StandardScaler()\n",
    "#scaler = MinMaxScaler()\n",
    "\n",
    "scaled_X_train = scaler.fit_transform(X_train)\n",
    "scaled_X_val = scaler.transform(X_val)\n",
    "scaled_X_test = scaler.transform(X_test)"
   ]
  },
  {
   "cell_type": "code",
   "execution_count": 491,
   "metadata": {},
   "outputs": [],
   "source": [
    "class ERegressor:\n",
    "    def __init__(self, n = 100, hidden_layers = False, activation = \"sigmoid\", random_state = None):\n",
    "\n",
    "        self.n = n // 2 * 2\n",
    "        self.nets = []\n",
    "        self.best_net = -1\n",
    "        self.best_result = None\n",
    "        self.validation_loss_history = []\n",
    "        self.training_loss_history = []\n",
    "        self.mutation_sigma = 0\n",
    "\n",
    "        if activation == \"sigmoid\":\n",
    "            #self.activation_function = np.vectorize(lambda x: 1 / (1 + math.exp(-x)))\n",
    "            self.activation_function = lambda x: 1 / (1 + np.exp(-x))\n",
    "        elif activation == \"relu\":\n",
    "            self.activation_function = lambda x: np.maximum(0, x)\n",
    "        \n",
    "        if hidden_layers:\n",
    "            self.layers = hidden_layers + [1]\n",
    "        else:\n",
    "            self.layers = [1]\n",
    "        \n",
    "        if random_state != None:\n",
    "            np.random.seed(random_state)\n",
    "\n",
    "    \n",
    "    def fit(self, X_train, y_train, epochs = 100, validation_data = False, verbose = 0):\n",
    "        X_train = np.c_[np.ones(X_train.shape[0]), X_train]\n",
    "\n",
    "        if validation_data:\n",
    "            X_val, y_val = validation_data\n",
    "        \n",
    "        self.layers = [X_train.shape[1]] + self.layers\n",
    "\n",
    "        for i in range(self.n):\n",
    "            self.nets += [[]]\n",
    "            for j in range(len(self.layers) - 1):\n",
    "                self.nets[i] += [np.random.uniform(-3, 3, (self.layers[j], self.layers[j + 1]))]\n",
    "\n",
    "        self.y_preds = np.zeros((len(self.nets), y_train.shape[0]))\n",
    "        self.nets_loss = np.zeros(len(self.nets))\n",
    "        self.sorted_indecies = np.zeros(len(self.nets))\n",
    "\n",
    "        for epoch in range(epochs):\n",
    "            for i in range(len(self.nets)):\n",
    "                forward_pass = X_train.T\n",
    "\n",
    "                for j in range(0, len(self.layers) - 2):\n",
    "                    forward_pass = self.activation_function(self.nets[i][j].T @ forward_pass)\n",
    "\n",
    "                forward_pass = self.nets[i][-1].T @ forward_pass\n",
    "\n",
    "                self.y_preds[i] = forward_pass.reshape(-1)\n",
    "                self.nets_loss[i] = mean_absolute_error(y_train, self.y_preds[i])\n",
    "            \n",
    "            self.sorted_indecies = np.argsort(regressor.nets_loss)\n",
    "            \n",
    "            self.mutation_sigma = 0.1 + 5 * 1 / math.exp(epoch / (epochs / (10 * math.log10(epochs))))\n",
    "            \n",
    "            for i in range(0, self.n // 2, 2):\n",
    "                for j in range(len(self.layers) - 1):\n",
    "                    self.nets[self.sorted_indecies[self.n // 2 + i]][j] = (self.nets[self.sorted_indecies[i]][j] + self.nets[self.sorted_indecies[1 + i]][j]) / 2 + np.random.normal(0, self.mutation_sigma, (self.layers[j], self.layers[j + 1]))\n",
    "                    self.nets[self.sorted_indecies[self.n // 2 + 1 + i]][j] = (self.nets[self.sorted_indecies[i]][j] + self.nets[self.sorted_indecies[1 + i]][j]) / 2 + np.random.normal(0, self.mutation_sigma, (self.layers[j], self.layers[j + 1]))\n",
    "\n",
    "            if self.best_net != self.sorted_indecies[0]:\n",
    "                self.best_net = self.sorted_indecies[0]\n",
    "                self.training_loss_history += [self.nets_loss[self.best_net]]\n",
    "\n",
    "                if validation_data:\n",
    "                    self.validation_loss_history += [mean_absolute_error(y_val, self.predict(X_val))]\n",
    "                    if verbose == 1:\n",
    "                        print(f\"Epoch {epoch} - loss: {self.training_loss_history[-1]} - val_loss: {self.validation_loss_history[-1]}\")\n",
    "                else:\n",
    "                    if verbose == 1:\n",
    "                        print(f\"Epoch {epoch} - loss: {self.training_loss_history[-1]}\")\n",
    "\n",
    "\n",
    "    def predict(self, X):\n",
    "        X = np.c_[np.ones(X.shape[0]), X]\n",
    "\n",
    "        forward_pass = X.T\n",
    "        for j in range(0, len(self.layers) - 2):\n",
    "            forward_pass = self.activation_function(self.nets[self.best_net][j].T @ forward_pass)\n",
    "\n",
    "        forward_pass = self.nets[self.best_net][-1].T @ forward_pass\n",
    "\n",
    "        return forward_pass.reshape(-1)\n",
    "        "
   ]
  },
  {
   "cell_type": "code",
   "execution_count": 493,
   "metadata": {},
   "outputs": [
    {
     "name": "stdout",
     "output_type": "stream",
     "text": [
      "Epoch 0 - loss: 16.913380212373987 - val_loss: 16.05389249924398\n",
      "Epoch 1 - loss: 6.745716077039989 - val_loss: 5.935898235069212\n",
      "Epoch 3 - loss: 6.214309512775501 - val_loss: 5.478099938431688\n",
      "Epoch 4 - loss: 5.286557221858352 - val_loss: 6.192302068247294\n",
      "Epoch 6 - loss: 4.5933954932587 - val_loss: 4.022458147223096\n",
      "Epoch 8 - loss: 4.392738175349173 - val_loss: 5.6329535042181815\n",
      "Epoch 15 - loss: 3.709725234486404 - val_loss: 3.7292327647159156\n",
      "Epoch 36 - loss: 3.6542401322051727 - val_loss: 3.8728536927607093\n",
      "Epoch 37 - loss: 3.5727345941450417 - val_loss: 3.241097655759776\n",
      "Epoch 39 - loss: 3.1630053656670896 - val_loss: 2.6647700824993317\n",
      "Epoch 41 - loss: 3.1035974316607424 - val_loss: 3.3307750643781033\n",
      "Epoch 45 - loss: 3.094085240626637 - val_loss: 3.008355713375882\n",
      "Epoch 54 - loss: 2.958796102426539 - val_loss: 2.5104818921469296\n",
      "Epoch 57 - loss: 2.9246637539776015 - val_loss: 2.8347983298759396\n",
      "Epoch 61 - loss: 2.847675457248234 - val_loss: 2.8158884397073347\n",
      "Epoch 63 - loss: 2.7223279595800527 - val_loss: 2.5625292051621797\n",
      "Epoch 65 - loss: 2.6518388688003083 - val_loss: 2.7139317671158367\n",
      "Epoch 67 - loss: 2.6289379318504857 - val_loss: 2.5380356125709183\n",
      "Epoch 70 - loss: 2.609508709036516 - val_loss: 2.481030693047193\n",
      "Epoch 75 - loss: 2.5495288784917167 - val_loss: 2.2572167227757625\n",
      "Epoch 78 - loss: 2.4776782558913504 - val_loss: 2.5310141850220247\n",
      "Epoch 79 - loss: 2.4169885475752517 - val_loss: 2.692950893750467\n",
      "Epoch 83 - loss: 2.3829221825744695 - val_loss: 2.3303496847438296\n",
      "Epoch 85 - loss: 2.3809098352196427 - val_loss: 2.364039917697764\n",
      "Epoch 87 - loss: 2.3112908530286123 - val_loss: 2.223243248494051\n",
      "Epoch 91 - loss: 2.3047571068719526 - val_loss: 2.199755884525646\n",
      "Epoch 92 - loss: 2.2830241728127967 - val_loss: 2.1647387924207235\n",
      "Epoch 94 - loss: 2.265311197477543 - val_loss: 2.3083978447896714\n",
      "Epoch 95 - loss: 2.2500140320666517 - val_loss: 2.3104550658065803\n",
      "Epoch 96 - loss: 2.200439637179002 - val_loss: 2.3733724901676014\n",
      "Epoch 97 - loss: 2.1926779253317896 - val_loss: 2.222637065902664\n",
      "Epoch 100 - loss: 2.164840065975149 - val_loss: 2.116093139333815\n",
      "Epoch 101 - loss: 2.131065213558125 - val_loss: 2.3197863821530964\n",
      "Epoch 104 - loss: 2.1120443427603304 - val_loss: 2.134146130113107\n",
      "Epoch 105 - loss: 2.098831968074219 - val_loss: 2.1382591730952263\n",
      "Epoch 107 - loss: 2.039597911428451 - val_loss: 2.012755741180486\n",
      "Epoch 111 - loss: 2.0244060875983325 - val_loss: 2.1173541790048476\n",
      "Epoch 112 - loss: 2.0158243951420185 - val_loss: 1.9091578432568947\n",
      "Epoch 120 - loss: 1.9952337581016817 - val_loss: 1.924572358748156\n",
      "Epoch 121 - loss: 1.9724597593704376 - val_loss: 1.8624222750878352\n",
      "Epoch 123 - loss: 1.9656576364084868 - val_loss: 1.7924111281760786\n",
      "Epoch 124 - loss: 1.9555875826816356 - val_loss: 1.9653769233781169\n",
      "Epoch 125 - loss: 1.9491418245410768 - val_loss: 2.0753723199113923\n",
      "Epoch 126 - loss: 1.9255735514673076 - val_loss: 2.1666894972050406\n",
      "Epoch 130 - loss: 1.9216567766330024 - val_loss: 1.7604407107598525\n",
      "Epoch 133 - loss: 1.9087006398944892 - val_loss: 1.8371263507667812\n",
      "Epoch 137 - loss: 1.9071153354769097 - val_loss: 1.9194103708025643\n",
      "Epoch 140 - loss: 1.8918283785757886 - val_loss: 2.0086657548187956\n",
      "Epoch 141 - loss: 1.8913445254038075 - val_loss: 1.8860118695961012\n",
      "Epoch 143 - loss: 1.880009977222967 - val_loss: 2.007786544032477\n",
      "Epoch 148 - loss: 1.8481133553541977 - val_loss: 1.828988302692943\n",
      "Epoch 157 - loss: 1.8469894000091218 - val_loss: 1.8797045578881542\n",
      "Epoch 160 - loss: 1.8438626497543047 - val_loss: 1.8901369515132302\n",
      "Epoch 161 - loss: 1.8298299452011904 - val_loss: 1.840416302153328\n",
      "Epoch 165 - loss: 1.8257319155953808 - val_loss: 1.8356236048330892\n",
      "Epoch 171 - loss: 1.8248024353278194 - val_loss: 1.8011435093289836\n",
      "Epoch 172 - loss: 1.8177014976038424 - val_loss: 1.9888589752489785\n",
      "Epoch 173 - loss: 1.8127059366597578 - val_loss: 1.8843764734124064\n",
      "Epoch 180 - loss: 1.7900144601380024 - val_loss: 1.7916832217614629\n",
      "Epoch 190 - loss: 1.788176212167137 - val_loss: 1.8797793233580333\n",
      "Epoch 202 - loss: 1.7839311798099975 - val_loss: 1.8532538512006755\n",
      "Epoch 203 - loss: 1.7800284006947318 - val_loss: 1.970957005952069\n",
      "Epoch 204 - loss: 1.7772110954425484 - val_loss: 1.8813734496020935\n",
      "Epoch 212 - loss: 1.7737228420713749 - val_loss: 1.8844656628350034\n",
      "Epoch 223 - loss: 1.7647870247049013 - val_loss: 1.7592021029404072\n",
      "Epoch 230 - loss: 1.761170090695649 - val_loss: 1.8449383515077327\n",
      "Epoch 235 - loss: 1.7609869027004823 - val_loss: 1.7480279727084764\n",
      "Epoch 244 - loss: 1.7596909225730957 - val_loss: 1.8428622985629588\n",
      "Epoch 246 - loss: 1.7575602748439545 - val_loss: 1.8212908270037764\n",
      "Epoch 254 - loss: 1.7546212130303855 - val_loss: 1.8590059051670906\n",
      "Epoch 258 - loss: 1.750330143879715 - val_loss: 1.8393978363746832\n",
      "Epoch 259 - loss: 1.7410765423749415 - val_loss: 1.8140300071584599\n",
      "Epoch 291 - loss: 1.7373416809756486 - val_loss: 1.8489651186869558\n",
      "Epoch 311 - loss: 1.7356026634625048 - val_loss: 1.8371532552610663\n",
      "Epoch 313 - loss: 1.7344808031497978 - val_loss: 1.8818399077435117\n",
      "Epoch 316 - loss: 1.7332101163295066 - val_loss: 1.8161593117833945\n",
      "Epoch 323 - loss: 1.7291923780582783 - val_loss: 1.831135902153683\n",
      "Epoch 335 - loss: 1.7275150585251526 - val_loss: 1.7810983898702581\n",
      "Epoch 336 - loss: 1.7264451651632744 - val_loss: 1.8749426959594415\n",
      "Epoch 338 - loss: 1.7251451914642153 - val_loss: 1.7984439788707292\n",
      "Epoch 344 - loss: 1.7249678333910425 - val_loss: 1.8264130071240394\n",
      "Epoch 354 - loss: 1.722698096643471 - val_loss: 1.7525957248385438\n",
      "Epoch 355 - loss: 1.7111723957616856 - val_loss: 1.8351130884287072\n",
      "Epoch 374 - loss: 1.7085762237291162 - val_loss: 1.755732556634139\n",
      "Epoch 391 - loss: 1.7052117439032077 - val_loss: 1.7445133736657517\n",
      "Epoch 392 - loss: 1.7048780843912683 - val_loss: 1.7463026712969412\n",
      "Epoch 398 - loss: 1.7044270047759749 - val_loss: 1.714817769259311\n",
      "Epoch 402 - loss: 1.704219115656519 - val_loss: 1.7857342480138159\n",
      "Epoch 411 - loss: 1.7014198250760002 - val_loss: 1.7805654479774358\n",
      "Epoch 422 - loss: 1.69861917189919 - val_loss: 1.743035551205877\n",
      "Epoch 443 - loss: 1.6978111332294143 - val_loss: 1.7261647550180335\n",
      "Epoch 448 - loss: 1.6975569007535907 - val_loss: 1.796217659152083\n",
      "Epoch 478 - loss: 1.697386833857836 - val_loss: 1.7620742123407933\n",
      "Epoch 486 - loss: 1.6956226276631081 - val_loss: 1.778346168708041\n",
      "Epoch 487 - loss: 1.6945808892168053 - val_loss: 1.807134906391712\n",
      "Epoch 534 - loss: 1.6928942530505073 - val_loss: 1.8126529559636624\n",
      "Epoch 542 - loss: 1.6925706156322096 - val_loss: 1.7879918313615313\n",
      "Epoch 560 - loss: 1.6925050910042951 - val_loss: 1.7313444867096923\n",
      "Epoch 567 - loss: 1.691207774896212 - val_loss: 1.8331100773834066\n",
      "Epoch 568 - loss: 1.6856009109248171 - val_loss: 1.7994580498693011\n",
      "Epoch 646 - loss: 1.6855692593507483 - val_loss: 1.7766690427728569\n",
      "Epoch 687 - loss: 1.68474702883061 - val_loss: 1.743892982682286\n",
      "Epoch 695 - loss: 1.68366080395509 - val_loss: 1.7210139706857164\n",
      "Epoch 705 - loss: 1.680474885968669 - val_loss: 1.8077954708008928\n",
      "Epoch 721 - loss: 1.6798138962350309 - val_loss: 1.7725430751594728\n",
      "Epoch 751 - loss: 1.6795631705550622 - val_loss: 1.7591332279665153\n",
      "Epoch 764 - loss: 1.6756996967298452 - val_loss: 1.712644436419393\n",
      "Epoch 768 - loss: 1.6682436803450011 - val_loss: 1.740891849963889\n",
      "Epoch 787 - loss: 1.6656689418876172 - val_loss: 1.7807583122189734\n",
      "Epoch 942 - loss: 1.6620954869118605 - val_loss: 1.7727734013966234\n",
      "Epoch 978 - loss: 1.6611838543671156 - val_loss: 1.7547941279416102\n"
     ]
    }
   ],
   "source": [
    "regressor = ERegressor(n = 100, hidden_layers = [10], activation = \"sigmoid\", random_state = 42)\n",
    "regressor.fit(scaled_X_train, y_train, epochs = 1000, validation_data = (scaled_X_val, y_val), verbose = 1)"
   ]
  },
  {
   "cell_type": "code",
   "execution_count": 494,
   "metadata": {},
   "outputs": [],
   "source": [
    "y_pred = regressor.predict(scaled_X_test)"
   ]
  },
  {
   "cell_type": "code",
   "execution_count": 495,
   "metadata": {},
   "outputs": [
    {
     "data": {
      "text/plain": [
       "1.7604775015445242"
      ]
     },
     "execution_count": 495,
     "metadata": {},
     "output_type": "execute_result"
    }
   ],
   "source": [
    "mean_absolute_error(y_test, y_pred)"
   ]
  },
  {
   "cell_type": "code",
   "execution_count": 474,
   "metadata": {},
   "outputs": [
    {
     "data": {
      "text/plain": [
       "[<matplotlib.lines.Line2D at 0x176732850>]"
      ]
     },
     "execution_count": 474,
     "metadata": {},
     "output_type": "execute_result"
    },
    {
     "data": {
      "image/png": "[encoded data removed]",
      "text/plain": [
       "<Figure size 432x288 with 1 Axes>"
      ]
     },
     "metadata": {
      "needs_background": "light"
     },
     "output_type": "display_data"
    }
   ],
   "source": [
    "y = []\n",
    "xrange = 10000\n",
    "\n",
    "for x in range(1, xrange + 1):\n",
    "    y.append(5 * 1 / math.exp(x / (xrange / (10 * math.log10(xrange)))))\n",
    "\n",
    "plt.plot(list(range(xrange)), y)"
   ]
  },
  {
   "cell_type": "code",
   "execution_count": 464,
   "metadata": {},
   "outputs": [
    {
     "data": {
      "text/plain": [
       "[<matplotlib.lines.Line2D at 0x176666850>]"
      ]
     },
     "execution_count": 464,
     "metadata": {},
     "output_type": "execute_result"
    },
    {
     "data": {
      "image/png": "[encoded data removed]",
      "text/plain": [
       "<Figure size 432x288 with 1 Axes>"
      ]
     },
     "metadata": {
      "needs_background": "light"
     },
     "output_type": "display_data"
    }
   ],
   "source": [
    "y = []\n",
    "xrange = 10000\n",
    "\n",
    "for x in range(1, xrange + 1):\n",
    "    y.append(5 * 1 / math.exp(x / (xrange / 10)))\n",
    "\n",
    "plt.plot(list(range(xrange)), y)"
   ]
  }
 ],
 "metadata": {
  "interpreter": {
   "hash": "47d3b7ff548c1bae2d6b155a9b3d6f1122689b634566f833764ba5dd9fcfa2e0"
  },
  "kernelspec": {
   "display_name": "Python 3.9.12 ('Deep-learning-Daniel-Petersson-bXusHwTH')",
   "language": "python",
   "name": "python3"
  },
  "language_info": {
   "codemirror_mode": {
    "name": "ipython",
    "version": 3
   },
   "file_extension": ".py",
   "mimetype": "text/x-python",
   "name": "python",
   "nbconvert_exporter": "python",
   "pygments_lexer": "ipython3",
   "version": "3.9.12"
  },
  "orig_nbformat": 4
 },
 "nbformat": 4,
 "nbformat_minor": 2
}
