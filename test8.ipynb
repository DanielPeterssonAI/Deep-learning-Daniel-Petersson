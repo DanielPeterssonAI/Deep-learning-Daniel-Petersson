{
 "cells": [
  {
   "cell_type": "code",
   "execution_count": 255,
   "metadata": {},
   "outputs": [],
   "source": [
    "import math\n",
    "import numpy as np\n",
    "import pandas as pd\n",
    "import matplotlib.pyplot as plt\n",
    "import seaborn as sns\n",
    "from sklearn.linear_model import LinearRegression\n",
    "from sklearn.model_selection import train_test_split\n",
    "from sklearn.preprocessing import StandardScaler\n",
    "from sklearn.metrics import mean_absolute_error, mean_squared_error"
   ]
  },
  {
   "cell_type": "code",
   "execution_count": 256,
   "metadata": {},
   "outputs": [
    {
     "data": {
      "text/html": [
       "<div>\n",
       "<style scoped>\n",
       "    .dataframe tbody tr th:only-of-type {\n",
       "        vertical-align: middle;\n",
       "    }\n",
       "\n",
       "    .dataframe tbody tr th {\n",
       "        vertical-align: top;\n",
       "    }\n",
       "\n",
       "    .dataframe thead th {\n",
       "        text-align: right;\n",
       "    }\n",
       "</style>\n",
       "<table border=\"1\" class=\"dataframe\">\n",
       "  <thead>\n",
       "    <tr style=\"text-align: right;\">\n",
       "      <th></th>\n",
       "      <th>mpg</th>\n",
       "      <th>cylinders</th>\n",
       "      <th>displacement</th>\n",
       "      <th>horsepower</th>\n",
       "      <th>weight</th>\n",
       "      <th>acceleration</th>\n",
       "      <th>model_year</th>\n",
       "      <th>origin_europe</th>\n",
       "      <th>origin_japan</th>\n",
       "      <th>origin_usa</th>\n",
       "    </tr>\n",
       "  </thead>\n",
       "  <tbody>\n",
       "    <tr>\n",
       "      <th>0</th>\n",
       "      <td>18.0</td>\n",
       "      <td>8</td>\n",
       "      <td>307.0</td>\n",
       "      <td>130.0</td>\n",
       "      <td>3504</td>\n",
       "      <td>12.0</td>\n",
       "      <td>70</td>\n",
       "      <td>0</td>\n",
       "      <td>0</td>\n",
       "      <td>1</td>\n",
       "    </tr>\n",
       "    <tr>\n",
       "      <th>1</th>\n",
       "      <td>15.0</td>\n",
       "      <td>8</td>\n",
       "      <td>350.0</td>\n",
       "      <td>165.0</td>\n",
       "      <td>3693</td>\n",
       "      <td>11.5</td>\n",
       "      <td>70</td>\n",
       "      <td>0</td>\n",
       "      <td>0</td>\n",
       "      <td>1</td>\n",
       "    </tr>\n",
       "    <tr>\n",
       "      <th>2</th>\n",
       "      <td>18.0</td>\n",
       "      <td>8</td>\n",
       "      <td>318.0</td>\n",
       "      <td>150.0</td>\n",
       "      <td>3436</td>\n",
       "      <td>11.0</td>\n",
       "      <td>70</td>\n",
       "      <td>0</td>\n",
       "      <td>0</td>\n",
       "      <td>1</td>\n",
       "    </tr>\n",
       "    <tr>\n",
       "      <th>3</th>\n",
       "      <td>16.0</td>\n",
       "      <td>8</td>\n",
       "      <td>304.0</td>\n",
       "      <td>150.0</td>\n",
       "      <td>3433</td>\n",
       "      <td>12.0</td>\n",
       "      <td>70</td>\n",
       "      <td>0</td>\n",
       "      <td>0</td>\n",
       "      <td>1</td>\n",
       "    </tr>\n",
       "    <tr>\n",
       "      <th>4</th>\n",
       "      <td>17.0</td>\n",
       "      <td>8</td>\n",
       "      <td>302.0</td>\n",
       "      <td>140.0</td>\n",
       "      <td>3449</td>\n",
       "      <td>10.5</td>\n",
       "      <td>70</td>\n",
       "      <td>0</td>\n",
       "      <td>0</td>\n",
       "      <td>1</td>\n",
       "    </tr>\n",
       "  </tbody>\n",
       "</table>\n",
       "</div>"
      ],
      "text/plain": [
       "    mpg  cylinders  displacement  horsepower  weight  acceleration  \\\n",
       "0  18.0          8         307.0       130.0    3504          12.0   \n",
       "1  15.0          8         350.0       165.0    3693          11.5   \n",
       "2  18.0          8         318.0       150.0    3436          11.0   \n",
       "3  16.0          8         304.0       150.0    3433          12.0   \n",
       "4  17.0          8         302.0       140.0    3449          10.5   \n",
       "\n",
       "   model_year  origin_europe  origin_japan  origin_usa  \n",
       "0          70              0             0           1  \n",
       "1          70              0             0           1  \n",
       "2          70              0             0           1  \n",
       "3          70              0             0           1  \n",
       "4          70              0             0           1  "
      ]
     },
     "execution_count": 256,
     "metadata": {},
     "output_type": "execute_result"
    }
   ],
   "source": [
    "df = sns.load_dataset(\"mpg\")\n",
    "\n",
    "X_train, y_train = df[~df[\"horsepower\"].isna()][[\"displacement\", \"acceleration\"]], df[~df[\"horsepower\"].isna()][\"horsepower\"]\n",
    "X_pred = df[df[\"horsepower\"].isna()][[\"displacement\", \"acceleration\"]]\n",
    "\n",
    "linreg = LinearRegression()\n",
    "linreg.fit(X_train, y_train)\n",
    "y_pred = linreg.predict(X_pred)\n",
    "y_pred = np.round(y_pred)\n",
    "df.loc[X_pred.index, \"horsepower\"] = y_pred\n",
    "df = pd.get_dummies(df.drop(\"name\", axis = 1), columns = [\"origin\"])\n",
    "df.head()"
   ]
  },
  {
   "cell_type": "code",
   "execution_count": 257,
   "metadata": {},
   "outputs": [],
   "source": [
    "X, y = df.drop([\"mpg\"], axis = 1).values, df[\"mpg\"].values\n",
    "\n",
    "X_train, X_test, y_train, y_test = train_test_split(X, y, test_size = 0.2, random_state = 42)\n",
    "X_val, X_test, y_val, y_test = train_test_split(X_test, y_test, test_size = 0.5, random_state = 42)"
   ]
  },
  {
   "cell_type": "code",
   "execution_count": 258,
   "metadata": {},
   "outputs": [],
   "source": [
    "scaler = StandardScaler()\n",
    "#scaler = MinMaxScaler()\n",
    "\n",
    "scaled_X_train = scaler.fit_transform(X_train)\n",
    "scaled_X_val = scaler.transform(X_val)\n",
    "scaled_X_test = scaler.transform(X_test)"
   ]
  },
  {
   "cell_type": "code",
   "execution_count": 259,
   "metadata": {},
   "outputs": [],
   "source": [
    "class EvoRegressor:\n",
    "    def __init__(self, n = 100, hidden_layers = False, activation = \"sigmoid\", random_state = None):\n",
    "\n",
    "        self.n = n // 2 * 2\n",
    "        self.nets = []\n",
    "        self.best_net = -1\n",
    "        self.best_result = None\n",
    "        self.validation_loss_history = []\n",
    "        self.training_loss_history = []\n",
    "        self.mutation_sigma = 0\n",
    "\n",
    "        if activation == \"sigmoid\":\n",
    "            self.activation_function = lambda x: 1 / (1 + np.exp(-x))\n",
    "        elif activation == \"relu\":\n",
    "            self.activation_function = lambda x: np.maximum(0, x)\n",
    "        elif activation == \"leaky_relu\":\n",
    "            self.activation_function = lambda x: np.maximum(0.1 * x, x)\n",
    "        \n",
    "        if hidden_layers:\n",
    "            self.layers = hidden_layers + [1]\n",
    "        else:\n",
    "            self.layers = [1]\n",
    "        \n",
    "        if random_state != None:\n",
    "            np.random.seed(random_state)\n",
    "\n",
    "    \n",
    "    def fit(self, X_train, y_train, epochs = 100, validation_data = False, verbose = 0):\n",
    "        X_train = np.c_[np.ones(X_train.shape[0]), X_train]\n",
    "\n",
    "        if validation_data:\n",
    "            X_val, y_val = validation_data\n",
    "        \n",
    "        self.layers = [X_train.shape[1]] + self.layers\n",
    "        for i in range(self.n):\n",
    "            self.nets += [[]]\n",
    "            for j in range(len(self.layers) - 1):\n",
    "                self.nets[i] += [np.random.uniform(-3, 3, (self.layers[j], self.layers[j + 1]))]\n",
    "\n",
    "        self.y_preds = np.zeros((len(self.nets), y_train.shape[0]))\n",
    "        self.nets_loss = np.zeros(len(self.nets))\n",
    "        self.sorted_indecies = np.zeros(len(self.nets))\n",
    "        self.sorted_indecies = np.array([\n",
    "            60, 63, 98, 91, 99, 26, 56, 17, 25, 96, \n",
    "            40, 57, 37, 93, 59, 27, 78, 44, 43, 46, \n",
    "            1, 47, 67, 31, 70, 52, 77, 75, 4, 89, 6, \n",
    "            19, 81, 88, 58, 35, 73, 68, 38, 12, 87, \n",
    "            85, 48, 15, 0, 10, 69, 53, 94, 24, 14, \n",
    "            71, 86, 80, 9, 65, 30, 23, 51, 8, 97, \n",
    "            22, 92, 79, 32, 42, 39, 11, 90, 83, 41, \n",
    "            61, 33, 62, 55, 18, 13, 34, 95, 16, 82, \n",
    "            45, 72, 3, 76, 5, 21, 54, 20, 7, 36, 66, \n",
    "            2, 50, 84, 28, 64, 29, 74, 49])\n",
    "        \n",
    "        self.sorted_indecies = np.zeros(len(self.nets))\n",
    "\n",
    "        for epoch in range(epochs):\n",
    "            \n",
    "            #print(self.nets[self.sorted_indecies[0]], self.nets[self.sorted_indecies[1]])\n",
    "            \n",
    "            for i in range(len(self.nets)):\n",
    "                forward_pass = X_train.T\n",
    "\n",
    "                for j in range(0, len(self.layers) - 2):\n",
    "                    forward_pass = self.activation_function(self.nets[i][j].T @ forward_pass)\n",
    "\n",
    "                forward_pass = self.nets[i][-1].T @ forward_pass\n",
    "\n",
    "                self.y_preds[i] = forward_pass.reshape(-1)\n",
    "            \n",
    "            self.nets_loss = np.mean(np.abs(self.y_preds - y_train), axis = 1)\n",
    "            #print(self.nets_loss)\n",
    "            \n",
    "            self.sorted_indecies = np.argsort(self.nets_loss)\n",
    "            #print(self.sorted_indecies)\n",
    "            \n",
    "            self.mutation_sigma = 0.1 + 5 * 1 / math.exp(epoch / ((epochs + 1) / (10 * math.log10(epochs + 1))))\n",
    "            \n",
    "            for i in range(0, self.n // 2, 2):\n",
    "                for j in range(len(self.layers) - 1):\n",
    "                    self.nets[self.sorted_indecies[self.n // 2 + i]][j] = np.mean((self.nets[self.sorted_indecies[i]][j], self.nets[self.sorted_indecies[1 + i]][j]), axis = 0) + np.random.normal(0, self.mutation_sigma, (self.layers[j], self.layers[j + 1]))\n",
    "                    self.nets[self.sorted_indecies[self.n // 2 + 1 + i]][j] = np.mean((self.nets[self.sorted_indecies[i]][j], self.nets[self.sorted_indecies[1 + i]][j]), axis = 0) + np.random.normal(0, self.mutation_sigma, (self.layers[j], self.layers[j + 1]))\n",
    "\n",
    "\n",
    "            if self.best_net != self.sorted_indecies[0]:\n",
    "                self.best_net = self.sorted_indecies[0]\n",
    "                self.training_loss_history += [self.nets_loss[self.best_net]]\n",
    "\n",
    "                if validation_data:\n",
    "                    self.validation_loss_history += [np.mean(np.abs(y_val - self.predict(X_val)))]\n",
    "                    if verbose == 1:\n",
    "                        print(f\"Epoch {epoch} - loss: {self.training_loss_history[-1]} - val_loss: {self.validation_loss_history[-1]}\")\n",
    "                else:\n",
    "                    if verbose == 1:\n",
    "                        pass\n",
    "                        print(f\"Epoch {epoch} - loss: {self.training_loss_history[-1]}\")\n",
    "            #print(f\"{epoch=}, {self.nets_loss[self.best_net]}\")\n",
    "\n",
    "\n",
    "    def predict(self, X):\n",
    "        X = np.c_[np.ones(X.shape[0]), X]\n",
    "\n",
    "        forward_pass = X.T\n",
    "        for j in range(0, len(self.layers) - 2):\n",
    "            forward_pass = self.activation_function(self.nets[self.best_net][j].T @ forward_pass)\n",
    "\n",
    "        forward_pass = self.nets[self.best_net][-1].T @ forward_pass\n",
    "\n",
    "        return forward_pass.reshape(-1)\n",
    "        "
   ]
  },
  {
   "cell_type": "code",
   "execution_count": 260,
   "metadata": {},
   "outputs": [
    {
     "name": "stdout",
     "output_type": "stream",
     "text": [
      "Epoch 0 - loss: 8.685459759250273\n",
      "Epoch 7 - loss: 5.989376690427054\n",
      "Epoch 12 - loss: 4.656958770290129\n",
      "Epoch 14 - loss: 3.6376931951712015\n",
      "Epoch 17 - loss: 3.001221562109011\n",
      "Epoch 21 - loss: 2.6297864315079296\n",
      "Epoch 25 - loss: 2.5385791282802272\n",
      "Epoch 26 - loss: 2.5148457645621964\n",
      "Epoch 29 - loss: 2.4761573954934564\n",
      "Epoch 31 - loss: 2.419529597334391\n",
      "Epoch 32 - loss: 2.3937297635060553\n",
      "Epoch 37 - loss: 2.312470455471825\n",
      "Epoch 39 - loss: 2.2617158127542862\n",
      "Epoch 49 - loss: 2.2429620592765644\n",
      "Epoch 50 - loss: 2.2299416780338075\n",
      "Epoch 54 - loss: 2.217131434418069\n",
      "Epoch 58 - loss: 2.2146541265315016\n",
      "Epoch 61 - loss: 2.198419395855605\n",
      "Epoch 66 - loss: 2.1823547215941344\n",
      "Epoch 67 - loss: 2.176958279858327\n",
      "Epoch 74 - loss: 2.1587292857939953\n",
      "Epoch 96 - loss: 2.1536628954488983\n",
      "Epoch 99 - loss: 2.1366064294211182\n"
     ]
    }
   ],
   "source": [
    "aregressor = EvoRegressor(n = 100, hidden_layers = [6], activation = \"relu\", random_state = 42)\n",
    "aregressor.fit(scaled_X_train, y_train, epochs = 100, verbose = 1)"
   ]
  },
  {
   "cell_type": "code",
   "execution_count": 206,
   "metadata": {},
   "outputs": [
    {
     "data": {
      "text/plain": [
       "100"
      ]
     },
     "execution_count": 206,
     "metadata": {},
     "output_type": "execute_result"
    }
   ],
   "source": [
    "(vregressor.nets_loss == aregressor.nets_loss).sum()"
   ]
  },
  {
   "cell_type": "code",
   "execution_count": 217,
   "metadata": {},
   "outputs": [
    {
     "data": {
      "text/plain": [
       "array([62, 12, 51,  3, 47, 23, 10, 28, 67, 58, 61, 35, 31, 60, 15, 87, 55,\n",
       "       85, 63, 41, 14, 98, 72, 39, 36, 95, 64, 52, 91,  8, 21, 71, 29, 92,\n",
       "       99, 73, 26, 22, 56, 66, 75, 18, 45, 77, 70, 19, 33, 49, 20, 82,  2,\n",
       "       80, 94, 89, 97, 50, 17,  0, 25, 74,  6,  4, 88, 42, 13, 86, 96, 40,\n",
       "       48,  7,  5, 84, 69, 57, 83, 38, 53, 37, 34, 93, 79, 59, 90, 65, 68,\n",
       "       11, 27, 32, 78, 81, 30, 24,  9, 44, 43, 54, 76, 46,  1, 16])"
      ]
     },
     "execution_count": 217,
     "metadata": {},
     "output_type": "execute_result"
    }
   ],
   "source": [
    "vregressor.sorted_indecies"
   ]
  },
  {
   "cell_type": "code",
   "execution_count": 218,
   "metadata": {},
   "outputs": [
    {
     "data": {
      "text/plain": [
       "array([ 5, 17, 25, 35, 80, 42,  9, 20, 49, 40, 53, 21, 96, 57,  2, 31, 67,\n",
       "       33, 48,  0, 38, 68, 62, 72, 19,  8, 29, 46, 70, 83, 71, 39, 32, 79,\n",
       "        7,  4, 36, 14, 65, 37, 97, 16,  6, 64, 75, 77, 93, 60, 76, 27, 12,\n",
       "        3, 89, 41, 63, 59, 69, 51, 61, 10, 98, 54, 44, 92, 13, 87, 81, 52,\n",
       "       78, 88, 90, 91, 94, 45, 85, 28, 99, 34, 30, 26, 55, 24, 56, 84, 47,\n",
       "       73, 11, 22, 43, 18, 82,  1, 95, 50, 74, 86, 15, 23, 58, 66])"
      ]
     },
     "execution_count": 218,
     "metadata": {},
     "output_type": "execute_result"
    }
   ],
   "source": [
    "aregressor.sorted_indecies"
   ]
  },
  {
   "cell_type": "code",
   "execution_count": 209,
   "metadata": {},
   "outputs": [
    {
     "name": "stdout",
     "output_type": "stream",
     "text": [
      "[[[ True]\n",
      "  [ True]]]\n",
      "[[[ True]\n",
      "  [ True]]]\n",
      "[[[False]\n",
      "  [False]]]\n",
      "[[[False]\n",
      "  [False]]]\n",
      "[[[ True]\n",
      "  [ True]]]\n",
      "[[[False]\n",
      "  [False]]]\n",
      "[[[ True]\n",
      "  [ True]]]\n",
      "[[[False]\n",
      "  [False]]]\n",
      "[[[False]\n",
      "  [False]]]\n",
      "[[[False]\n",
      "  [False]]]\n",
      "[[[ True]\n",
      "  [ True]]]\n",
      "[[[False]\n",
      "  [False]]]\n",
      "[[[ True]\n",
      "  [ True]]]\n",
      "[[[False]\n",
      "  [False]]]\n",
      "[[[ True]\n",
      "  [ True]]]\n",
      "[[[ True]\n",
      "  [ True]]]\n",
      "[[[False]\n",
      "  [False]]]\n",
      "[[[ True]\n",
      "  [ True]]]\n",
      "[[[False]\n",
      "  [False]]]\n",
      "[[[ True]\n",
      "  [ True]]]\n",
      "[[[False]\n",
      "  [False]]]\n",
      "[[[False]\n",
      "  [False]]]\n",
      "[[[False]\n",
      "  [False]]]\n",
      "[[[False]\n",
      "  [False]]]\n",
      "[[[ True]\n",
      "  [ True]]]\n",
      "[[[ True]\n",
      "  [ True]]]\n",
      "[[[ True]\n",
      "  [ True]]]\n",
      "[[[ True]\n",
      "  [ True]]]\n",
      "[[[False]\n",
      "  [False]]]\n",
      "[[[False]\n",
      "  [False]]]\n",
      "[[[False]\n",
      "  [False]]]\n",
      "[[[ True]\n",
      "  [ True]]]\n",
      "[[[False]\n",
      "  [False]]]\n",
      "[[[False]\n",
      "  [False]]]\n",
      "[[[False]\n",
      "  [False]]]\n",
      "[[[ True]\n",
      "  [ True]]]\n",
      "[[[False]\n",
      "  [False]]]\n",
      "[[[ True]\n",
      "  [ True]]]\n",
      "[[[ True]\n",
      "  [ True]]]\n",
      "[[[False]\n",
      "  [False]]]\n",
      "[[[ True]\n",
      "  [ True]]]\n",
      "[[[False]\n",
      "  [False]]]\n",
      "[[[False]\n",
      "  [False]]]\n",
      "[[[ True]\n",
      "  [ True]]]\n",
      "[[[ True]\n",
      "  [ True]]]\n",
      "[[[False]\n",
      "  [False]]]\n",
      "[[[ True]\n",
      "  [ True]]]\n",
      "[[[ True]\n",
      "  [ True]]]\n",
      "[[[ True]\n",
      "  [ True]]]\n",
      "[[[False]\n",
      "  [False]]]\n",
      "[[[False]\n",
      "  [False]]]\n",
      "[[[False]\n",
      "  [False]]]\n",
      "[[[ True]\n",
      "  [ True]]]\n",
      "[[[ True]\n",
      "  [ True]]]\n",
      "[[[False]\n",
      "  [False]]]\n",
      "[[[False]\n",
      "  [False]]]\n",
      "[[[ True]\n",
      "  [ True]]]\n",
      "[[[ True]\n",
      "  [ True]]]\n",
      "[[[ True]\n",
      "  [ True]]]\n",
      "[[[ True]\n",
      "  [ True]]]\n",
      "[[[ True]\n",
      "  [ True]]]\n",
      "[[[False]\n",
      "  [False]]]\n",
      "[[[False]\n",
      "  [False]]]\n",
      "[[[ True]\n",
      "  [ True]]]\n",
      "[[[False]\n",
      "  [False]]]\n",
      "[[[False]\n",
      "  [False]]]\n",
      "[[[False]\n",
      "  [False]]]\n",
      "[[[ True]\n",
      "  [ True]]]\n",
      "[[[ True]\n",
      "  [ True]]]\n",
      "[[[ True]\n",
      "  [ True]]]\n",
      "[[[ True]\n",
      "  [ True]]]\n",
      "[[[ True]\n",
      "  [ True]]]\n",
      "[[[False]\n",
      "  [False]]]\n",
      "[[[ True]\n",
      "  [ True]]]\n",
      "[[[False]\n",
      "  [False]]]\n",
      "[[[ True]\n",
      "  [ True]]]\n",
      "[[[False]\n",
      "  [False]]]\n",
      "[[[ True]\n",
      "  [ True]]]\n",
      "[[[ True]\n",
      "  [ True]]]\n",
      "[[[False]\n",
      "  [False]]]\n",
      "[[[False]\n",
      "  [False]]]\n",
      "[[[ True]\n",
      "  [ True]]]\n",
      "[[[False]\n",
      "  [False]]]\n",
      "[[[False]\n",
      "  [False]]]\n",
      "[[[False]\n",
      "  [False]]]\n",
      "[[[ True]\n",
      "  [ True]]]\n",
      "[[[False]\n",
      "  [False]]]\n",
      "[[[ True]\n",
      "  [ True]]]\n",
      "[[[ True]\n",
      "  [ True]]]\n",
      "[[[ True]\n",
      "  [ True]]]\n",
      "[[[False]\n",
      "  [False]]]\n",
      "[[[ True]\n",
      "  [ True]]]\n",
      "[[[False]\n",
      "  [False]]]\n",
      "[[[ True]\n",
      "  [ True]]]\n",
      "[[[ True]\n",
      "  [ True]]]\n",
      "[[[False]\n",
      "  [False]]]\n",
      "[[[ True]\n",
      "  [ True]]]\n",
      "[[[False]\n",
      "  [False]]]\n",
      "[[[ True]\n",
      "  [ True]]]\n",
      "[[[ True]\n",
      "  [ True]]]\n"
     ]
    }
   ],
   "source": [
    "for i in range(100):\n",
    "    print(vregressor.weights[0][i] == aregressor.nets[i])"
   ]
  },
  {
   "cell_type": "code",
   "execution_count": 159,
   "metadata": {},
   "outputs": [
    {
     "data": {
      "text/plain": [
       "[array([[-0.75275929],\n",
       "        [ 2.70428584]])]"
      ]
     },
     "execution_count": 159,
     "metadata": {},
     "output_type": "execute_result"
    }
   ],
   "source": [
    "aregressor.nets[0]"
   ]
  },
  {
   "cell_type": "code",
   "execution_count": 67,
   "metadata": {},
   "outputs": [
    {
     "data": {
      "text/plain": [
       "[<matplotlib.lines.Line2D at 0x17769bcd0>]"
      ]
     },
     "execution_count": 67,
     "metadata": {},
     "output_type": "execute_result"
    },
    {
     "data": {
      "image/png": "[encoded data removed]",
      "text/plain": [
       "<Figure size 432x288 with 1 Axes>"
      ]
     },
     "metadata": {
      "needs_background": "light"
     },
     "output_type": "display_data"
    }
   ],
   "source": [
    "y = []\n",
    "xrange = 10000\n",
    "\n",
    "for x in range(1, xrange + 1):\n",
    "    y.append(3 * 1 / math.exp(x / (xrange / (10 * math.log10(xrange)))))\n",
    "\n",
    "plt.plot(list(range(xrange)), y)"
   ]
  },
  {
   "cell_type": "code",
   "execution_count": 464,
   "metadata": {},
   "outputs": [
    {
     "data": {
      "text/plain": [
       "[<matplotlib.lines.Line2D at 0x176666850>]"
      ]
     },
     "execution_count": 464,
     "metadata": {},
     "output_type": "execute_result"
    },
    {
     "data": {
      "image/png": "[encoded data removed]",
      "text/plain": [
       "<Figure size 432x288 with 1 Axes>"
      ]
     },
     "metadata": {
      "needs_background": "light"
     },
     "output_type": "display_data"
    }
   ],
   "source": [
    "y = []\n",
    "xrange = 10000\n",
    "\n",
    "for x in range(1, xrange + 1):\n",
    "    y.append(5 * 1 / math.exp(x / (xrange / 10)))\n",
    "\n",
    "plt.plot(list(range(xrange)), y)"
   ]
  }
 ],
 "metadata": {
  "interpreter": {
   "hash": "47d3b7ff548c1bae2d6b155a9b3d6f1122689b634566f833764ba5dd9fcfa2e0"
  },
  "kernelspec": {
   "display_name": "Python 3.9.12 ('Deep-learning-Daniel-Petersson-bXusHwTH')",
   "language": "python",
   "name": "python3"
  },
  "language_info": {
   "codemirror_mode": {
    "name": "ipython",
    "version": 3
   },
   "file_extension": ".py",
   "mimetype": "text/x-python",
   "name": "python",
   "nbconvert_exporter": "python",
   "pygments_lexer": "ipython3",
   "version": "3.9.12"
  },
  "orig_nbformat": 4
 },
 "nbformat": 4,
 "nbformat_minor": 2
}
