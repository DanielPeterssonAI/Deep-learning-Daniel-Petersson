{
 "cells": [
  {
   "cell_type": "code",
   "execution_count": 46,
   "metadata": {},
   "outputs": [],
   "source": [
    "import pandas as pd\n",
    "from sklearn.metrics import ConfusionMatrixDisplay, confusion_matrix, classification_report\n",
    "from sklearn.model_selection import train_test_split\n",
    "import numpy as np\n",
    "\n",
    "df = pd.read_csv(\"train.csv\")\n",
    "\n",
    "def dfcleaner(dataframe):\n",
    "    dataframe[\"Cabin\"] = dataframe[\"Cabin\"].fillna(\"0/999999/0\")\n",
    "    dataframe = dataframe.fillna(0)\n",
    "    \n",
    "    dataframe[\"Cabinnumber\"] = dataframe[\"Cabin\"].str.extract(\"\\/(\\w*)\\/\").astype(\"int32\")\n",
    "    dataframe[\"Cabindeck\"] = dataframe[\"Cabin\"].str.extract(\"^(\\w*)\\/\")\n",
    "    dataframe[\"Cabinside\"] = dataframe[\"Cabin\"].str.extract(\"\\/(\\w*)$\")\n",
    "\n",
    "    dataframe[\"Totalbill\"] = dataframe[\"RoomService\"] + dataframe[\"FoodCourt\"] + dataframe[\"ShoppingMall\"] + dataframe[\"Spa\"] + dataframe[\"VRDeck\"]\n",
    "\n",
    "    dataframe[\"Group\"] = dataframe[\"PassengerId\"].str.extract(\"^(\\d{4})\")\n",
    "    filter = dataframe[\"Group\"].value_counts().to_frame().reset_index()\n",
    "    filter.columns = [\"Group\", \"Freq\"]\n",
    "    filter = filter[filter[\"Freq\"] < 5]\n",
    "    dataframe.loc[dataframe[\"Group\"].isin(filter[\"Group\"]), \"Group\"] = 0\n",
    "\n",
    "    dataframe = pd.get_dummies(dataframe, columns = [\"HomePlanet\", \"CryoSleep\", \"Destination\", \"VIP\", \"Cabindeck\", \"Cabinside\", \"Group\"], drop_first = True)\n",
    "    #dataframe = pd.get_dummies(dataframe, columns = [\"HomePlanet\", \"CryoSleep\", \"Destination\", \"VIP\", \"Cabindeck\", \"Cabinside\"], drop_first = True)\n",
    "    \n",
    "    \n",
    "    dataframe.loc[dataframe[\"Cabinnumber\"] == 999999, \"Cabinnumber\"] = 0\n",
    "\n",
    "    return dataframe"
   ]
  },
  {
   "cell_type": "code",
   "execution_count": 47,
   "metadata": {},
   "outputs": [],
   "source": [
    "df = dfcleaner(df)"
   ]
  },
  {
   "cell_type": "code",
   "execution_count": 48,
   "metadata": {},
   "outputs": [],
   "source": [
    "df = df.select_dtypes(exclude = [\"object\"])"
   ]
  },
  {
   "cell_type": "code",
   "execution_count": 49,
   "metadata": {},
   "outputs": [],
   "source": [
    "X, y = df.drop([\"Transported\"], axis = 1).values, df[\"Transported\"].values\n",
    "y = (y * 1).astype(np.int8)"
   ]
  },
  {
   "cell_type": "code",
   "execution_count": 50,
   "metadata": {},
   "outputs": [
    {
     "data": {
      "text/plain": [
       "((6085, 154), (1043, 154), (1565, 154))"
      ]
     },
     "execution_count": 50,
     "metadata": {},
     "output_type": "execute_result"
    }
   ],
   "source": [
    "from sklearn.preprocessing import StandardScaler, MinMaxScaler\n",
    "from sklearn.model_selection import train_test_split\n",
    "\n",
    "X_train, X_test, y_train, y_test = train_test_split(X, y, test_size = 0.30, random_state = 42)\n",
    "\n",
    "X_val, X_test, y_val, y_test = train_test_split(X_test, y_test, test_size = 0.60, random_state = 42)\n",
    "\n",
    "X_train.shape, X_val.shape, X_test.shape"
   ]
  },
  {
   "cell_type": "code",
   "execution_count": 51,
   "metadata": {},
   "outputs": [],
   "source": [
    "scaler = StandardScaler()\n",
    "#scaler = MinMaxScaler()\n",
    "\n",
    "scaled_X_train = scaler.fit_transform(X_train)\n",
    "scaled_X_val = scaler.transform(X_val)\n",
    "scaled_X_test = scaler.transform(X_test)"
   ]
  },
  {
   "cell_type": "code",
   "execution_count": 52,
   "metadata": {},
   "outputs": [
    {
     "data": {
      "text/plain": [
       "(6085, 154, 1)"
      ]
     },
     "execution_count": 52,
     "metadata": {},
     "output_type": "execute_result"
    }
   ],
   "source": [
    "scaled_X_train = scaled_X_train.reshape(scaled_X_train.shape[0], scaled_X_train.shape[1], 1)\n",
    "scaled_X_val = scaled_X_val.reshape(scaled_X_val.shape[0], scaled_X_val.shape[1], 1)\n",
    "scaled_X_test = scaled_X_test.reshape(scaled_X_test.shape[0], scaled_X_test.shape[1], 1)\n",
    "\n",
    "scaled_X_train.shape"
   ]
  },
  {
   "cell_type": "code",
   "execution_count": 111,
   "metadata": {},
   "outputs": [
    {
     "name": "stdout",
     "output_type": "stream",
     "text": [
      "Model: \"MLP\"\n",
      "_________________________________________________________________\n",
      " Layer (type)                Output Shape              Param #   \n",
      "=================================================================\n",
      " conv1d_68 (Conv1D)          (None, 152, 32)           128       \n",
      "                                                                 \n",
      " conv1d_69 (Conv1D)          (None, 150, 64)           6208      \n",
      "                                                                 \n",
      " flatten_25 (Flatten)        (None, 9600)              0         \n",
      "                                                                 \n",
      " dense_16 (Dense)            (None, 1024)              9831424   \n",
      "                                                                 \n",
      " dropout_34 (Dropout)        (None, 1024)              0         \n",
      "                                                                 \n",
      " dense_17 (Dense)            (None, 512)               524800    \n",
      "                                                                 \n",
      " dropout_35 (Dropout)        (None, 512)               0         \n",
      "                                                                 \n",
      " dense_18 (Dense)            (None, 256)               131328    \n",
      "                                                                 \n",
      " dense_19 (Dense)            (None, 1)                 257       \n",
      "                                                                 \n",
      "=================================================================\n",
      "Total params: 10,494,145\n",
      "Trainable params: 10,494,145\n",
      "Non-trainable params: 0\n",
      "_________________________________________________________________\n"
     ]
    }
   ],
   "source": [
    "from tensorflow.keras import Sequential\n",
    "from tensorflow.keras.layers import Dense, InputLayer, Dropout, Flatten\n",
    "from tensorflow.keras.optimizers import Adam, Nadam, RMSprop\n",
    "from tensorflow.keras.layers import Conv1D, MaxPooling1D\n",
    "\n",
    "def MLP():\n",
    "    model = Sequential(name = \"MLP\")\n",
    "    model.add(Conv1D(filters = 32, kernel_size = 3, activation='relu', input_shape=(X_train.shape[1], 1), kernel_initializer = \"he_normal\"))\n",
    "    model.add(Conv1D(filters = 64, kernel_size = 3, activation='relu', kernel_initializer = \"he_normal\"))\n",
    "    #model.add(Conv1D(filters=1, kernel_size=12, strides = 10, activation='relu', input_shape=(X_train.shape[1], 1), kernel_initializer = \"he_normal\"))\n",
    "    model.add(Flatten())\n",
    "    model.add(Dense(1024, activation = \"relu\", kernel_initializer = \"he_normal\"))\n",
    "    model.add(Dropout(0.2))\n",
    "    model.add(Dense(512, activation = \"relu\", kernel_initializer = \"he_normal\"))\n",
    "    model.add(Dropout(0.2))\n",
    "    model.add(Dense(256, activation = \"relu\", kernel_initializer = \"he_normal\"))\n",
    "    model.add(Dense(1, activation = \"sigmoid\"))\n",
    "\n",
    "    model.compile(loss = \"binary_crossentropy\", optimizer = Adam(learning_rate = 0.0001), metrics = [\"acc\"])\n",
    "    return model\n",
    "\n",
    "model = MLP()\n",
    "model.summary()"
   ]
  },
  {
   "cell_type": "code",
   "execution_count": 112,
   "metadata": {},
   "outputs": [
    {
     "name": "stdout",
     "output_type": "stream",
     "text": [
      "Epoch 1/50\n"
     ]
    },
    {
     "name": "stderr",
     "output_type": "stream",
     "text": [
      "2022-05-11 01:08:02.151346: I tensorflow/core/grappler/optimizers/custom_graph_optimizer_registry.cc:113] Plugin optimizer for device_type GPU is enabled.\n"
     ]
    },
    {
     "name": "stdout",
     "output_type": "stream",
     "text": [
      "191/191 [==============================] - ETA: 0s - loss: 0.6590 - acc: 0.7433"
     ]
    },
    {
     "name": "stderr",
     "output_type": "stream",
     "text": [
      "2022-05-11 01:08:05.981562: I tensorflow/core/grappler/optimizers/custom_graph_optimizer_registry.cc:113] Plugin optimizer for device_type GPU is enabled.\n"
     ]
    },
    {
     "name": "stdout",
     "output_type": "stream",
     "text": [
      "191/191 [==============================] - 4s 19ms/step - loss: 0.6590 - acc: 0.7433 - val_loss: 0.6176 - val_acc: 0.7584\n",
      "Epoch 2/50\n",
      "191/191 [==============================] - 3s 17ms/step - loss: 0.5368 - acc: 0.7804 - val_loss: 0.5764 - val_acc: 0.7546\n",
      "Epoch 3/50\n",
      "191/191 [==============================] - 3s 17ms/step - loss: 0.4907 - acc: 0.7877 - val_loss: 0.5499 - val_acc: 0.7737\n",
      "Epoch 4/50\n",
      "191/191 [==============================] - 3s 17ms/step - loss: 0.4730 - acc: 0.7934 - val_loss: 0.4919 - val_acc: 0.7737\n",
      "Epoch 5/50\n",
      "191/191 [==============================] - 3s 17ms/step - loss: 0.4454 - acc: 0.7995 - val_loss: 0.4920 - val_acc: 0.7785\n",
      "Epoch 6/50\n",
      "191/191 [==============================] - 3s 17ms/step - loss: 0.4403 - acc: 0.7987 - val_loss: 0.5137 - val_acc: 0.7756\n",
      "Epoch 7/50\n",
      "191/191 [==============================] - 3s 17ms/step - loss: 0.4213 - acc: 0.8066 - val_loss: 0.4768 - val_acc: 0.7766\n",
      "Epoch 8/50\n",
      "191/191 [==============================] - 3s 17ms/step - loss: 0.4189 - acc: 0.8048 - val_loss: 0.4777 - val_acc: 0.7833\n",
      "Epoch 9/50\n",
      "191/191 [==============================] - 3s 17ms/step - loss: 0.4096 - acc: 0.8090 - val_loss: 0.4518 - val_acc: 0.7987\n",
      "Epoch 10/50\n",
      "191/191 [==============================] - 3s 17ms/step - loss: 0.3965 - acc: 0.8112 - val_loss: 0.4597 - val_acc: 0.7852\n",
      "Epoch 11/50\n",
      "191/191 [==============================] - 3s 17ms/step - loss: 0.3906 - acc: 0.8117 - val_loss: 0.4728 - val_acc: 0.7785\n",
      "Epoch 12/50\n",
      "191/191 [==============================] - 3s 17ms/step - loss: 0.3867 - acc: 0.8113 - val_loss: 0.4608 - val_acc: 0.7833\n",
      "Epoch 13/50\n",
      "191/191 [==============================] - 3s 17ms/step - loss: 0.3785 - acc: 0.8150 - val_loss: 0.4490 - val_acc: 0.7852\n",
      "Epoch 14/50\n",
      "191/191 [==============================] - 3s 17ms/step - loss: 0.3755 - acc: 0.8181 - val_loss: 0.4622 - val_acc: 0.7919\n",
      "Epoch 15/50\n",
      "191/191 [==============================] - 3s 17ms/step - loss: 0.3738 - acc: 0.8168 - val_loss: 0.4635 - val_acc: 0.7872\n",
      "Epoch 16/50\n",
      "191/191 [==============================] - 3s 17ms/step - loss: 0.3720 - acc: 0.8182 - val_loss: 0.4539 - val_acc: 0.7862\n",
      "Epoch 17/50\n",
      "191/191 [==============================] - 3s 17ms/step - loss: 0.3677 - acc: 0.8251 - val_loss: 0.4582 - val_acc: 0.7987\n",
      "Epoch 18/50\n",
      "191/191 [==============================] - 3s 17ms/step - loss: 0.3647 - acc: 0.8227 - val_loss: 0.4502 - val_acc: 0.7939\n",
      "Epoch 19/50\n",
      "191/191 [==============================] - 3s 17ms/step - loss: 0.3584 - acc: 0.8263 - val_loss: 0.4614 - val_acc: 0.7862\n",
      "Epoch 20/50\n",
      "191/191 [==============================] - 3s 17ms/step - loss: 0.3584 - acc: 0.8230 - val_loss: 0.4526 - val_acc: 0.7804\n",
      "Epoch 21/50\n",
      "191/191 [==============================] - 3s 17ms/step - loss: 0.3522 - acc: 0.8317 - val_loss: 0.4456 - val_acc: 0.8006\n",
      "Epoch 22/50\n",
      "191/191 [==============================] - 3s 17ms/step - loss: 0.3473 - acc: 0.8311 - val_loss: 0.4480 - val_acc: 0.7843\n",
      "Epoch 23/50\n",
      "191/191 [==============================] - 3s 17ms/step - loss: 0.3448 - acc: 0.8289 - val_loss: 0.4532 - val_acc: 0.7910\n",
      "Epoch 24/50\n",
      "191/191 [==============================] - 3s 17ms/step - loss: 0.3417 - acc: 0.8366 - val_loss: 0.4624 - val_acc: 0.7795\n",
      "Epoch 25/50\n",
      "191/191 [==============================] - 3s 17ms/step - loss: 0.3417 - acc: 0.8332 - val_loss: 0.4514 - val_acc: 0.8044\n",
      "Epoch 26/50\n",
      "191/191 [==============================] - 3s 17ms/step - loss: 0.3364 - acc: 0.8345 - val_loss: 0.4521 - val_acc: 0.7872\n",
      "Epoch 27/50\n",
      "191/191 [==============================] - 3s 17ms/step - loss: 0.3363 - acc: 0.8365 - val_loss: 0.4649 - val_acc: 0.7776\n",
      "Epoch 28/50\n",
      "191/191 [==============================] - 3s 17ms/step - loss: 0.3327 - acc: 0.8383 - val_loss: 0.4780 - val_acc: 0.7824\n",
      "Epoch 29/50\n",
      "191/191 [==============================] - 3s 17ms/step - loss: 0.3312 - acc: 0.8360 - val_loss: 0.4485 - val_acc: 0.7833\n",
      "Epoch 30/50\n",
      "191/191 [==============================] - 3s 17ms/step - loss: 0.3259 - acc: 0.8385 - val_loss: 0.4512 - val_acc: 0.7843\n",
      "Epoch 31/50\n",
      "191/191 [==============================] - 3s 17ms/step - loss: 0.3244 - acc: 0.8358 - val_loss: 0.4534 - val_acc: 0.7824\n",
      "Epoch 32/50\n",
      "191/191 [==============================] - 3s 17ms/step - loss: 0.3161 - acc: 0.8472 - val_loss: 0.4587 - val_acc: 0.7891\n",
      "Epoch 33/50\n",
      "191/191 [==============================] - 3s 17ms/step - loss: 0.3154 - acc: 0.8463 - val_loss: 0.4609 - val_acc: 0.7756\n",
      "Epoch 34/50\n",
      "191/191 [==============================] - 3s 17ms/step - loss: 0.3125 - acc: 0.8460 - val_loss: 0.4598 - val_acc: 0.7891\n",
      "Epoch 35/50\n",
      "191/191 [==============================] - 3s 17ms/step - loss: 0.3118 - acc: 0.8437 - val_loss: 0.4642 - val_acc: 0.7862\n",
      "Epoch 36/50\n",
      "191/191 [==============================] - 3s 17ms/step - loss: 0.3070 - acc: 0.8500 - val_loss: 0.4624 - val_acc: 0.7776\n",
      "Epoch 37/50\n",
      "191/191 [==============================] - 3s 17ms/step - loss: 0.3062 - acc: 0.8513 - val_loss: 0.4539 - val_acc: 0.7852\n",
      "Epoch 38/50\n",
      "191/191 [==============================] - 3s 17ms/step - loss: 0.3021 - acc: 0.8480 - val_loss: 0.4719 - val_acc: 0.7872\n",
      "Epoch 39/50\n",
      "191/191 [==============================] - 3s 17ms/step - loss: 0.2986 - acc: 0.8518 - val_loss: 0.4893 - val_acc: 0.7862\n",
      "Epoch 40/50\n",
      "191/191 [==============================] - 3s 17ms/step - loss: 0.2964 - acc: 0.8516 - val_loss: 0.4763 - val_acc: 0.7948\n",
      "Epoch 41/50\n",
      "191/191 [==============================] - 3s 17ms/step - loss: 0.2933 - acc: 0.8555 - val_loss: 0.4785 - val_acc: 0.7814\n",
      "Epoch 42/50\n",
      "191/191 [==============================] - 3s 17ms/step - loss: 0.2897 - acc: 0.8574 - val_loss: 0.4764 - val_acc: 0.7939\n",
      "Epoch 43/50\n",
      "191/191 [==============================] - 3s 17ms/step - loss: 0.2861 - acc: 0.8583 - val_loss: 0.4951 - val_acc: 0.7833\n",
      "Epoch 44/50\n",
      "191/191 [==============================] - 3s 17ms/step - loss: 0.2856 - acc: 0.8557 - val_loss: 0.4988 - val_acc: 0.7948\n",
      "Epoch 45/50\n",
      "191/191 [==============================] - 3s 17ms/step - loss: 0.2817 - acc: 0.8587 - val_loss: 0.5317 - val_acc: 0.7833\n",
      "Epoch 46/50\n",
      "191/191 [==============================] - 3s 17ms/step - loss: 0.2776 - acc: 0.8616 - val_loss: 0.4972 - val_acc: 0.7852\n",
      "Epoch 47/50\n",
      "191/191 [==============================] - 3s 17ms/step - loss: 0.2761 - acc: 0.8644 - val_loss: 0.5151 - val_acc: 0.7910\n",
      "Epoch 48/50\n",
      "191/191 [==============================] - 3s 17ms/step - loss: 0.2705 - acc: 0.8624 - val_loss: 0.4966 - val_acc: 0.7881\n",
      "Epoch 49/50\n",
      "191/191 [==============================] - 3s 17ms/step - loss: 0.2720 - acc: 0.8605 - val_loss: 0.5248 - val_acc: 0.7843\n",
      "Epoch 50/50\n",
      "191/191 [==============================] - 3s 17ms/step - loss: 0.2705 - acc: 0.8682 - val_loss: 0.5278 - val_acc: 0.7939\n"
     ]
    },
    {
     "data": {
      "text/plain": [
       "<keras.callbacks.History at 0x2ec880a90>"
      ]
     },
     "execution_count": 112,
     "metadata": {},
     "output_type": "execute_result"
    }
   ],
   "source": [
    "model.fit(scaled_X_train, y_train, epochs = 50, validation_data = (scaled_X_val, y_val), verbose = 1)"
   ]
  },
  {
   "cell_type": "code",
   "execution_count": 113,
   "metadata": {},
   "outputs": [
    {
     "name": "stderr",
     "output_type": "stream",
     "text": [
      "2022-05-11 09:25:10.396494: I tensorflow/core/grappler/optimizers/custom_graph_optimizer_registry.cc:113] Plugin optimizer for device_type GPU is enabled.\n"
     ]
    }
   ],
   "source": [
    "from sklearn.metrics import classification_report, ConfusionMatrixDisplay, confusion_matrix\n",
    "y_pred = model.predict(scaled_X_test)\n",
    "y_pred = (y_pred.ravel() > 0.5) * 1"
   ]
  },
  {
   "cell_type": "code",
   "execution_count": 114,
   "metadata": {},
   "outputs": [
    {
     "name": "stdout",
     "output_type": "stream",
     "text": [
      "              precision    recall  f1-score   support\n",
      "\n",
      "           0       0.80      0.74      0.77       764\n",
      "           1       0.77      0.83      0.80       801\n",
      "\n",
      "    accuracy                           0.79      1565\n",
      "   macro avg       0.79      0.78      0.78      1565\n",
      "weighted avg       0.79      0.79      0.78      1565\n",
      "\n"
     ]
    },
    {
     "data": {
      "text/plain": [
       "<sklearn.metrics._plot.confusion_matrix.ConfusionMatrixDisplay at 0x2801ca100>"
      ]
     },
     "execution_count": 114,
     "metadata": {},
     "output_type": "execute_result"
    },
    {
     "data": {
      "image/png": "[encoded data removed]",
      "text/plain": [
       "<Figure size 432x288 with 2 Axes>"
      ]
     },
     "metadata": {
      "needs_background": "light"
     },
     "output_type": "display_data"
    }
   ],
   "source": [
    "y_pred = ((y_pred > 0.5) * 1).astype(np.int8)\n",
    "print(classification_report(y_test, y_pred))\n",
    "ConfusionMatrixDisplay(confusion_matrix(y_test, y_pred)).plot()"
   ]
  }
 ],
 "metadata": {
  "interpreter": {
   "hash": "47d3b7ff548c1bae2d6b155a9b3d6f1122689b634566f833764ba5dd9fcfa2e0"
  },
  "kernelspec": {
   "display_name": "Python 3.9.12 ('Deep-learning-Daniel-Petersson-bXusHwTH')",
   "language": "python",
   "name": "python3"
  },
  "language_info": {
   "codemirror_mode": {
    "name": "ipython",
    "version": 3
   },
   "file_extension": ".py",
   "mimetype": "text/x-python",
   "name": "python",
   "nbconvert_exporter": "python",
   "pygments_lexer": "ipython3",
   "version": "3.9.12"
  },
  "orig_nbformat": 4
 },
 "nbformat": 4,
 "nbformat_minor": 2
}
