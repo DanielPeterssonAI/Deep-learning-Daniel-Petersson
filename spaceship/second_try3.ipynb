{
 "cells": [
  {
   "cell_type": "code",
   "execution_count": 9,
   "metadata": {},
   "outputs": [],
   "source": [
    "import pandas as pd\n",
    "from sklearn.metrics import ConfusionMatrixDisplay, confusion_matrix, classification_report\n",
    "from sklearn.model_selection import train_test_split\n",
    "import numpy as np\n",
    "\n",
    "df = pd.read_csv(\"train.csv\")\n",
    "\n",
    "def dfcleaner(dataframe):\n",
    "    dataframe[\"Cabin\"] = dataframe[\"Cabin\"].fillna(\"0/999999/0\")\n",
    "    dataframe = dataframe.fillna(0)\n",
    "    \n",
    "    dataframe[\"Cabinnumber\"] = dataframe[\"Cabin\"].str.extract(\"\\/(\\w*)\\/\").astype(\"int32\")\n",
    "    dataframe[\"Cabindeck\"] = dataframe[\"Cabin\"].str.extract(\"^(\\w*)\\/\")\n",
    "    dataframe[\"Cabinside\"] = dataframe[\"Cabin\"].str.extract(\"\\/(\\w*)$\")\n",
    "\n",
    "    dataframe[\"Totalbill\"] = dataframe[\"RoomService\"] + dataframe[\"FoodCourt\"] + dataframe[\"ShoppingMall\"] + dataframe[\"Spa\"] + dataframe[\"VRDeck\"]\n",
    "\n",
    "    dataframe[\"Group\"] = dataframe[\"PassengerId\"].str.extract(\"^(\\d{4})\")\n",
    "    filter = dataframe[\"Group\"].value_counts().to_frame().reset_index()\n",
    "    filter.columns = [\"Group\", \"Freq\"]\n",
    "    filter = filter[filter[\"Freq\"] < 5]\n",
    "    dataframe.loc[dataframe[\"Group\"].isin(filter[\"Group\"]), \"Group\"] = 0\n",
    "\n",
    "    dataframe = pd.get_dummies(dataframe, columns = [\"HomePlanet\", \"CryoSleep\", \"Destination\", \"VIP\", \"Cabindeck\", \"Cabinside\", \"Group\"], drop_first = True)\n",
    "    #dataframe = pd.get_dummies(dataframe, columns = [\"HomePlanet\", \"CryoSleep\", \"Destination\", \"VIP\", \"Cabindeck\", \"Cabinside\"], drop_first = True)\n",
    "    \n",
    "    \n",
    "    dataframe.loc[dataframe[\"Cabinnumber\"] == 999999, \"Cabinnumber\"] = 0\n",
    "\n",
    "    return dataframe"
   ]
  },
  {
   "cell_type": "code",
   "execution_count": 10,
   "metadata": {},
   "outputs": [],
   "source": [
    "df = dfcleaner(df)"
   ]
  },
  {
   "cell_type": "code",
   "execution_count": 11,
   "metadata": {},
   "outputs": [],
   "source": [
    "df = df.select_dtypes(exclude = [\"object\"])"
   ]
  },
  {
   "cell_type": "code",
   "execution_count": 12,
   "metadata": {},
   "outputs": [],
   "source": [
    "X, y = df.drop([\"Transported\"], axis = 1).values, df[\"Transported\"].values\n",
    "y = (y * 1).astype(np.int8)"
   ]
  },
  {
   "cell_type": "code",
   "execution_count": 13,
   "metadata": {},
   "outputs": [
    {
     "data": {
      "text/plain": [
       "((6085, 154), (1043, 154), (1565, 154))"
      ]
     },
     "execution_count": 13,
     "metadata": {},
     "output_type": "execute_result"
    }
   ],
   "source": [
    "from sklearn.preprocessing import StandardScaler, MinMaxScaler\n",
    "from sklearn.model_selection import train_test_split\n",
    "\n",
    "X_train, X_test, y_train, y_test = train_test_split(X, y, test_size = 0.30, random_state = 42)\n",
    "\n",
    "X_val, X_test, y_val, y_test = train_test_split(X_test, y_test, test_size = 0.60, random_state = 42)\n",
    "\n",
    "X_train.shape, X_val.shape, X_test.shape"
   ]
  },
  {
   "cell_type": "code",
   "execution_count": 14,
   "metadata": {},
   "outputs": [],
   "source": [
    "scaler = StandardScaler()\n",
    "#scaler = MinMaxScaler()\n",
    "\n",
    "scaled_X_train = scaler.fit_transform(X_train)\n",
    "scaled_X_val = scaler.transform(X_val)\n",
    "scaled_X_test = scaler.transform(X_test)"
   ]
  },
  {
   "cell_type": "code",
   "execution_count": 15,
   "metadata": {},
   "outputs": [
    {
     "data": {
      "text/plain": [
       "(6085, 154)"
      ]
     },
     "execution_count": 15,
     "metadata": {},
     "output_type": "execute_result"
    }
   ],
   "source": [
    "#scaled_X_train = scaled_X_train.reshape(scaled_X_train.shape[0], scaled_X_train.shape[1], 1)\n",
    "#scaled_X_val = scaled_X_val.reshape(scaled_X_val.shape[0], scaled_X_val.shape[1], 1)\n",
    "#scaled_X_test = scaled_X_test.reshape(scaled_X_test.shape[0], scaled_X_test.shape[1], 1)\n",
    "\n",
    "scaled_X_train.shape"
   ]
  },
  {
   "cell_type": "code",
   "execution_count": 24,
   "metadata": {},
   "outputs": [
    {
     "data": {
      "text/plain": [
       "array([0, 1, 0, ..., 0, 0, 1], dtype=int8)"
      ]
     },
     "execution_count": 24,
     "metadata": {},
     "output_type": "execute_result"
    }
   ],
   "source": [
    "y_pred = model.predict(scaled_X_test)\n",
    "y_pred"
   ]
  },
  {
   "cell_type": "code",
   "execution_count": 25,
   "metadata": {},
   "outputs": [
    {
     "name": "stdout",
     "output_type": "stream",
     "text": [
      "              precision    recall  f1-score   support\n",
      "\n",
      "           0       0.76      0.72      0.74       764\n",
      "           1       0.75      0.78      0.76       801\n",
      "\n",
      "    accuracy                           0.75      1565\n",
      "   macro avg       0.75      0.75      0.75      1565\n",
      "weighted avg       0.75      0.75      0.75      1565\n",
      "\n"
     ]
    },
    {
     "data": {
      "text/plain": [
       "<sklearn.metrics._plot.confusion_matrix.ConfusionMatrixDisplay at 0x10368e640>"
      ]
     },
     "execution_count": 25,
     "metadata": {},
     "output_type": "execute_result"
    },
    {
     "data": {
      "image/png": "[encoded data removed]",
      "text/plain": [
       "<Figure size 432x288 with 2 Axes>"
      ]
     },
     "metadata": {
      "needs_background": "light"
     },
     "output_type": "display_data"
    }
   ],
   "source": [
    "from sklearn.metrics import classification_report, ConfusionMatrixDisplay, confusion_matrix\n",
    "print(classification_report(y_test, y_pred))\n",
    "ConfusionMatrixDisplay(confusion_matrix(y_test, y_pred)).plot()"
   ]
  },
  {
   "cell_type": "code",
   "execution_count": 114,
   "metadata": {},
   "outputs": [
    {
     "name": "stdout",
     "output_type": "stream",
     "text": [
      "              precision    recall  f1-score   support\n",
      "\n",
      "           0       0.80      0.74      0.77       764\n",
      "           1       0.77      0.83      0.80       801\n",
      "\n",
      "    accuracy                           0.79      1565\n",
      "   macro avg       0.79      0.78      0.78      1565\n",
      "weighted avg       0.79      0.79      0.78      1565\n",
      "\n"
     ]
    },
    {
     "data": {
      "text/plain": [
       "<sklearn.metrics._plot.confusion_matrix.ConfusionMatrixDisplay at 0x2801ca100>"
      ]
     },
     "execution_count": 114,
     "metadata": {},
     "output_type": "execute_result"
    },
    {
     "data": {
      "image/png": "[encoded data removed]",
      "text/plain": [
       "<Figure size 432x288 with 2 Axes>"
      ]
     },
     "metadata": {
      "needs_background": "light"
     },
     "output_type": "display_data"
    }
   ],
   "source": [
    "y_pred = ((y_pred > 0.5) * 1).astype(np.int8)"
   ]
  }
 ],
 "metadata": {
  "interpreter": {
   "hash": "47d3b7ff548c1bae2d6b155a9b3d6f1122689b634566f833764ba5dd9fcfa2e0"
  },
  "kernelspec": {
   "display_name": "Python 3.9.12 ('Deep-learning-Daniel-Petersson-bXusHwTH')",
   "language": "python",
   "name": "python3"
  },
  "language_info": {
   "codemirror_mode": {
    "name": "ipython",
    "version": 3
   },
   "file_extension": ".py",
   "mimetype": "text/x-python",
   "name": "python",
   "nbconvert_exporter": "python",
   "pygments_lexer": "ipython3",
   "version": "3.9.12"
  },
  "orig_nbformat": 4
 },
 "nbformat": 4,
 "nbformat_minor": 2
}
