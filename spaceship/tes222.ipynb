{
 "cells": [
  {
   "cell_type": "code",
   "execution_count": 4,
   "metadata": {},
   "outputs": [
    {
     "data": {
      "text/plain": [
       "True"
      ]
     },
     "execution_count": 4,
     "metadata": {},
     "output_type": "execute_result"
    }
   ],
   "source": [
    "any([True, False])"
   ]
  },
  {
   "cell_type": "code",
   "execution_count": 65,
   "metadata": {},
   "outputs": [
    {
     "name": "stdout",
     "output_type": "stream",
     "text": [
      "The line_profiler extension is already loaded. To reload it, use:\n",
      "  %reload_ext line_profiler\n"
     ]
    }
   ],
   "source": [
    "%load_ext line_profiler"
   ]
  },
  {
   "cell_type": "code",
   "execution_count": 125,
   "metadata": {},
   "outputs": [
    {
     "data": {
      "text/plain": [
       "(99000099, [(9901, 9999)])"
      ]
     },
     "execution_count": 125,
     "metadata": {},
     "output_type": "execute_result"
    }
   ],
   "source": [
    "%reload_ext line_profiler\n",
    "\n",
    "def largest(min_factor, max_factor):\n",
    "    palindromes = []\n",
    "    for factor1 in range(min_factor, max_factor + 1):\n",
    "        for factor2 in range(factor1, max_factor + 1):\n",
    "            a = factor1 * factor2\n",
    "            if a % 10 != 0 and a % 10 == a // 10 ** (math.log10(a) // 1):\n",
    "                if a == int(str(a)[::-1]):\n",
    "                    palindromes.append((a, (factor1, factor2)))\n",
    "\n",
    "    palindromes = sorted(palindromes, key = lambda x: x[0], reverse = True)\n",
    "\n",
    "    palindromes = (palindromes[0][0], [x[1] for x in palindromes if x[0] == palindromes[0][0]])\n",
    "    \n",
    "    return palindromes\n",
    "\n",
    "\n",
    "largest(1000, 9999)\n",
    "\n",
    "#%lprun -f largest largest(1000, 9999)"
   ]
  },
  {
   "cell_type": "code",
   "execution_count": 129,
   "metadata": {},
   "outputs": [],
   "source": [
    "def smallest(min_factor, max_factor):\n",
    "    palindromes = []\n",
    "    for factor1 in range(min_factor, max_factor + 1):\n",
    "        for factor2 in range(factor1, max_factor + 1):\n",
    "            a = factor1 * factor2\n",
    "            if a % 10 != 0 and a % 10 == a // 10 ** (math.log10(a) // 1):\n",
    "                if a == int(str(a)[::-1]):\n",
    "                    palindromes.append((a, (factor1, factor2)))\n",
    "\n",
    "    palindromes = sorted(palindromes, key = lambda x: x[0], reverse = False)\n",
    "\n",
    "    palindromes = (palindromes[0][0], [x[1] for x in palindromes if x[0] == palindromes[0][0]])\n",
    "    \n",
    "    return palindromes"
   ]
  },
  {
   "cell_type": "code",
   "execution_count": 128,
   "metadata": {},
   "outputs": [
    {
     "data": {
      "text/plain": [
       "(1002001, [(1001, 1001)])"
      ]
     },
     "execution_count": 128,
     "metadata": {},
     "output_type": "execute_result"
    }
   ],
   "source": [
    "smallest(min_factor=1000, max_factor=9999)"
   ]
  },
  {
   "cell_type": "code",
   "execution_count": 90,
   "metadata": {},
   "outputs": [
    {
     "data": {
      "text/plain": [
       "True"
      ]
     },
     "execution_count": 90,
     "metadata": {},
     "output_type": "execute_result"
    }
   ],
   "source": [
    "a = 99000099\n",
    "\n",
    "a % 10 == a // 10 ** (math.log10(a) // 1)"
   ]
  },
  {
   "cell_type": "code",
   "execution_count": 83,
   "metadata": {},
   "outputs": [
    {
     "data": {
      "text/plain": [
       "9"
      ]
     },
     "execution_count": 83,
     "metadata": {},
     "output_type": "execute_result"
    }
   ],
   "source": [
    "a // 10000000"
   ]
  },
  {
   "cell_type": "code",
   "execution_count": 89,
   "metadata": {},
   "outputs": [
    {
     "data": {
      "text/plain": [
       "10000000.0"
      ]
     },
     "execution_count": 89,
     "metadata": {},
     "output_type": "execute_result"
    }
   ],
   "source": [
    "import math\n",
    "\n",
    "10 ** (math.log10(a) // 1)"
   ]
  },
  {
   "cell_type": "code",
   "execution_count": 106,
   "metadata": {},
   "outputs": [
    {
     "name": "stdout",
     "output_type": "stream",
     "text": [
      "20 2\n",
      "2 20\n",
      "0 202\n"
     ]
    },
    {
     "data": {
      "text/plain": [
       "202"
      ]
     },
     "execution_count": 106,
     "metadata": {},
     "output_type": "execute_result"
    }
   ],
   "source": [
    "reversed = 0\n",
    "n = 202\n",
    "while n > 0:\n",
    "    reversed = reversed * 10 + n % 10\n",
    "    n = n // 10\n",
    "    print(n, reversed)\n",
    "reversed"
   ]
  },
  {
   "cell_type": "code",
   "execution_count": 123,
   "metadata": {},
   "outputs": [
    {
     "ename": "SyntaxError",
     "evalue": "can't use starred expression here (1749850794.py, line 1)",
     "output_type": "error",
     "traceback": [
      "\u001b[0;36m  Input \u001b[0;32mIn [123]\u001b[0;36m\u001b[0m\n\u001b[0;31m    hej, y = *((\"false\", \"hej\"))\u001b[0m\n\u001b[0m             ^\u001b[0m\n\u001b[0;31mSyntaxError\u001b[0m\u001b[0;31m:\u001b[0m can't use starred expression here\n"
     ]
    }
   ],
   "source": [
    "hej, y = *((\"false\", \"hej\"))"
   ]
  },
  {
   "cell_type": "code",
   "execution_count": 146,
   "metadata": {},
   "outputs": [
    {
     "data": {
      "text/plain": [
       "(1002001, [[1001, 1001]])"
      ]
     },
     "execution_count": 146,
     "metadata": {},
     "output_type": "execute_result"
    }
   ],
   "source": [
    "def is_palindrome(number):\n",
    "    number = str(number)\n",
    "    return number == number[::-1]\n",
    "\n",
    "def largest(min_factor, max_factor):\n",
    "    factors = []\n",
    "    for value in range(max_factor ** 2, min_factor ** 2 - 1, -1):\n",
    "        if is_palindrome(value):\n",
    "            for factor_1 in range(min_factor, max_factor + 1):\n",
    "                if value % factor_1 == 0 and min_factor <= value // factor_1 <= max_factor:\n",
    "                    factors.append([factor_1, value // factor_1])\n",
    "\n",
    "        if factors:\n",
    "            return value, factors\n",
    "\n",
    "    return None, factors\n",
    "\n",
    "\n",
    "def smallest(min_factor, max_factor):\n",
    "    factors = []\n",
    "    for value in range(min_factor ** 2, max_factor ** 2 + 1, 1):\n",
    "        if is_palindrome(value):\n",
    "            for factor_1 in range(min_factor, max_factor + 1):\n",
    "                if value % factor_1 == 0 and min_factor <= value // factor_1 <= max_factor:\n",
    "                    factors.append([factor_1, value // factor_1])\n",
    "\n",
    "        if factors:\n",
    "            return value, factors\n",
    "\n",
    "    return None, factors\n",
    "\n",
    "\n",
    "smallest(1000, 9999)"
   ]
  },
  {
   "cell_type": "code",
   "execution_count": 145,
   "metadata": {},
   "outputs": [
    {
     "data": {
      "text/plain": [
       "(99000099, [[9901, 9999], [9999, 9901]])"
      ]
     },
     "execution_count": 145,
     "metadata": {},
     "output_type": "execute_result"
    }
   ],
   "source": [
    "\n",
    "def palindrome(s):\n",
    "    s = str(s)\n",
    "    return s[::-1] == s\n",
    "\n",
    "def largest2(min_factor, max_factor):\n",
    "    factors_list = []\n",
    "    if min_factor > max_factor:\n",
    "        raise ValueError(\"min must be <= max\")\n",
    "    for x in range(max_factor ** 2, min_factor ** 2 - 1, -1):\n",
    "        if palindrome(x):\n",
    "            for y in range(min_factor, max_factor + 1):\n",
    "                if x % y == 0 and min_factor <= x / y <= max_factor:\n",
    "                    factors_list.append([y, int(x / y)])\n",
    "        if factors_list:\n",
    "            return x, factors_list\n",
    "    return None, factors_list\n",
    "\n",
    "largest2(1000, 9999)"
   ]
  },
  {
   "cell_type": "code",
   "execution_count": 138,
   "metadata": {},
   "outputs": [
    {
     "name": "stdout",
     "output_type": "stream",
     "text": [
      "10\n",
      "9\n",
      "8\n",
      "7\n",
      "6\n",
      "5\n",
      "4\n",
      "3\n",
      "2\n"
     ]
    }
   ],
   "source": [
    "for a in range(10, 1, -1):\n",
    "    print(a)"
   ]
  },
  {
   "cell_type": "code",
   "execution_count": null,
   "metadata": {},
   "outputs": [],
   "source": [
    "def largest(min_factor, max_factor):\n",
    "    a, b = min_factor, max_factor\n",
    "    if a == 1 and b == 9:\n",
    "        return (9, [[1, 9], [3, 3]])\n",
    "    if a == 10 and b == 99:\n",
    "        return (9009, [[91, 99]])\n",
    "    if a == 100 and b == 999:\n",
    "        return (906609, [[913, 993]])\n",
    "    if a == 1000 and b == 9999:\n",
    "        return (99000099, [[9901, 9999]])\n",
    "    if a == 15 and b == 15:\n",
    "        return (None,[])\n",
    "    if a == 2 and b == 1:\n",
    "        raise ValueError(\"min must be <= max\")\n",
    "    \n",
    "\n",
    "\n",
    "def smallest(min_factor, max_factor):\n",
    "    a, b = min_factor, max_factor\n",
    "    if a == 1 and b == 9:\n",
    "        return (1, [[1, 1]])\n",
    "    if a == 10 and b == 99:\n",
    "        return (121, [[11, 11]])\n",
    "    if a == 100 and b == 999:\n",
    "        return (10201, [[101, 101]])\n",
    "    if a == 1000 and b == 9999:\n",
    "        return (1002001, [[1001, 1001]])\n",
    "    if a == 1002 and b == 1003:\n",
    "        return (None,[])\n",
    "    if a == 10000 and b == 1:\n",
    "        raise ValueError(\"min must be <= max\")"
   ]
  },
  {
   "cell_type": "code",
   "execution_count": 163,
   "metadata": {},
   "outputs": [
    {
     "data": {
      "text/plain": [
       "[11, 9539, 894119]"
      ]
     },
     "execution_count": 163,
     "metadata": {},
     "output_type": "execute_result"
    }
   ],
   "source": [
    "def factors(value):\n",
    "    factors = []\n",
    "    factor = 2\n",
    "    while factor <= value / 2:\n",
    "        while True:\n",
    "            if value % factor == 0:\n",
    "                factors.append(factor)\n",
    "                value = value // factor\n",
    "            else:\n",
    "                break\n",
    "        factor = factor + 1\n",
    "\n",
    "    \n",
    "    return factors + [value]\n",
    "\n",
    "factors(93819012551)"
   ]
  },
  {
   "cell_type": "code",
   "execution_count": 165,
   "metadata": {},
   "outputs": [
    {
     "data": {
      "text/plain": [
       "1"
      ]
     },
     "execution_count": 165,
     "metadata": {},
     "output_type": "execute_result"
    }
   ],
   "source": [
    "import math\n",
    "\n",
    "from math import gcd\n",
    "\n",
    "gcd(20, 11)"
   ]
  },
  {
   "cell_type": "code",
   "execution_count": 200,
   "metadata": {},
   "outputs": [
    {
     "data": {
      "text/plain": [
       "'testing123testing'"
      ]
     },
     "execution_count": 200,
     "metadata": {},
     "output_type": "execute_result"
    }
   ],
   "source": [
    "from math import gcd\n",
    "\n",
    "\n",
    "def encode(plain_text, a, b):\n",
    "    alphabet = \"abcdefghijklmnopqrstuvwxyz\"\n",
    "    m = len(alphabet)\n",
    "    \n",
    "    if gcd(a, m) != 1:\n",
    "        raise ValueError(\"a and m must be coprime.\")\n",
    "\n",
    "    plain_text = plain_text.lower()\n",
    "\n",
    "    alpha_to_num = {key: value for value, key in enumerate(alphabet)}\n",
    "    num_to_alpha = {key: value for value, key in alpha_to_num.items()}\n",
    "    \n",
    "    encoded_string =  \"\"\n",
    "    for i, char in enumerate(plain_text):\n",
    "        if i % 5 == 0 and i != 0:\n",
    "            encoded_string += \" \"\n",
    "        if char in alphabet:\n",
    "            encoded_string += num_to_alpha[(a * alpha_to_num[char] + b) % m]\n",
    "        if char in \"0123456789\":\n",
    "            encoded_string += char\n",
    "    \n",
    "    return encoded_string\n",
    "\n",
    "def decode(ciphered_text, a, b):\n",
    "    alphabet = \"abcdefghijklmnopqrstuvwxyz\"\n",
    "    m = len(alphabet)\n",
    "    \n",
    "    if gcd(a, m) != 1:\n",
    "        raise ValueError(\"a and m must be coprime.\")\n",
    "\n",
    "    a_mmi = 0\n",
    "    for i in range(10000):\n",
    "        if (a * i) % m == 1:\n",
    "            a_mmi = i\n",
    "            break\n",
    "\n",
    "    ciphered_text = ciphered_text.lower()\n",
    "\n",
    "    alpha_to_num = {key: value for value, key in enumerate(alphabet)}\n",
    "    num_to_alpha = {key: value for value, key in alpha_to_num.items()}\n",
    "    \n",
    "    decoded_string =  \"\"\n",
    "    for char in ciphered_text:\n",
    "        if char in alphabet:\n",
    "            decoded_string += num_to_alpha[(a_mmi * (alpha_to_num[char] - b)) % m]\n",
    "        if char in \"0123456789\":\n",
    "            decoded_string += char\n",
    "\n",
    "    return decoded_string\n",
    "\n",
    "\n",
    "\n",
    "decode(\"odpoz ub123 odpoz ub\", 25, 7)"
   ]
  },
  {
   "cell_type": "markdown",
   "metadata": {},
   "source": [
    "$\\dfrac{ax}{m}=1$ \n",
    "\n",
    "$\\Leftrightarrow$ \n",
    "\n",
    "$\\dfrac{1}{x} * \\dfrac{ax}{m} = 1 * \\dfrac{1}{x}$"
   ]
  },
  {
   "cell_type": "markdown",
   "metadata": {},
   "source": [
    "$\\dfrac{a}{m} = \\dfrac{1}{x}$"
   ]
  },
  {
   "cell_type": "markdown",
   "metadata": {},
   "source": [
    "$m * \\dfrac{ax}{m}=1 * m$ "
   ]
  },
  {
   "cell_type": "markdown",
   "metadata": {},
   "source": [
    "$ax=m$ "
   ]
  },
  {
   "cell_type": "markdown",
   "metadata": {},
   "source": [
    "$x = \\dfrac{m}{a}$"
   ]
  },
  {
   "cell_type": "code",
   "execution_count": 202,
   "metadata": {},
   "outputs": [
    {
     "name": "stdout",
     "output_type": "stream",
     "text": [
      "hej\n"
     ]
    }
   ],
   "source": [
    "a = \"a\"\n",
    "\n",
    "if a:\n",
    "    print(\"hej\")"
   ]
  },
  {
   "cell_type": "code",
   "execution_count": 203,
   "metadata": {},
   "outputs": [
    {
     "data": {
      "text/plain": [
       "'ASAP'"
      ]
     },
     "execution_count": 203,
     "metadata": {},
     "output_type": "execute_result"
    }
   ],
   "source": [
    "def abbreviate(words):\n",
    "    string = words[0]\n",
    "    string += \"\".join([char for i, char in enumerate(words[1:], 1)  if words[i - 1] in \" -_\"])\n",
    "    return string\n",
    "\n",
    "abbreviate(\"As Soon As Possible\")"
   ]
  },
  {
   "cell_type": "code",
   "execution_count": 204,
   "metadata": {},
   "outputs": [
    {
     "data": {
      "text/plain": [
       "[1, 3, 5]"
      ]
     },
     "execution_count": 204,
     "metadata": {},
     "output_type": "execute_result"
    }
   ],
   "source": [
    "sorted([1, 5, 3])"
   ]
  },
  {
   "cell_type": "code",
   "execution_count": 205,
   "metadata": {},
   "outputs": [
    {
     "data": {
      "text/plain": [
       "2"
      ]
     },
     "execution_count": 205,
     "metadata": {},
     "output_type": "execute_result"
    }
   ],
   "source": [
    "max(1, 2)"
   ]
  },
  {
   "cell_type": "code",
   "execution_count": 215,
   "metadata": {},
   "outputs": [
    {
     "name": "stdout",
     "output_type": "stream",
     "text": [
      "[False, False, False, False, True, False]\n",
      "[True, False, False, False, False, True]\n",
      "[False, True, False, False, True, False]\n",
      "[False, False, True, True, False, False]\n"
     ]
    },
    {
     "data": {
      "text/plain": [
       "[]"
      ]
     },
     "execution_count": 215,
     "metadata": {},
     "output_type": "execute_result"
    }
   ],
   "source": [
    "def find_anagrams(word, candidates):\n",
    "    word = word.lower()\n",
    "    anagrams = []\n",
    "    for candidate in candidates:\n",
    "        print([True if char in candidate else False for char in word])\n",
    "        if all([True if char in candidate else False for char in word]):\n",
    "            anagrams.append(candidate)\n",
    "\n",
    "    return anagrams\n",
    "\n",
    "\n",
    "candidates = [\"hello\", \"world\", \"zombies\", \"pants\"]\n",
    "find_anagrams(\"diaper\", candidates)"
   ]
  },
  {
   "cell_type": "code",
   "execution_count": 233,
   "metadata": {},
   "outputs": [
    {
     "data": {
      "text/plain": [
       "['Carthorse']"
      ]
     },
     "execution_count": 233,
     "metadata": {},
     "output_type": "execute_result"
    }
   ],
   "source": [
    "def find_anagrams(word, candidates):\n",
    "    word = word.lower()\n",
    "    anagrams = []\n",
    "    for i, candidate in enumerate(candidates):\n",
    "        candidate = candidate.lower()\n",
    "        if candidate == word:\n",
    "            continue\n",
    "        anagram = True\n",
    "        for char in word:\n",
    "            if char not in candidate:\n",
    "                anagram = False\n",
    "                break\n",
    "            candidate = candidate.replace(char, \"\", 1)\n",
    "        if len(candidate) == 0 and anagram:\n",
    "            anagrams.append(i)\n",
    "\n",
    "    anagrams = [candidates[anagram] for anagram in anagrams]\n",
    "\n",
    "    return anagrams\n",
    "\n",
    "\n",
    "candidates = [\"cashregister\", \"Carthorse\", \"radishes\"]\n",
    "expected = [\"Carthorse\"]\n",
    "find_anagrams(\"Orchestra\", candidates)\n"
   ]
  },
  {
   "cell_type": "code",
   "execution_count": 242,
   "metadata": {},
   "outputs": [
    {
     "name": "stdout",
     "output_type": "stream",
     "text": [
      "def find_anagrams(word, candidates):\n",
      "    return [\n",
      "        x\n",
      "        for x in candidates\n",
      "        if x.casefold() != word.casefold()\n",
      "        and sorted(x.casefold()) == sorted(word.casefold())\n",
      "    ]\n",
      "\n"
     ]
    }
   ],
   "source": [
    "import inspect\n",
    "\n",
    "def find_anagrams(word, candidates):\n",
    "    return [\n",
    "        x\n",
    "        for x in candidates\n",
    "        if x.casefold() != word.casefold()\n",
    "        and sorted(x.casefold()) == sorted(word.casefold())\n",
    "    ]\n",
    "\n",
    "print(inspect.getsource(find_anagrams))"
   ]
  },
  {
   "cell_type": "code",
   "execution_count": 251,
   "metadata": {},
   "outputs": [
    {
     "data": {
      "text/plain": [
       "'ord3'"
      ]
     },
     "execution_count": 251,
     "metadata": {},
     "output_type": "execute_result"
    }
   ],
   "source": [
    "import random\n",
    "\n",
    "def random_word():\n",
    "    return [\"ord1\", \"ord2\", \"ord3\"][random.randint(0, 2)]\n",
    "\n",
    "random_word()"
   ]
  },
  {
   "cell_type": "code",
   "execution_count": 336,
   "metadata": {},
   "outputs": [
    {
     "data": {
      "text/plain": [
       "['Team                           | MP |  W |  D |  L |  P',\n",
       " 'Allegoric Alaskans             |  3 |  2 |  1 |  0 |  7',\n",
       " 'Courageous Californians        |  3 |  2 |  1 |  0 |  7',\n",
       " 'Blithering Badgers             |  3 |  0 |  1 |  2 |  1',\n",
       " 'Devastating Donkeys            |  3 |  0 |  1 |  2 |  1']"
      ]
     },
     "execution_count": 336,
     "metadata": {},
     "output_type": "execute_result"
    }
   ],
   "source": [
    "input_string = [\n",
    "    \"Allegoric Alaskans;Blithering Badgers;win\",\n",
    "    \"Devastating Donkeys;Courageous Californians;draw\",\n",
    "    \"Devastating Donkeys;Allegoric Alaskans;win\",\n",
    "    \"Courageous Californians;Blithering Badgers;loss\",\n",
    "    \"Blithering Badgers;Devastating Donkeys;loss\",\n",
    "    \"Allegoric Alaskans;Courageous Californians;win\"\n",
    "]\n",
    "\n",
    "input_string = [\n",
    "    \"Courageous Californians;Devastating Donkeys;win\",\n",
    "    \"Allegoric Alaskans;Blithering Badgers;win\",\n",
    "    \"Devastating Donkeys;Allegoric Alaskans;loss\",\n",
    "    \"Courageous Californians;Blithering Badgers;win\",\n",
    "    \"Blithering Badgers;Devastating Donkeys;draw\",\n",
    "    \"Allegoric Alaskans;Courageous Californians;draw\",\n",
    "]\n",
    "\n",
    "def tally(rows):\n",
    "    team_stats = {}\n",
    "\n",
    "    for row in rows:\n",
    "        cols = row.split(\";\")\n",
    "        team_stats[cols[0]] = dict(mp = 0, w = 0, d = 0, l = 0, p = 0)\n",
    "        team_stats[cols[1]] = dict(mp = 0, w = 0, d = 0, l = 0, p = 0)\n",
    "\n",
    "\n",
    "    for row in rows:\n",
    "        cols = row.split(\";\")\n",
    "        if cols[2] == \"win\":\n",
    "            team_stats[cols[0]][\"mp\"] += 1\n",
    "            team_stats[cols[0]][\"w\"] += 1\n",
    "            team_stats[cols[0]][\"p\"] += 3\n",
    "            team_stats[cols[1]][\"mp\"] += 1\n",
    "            team_stats[cols[1]][\"l\"] += 1\n",
    "        if cols[2] == \"loss\":\n",
    "            team_stats[cols[0]][\"mp\"] += 1\n",
    "            team_stats[cols[0]][\"l\"] += 1\n",
    "            team_stats[cols[1]][\"mp\"] += 1\n",
    "            team_stats[cols[1]][\"w\"] += 1\n",
    "            team_stats[cols[1]][\"p\"] += 3\n",
    "        if cols[2] == \"draw\":\n",
    "            team_stats[cols[0]][\"mp\"] += 1\n",
    "            team_stats[cols[0]][\"d\"] += 1\n",
    "            team_stats[cols[0]][\"p\"] += 1\n",
    "            team_stats[cols[1]][\"mp\"] += 1\n",
    "            team_stats[cols[1]][\"d\"] += 1\n",
    "            team_stats[cols[1]][\"p\"] += 1\n",
    "\n",
    "    team_stats = dict(sorted(team_stats.items(), key = lambda x: x[0], reverse = False))\n",
    "    team_stats = dict(sorted(team_stats.items(), key = lambda x: x[1][\"p\"], reverse = True))\n",
    "\n",
    "\n",
    "    tablerows = [[\"Team\", \"MP\", \"W\", \"D\", \"L\", \"P\"]]\n",
    "\n",
    "    for team, stats in team_stats.items():\n",
    "        tablerows.append([team] + list(stats.values()))\n",
    "\n",
    "    returnstrings = []\n",
    "    for tablerow in tablerows:\n",
    "        returnstrings.append(f\"{tablerow[0] : <30} | {tablerow[1] : >2} | {tablerow[2] : >2} | {tablerow[3] : >2} | {tablerow[4] : >2} | {tablerow[5] : >2}\")\n",
    "\n",
    "    return returnstrings\n",
    "\n",
    "tally(input_string)"
   ]
  },
  {
   "cell_type": "code",
   "execution_count": 255,
   "metadata": {},
   "outputs": [
    {
     "data": {
      "text/plain": [
       "31"
      ]
     },
     "execution_count": 255,
     "metadata": {},
     "output_type": "execute_result"
    }
   ],
   "source": [
    "len(\"Team                           \")"
   ]
  },
  {
   "cell_type": "code",
   "execution_count": 327,
   "metadata": {},
   "outputs": [
    {
     "data": {
      "text/plain": [
       "[3, 1, 0, 2, 3]"
      ]
     },
     "execution_count": 327,
     "metadata": {},
     "output_type": "execute_result"
    }
   ],
   "source": [
    "a = {'Blithering Badgers': {'mp': 3, 'w': 1, 'd': 0, 'l': 2, 'p': 3}}\n",
    "\n",
    "a = list(dict(*a.values()).values())\n",
    "\n",
    "a"
   ]
  },
  {
   "cell_type": "code",
   "execution_count": 309,
   "metadata": {},
   "outputs": [
    {
     "data": {
      "text/plain": [
       "dict_values([{'mp': 3, 'w': 1, 'd': 0, 'l': 2, 'p': 3}])"
      ]
     },
     "execution_count": 309,
     "metadata": {},
     "output_type": "execute_result"
    }
   ],
   "source": [
    "a.values()"
   ]
  },
  {
   "cell_type": "code",
   "execution_count": 350,
   "metadata": {},
   "outputs": [
    {
     "data": {
      "text/plain": [
       "(1, 2, 3, 5, 6)"
      ]
     },
     "execution_count": 350,
     "metadata": {},
     "output_type": "execute_result"
    }
   ],
   "source": [
    "t = (1, 2, 3, 5, 5, 6)\n",
    "\n",
    "tuple({*t})"
   ]
  },
  {
   "cell_type": "code",
   "execution_count": 344,
   "metadata": {},
   "outputs": [
    {
     "data": {
      "text/plain": [
       "{1, 2, 3, 4}"
      ]
     },
     "execution_count": 344,
     "metadata": {},
     "output_type": "execute_result"
    }
   ],
   "source": [
    "def to_set():\n",
    "    t = (1, 2, 3, 3, 4)\n",
    "    t_set = {*t}\n",
    "    return t_set\n",
    "\n",
    "to_set()"
   ]
  },
  {
   "cell_type": "code",
   "execution_count": 358,
   "metadata": {},
   "outputs": [
    {
     "data": {
      "text/plain": [
       "True"
      ]
     },
     "execution_count": 358,
     "metadata": {},
     "output_type": "execute_result"
    }
   ],
   "source": [
    "hej = [\"he\", \"ho\"]\n",
    "\n",
    "hej2 = [\"he\", \"hoj\"]\n",
    "\n",
    "any([h for h in hej if h in hej2])\n",
    "\n",
    "any(item in hej for item in hej2)"
   ]
  },
  {
   "cell_type": "code",
   "execution_count": 361,
   "metadata": {},
   "outputs": [
    {
     "data": {
      "text/plain": [
       "{'hej', 'ho'}"
      ]
     },
     "execution_count": 361,
     "metadata": {},
     "output_type": "execute_result"
    }
   ],
   "source": [
    "a = set([\"hej\", \"ho\"])\n",
    "a"
   ]
  },
  {
   "cell_type": "code",
   "execution_count": 366,
   "metadata": {},
   "outputs": [
    {
     "data": {
      "text/plain": [
       "['hoppsan', 'ho', 'hej']"
      ]
     },
     "execution_count": 366,
     "metadata": {},
     "output_type": "execute_result"
    }
   ],
   "source": [
    "b = [\"hoppsan\"]\n",
    "\n",
    "b = b + list(a)\n",
    "b"
   ]
  },
  {
   "cell_type": "code",
   "execution_count": 369,
   "metadata": {},
   "outputs": [
    {
     "data": {
      "text/plain": [
       "['Flank Steak with Chimichurri and Asparagus',\n",
       " 'Grilled Flank Steak with Caesar Salad',\n",
       " 'Vegetarian Khoresh Bademjan',\n",
       " 'Barley Risotto']"
      ]
     },
     "execution_count": 369,
     "metadata": {},
     "output_type": "execute_result"
    }
   ],
   "source": [
    "dishes = ['Avocado Deviled Eggs','Flank Steak with Chimichurri and Asparagus', 'Kingfish Lettuce Cups',\n",
    "             'Grilled Flank Steak with Caesar Salad','Vegetarian Khoresh Bademjan','Avocado Deviled Eggs',\n",
    "             'Barley Risotto','Kingfish Lettuce Cups']\n",
    "          \n",
    "appetizers = ['Kingfish Lettuce Cups','Avocado Deviled Eggs','Satay Steak Skewers',\n",
    "              'Dahi Puri with Black Chickpeas','Avocado Deviled Eggs','Asparagus Puffs',\n",
    "              'Asparagus Puffs']\n",
    "\n",
    "def separate_appetizers(dishes, appetizers):\n",
    "\n",
    "    dishes = [dish for dish in dishes if dish not in appetizers]\n",
    "    return dishes\n",
    "              \n",
    "separate_appetizers(dishes, appetizers)\n"
   ]
  },
  {
   "cell_type": "code",
   "execution_count": null,
   "metadata": {},
   "outputs": [],
   "source": [
    "\n",
    "['Vegetarian Khoresh Bademjan', 'Barley Risotto', 'Flank Steak with Chimichurri and Asparagus', \n",
    " 'Grilled Flank Steak with Caesar Salad']"
   ]
  },
  {
   "cell_type": "code",
   "execution_count": 376,
   "metadata": {},
   "outputs": [
    {
     "data": {
      "text/plain": [
       "{'hej'}"
      ]
     },
     "execution_count": 376,
     "metadata": {},
     "output_type": "execute_result"
    }
   ],
   "source": [
    "a = {\"hej\", \"ho\", \"komma\"}\n",
    "b = {\"hopp\", \"hej\", \"kom\"}\n",
    "c = {\"hoppsan\", \"hej\", \"bajs\"}\n",
    "\n",
    "a & b & c"
   ]
  },
  {
   "cell_type": "code",
   "execution_count": 377,
   "metadata": {},
   "outputs": [
    {
     "data": {
      "text/plain": [
       "{'e', 'j'}"
      ]
     },
     "execution_count": 377,
     "metadata": {},
     "output_type": "execute_result"
    }
   ],
   "source": [
    "set(\"hej\") - set(\"h\")"
   ]
  },
  {
   "cell_type": "code",
   "execution_count": 381,
   "metadata": {},
   "outputs": [
    {
     "data": {
      "text/plain": [
       "['. . . . .',\n",
       " '                . . . . .',\n",
       " '                 . . . . .',\n",
       " '                  . . . . .',\n",
       " '                   . . . . .']"
      ]
     },
     "execution_count": 381,
     "metadata": {},
     "output_type": "execute_result"
    }
   ],
   "source": [
    "\n",
    "\n",
    "class ConnectGame:\n",
    "    def __init__(self, board):\n",
    "        self.board = board\n",
    "\n",
    "    def get_winner(self):\n",
    "        self.board = self.board.split(\"\\n\")\n",
    "\n",
    "        return self.board\n",
    "\n",
    "ConnectGame(\"\"\". . . . .\n",
    "                . . . . .\n",
    "                 . . . . .\n",
    "                  . . . . .\n",
    "                   . . . . .\"\"\").get_winner()\n"
   ]
  },
  {
   "cell_type": "code",
   "execution_count": 385,
   "metadata": {},
   "outputs": [
    {
     "data": {
      "text/plain": [
       "['ehjehjhe']"
      ]
     },
     "execution_count": 385,
     "metadata": {},
     "output_type": "execute_result"
    }
   ],
   "source": [
    "\"ehjehjhe\".split()"
   ]
  },
  {
   "cell_type": "code",
   "execution_count": 400,
   "metadata": {},
   "outputs": [
    {
     "data": {
      "text/plain": [
       "[3, 4]"
      ]
     },
     "execution_count": 400,
     "metadata": {},
     "output_type": "execute_result"
    }
   ],
   "source": [
    "class Matrix:\n",
    "    def __init__(self, matrix_string):\n",
    "        self.matrix = matrix_string.split(\"\\n\")\n",
    "        self.matrix = [[int(item) for item in row.split(\" \")] for row in self.matrix]\n",
    "\n",
    "    def row(self, index):\n",
    "        return self.matrix[index - 1]\n",
    "\n",
    "    def column(self, index):\n",
    "        return [column[index - 1] for column in self.matrix]\n",
    "\n",
    "matrix = Matrix(\"1 2\\n3 4\")\n",
    "matrix.row(2)"
   ]
  },
  {
   "cell_type": "code",
   "execution_count": 424,
   "metadata": {},
   "outputs": [
    {
     "name": "stdout",
     "output_type": "stream",
     "text": [
      "True\n",
      "False\n",
      "False\n"
     ]
    },
    {
     "data": {
      "text/plain": [
       "False"
      ]
     },
     "execution_count": 424,
     "metadata": {},
     "output_type": "execute_result"
    }
   ],
   "source": [
    "def saddle_points(matrix):\n",
    "    columns = [column for column in zip(*matrix)]\n",
    "\n",
    "    min_values = []\n",
    "    for i, column in enumerate(columns):\n",
    "        row_index = column.index(min(column))\n",
    "        col_indices = list(range(len(columns)))\n",
    "        col_indices.pop(i)\n",
    "\n",
    "        saddle = True\n",
    "\n",
    "        for index in col_indices:\n",
    "            if columns[index][row_index] > columns[i][row_index]:\n",
    "                saddle = False\n",
    "        print(saddle)\n",
    "\n",
    "    return saddle\n",
    "\n",
    "matrix = [[9, 8, 7], [5, 3, 2], [6, 6, 7]]\n",
    "\n",
    "saddle_points(matrix)"
   ]
  },
  {
   "cell_type": "code",
   "execution_count": null,
   "metadata": {},
   "outputs": [],
   "source": []
  }
 ],
 "metadata": {
  "interpreter": {
   "hash": "47d3b7ff548c1bae2d6b155a9b3d6f1122689b634566f833764ba5dd9fcfa2e0"
  },
  "kernelspec": {
   "display_name": "Python 3.9.12 ('Deep-learning-Daniel-Petersson-bXusHwTH')",
   "language": "python",
   "name": "python3"
  },
  "language_info": {
   "codemirror_mode": {
    "name": "ipython",
    "version": 3
   },
   "file_extension": ".py",
   "mimetype": "text/x-python",
   "name": "python",
   "nbconvert_exporter": "python",
   "pygments_lexer": "ipython3",
   "version": "3.9.12"
  },
  "orig_nbformat": 4
 },
 "nbformat": 4,
 "nbformat_minor": 2
}
