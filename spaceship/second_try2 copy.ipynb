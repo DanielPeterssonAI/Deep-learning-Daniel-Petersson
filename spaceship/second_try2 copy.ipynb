{
 "cells": [
  {
   "cell_type": "code",
   "execution_count": 53,
   "metadata": {},
   "outputs": [],
   "source": [
    "import pandas as pd\n",
    "from sklearn.metrics import ConfusionMatrixDisplay, confusion_matrix, classification_report\n",
    "from sklearn.model_selection import train_test_split\n",
    "import numpy as np\n",
    "\n",
    "df = pd.read_csv(\"train.csv\")\n",
    "\n",
    "def dfcleaner(dataframe):\n",
    "    dataframe[\"Cabin\"] = dataframe[\"Cabin\"].fillna(\"0/999999/0\")\n",
    "    dataframe = dataframe.fillna(0)\n",
    "    \n",
    "    dataframe[\"Cabinnumber\"] = dataframe[\"Cabin\"].str.extract(\"\\/(\\w*)\\/\").astype(\"int32\")\n",
    "    dataframe[\"Cabindeck\"] = dataframe[\"Cabin\"].str.extract(\"^(\\w*)\\/\")\n",
    "    dataframe[\"Cabinside\"] = dataframe[\"Cabin\"].str.extract(\"\\/(\\w*)$\")\n",
    "\n",
    "    dataframe[\"Totalbill\"] = dataframe[\"RoomService\"] + dataframe[\"FoodCourt\"] + dataframe[\"ShoppingMall\"] + dataframe[\"Spa\"] + dataframe[\"VRDeck\"]\n",
    "\n",
    "    dataframe[\"Group\"] = dataframe[\"PassengerId\"].str.extract(\"^(\\d{4})\")\n",
    "    filter = dataframe[\"Group\"].value_counts().to_frame().reset_index()\n",
    "    filter.columns = [\"Group\", \"Freq\"]\n",
    "    filter = filter[filter[\"Freq\"] < 5]\n",
    "    dataframe.loc[dataframe[\"Group\"].isin(filter[\"Group\"]), \"Group\"] = 0\n",
    "\n",
    "    dataframe = pd.get_dummies(dataframe, columns = [\"HomePlanet\", \"CryoSleep\", \"Destination\", \"VIP\", \"Cabindeck\", \"Cabinside\", \"Group\"], drop_first = True)\n",
    "    #dataframe = pd.get_dummies(dataframe, columns = [\"HomePlanet\", \"CryoSleep\", \"Destination\", \"VIP\", \"Cabindeck\", \"Cabinside\"], drop_first = True)\n",
    "    \n",
    "    \n",
    "    dataframe.loc[dataframe[\"Cabinnumber\"] == 999999, \"Cabinnumber\"] = 0\n",
    "\n",
    "    return dataframe"
   ]
  },
  {
   "cell_type": "code",
   "execution_count": 55,
   "metadata": {},
   "outputs": [],
   "source": [
    "df = dfcleaner(df)"
   ]
  },
  {
   "cell_type": "code",
   "execution_count": 56,
   "metadata": {},
   "outputs": [],
   "source": [
    "df = df.select_dtypes(exclude = [\"object\"])"
   ]
  },
  {
   "cell_type": "code",
   "execution_count": 57,
   "metadata": {},
   "outputs": [
    {
     "data": {
      "text/html": [
       "<div>\n",
       "<style scoped>\n",
       "    .dataframe tbody tr th:only-of-type {\n",
       "        vertical-align: middle;\n",
       "    }\n",
       "\n",
       "    .dataframe tbody tr th {\n",
       "        vertical-align: top;\n",
       "    }\n",
       "\n",
       "    .dataframe thead th {\n",
       "        text-align: right;\n",
       "    }\n",
       "</style>\n",
       "<table border=\"1\" class=\"dataframe\">\n",
       "  <thead>\n",
       "    <tr style=\"text-align: right;\">\n",
       "      <th></th>\n",
       "      <th>Age</th>\n",
       "      <th>RoomService</th>\n",
       "      <th>FoodCourt</th>\n",
       "      <th>ShoppingMall</th>\n",
       "      <th>Spa</th>\n",
       "      <th>VRDeck</th>\n",
       "      <th>Transported</th>\n",
       "      <th>Cabinnumber</th>\n",
       "      <th>Totalbill</th>\n",
       "      <th>HomePlanet_Earth</th>\n",
       "      <th>...</th>\n",
       "      <th>Group_8862</th>\n",
       "      <th>Group_8956</th>\n",
       "      <th>Group_8961</th>\n",
       "      <th>Group_8988</th>\n",
       "      <th>Group_9034</th>\n",
       "      <th>Group_9069</th>\n",
       "      <th>Group_9074</th>\n",
       "      <th>Group_9081</th>\n",
       "      <th>Group_9157</th>\n",
       "      <th>Group_9227</th>\n",
       "    </tr>\n",
       "  </thead>\n",
       "  <tbody>\n",
       "    <tr>\n",
       "      <th>0</th>\n",
       "      <td>39.0</td>\n",
       "      <td>0.0</td>\n",
       "      <td>0.0</td>\n",
       "      <td>0.0</td>\n",
       "      <td>0.0</td>\n",
       "      <td>0.0</td>\n",
       "      <td>False</td>\n",
       "      <td>0</td>\n",
       "      <td>0.0</td>\n",
       "      <td>0</td>\n",
       "      <td>...</td>\n",
       "      <td>0</td>\n",
       "      <td>0</td>\n",
       "      <td>0</td>\n",
       "      <td>0</td>\n",
       "      <td>0</td>\n",
       "      <td>0</td>\n",
       "      <td>0</td>\n",
       "      <td>0</td>\n",
       "      <td>0</td>\n",
       "      <td>0</td>\n",
       "    </tr>\n",
       "    <tr>\n",
       "      <th>1</th>\n",
       "      <td>24.0</td>\n",
       "      <td>109.0</td>\n",
       "      <td>9.0</td>\n",
       "      <td>25.0</td>\n",
       "      <td>549.0</td>\n",
       "      <td>44.0</td>\n",
       "      <td>True</td>\n",
       "      <td>0</td>\n",
       "      <td>736.0</td>\n",
       "      <td>1</td>\n",
       "      <td>...</td>\n",
       "      <td>0</td>\n",
       "      <td>0</td>\n",
       "      <td>0</td>\n",
       "      <td>0</td>\n",
       "      <td>0</td>\n",
       "      <td>0</td>\n",
       "      <td>0</td>\n",
       "      <td>0</td>\n",
       "      <td>0</td>\n",
       "      <td>0</td>\n",
       "    </tr>\n",
       "    <tr>\n",
       "      <th>2</th>\n",
       "      <td>58.0</td>\n",
       "      <td>43.0</td>\n",
       "      <td>3576.0</td>\n",
       "      <td>0.0</td>\n",
       "      <td>6715.0</td>\n",
       "      <td>49.0</td>\n",
       "      <td>False</td>\n",
       "      <td>0</td>\n",
       "      <td>10383.0</td>\n",
       "      <td>0</td>\n",
       "      <td>...</td>\n",
       "      <td>0</td>\n",
       "      <td>0</td>\n",
       "      <td>0</td>\n",
       "      <td>0</td>\n",
       "      <td>0</td>\n",
       "      <td>0</td>\n",
       "      <td>0</td>\n",
       "      <td>0</td>\n",
       "      <td>0</td>\n",
       "      <td>0</td>\n",
       "    </tr>\n",
       "    <tr>\n",
       "      <th>3</th>\n",
       "      <td>33.0</td>\n",
       "      <td>0.0</td>\n",
       "      <td>1283.0</td>\n",
       "      <td>371.0</td>\n",
       "      <td>3329.0</td>\n",
       "      <td>193.0</td>\n",
       "      <td>False</td>\n",
       "      <td>0</td>\n",
       "      <td>5176.0</td>\n",
       "      <td>0</td>\n",
       "      <td>...</td>\n",
       "      <td>0</td>\n",
       "      <td>0</td>\n",
       "      <td>0</td>\n",
       "      <td>0</td>\n",
       "      <td>0</td>\n",
       "      <td>0</td>\n",
       "      <td>0</td>\n",
       "      <td>0</td>\n",
       "      <td>0</td>\n",
       "      <td>0</td>\n",
       "    </tr>\n",
       "    <tr>\n",
       "      <th>4</th>\n",
       "      <td>16.0</td>\n",
       "      <td>303.0</td>\n",
       "      <td>70.0</td>\n",
       "      <td>151.0</td>\n",
       "      <td>565.0</td>\n",
       "      <td>2.0</td>\n",
       "      <td>True</td>\n",
       "      <td>1</td>\n",
       "      <td>1091.0</td>\n",
       "      <td>1</td>\n",
       "      <td>...</td>\n",
       "      <td>0</td>\n",
       "      <td>0</td>\n",
       "      <td>0</td>\n",
       "      <td>0</td>\n",
       "      <td>0</td>\n",
       "      <td>0</td>\n",
       "      <td>0</td>\n",
       "      <td>0</td>\n",
       "      <td>0</td>\n",
       "      <td>0</td>\n",
       "    </tr>\n",
       "  </tbody>\n",
       "</table>\n",
       "<p>5 rows × 155 columns</p>\n",
       "</div>"
      ],
      "text/plain": [
       "    Age  RoomService  FoodCourt  ShoppingMall     Spa  VRDeck  Transported  \\\n",
       "0  39.0          0.0        0.0           0.0     0.0     0.0        False   \n",
       "1  24.0        109.0        9.0          25.0   549.0    44.0         True   \n",
       "2  58.0         43.0     3576.0           0.0  6715.0    49.0        False   \n",
       "3  33.0          0.0     1283.0         371.0  3329.0   193.0        False   \n",
       "4  16.0        303.0       70.0         151.0   565.0     2.0         True   \n",
       "\n",
       "   Cabinnumber  Totalbill  HomePlanet_Earth  ...  Group_8862  Group_8956  \\\n",
       "0            0        0.0                 0  ...           0           0   \n",
       "1            0      736.0                 1  ...           0           0   \n",
       "2            0    10383.0                 0  ...           0           0   \n",
       "3            0     5176.0                 0  ...           0           0   \n",
       "4            1     1091.0                 1  ...           0           0   \n",
       "\n",
       "   Group_8961  Group_8988  Group_9034  Group_9069  Group_9074  Group_9081  \\\n",
       "0           0           0           0           0           0           0   \n",
       "1           0           0           0           0           0           0   \n",
       "2           0           0           0           0           0           0   \n",
       "3           0           0           0           0           0           0   \n",
       "4           0           0           0           0           0           0   \n",
       "\n",
       "   Group_9157  Group_9227  \n",
       "0           0           0  \n",
       "1           0           0  \n",
       "2           0           0  \n",
       "3           0           0  \n",
       "4           0           0  \n",
       "\n",
       "[5 rows x 155 columns]"
      ]
     },
     "execution_count": 57,
     "metadata": {},
     "output_type": "execute_result"
    }
   ],
   "source": [
    "df.head()"
   ]
  },
  {
   "cell_type": "code",
   "execution_count": 58,
   "metadata": {},
   "outputs": [],
   "source": [
    "X, y = df.drop([\"Transported\"], axis = 1).values, df[\"Transported\"].values\n",
    "y = (y * 1).astype(np.int8)"
   ]
  },
  {
   "cell_type": "code",
   "execution_count": 59,
   "metadata": {},
   "outputs": [
    {
     "data": {
      "text/plain": [
       "((6085, 154), (2608, 154))"
      ]
     },
     "execution_count": 59,
     "metadata": {},
     "output_type": "execute_result"
    }
   ],
   "source": [
    "from sklearn.preprocessing import StandardScaler, MinMaxScaler\n",
    "from sklearn.model_selection import train_test_split\n",
    "\n",
    "X_train, X_test, y_train, y_test = train_test_split(X, y, test_size = 0.30, random_state = 42)\n",
    "\n",
    "#X_val, X_test, y_val, y_test = train_test_split(X_test, y_test, test_size = 0.60, random_state = 42)\n",
    "\n",
    "X_train.shape, X_test.shape"
   ]
  },
  {
   "cell_type": "code",
   "execution_count": 60,
   "metadata": {},
   "outputs": [],
   "source": [
    "scaler = StandardScaler()\n",
    "#scaler = MinMaxScaler()\n",
    "\n",
    "scaled_X_train = scaler.fit_transform(X_train)\n",
    "#scaled_X_val = scaler.transform(X_val)\n",
    "scaled_X_test = scaler.transform(X_test)"
   ]
  },
  {
   "cell_type": "code",
   "execution_count": 61,
   "metadata": {},
   "outputs": [],
   "source": [
    "from sklearn.experimental import enable_halving_search_cv\n",
    "from sklearn.ensemble import RandomForestClassifier\n",
    "from sklearn.model_selection import GridSearchCV, HalvingGridSearchCV\n",
    "\n",
    "param_grid = dict(\n",
    "    #n_estimators = list(range(180, 220, 10)),\n",
    "    n_estimators = [180],\n",
    "    #criterion = [\"gini\", \"entropy\", \"log_loss\"],\n",
    "    criterion = [\"log_loss\"],\n",
    "    min_samples_split = [2, 4, 8, 16, 24, 32],\n",
    "    #max_features = [\"sqrt\", \"log2\", None, 5, 10],\n",
    "    max_features = [10],\n",
    ")\n",
    "\n",
    "#classifier = GridSearchCV(\n",
    "#    estimator = RandomForestClassifier(random_state = 42, n_jobs = -1),\n",
    "#    param_grid = param_grid,\n",
    "#    verbose = 3\n",
    "#)\n",
    "\n",
    "classifier = HalvingGridSearchCV(\n",
    "    estimator = RandomForestClassifier(random_state = 42, n_jobs = -1),\n",
    "    param_grid = param_grid,\n",
    "    random_state = 42,\n",
    "    verbose = 3\n",
    ")"
   ]
  },
  {
   "cell_type": "code",
   "execution_count": 62,
   "metadata": {},
   "outputs": [],
   "source": [
    "classifier = RandomForestClassifier(random_state = 42, n_jobs = -1)"
   ]
  },
  {
   "cell_type": "code",
   "execution_count": 63,
   "metadata": {},
   "outputs": [
    {
     "data": {
      "text/plain": [
       "RandomForestClassifier(n_jobs=-1, random_state=42)"
      ]
     },
     "execution_count": 63,
     "metadata": {},
     "output_type": "execute_result"
    }
   ],
   "source": [
    "classifier.fit(scaled_X_train, y_train)"
   ]
  },
  {
   "cell_type": "code",
   "execution_count": 45,
   "metadata": {},
   "outputs": [
    {
     "data": {
      "text/plain": [
       "RandomForestClassifier(criterion='log_loss', max_features=10,\n",
       "                       min_samples_split=4, n_estimators=180, n_jobs=-1,\n",
       "                       random_state=42)"
      ]
     },
     "execution_count": 45,
     "metadata": {},
     "output_type": "execute_result"
    }
   ],
   "source": [
    "classifier.best_estimator_"
   ]
  },
  {
   "cell_type": "code",
   "execution_count": 28,
   "metadata": {},
   "outputs": [
    {
     "data": {
      "text/plain": [
       "[<matplotlib.lines.Line2D at 0x175548580>]"
      ]
     },
     "execution_count": 28,
     "metadata": {},
     "output_type": "execute_result"
    },
    {
     "data": {
      "image/png": "[encoded data removed]",
      "text/plain": [
       "<Figure size 432x288 with 1 Axes>"
      ]
     },
     "metadata": {
      "needs_background": "light"
     },
     "output_type": "display_data"
    }
   ],
   "source": [
    "\n",
    "import matplotlib.pyplot as plt\n",
    "\n",
    "\n",
    "\n",
    "plt.plot(list(classifier.cv_results_[\"param_n_estimators\"]), classifier.cv_results_[\"mean_test_score\"])"
   ]
  },
  {
   "cell_type": "code",
   "execution_count": 51,
   "metadata": {},
   "outputs": [],
   "source": [
    "y_pred = classifier.predict(scaled_X_test)\n"
   ]
  },
  {
   "cell_type": "code",
   "execution_count": 64,
   "metadata": {},
   "outputs": [
    {
     "name": "stdout",
     "output_type": "stream",
     "text": [
      "              precision    recall  f1-score   support\n",
      "\n",
      "           0       0.78      0.82      0.80      1289\n",
      "           1       0.82      0.77      0.80      1319\n",
      "\n",
      "    accuracy                           0.80      2608\n",
      "   macro avg       0.80      0.80      0.80      2608\n",
      "weighted avg       0.80      0.80      0.80      2608\n",
      "\n"
     ]
    },
    {
     "data": {
      "text/plain": [
       "<sklearn.metrics._plot.confusion_matrix.ConfusionMatrixDisplay at 0x1074f76a0>"
      ]
     },
     "execution_count": 64,
     "metadata": {},
     "output_type": "execute_result"
    },
    {
     "data": {
      "image/png": "[encoded data removed]",
      "text/plain": [
       "<Figure size 432x288 with 2 Axes>"
      ]
     },
     "metadata": {
      "needs_background": "light"
     },
     "output_type": "display_data"
    }
   ],
   "source": [
    "from sklearn.metrics import classification_report, confusion_matrix, ConfusionMatrixDisplay\n",
    "\n",
    "print(classification_report(y_test, y_pred))\n",
    "ConfusionMatrixDisplay(confusion_matrix(y_test, y_pred)).plot()"
   ]
  },
  {
   "cell_type": "code",
   "execution_count": 65,
   "metadata": {},
   "outputs": [
    {
     "data": {
      "text/html": [
       "<div>\n",
       "<style scoped>\n",
       "    .dataframe tbody tr th:only-of-type {\n",
       "        vertical-align: middle;\n",
       "    }\n",
       "\n",
       "    .dataframe tbody tr th {\n",
       "        vertical-align: top;\n",
       "    }\n",
       "\n",
       "    .dataframe thead th {\n",
       "        text-align: right;\n",
       "    }\n",
       "</style>\n",
       "<table border=\"1\" class=\"dataframe\">\n",
       "  <thead>\n",
       "    <tr style=\"text-align: right;\">\n",
       "      <th></th>\n",
       "      <th>Age</th>\n",
       "      <th>RoomService</th>\n",
       "      <th>FoodCourt</th>\n",
       "      <th>ShoppingMall</th>\n",
       "      <th>Spa</th>\n",
       "      <th>VRDeck</th>\n",
       "      <th>Cabinnumber</th>\n",
       "      <th>Totalbill</th>\n",
       "      <th>HomePlanet_Earth</th>\n",
       "      <th>HomePlanet_Europa</th>\n",
       "      <th>...</th>\n",
       "      <th>Group_7893</th>\n",
       "      <th>Group_8361</th>\n",
       "      <th>Group_8543</th>\n",
       "      <th>Group_8793</th>\n",
       "      <th>Group_8800</th>\n",
       "      <th>Group_8804</th>\n",
       "      <th>Group_8925</th>\n",
       "      <th>Group_8980</th>\n",
       "      <th>Group_9016</th>\n",
       "      <th>Group_9238</th>\n",
       "    </tr>\n",
       "  </thead>\n",
       "  <tbody>\n",
       "    <tr>\n",
       "      <th>0</th>\n",
       "      <td>27.0</td>\n",
       "      <td>0.0</td>\n",
       "      <td>0.0</td>\n",
       "      <td>0.0</td>\n",
       "      <td>0.0</td>\n",
       "      <td>0.0</td>\n",
       "      <td>3</td>\n",
       "      <td>0.0</td>\n",
       "      <td>1</td>\n",
       "      <td>0</td>\n",
       "      <td>...</td>\n",
       "      <td>0</td>\n",
       "      <td>0</td>\n",
       "      <td>0</td>\n",
       "      <td>0</td>\n",
       "      <td>0</td>\n",
       "      <td>0</td>\n",
       "      <td>0</td>\n",
       "      <td>0</td>\n",
       "      <td>0</td>\n",
       "      <td>0</td>\n",
       "    </tr>\n",
       "    <tr>\n",
       "      <th>1</th>\n",
       "      <td>19.0</td>\n",
       "      <td>0.0</td>\n",
       "      <td>9.0</td>\n",
       "      <td>0.0</td>\n",
       "      <td>2823.0</td>\n",
       "      <td>0.0</td>\n",
       "      <td>4</td>\n",
       "      <td>2832.0</td>\n",
       "      <td>1</td>\n",
       "      <td>0</td>\n",
       "      <td>...</td>\n",
       "      <td>0</td>\n",
       "      <td>0</td>\n",
       "      <td>0</td>\n",
       "      <td>0</td>\n",
       "      <td>0</td>\n",
       "      <td>0</td>\n",
       "      <td>0</td>\n",
       "      <td>0</td>\n",
       "      <td>0</td>\n",
       "      <td>0</td>\n",
       "    </tr>\n",
       "    <tr>\n",
       "      <th>2</th>\n",
       "      <td>31.0</td>\n",
       "      <td>0.0</td>\n",
       "      <td>0.0</td>\n",
       "      <td>0.0</td>\n",
       "      <td>0.0</td>\n",
       "      <td>0.0</td>\n",
       "      <td>0</td>\n",
       "      <td>0.0</td>\n",
       "      <td>0</td>\n",
       "      <td>1</td>\n",
       "      <td>...</td>\n",
       "      <td>0</td>\n",
       "      <td>0</td>\n",
       "      <td>0</td>\n",
       "      <td>0</td>\n",
       "      <td>0</td>\n",
       "      <td>0</td>\n",
       "      <td>0</td>\n",
       "      <td>0</td>\n",
       "      <td>0</td>\n",
       "      <td>0</td>\n",
       "    </tr>\n",
       "    <tr>\n",
       "      <th>3</th>\n",
       "      <td>38.0</td>\n",
       "      <td>0.0</td>\n",
       "      <td>6652.0</td>\n",
       "      <td>0.0</td>\n",
       "      <td>181.0</td>\n",
       "      <td>585.0</td>\n",
       "      <td>1</td>\n",
       "      <td>7418.0</td>\n",
       "      <td>0</td>\n",
       "      <td>1</td>\n",
       "      <td>...</td>\n",
       "      <td>0</td>\n",
       "      <td>0</td>\n",
       "      <td>0</td>\n",
       "      <td>0</td>\n",
       "      <td>0</td>\n",
       "      <td>0</td>\n",
       "      <td>0</td>\n",
       "      <td>0</td>\n",
       "      <td>0</td>\n",
       "      <td>0</td>\n",
       "    </tr>\n",
       "    <tr>\n",
       "      <th>4</th>\n",
       "      <td>20.0</td>\n",
       "      <td>10.0</td>\n",
       "      <td>0.0</td>\n",
       "      <td>635.0</td>\n",
       "      <td>0.0</td>\n",
       "      <td>0.0</td>\n",
       "      <td>5</td>\n",
       "      <td>645.0</td>\n",
       "      <td>1</td>\n",
       "      <td>0</td>\n",
       "      <td>...</td>\n",
       "      <td>0</td>\n",
       "      <td>0</td>\n",
       "      <td>0</td>\n",
       "      <td>0</td>\n",
       "      <td>0</td>\n",
       "      <td>0</td>\n",
       "      <td>0</td>\n",
       "      <td>0</td>\n",
       "      <td>0</td>\n",
       "      <td>0</td>\n",
       "    </tr>\n",
       "  </tbody>\n",
       "</table>\n",
       "<p>5 rows × 82 columns</p>\n",
       "</div>"
      ],
      "text/plain": [
       "    Age  RoomService  FoodCourt  ShoppingMall     Spa  VRDeck  Cabinnumber  \\\n",
       "0  27.0          0.0        0.0           0.0     0.0     0.0            3   \n",
       "1  19.0          0.0        9.0           0.0  2823.0     0.0            4   \n",
       "2  31.0          0.0        0.0           0.0     0.0     0.0            0   \n",
       "3  38.0          0.0     6652.0           0.0   181.0   585.0            1   \n",
       "4  20.0         10.0        0.0         635.0     0.0     0.0            5   \n",
       "\n",
       "   Totalbill  HomePlanet_Earth  HomePlanet_Europa  ...  Group_7893  \\\n",
       "0        0.0                 1                  0  ...           0   \n",
       "1     2832.0                 1                  0  ...           0   \n",
       "2        0.0                 0                  1  ...           0   \n",
       "3     7418.0                 0                  1  ...           0   \n",
       "4      645.0                 1                  0  ...           0   \n",
       "\n",
       "   Group_8361  Group_8543  Group_8793  Group_8800  Group_8804  Group_8925  \\\n",
       "0           0           0           0           0           0           0   \n",
       "1           0           0           0           0           0           0   \n",
       "2           0           0           0           0           0           0   \n",
       "3           0           0           0           0           0           0   \n",
       "4           0           0           0           0           0           0   \n",
       "\n",
       "   Group_8980  Group_9016  Group_9238  \n",
       "0           0           0           0  \n",
       "1           0           0           0  \n",
       "2           0           0           0  \n",
       "3           0           0           0  \n",
       "4           0           0           0  \n",
       "\n",
       "[5 rows x 82 columns]"
      ]
     },
     "execution_count": 65,
     "metadata": {},
     "output_type": "execute_result"
    }
   ],
   "source": [
    "df_test = pd.read_csv(\"test.csv\")\n",
    "df_pid = df_test.loc[:, \"PassengerId\"]\n",
    "df_test = dfcleaner(df_test)\n",
    "df_test = df_test.select_dtypes(exclude = [\"object\"])\n",
    "#df_test = df_test.drop([\"PassengerId\", \"Cabin\", \"Name\"], axis = 1)\n",
    "df_test.head()"
   ]
  },
  {
   "cell_type": "code",
   "execution_count": 69,
   "metadata": {},
   "outputs": [
    {
     "data": {
      "text/plain": [
       "\"('hej', 'ho')\""
      ]
     },
     "execution_count": 69,
     "metadata": {},
     "output_type": "execute_result"
    }
   ],
   "source": [
    "str(tuple([\"hej\", \"ho\"]))"
   ]
  },
  {
   "cell_type": "code",
   "execution_count": 73,
   "metadata": {},
   "outputs": [
    {
     "data": {
      "text/plain": [
       "{'hej': 5, 'hoe': 6}"
      ]
     },
     "execution_count": 73,
     "metadata": {},
     "output_type": "execute_result"
    }
   ],
   "source": [
    "a = {\"hej\": 5, \"hoe\": 6}\n",
    "a"
   ]
  },
  {
   "cell_type": "code",
   "execution_count": 76,
   "metadata": {},
   "outputs": [
    {
     "data": {
      "text/plain": [
       "(('hej', 5), ('hoe', 6))"
      ]
     },
     "execution_count": 76,
     "metadata": {},
     "output_type": "execute_result"
    }
   ],
   "source": [
    "tuple([(key, val) for key, val in a.items()])"
   ]
  },
  {
   "cell_type": "code",
   "execution_count": null,
   "metadata": {},
   "outputs": [],
   "source": [
    "A, E, I, O, U, L, N, R, S, T       1\n",
    "D, G                               2\n",
    "B, C, M, P                         3\n",
    "F, H, V, W, Y                      4\n",
    "K                                  5\n",
    "J, X                               8\n",
    "Q, Z                               10"
   ]
  },
  {
   "cell_type": "code",
   "execution_count": 82,
   "metadata": {},
   "outputs": [
    {
     "data": {
      "text/plain": [
       "{'A': 1,\n",
       " 'E': 1,\n",
       " 'I': 1,\n",
       " 'O': 1,\n",
       " 'U': 1,\n",
       " 'L': 1,\n",
       " 'N': 1,\n",
       " 'R': 1,\n",
       " 'S': 1,\n",
       " 'T': 1}"
      ]
     },
     "execution_count": 82,
     "metadata": {},
     "output_type": "execute_result"
    }
   ],
   "source": [
    "a = {key: 1 for key in \"A, E, I, O, U, L, N, R, S, T\".split(\", \")}\n",
    "a"
   ]
  },
  {
   "cell_type": "code",
   "execution_count": 88,
   "metadata": {},
   "outputs": [],
   "source": [
    "a = dict(a, **{\"D\": 8, \"G\": 8})"
   ]
  },
  {
   "cell_type": "code",
   "execution_count": 92,
   "metadata": {},
   "outputs": [
    {
     "data": {
      "text/plain": [
       "{'A': 1,\n",
       " 'E': 1,\n",
       " 'I': 1,\n",
       " 'O': 1,\n",
       " 'U': 1,\n",
       " 'L': 1,\n",
       " 'N': 1,\n",
       " 'R': 1,\n",
       " 'S': 1,\n",
       " 'T': 1,\n",
       " 'D': 2,\n",
       " 'G': 2,\n",
       " 'B': 3,\n",
       " 'C': 3,\n",
       " 'M': 3,\n",
       " 'P': 3,\n",
       " 'F': 4,\n",
       " 'H': 4,\n",
       " 'V': 4,\n",
       " 'W': 4,\n",
       " 'Y': 4,\n",
       " 'K': 5,\n",
       " 'J': 8,\n",
       " 'X': 8,\n",
       " 'Q': 10,\n",
       " 'Z': 10}"
      ]
     },
     "execution_count": 92,
     "metadata": {},
     "output_type": "execute_result"
    }
   ],
   "source": [
    "def score(word):\n",
    "    score_dict = {char: 1 for char in \"A, E, I, O, U, L, N, R, S, T\".split(\", \")}\n",
    "    score_dict = dict(score_dict, **{char: 2 for char in \"D, G\".split(\", \")})\n",
    "    score_dict = dict(score_dict, **{char: 3 for char in \"B, C, M, P\".split(\", \")})\n",
    "    score_dict = dict(score_dict, **{char: 4 for char in \"F, H, V, W, Y\".split(\", \")})\n",
    "    score_dict = dict(score_dict, **{\"K\": 5})\n",
    "    score_dict = dict(score_dict, **{char: 8 for char in \"J, X\".split(\", \")})\n",
    "    score_dict = dict(score_dict, **{char: 10 for char in \"Q, Z\".split(\", \")})\n",
    "\n",
    "    return score_dict\n",
    "\n",
    "score(\"f\")"
   ]
  },
  {
   "cell_type": "code",
   "execution_count": 79,
   "metadata": {},
   "outputs": [
    {
     "data": {
      "text/plain": [
       "['A', 'E', 'I', 'O', 'U', 'L', 'N', 'R', 'S', 'T']"
      ]
     },
     "execution_count": 79,
     "metadata": {},
     "output_type": "execute_result"
    }
   ],
   "source": [
    "\"A, E, I, O, U, L, N, R, S, T\".split(\", \")"
   ]
  },
  {
   "cell_type": "code",
   "execution_count": null,
   "metadata": {},
   "outputs": [],
   "source": [
    "['A', 'E', 'I', 'O', 'U', 'L', 'N', 'R', 'S', 'T']"
   ]
  },
  {
   "cell_type": "code",
   "execution_count": 95,
   "metadata": {},
   "outputs": [
    {
     "data": {
      "text/plain": [
       "{'A': 1,\n",
       " 'E': 1,\n",
       " 'I': 1,\n",
       " 'O': 1,\n",
       " 'U': 1,\n",
       " 'L': 1,\n",
       " 'N': 1,\n",
       " 'R': 1,\n",
       " 'S': 1,\n",
       " 'T': 1,\n",
       " 'D': 2,\n",
       " 'G': 2,\n",
       " 'B': 3,\n",
       " 'C': 3,\n",
       " 'M': 3,\n",
       " 'P': 3,\n",
       " 'F': 4,\n",
       " 'H': 4,\n",
       " 'V': 4,\n",
       " 'W': 4,\n",
       " 'Y': 4,\n",
       " 'K': 5,\n",
       " 'J': 8,\n",
       " 'X': 8,\n",
       " 'Q': 10,\n",
       " 'Z': 10}"
      ]
     },
     "execution_count": 95,
     "metadata": {},
     "output_type": "execute_result"
    }
   ],
   "source": [
    "scores = {}\n",
    "\n",
    "for k, v in {\n",
    "            \"AEIOULNRST\": 1,\n",
    "            \"DG\": 2,\n",
    "            \"BCMP\": 3,\n",
    "            \"FHVWY\": 4,\n",
    "            \"K\": 5,\n",
    "            \"JX\": 8,\n",
    "            \"QZ\": 10\n",
    "        }.items():\n",
    "    scores.update({x: v for x in k})\n",
    "\n",
    "scores"
   ]
  },
  {
   "cell_type": "code",
   "execution_count": 97,
   "metadata": {},
   "outputs": [
    {
     "data": {
      "text/plain": [
       "{'AEIOULNRST': 1, 'DG': 2, 'BCMP': 3, 'FHVWY': 4, 'K': 5, 'JX': 8, 'QZ': 10}"
      ]
     },
     "execution_count": 97,
     "metadata": {},
     "output_type": "execute_result"
    }
   ],
   "source": [
    "{\"AEIOULNRST\": 1, \"DG\": 2, \"BCMP\": 3, \"FHVWY\": 4, \"K\": 5, \"JX\": 8, \"QZ\": 10}"
   ]
  },
  {
   "cell_type": "code",
   "execution_count": 103,
   "metadata": {},
   "outputs": [
    {
     "name": "stdout",
     "output_type": "stream",
     "text": [
      "1 A\n",
      "1 E\n",
      "1 I\n",
      "1 O\n",
      "1 U\n",
      "1 L\n",
      "1 N\n",
      "1 R\n",
      "1 S\n",
      "1 T\n",
      "2 D\n",
      "2 G\n",
      "3 B\n",
      "3 C\n",
      "3 M\n",
      "3 P\n",
      "4 F\n",
      "4 H\n",
      "4 V\n",
      "4 W\n",
      "4 Y\n",
      "5 K\n",
      "8 J\n",
      "8 X\n",
      "10 Q\n",
      "10 Z\n"
     ]
    }
   ],
   "source": [
    "letter_table = '-AEIOULNRST-DG-BCMP-FHVWY-K---JX--QZ'.split('-')\n",
    "for i,s in enumerate(letter_table): \n",
    "    for x in s:\n",
    "        print(i, x)\n"
   ]
  },
  {
   "cell_type": "code",
   "execution_count": 107,
   "metadata": {},
   "outputs": [
    {
     "data": {
      "text/plain": [
       "3"
      ]
     },
     "execution_count": 107,
     "metadata": {},
     "output_type": "execute_result"
    }
   ],
   "source": [
    "YACHT = 0\n",
    "ONES = 1\n",
    "TWOS = 2\n",
    "THREES = 3\n",
    "FOURS = 4\n",
    "FIVES = 5\n",
    "SIXES = 6\n",
    "FULL_HOUSE = 7\n",
    "FOUR_OF_A_KIND = 8\n",
    "LITTLE_STRAIGHT = 9\n",
    "BIG_STRAIGHT = 10\n",
    "CHOICE = 11\n",
    "\n",
    "\n",
    "def score(dice, category):\n",
    "    if category < FULL_HOUSE:\n",
    "        return sum([value for value in dice if value == category])\n",
    "    if category == FULL_HOUSE and len(set(dice)) == 2:\n",
    "        return sum(dice)\n",
    "    if category == FOUR_OF_A_KIND:\n",
    "        if dice.count(dice[0]) >= 4:\n",
    "            return dice.count(dice[0]) * dice[0]\n",
    "        if dice.count(dice[1]) >= 4:\n",
    "            return dice.count(dice[1]) * dice[1]\n",
    "    if category == LITTLE_STRAIGHT and len(set(dice)) == 5 and sum(dice) == 15:\n",
    "        return 30\n",
    "    if category == BIG_STRAIGHT and len(set(dice)) == 5 and sum(dice) == 20:\n",
    "        return 30\n",
    "    if category == YACHT and len(set(dice)) == 1:\n",
    "        return 50\n",
    "    if category == CHOICE:\n",
    "        return sum(dice)\n",
    "\n",
    "    return None\n",
    "\n",
    "\n",
    "score([1, 1, 1, 2, 4], ONES)"
   ]
  },
  {
   "cell_type": "code",
   "execution_count": 108,
   "metadata": {},
   "outputs": [
    {
     "ename": "NameError",
     "evalue": "name 'digits' is not defined",
     "output_type": "error",
     "traceback": [
      "\u001b[0;31m---------------------------------------------------------------------------\u001b[0m",
      "\u001b[0;31mNameError\u001b[0m                                 Traceback (most recent call last)",
      "\u001b[1;32m/Users/dp/Documents/GitHub/Deep-learning-Daniel-Petersson/spaceship/second_try2 copy.ipynb Cell 29'\u001b[0m in \u001b[0;36m<cell line: 1>\u001b[0;34m()\u001b[0m\n\u001b[0;32m----> <a href='vscode-notebook-cell:/Users/dp/Documents/GitHub/Deep-learning-Daniel-Petersson/spaceship/second_try2%20copy.ipynb#ch0000034?line=0'>1</a>\u001b[0m digits([\u001b[39m1\u001b[39m, \u001b[39m2\u001b[39m], \u001b[39m1\u001b[39m)\n",
      "\u001b[0;31mNameError\u001b[0m: name 'digits' is not defined"
     ]
    }
   ],
   "source": [
    "digits([1, 2], 1)"
   ]
  },
  {
   "cell_type": "code",
   "execution_count": 121,
   "metadata": {},
   "outputs": [
    {
     "data": {
      "text/plain": [
       "'daniel'"
      ]
     },
     "execution_count": 121,
     "metadata": {},
     "output_type": "execute_result"
    }
   ],
   "source": [
    "from random import randint\n",
    "\n",
    "(\"kun\", \"fredrik\", \"daniel\")[randint(0, 2)]"
   ]
  }
 ],
 "metadata": {
  "interpreter": {
   "hash": "47d3b7ff548c1bae2d6b155a9b3d6f1122689b634566f833764ba5dd9fcfa2e0"
  },
  "kernelspec": {
   "display_name": "Python 3.9.12 ('Deep-learning-Daniel-Petersson-bXusHwTH')",
   "language": "python",
   "name": "python3"
  },
  "language_info": {
   "codemirror_mode": {
    "name": "ipython",
    "version": 3
   },
   "file_extension": ".py",
   "mimetype": "text/x-python",
   "name": "python",
   "nbconvert_exporter": "python",
   "pygments_lexer": "ipython3",
   "version": "3.9.12"
  },
  "orig_nbformat": 4
 },
 "nbformat": 4,
 "nbformat_minor": 2
}
