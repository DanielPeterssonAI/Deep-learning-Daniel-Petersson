{
 "cells": [
  {
   "cell_type": "code",
   "execution_count": 1,
   "metadata": {},
   "outputs": [],
   "source": [
    "import math\n",
    "import numpy as np\n",
    "import pandas as pd\n",
    "import matplotlib.pyplot as plt\n",
    "import seaborn as sns\n",
    "from sklearn.linear_model import LinearRegression\n",
    "from sklearn.model_selection import train_test_split\n",
    "from sklearn.preprocessing import StandardScaler\n",
    "from sklearn.metrics import mean_absolute_error, mean_squared_error"
   ]
  },
  {
   "cell_type": "code",
   "execution_count": 2,
   "metadata": {},
   "outputs": [
    {
     "data": {
      "text/html": [
       "<div>\n",
       "<style scoped>\n",
       "    .dataframe tbody tr th:only-of-type {\n",
       "        vertical-align: middle;\n",
       "    }\n",
       "\n",
       "    .dataframe tbody tr th {\n",
       "        vertical-align: top;\n",
       "    }\n",
       "\n",
       "    .dataframe thead th {\n",
       "        text-align: right;\n",
       "    }\n",
       "</style>\n",
       "<table border=\"1\" class=\"dataframe\">\n",
       "  <thead>\n",
       "    <tr style=\"text-align: right;\">\n",
       "      <th></th>\n",
       "      <th>mpg</th>\n",
       "      <th>cylinders</th>\n",
       "      <th>displacement</th>\n",
       "      <th>horsepower</th>\n",
       "      <th>weight</th>\n",
       "      <th>acceleration</th>\n",
       "      <th>model_year</th>\n",
       "      <th>origin_europe</th>\n",
       "      <th>origin_japan</th>\n",
       "      <th>origin_usa</th>\n",
       "    </tr>\n",
       "  </thead>\n",
       "  <tbody>\n",
       "    <tr>\n",
       "      <th>0</th>\n",
       "      <td>18.0</td>\n",
       "      <td>8</td>\n",
       "      <td>307.0</td>\n",
       "      <td>130.0</td>\n",
       "      <td>3504</td>\n",
       "      <td>12.0</td>\n",
       "      <td>70</td>\n",
       "      <td>0</td>\n",
       "      <td>0</td>\n",
       "      <td>1</td>\n",
       "    </tr>\n",
       "    <tr>\n",
       "      <th>1</th>\n",
       "      <td>15.0</td>\n",
       "      <td>8</td>\n",
       "      <td>350.0</td>\n",
       "      <td>165.0</td>\n",
       "      <td>3693</td>\n",
       "      <td>11.5</td>\n",
       "      <td>70</td>\n",
       "      <td>0</td>\n",
       "      <td>0</td>\n",
       "      <td>1</td>\n",
       "    </tr>\n",
       "    <tr>\n",
       "      <th>2</th>\n",
       "      <td>18.0</td>\n",
       "      <td>8</td>\n",
       "      <td>318.0</td>\n",
       "      <td>150.0</td>\n",
       "      <td>3436</td>\n",
       "      <td>11.0</td>\n",
       "      <td>70</td>\n",
       "      <td>0</td>\n",
       "      <td>0</td>\n",
       "      <td>1</td>\n",
       "    </tr>\n",
       "    <tr>\n",
       "      <th>3</th>\n",
       "      <td>16.0</td>\n",
       "      <td>8</td>\n",
       "      <td>304.0</td>\n",
       "      <td>150.0</td>\n",
       "      <td>3433</td>\n",
       "      <td>12.0</td>\n",
       "      <td>70</td>\n",
       "      <td>0</td>\n",
       "      <td>0</td>\n",
       "      <td>1</td>\n",
       "    </tr>\n",
       "    <tr>\n",
       "      <th>4</th>\n",
       "      <td>17.0</td>\n",
       "      <td>8</td>\n",
       "      <td>302.0</td>\n",
       "      <td>140.0</td>\n",
       "      <td>3449</td>\n",
       "      <td>10.5</td>\n",
       "      <td>70</td>\n",
       "      <td>0</td>\n",
       "      <td>0</td>\n",
       "      <td>1</td>\n",
       "    </tr>\n",
       "  </tbody>\n",
       "</table>\n",
       "</div>"
      ],
      "text/plain": [
       "    mpg  cylinders  displacement  horsepower  weight  acceleration  \\\n",
       "0  18.0          8         307.0       130.0    3504          12.0   \n",
       "1  15.0          8         350.0       165.0    3693          11.5   \n",
       "2  18.0          8         318.0       150.0    3436          11.0   \n",
       "3  16.0          8         304.0       150.0    3433          12.0   \n",
       "4  17.0          8         302.0       140.0    3449          10.5   \n",
       "\n",
       "   model_year  origin_europe  origin_japan  origin_usa  \n",
       "0          70              0             0           1  \n",
       "1          70              0             0           1  \n",
       "2          70              0             0           1  \n",
       "3          70              0             0           1  \n",
       "4          70              0             0           1  "
      ]
     },
     "execution_count": 2,
     "metadata": {},
     "output_type": "execute_result"
    }
   ],
   "source": [
    "df = sns.load_dataset(\"mpg\")\n",
    "\n",
    "X_train, y_train = df[~df[\"horsepower\"].isna()][[\"displacement\", \"acceleration\"]], df[~df[\"horsepower\"].isna()][\"horsepower\"]\n",
    "X_pred = df[df[\"horsepower\"].isna()][[\"displacement\", \"acceleration\"]]\n",
    "\n",
    "linreg = LinearRegression()\n",
    "linreg.fit(X_train, y_train)\n",
    "y_pred = linreg.predict(X_pred)\n",
    "y_pred = np.round(y_pred)\n",
    "df.loc[X_pred.index, \"horsepower\"] = y_pred\n",
    "df = pd.get_dummies(df.drop(\"name\", axis = 1), columns = [\"origin\"])\n",
    "df.head()"
   ]
  },
  {
   "cell_type": "code",
   "execution_count": 3,
   "metadata": {},
   "outputs": [],
   "source": [
    "X, y = df.drop([\"mpg\"], axis = 1).values, df[\"mpg\"].values\n",
    "\n",
    "X_train, X_test, y_train, y_test = train_test_split(X, y, test_size = 0.2, random_state = 42)\n",
    "X_val, X_test, y_val, y_test = train_test_split(X_test, y_test, test_size = 0.5, random_state = 42)"
   ]
  },
  {
   "cell_type": "code",
   "execution_count": 4,
   "metadata": {},
   "outputs": [],
   "source": [
    "scaler = StandardScaler()\n",
    "#scaler = MinMaxScaler()\n",
    "\n",
    "scaled_X_train = scaler.fit_transform(X_train)\n",
    "scaled_X_val = scaler.transform(X_val)\n",
    "scaled_X_test = scaler.transform(X_test)"
   ]
  },
  {
   "cell_type": "code",
   "execution_count": 5,
   "metadata": {},
   "outputs": [],
   "source": [
    "from evolutionary_algos import VectorizedEvoRegressor, EvoRegressor"
   ]
  },
  {
   "cell_type": "code",
   "execution_count": 10,
   "metadata": {},
   "outputs": [
    {
     "name": "stdout",
     "output_type": "stream",
     "text": [
      "Epoch 0 - loss: 11.409326214872566 - val_loss: 11.485170808255846\n",
      "Epoch 7 - loss: 10.054215440962366 - val_loss: 10.088586409546219\n",
      "Epoch 8 - loss: 9.48253980947177 - val_loss: 10.493784972441167\n",
      "Epoch 9 - loss: 9.471683114922167 - val_loss: 8.91306412673725\n",
      "Epoch 10 - loss: 8.768137098204784 - val_loss: 8.335277781641977\n",
      "Epoch 11 - loss: 7.758806178528665 - val_loss: 7.513206279463537\n",
      "Epoch 13 - loss: 7.431872664034442 - val_loss: 7.467806282421208\n",
      "Epoch 15 - loss: 6.585209384971648 - val_loss: 6.452371363782746\n",
      "Epoch 17 - loss: 6.22891213193537 - val_loss: 5.44358469431962\n",
      "Epoch 21 - loss: 5.985009264125803 - val_loss: 5.593395466335714\n",
      "Epoch 22 - loss: 5.8511763478823955 - val_loss: 5.555037852919966\n",
      "Epoch 23 - loss: 5.8446157540652885 - val_loss: 5.273120763832923\n",
      "Epoch 24 - loss: 5.631091117597464 - val_loss: 5.072479298598627\n",
      "Epoch 25 - loss: 5.489352561803643 - val_loss: 4.756635097732496\n",
      "Epoch 26 - loss: 5.168451452453221 - val_loss: 4.655863628489345\n",
      "Epoch 28 - loss: 5.113730924909375 - val_loss: 4.453601218995674\n",
      "Epoch 29 - loss: 4.69724368287913 - val_loss: 3.706510805938315\n",
      "Epoch 31 - loss: 4.6150936625448 - val_loss: 3.861645073167344\n",
      "Epoch 32 - loss: 4.3081315331244445 - val_loss: 3.662546786758182\n",
      "Epoch 33 - loss: 4.143460272773455 - val_loss: 3.9750539664855467\n",
      "Epoch 34 - loss: 3.7819872086210133 - val_loss: 3.3414853814338357\n",
      "Epoch 37 - loss: 3.761213541794682 - val_loss: 3.6725292303079557\n",
      "Epoch 40 - loss: 3.6766089222938496 - val_loss: 3.5365741793637433\n",
      "Epoch 41 - loss: 3.652428473832472 - val_loss: 3.4766917875903998\n",
      "Epoch 42 - loss: 3.5364923397427983 - val_loss: 3.4048788355667257\n",
      "Epoch 43 - loss: 3.494773833769464 - val_loss: 3.2465208707643654\n",
      "Epoch 44 - loss: 3.3248449334880075 - val_loss: 3.035047249097894\n",
      "Epoch 45 - loss: 3.2438189563582926 - val_loss: 3.1431305292011604\n",
      "Epoch 47 - loss: 3.221182247385012 - val_loss: 2.876384280433764\n",
      "Epoch 49 - loss: 3.1552113502305064 - val_loss: 2.6175913450501995\n",
      "Epoch 51 - loss: 3.0821174582116857 - val_loss: 2.696144002857487\n",
      "Epoch 54 - loss: 3.0538156548134454 - val_loss: 2.489740073955484\n",
      "Epoch 55 - loss: 2.9400110247137636 - val_loss: 2.5796951205696637\n",
      "Epoch 56 - loss: 2.9175911186787427 - val_loss: 2.5514442492567504\n",
      "Epoch 59 - loss: 2.890180669199682 - val_loss: 2.386928409716886\n",
      "Epoch 64 - loss: 2.846686285256233 - val_loss: 2.3455952082633695\n",
      "Epoch 66 - loss: 2.8023948859677104 - val_loss: 2.6923356537287892\n",
      "Epoch 75 - loss: 2.7900436868328984 - val_loss: 2.611250815656601\n",
      "Epoch 81 - loss: 2.7789767378948853 - val_loss: 2.547490013636348\n",
      "Epoch 82 - loss: 2.7752001947397416 - val_loss: 2.59348546278001\n",
      "Epoch 83 - loss: 2.752976454175742 - val_loss: 2.4087461500457534\n",
      "Epoch 85 - loss: 2.7441988548356875 - val_loss: 2.462116478928815\n",
      "Epoch 88 - loss: 2.7382547950399294 - val_loss: 2.3312935610308996\n",
      "Epoch 89 - loss: 2.7144059892594687 - val_loss: 2.292590739813343\n",
      "Epoch 92 - loss: 2.6752953943074296 - val_loss: 2.2647117896129707\n",
      "Epoch 106 - loss: 2.6454805311618212 - val_loss: 2.320844189195775\n",
      "Epoch 112 - loss: 2.6445848184994025 - val_loss: 2.1759710474021845\n",
      "Epoch 113 - loss: 2.620591958875991 - val_loss: 2.2291822263432755\n",
      "Epoch 122 - loss: 2.5941011554964897 - val_loss: 2.290065301446063\n",
      "Epoch 136 - loss: 2.573793950591774 - val_loss: 2.130615171535646\n",
      "Epoch 147 - loss: 2.561766105797077 - val_loss: 2.3003661076272857\n",
      "Epoch 160 - loss: 2.515643293986293 - val_loss: 2.0832413616020844\n",
      "Epoch 162 - loss: 2.509214030882431 - val_loss: 1.9553733940334717\n",
      "Epoch 165 - loss: 2.508303293864567 - val_loss: 2.1213375069782976\n",
      "Epoch 170 - loss: 2.469286952477591 - val_loss: 2.0082369398124853\n",
      "Epoch 179 - loss: 2.439465914945679 - val_loss: 1.9093146040404818\n",
      "Epoch 189 - loss: 2.4371049957397606 - val_loss: 1.8867752428726128\n",
      "Epoch 190 - loss: 2.4151769944694874 - val_loss: 1.8947183795466653\n",
      "Epoch 192 - loss: 2.4113720550553097 - val_loss: 2.104642629664977\n",
      "Epoch 207 - loss: 2.384607252231736 - val_loss: 1.8357906024789699\n",
      "Epoch 210 - loss: 2.3738383399290424 - val_loss: 2.1655927413445744\n",
      "Epoch 214 - loss: 2.3605694427512 - val_loss: 1.7732091069314246\n",
      "Epoch 219 - loss: 2.3488959421725943 - val_loss: 1.81251255149975\n",
      "Epoch 239 - loss: 2.338736895649854 - val_loss: 1.847926068854256\n",
      "Epoch 248 - loss: 2.2785964781394497 - val_loss: 1.7882311676281801\n",
      "Epoch 289 - loss: 2.2699026910747104 - val_loss: 1.7700162198627745\n",
      "Epoch 291 - loss: 2.2570055361240495 - val_loss: 1.7655170451281568\n",
      "Epoch 314 - loss: 2.240409190843218 - val_loss: 1.9221184928066486\n",
      "Epoch 436 - loss: 2.2283679610123053 - val_loss: 1.6096110369828316\n",
      "Epoch 470 - loss: 2.226997276227305 - val_loss: 1.9136604499272487\n",
      "Epoch 503 - loss: 2.201576004872137 - val_loss: 1.710807824984284\n",
      "Epoch 697 - loss: 2.184057974283356 - val_loss: 1.8349062217952121\n",
      "Epoch 721 - loss: 2.1468327560185765 - val_loss: 1.7436714654893883\n",
      "Epoch 885 - loss: 2.135298166403923 - val_loss: 1.8018144552104545\n",
      "Epoch 971 - loss: 2.1298467898800446 - val_loss: 1.7000021787402315\n",
      "Epoch 978 - loss: 2.1296664848386366 - val_loss: 1.817768587876905\n"
     ]
    }
   ],
   "source": [
    "#regressor = EvoRegressor(n = 100, hidden_layers = [25], activation = \"relu\", random_state = 42)\n",
    "regressor = VectorizedEvoRegressor(n = 20, hidden_layers = [8], activation = \"relu\", random_state = 42)\n",
    "\n",
    "\n",
    "regressor.fit(scaled_X_train, y_train, epochs = 1000, validation_data = (scaled_X_val, y_val), verbose = 1)"
   ]
  },
  {
   "cell_type": "code",
   "execution_count": 11,
   "metadata": {},
   "outputs": [
    {
     "name": "stdout",
     "output_type": "stream",
     "text": [
      "Loss on test data: 1.6619787987986925\n"
     ]
    },
    {
     "data": {
      "image/png": "[encoded data removed]",
      "text/plain": [
       "<Figure size 432x288 with 1 Axes>"
      ]
     },
     "metadata": {
      "needs_background": "light"
     },
     "output_type": "display_data"
    }
   ],
   "source": [
    "y_pred = regressor.predict(scaled_X_test)\n",
    "print(f\"Loss on test data: {mean_absolute_error(y_test, y_pred)}\")\n",
    "\n",
    "fig, ax = plt.subplots(1, 1)\n",
    "\n",
    "ax.plot(regressor.training_loss_history)\n",
    "ax.plot(regressor.validation_loss_history)\n",
    "\n",
    "plt.show()"
   ]
  },
  {
   "cell_type": "code",
   "execution_count": null,
   "metadata": {},
   "outputs": [],
   "source": []
  },
  {
   "cell_type": "code",
   "execution_count": 9,
   "metadata": {},
   "outputs": [
    {
     "data": {
      "text/plain": [
       "[<matplotlib.lines.Line2D at 0x12fb73bb0>]"
      ]
     },
     "execution_count": 9,
     "metadata": {},
     "output_type": "execute_result"
    },
    {
     "data": {
      "image/png": "[encoded data removed]",
      "text/plain": [
       "<Figure size 432x288 with 1 Axes>"
      ]
     },
     "metadata": {
      "needs_background": "light"
     },
     "output_type": "display_data"
    }
   ],
   "source": [
    "y = []\n",
    "xrange = 1000\n",
    "\n",
    "for x in range(1, xrange + 1):\n",
    "    y.append(5 * 1 / math.exp(x / (xrange / (10 * math.log10(xrange)))))\n",
    "\n",
    "plt.plot(list(range(xrange)), y)"
   ]
  },
  {
   "cell_type": "code",
   "execution_count": 10,
   "metadata": {},
   "outputs": [
    {
     "data": {
      "text/plain": [
       "[<matplotlib.lines.Line2D at 0x12fcf2a00>]"
      ]
     },
     "execution_count": 10,
     "metadata": {},
     "output_type": "execute_result"
    },
    {
     "data": {
      "image/png": "[encoded data removed]",
      "text/plain": [
       "<Figure size 432x288 with 1 Axes>"
      ]
     },
     "metadata": {
      "needs_background": "light"
     },
     "output_type": "display_data"
    }
   ],
   "source": [
    "y = []\n",
    "xrange = 10000\n",
    "\n",
    "for x in range(1, xrange + 1):\n",
    "    y.append(5 * 1 / math.exp(x / (xrange / 10)))\n",
    "\n",
    "plt.plot(list(range(xrange)), y)"
   ]
  }
 ],
 "metadata": {
  "interpreter": {
   "hash": "47d3b7ff548c1bae2d6b155a9b3d6f1122689b634566f833764ba5dd9fcfa2e0"
  },
  "kernelspec": {
   "display_name": "Python 3.9.12 ('Deep-learning-Daniel-Petersson-bXusHwTH')",
   "language": "python",
   "name": "python3"
  },
  "language_info": {
   "codemirror_mode": {
    "name": "ipython",
    "version": 3
   },
   "file_extension": ".py",
   "mimetype": "text/x-python",
   "name": "python",
   "nbconvert_exporter": "python",
   "pygments_lexer": "ipython3",
   "version": "3.9.12"
  },
  "orig_nbformat": 4
 },
 "nbformat": 4,
 "nbformat_minor": 2
}
