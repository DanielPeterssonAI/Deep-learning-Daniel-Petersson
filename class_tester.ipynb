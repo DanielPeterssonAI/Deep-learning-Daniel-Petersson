{
 "cells": [
  {
   "cell_type": "code",
   "execution_count": 1,
   "metadata": {},
   "outputs": [],
   "source": [
    "import math\n",
    "import numpy as np\n",
    "import pandas as pd\n",
    "import matplotlib.pyplot as plt\n",
    "import seaborn as sns\n",
    "from sklearn.linear_model import LinearRegression\n",
    "from sklearn.model_selection import train_test_split\n",
    "from sklearn.preprocessing import StandardScaler\n",
    "from sklearn.metrics import mean_absolute_error, mean_squared_error"
   ]
  },
  {
   "cell_type": "code",
   "execution_count": 2,
   "metadata": {},
   "outputs": [
    {
     "data": {
      "text/html": [
       "<div>\n",
       "<style scoped>\n",
       "    .dataframe tbody tr th:only-of-type {\n",
       "        vertical-align: middle;\n",
       "    }\n",
       "\n",
       "    .dataframe tbody tr th {\n",
       "        vertical-align: top;\n",
       "    }\n",
       "\n",
       "    .dataframe thead th {\n",
       "        text-align: right;\n",
       "    }\n",
       "</style>\n",
       "<table border=\"1\" class=\"dataframe\">\n",
       "  <thead>\n",
       "    <tr style=\"text-align: right;\">\n",
       "      <th></th>\n",
       "      <th>mpg</th>\n",
       "      <th>cylinders</th>\n",
       "      <th>displacement</th>\n",
       "      <th>horsepower</th>\n",
       "      <th>weight</th>\n",
       "      <th>acceleration</th>\n",
       "      <th>model_year</th>\n",
       "      <th>origin_europe</th>\n",
       "      <th>origin_japan</th>\n",
       "      <th>origin_usa</th>\n",
       "    </tr>\n",
       "  </thead>\n",
       "  <tbody>\n",
       "    <tr>\n",
       "      <th>0</th>\n",
       "      <td>18.0</td>\n",
       "      <td>8</td>\n",
       "      <td>307.0</td>\n",
       "      <td>130.0</td>\n",
       "      <td>3504</td>\n",
       "      <td>12.0</td>\n",
       "      <td>70</td>\n",
       "      <td>0</td>\n",
       "      <td>0</td>\n",
       "      <td>1</td>\n",
       "    </tr>\n",
       "    <tr>\n",
       "      <th>1</th>\n",
       "      <td>15.0</td>\n",
       "      <td>8</td>\n",
       "      <td>350.0</td>\n",
       "      <td>165.0</td>\n",
       "      <td>3693</td>\n",
       "      <td>11.5</td>\n",
       "      <td>70</td>\n",
       "      <td>0</td>\n",
       "      <td>0</td>\n",
       "      <td>1</td>\n",
       "    </tr>\n",
       "    <tr>\n",
       "      <th>2</th>\n",
       "      <td>18.0</td>\n",
       "      <td>8</td>\n",
       "      <td>318.0</td>\n",
       "      <td>150.0</td>\n",
       "      <td>3436</td>\n",
       "      <td>11.0</td>\n",
       "      <td>70</td>\n",
       "      <td>0</td>\n",
       "      <td>0</td>\n",
       "      <td>1</td>\n",
       "    </tr>\n",
       "    <tr>\n",
       "      <th>3</th>\n",
       "      <td>16.0</td>\n",
       "      <td>8</td>\n",
       "      <td>304.0</td>\n",
       "      <td>150.0</td>\n",
       "      <td>3433</td>\n",
       "      <td>12.0</td>\n",
       "      <td>70</td>\n",
       "      <td>0</td>\n",
       "      <td>0</td>\n",
       "      <td>1</td>\n",
       "    </tr>\n",
       "    <tr>\n",
       "      <th>4</th>\n",
       "      <td>17.0</td>\n",
       "      <td>8</td>\n",
       "      <td>302.0</td>\n",
       "      <td>140.0</td>\n",
       "      <td>3449</td>\n",
       "      <td>10.5</td>\n",
       "      <td>70</td>\n",
       "      <td>0</td>\n",
       "      <td>0</td>\n",
       "      <td>1</td>\n",
       "    </tr>\n",
       "  </tbody>\n",
       "</table>\n",
       "</div>"
      ],
      "text/plain": [
       "    mpg  cylinders  displacement  horsepower  weight  acceleration  \\\n",
       "0  18.0          8         307.0       130.0    3504          12.0   \n",
       "1  15.0          8         350.0       165.0    3693          11.5   \n",
       "2  18.0          8         318.0       150.0    3436          11.0   \n",
       "3  16.0          8         304.0       150.0    3433          12.0   \n",
       "4  17.0          8         302.0       140.0    3449          10.5   \n",
       "\n",
       "   model_year  origin_europe  origin_japan  origin_usa  \n",
       "0          70              0             0           1  \n",
       "1          70              0             0           1  \n",
       "2          70              0             0           1  \n",
       "3          70              0             0           1  \n",
       "4          70              0             0           1  "
      ]
     },
     "execution_count": 2,
     "metadata": {},
     "output_type": "execute_result"
    }
   ],
   "source": [
    "df = sns.load_dataset(\"mpg\")\n",
    "\n",
    "X_train, y_train = df[~df[\"horsepower\"].isna()][[\"displacement\", \"acceleration\"]], df[~df[\"horsepower\"].isna()][\"horsepower\"]\n",
    "X_pred = df[df[\"horsepower\"].isna()][[\"displacement\", \"acceleration\"]]\n",
    "\n",
    "linreg = LinearRegression()\n",
    "linreg.fit(X_train, y_train)\n",
    "y_pred = linreg.predict(X_pred)\n",
    "y_pred = np.round(y_pred)\n",
    "df.loc[X_pred.index, \"horsepower\"] = y_pred\n",
    "df = pd.get_dummies(df.drop(\"name\", axis = 1), columns = [\"origin\"])\n",
    "df.head()"
   ]
  },
  {
   "cell_type": "code",
   "execution_count": 3,
   "metadata": {},
   "outputs": [],
   "source": [
    "X, y = df.drop([\"mpg\"], axis = 1).values, df[\"mpg\"].values\n",
    "\n",
    "X_train, X_test, y_train, y_test = train_test_split(X, y, test_size = 0.2, random_state = 42)\n",
    "X_val, X_test, y_val, y_test = train_test_split(X_test, y_test, test_size = 0.5, random_state = 42)"
   ]
  },
  {
   "cell_type": "code",
   "execution_count": 4,
   "metadata": {},
   "outputs": [],
   "source": [
    "scaler = StandardScaler()\n",
    "#scaler = MinMaxScaler()\n",
    "\n",
    "scaled_X_train = scaler.fit_transform(X_train)\n",
    "scaled_X_val = scaler.transform(X_val)\n",
    "scaled_X_test = scaler.transform(X_test)"
   ]
  },
  {
   "cell_type": "code",
   "execution_count": 5,
   "metadata": {},
   "outputs": [],
   "source": [
    "from evolutionary_algos import VectorizedEvoRegressor, EvoRegressor"
   ]
  },
  {
   "cell_type": "code",
   "execution_count": 20,
   "metadata": {},
   "outputs": [
    {
     "name": "stdout",
     "output_type": "stream",
     "text": [
      "Epoch 0 - loss: 17.086074252696687 - val_loss: 16.25819567965962\n",
      "Epoch 28 - loss: 15.269656020308565 - val_loss: 15.261713436423284\n",
      "Epoch 30 - loss: 13.512452485986596 - val_loss: 12.265590289239608\n",
      "Epoch 33 - loss: 11.105367345001127 - val_loss: 11.947148778450423\n",
      "Epoch 35 - loss: 10.448866824107354 - val_loss: 9.926332086789483\n",
      "Epoch 36 - loss: 8.878861956577772 - val_loss: 8.361624222117566\n",
      "Epoch 41 - loss: 6.292745587309823 - val_loss: 6.59323823583978\n",
      "Epoch 49 - loss: 5.947198300607916 - val_loss: 4.899419029631893\n",
      "Epoch 62 - loss: 5.615150078895194 - val_loss: 4.597698975452506\n",
      "Epoch 67 - loss: 4.993962371815234 - val_loss: 4.131415879457743\n",
      "Epoch 75 - loss: 4.741533283933541 - val_loss: 4.853359375333684\n",
      "Epoch 80 - loss: 4.157711573734203 - val_loss: 3.453433660159843\n",
      "Epoch 81 - loss: 3.9194176959812084 - val_loss: 3.4334399042711157\n",
      "Epoch 82 - loss: 3.7652931274717454 - val_loss: 3.0370186248282005\n",
      "Epoch 83 - loss: 3.6391331202011297 - val_loss: 3.1707870198651458\n",
      "Epoch 104 - loss: 3.580802298639122 - val_loss: 2.732598406063368\n",
      "Epoch 106 - loss: 3.548369129008517 - val_loss: 3.3179071397669198\n",
      "Epoch 111 - loss: 3.4716885162106363 - val_loss: 3.2792569105433373\n",
      "Epoch 127 - loss: 3.4227611276113215 - val_loss: 2.9609586219513018\n",
      "Epoch 135 - loss: 3.417360737804988 - val_loss: 2.7704059796032157\n",
      "Epoch 138 - loss: 3.345921985734937 - val_loss: 3.126947852949969\n",
      "Epoch 143 - loss: 3.289733559178737 - val_loss: 2.7144816388795094\n",
      "Epoch 150 - loss: 3.273118228169335 - val_loss: 2.853019524580585\n",
      "Epoch 151 - loss: 3.271565499778636 - val_loss: 2.5059287610701717\n",
      "Epoch 152 - loss: 3.2345277967912325 - val_loss: 2.6976421716193246\n",
      "Epoch 165 - loss: 3.165656180880868 - val_loss: 2.4305661747675282\n",
      "Epoch 178 - loss: 3.1036504610421214 - val_loss: 2.406454073176327\n",
      "Epoch 187 - loss: 3.0908005562469443 - val_loss: 2.253494514408795\n",
      "Epoch 199 - loss: 3.085184180203959 - val_loss: 2.2884799008330083\n",
      "Epoch 202 - loss: 3.06955513426947 - val_loss: 2.593180652667703\n",
      "Epoch 208 - loss: 3.060104299891952 - val_loss: 2.5130245660977772\n",
      "Epoch 209 - loss: 2.973149420813394 - val_loss: 2.3920988787062214\n",
      "Epoch 224 - loss: 2.9404307580755584 - val_loss: 2.448985113102876\n",
      "Epoch 235 - loss: 2.9237189309780702 - val_loss: 2.151600978799567\n",
      "Epoch 249 - loss: 2.904196838199354 - val_loss: 2.203247280469515\n",
      "Epoch 252 - loss: 2.8985209692967677 - val_loss: 2.1673942818911156\n",
      "Epoch 258 - loss: 2.827796499001654 - val_loss: 2.1005787237800746\n",
      "Epoch 269 - loss: 2.7977623193279992 - val_loss: 2.042429269709046\n",
      "Epoch 277 - loss: 2.767461598268888 - val_loss: 2.2320991230938505\n",
      "Epoch 292 - loss: 2.7625687151901284 - val_loss: 2.0378979522625644\n",
      "Epoch 315 - loss: 2.714244758721953 - val_loss: 2.188836132911529\n",
      "Epoch 323 - loss: 2.696667982649185 - val_loss: 2.029955436406806\n",
      "Epoch 326 - loss: 2.6903691371479526 - val_loss: 1.92658191198081\n",
      "Epoch 348 - loss: 2.662771248946768 - val_loss: 1.8466427762051167\n",
      "Epoch 364 - loss: 2.5971849636999322 - val_loss: 1.8691708861298415\n",
      "Epoch 371 - loss: 2.5880446654645297 - val_loss: 1.9094423070239863\n",
      "Epoch 373 - loss: 2.579954497819724 - val_loss: 1.9652838627534153\n",
      "Epoch 377 - loss: 2.555181876007889 - val_loss: 1.8648362413695705\n",
      "Epoch 416 - loss: 2.5495992481436174 - val_loss: 1.9023022118030712\n",
      "Epoch 440 - loss: 2.5469511223231214 - val_loss: 1.9091972591696078\n",
      "Epoch 463 - loss: 2.5235675386261183 - val_loss: 1.927689237423042\n",
      "Epoch 491 - loss: 2.4627393902452104 - val_loss: 1.6466111206846268\n",
      "Epoch 551 - loss: 2.445898449921046 - val_loss: 1.7137403155058784\n",
      "Epoch 632 - loss: 2.433317670146075 - val_loss: 1.7938900544291094\n",
      "Epoch 669 - loss: 2.399685130800412 - val_loss: 1.6418711468943037\n",
      "Epoch 782 - loss: 2.3785917691698097 - val_loss: 1.590393133503588\n",
      "Epoch 975 - loss: 2.367366303799101 - val_loss: 1.7565437187393917\n",
      "Epoch 1105 - loss: 2.366094470573855 - val_loss: 1.6422327461908448\n",
      "Epoch 1254 - loss: 2.359569495570235 - val_loss: 1.7427197601774274\n",
      "Epoch 1361 - loss: 2.351243216809075 - val_loss: 1.675789217197965\n",
      "Epoch 1428 - loss: 2.3473676556257734 - val_loss: 1.6440698127183324\n",
      "Epoch 1439 - loss: 2.3202113633821924 - val_loss: 1.7666173806467114\n",
      "Epoch 1511 - loss: 2.315014506857644 - val_loss: 1.6646631145664508\n",
      "Epoch 1530 - loss: 2.2988994305964665 - val_loss: 1.7852001899688639\n",
      "Epoch 1550 - loss: 2.2772725221153984 - val_loss: 1.7478814417225954\n",
      "Epoch 1553 - loss: 2.275503849159376 - val_loss: 1.800329797368871\n",
      "Epoch 1591 - loss: 2.2515334539725735 - val_loss: 1.7256610346817127\n",
      "Epoch 1608 - loss: 2.235864953568028 - val_loss: 1.7654914742309828\n",
      "Epoch 1665 - loss: 2.233133960448267 - val_loss: 1.721000626058401\n",
      "Epoch 1692 - loss: 2.2198363775525096 - val_loss: 1.9476321457948622\n",
      "Epoch 1705 - loss: 2.215423251558329 - val_loss: 1.7218204312981675\n",
      "Epoch 1888 - loss: 2.208639872474322 - val_loss: 1.8098638635118416\n",
      "Epoch 1903 - loss: 2.2083243941386854 - val_loss: 1.7083793577827002\n",
      "Epoch 1913 - loss: 2.189804820610104 - val_loss: 1.7573470675508762\n",
      "Epoch 2111 - loss: 2.1856929055364045 - val_loss: 1.7592591724415754\n",
      "Epoch 2280 - loss: 2.181188837544588 - val_loss: 1.8480079078708935\n",
      "Epoch 2306 - loss: 2.180317965746654 - val_loss: 1.9101242013334485\n",
      "Epoch 2347 - loss: 2.1782609367470775 - val_loss: 1.8021707933642481\n",
      "Epoch 2390 - loss: 2.1692406566429905 - val_loss: 1.992398435905315\n",
      "Epoch 2434 - loss: 2.14149566973286 - val_loss: 1.7703794045471795\n",
      "Epoch 2670 - loss: 2.1236017346618854 - val_loss: 1.740231855496571\n",
      "Epoch 3171 - loss: 2.119340044336827 - val_loss: 1.7989770841642347\n",
      "Epoch 3200 - loss: 2.1175638355939763 - val_loss: 1.7209052221640846\n",
      "Epoch 3201 - loss: 2.103726897937712 - val_loss: 1.8687173271947444\n",
      "Epoch 3239 - loss: 2.077497283047779 - val_loss: 1.7027179818927933\n",
      "Epoch 3598 - loss: 2.0720931764467196 - val_loss: 1.737556470561719\n",
      "Epoch 3686 - loss: 2.0665940919371404 - val_loss: 1.7616246488577487\n",
      "Epoch 3999 - loss: 2.062166377808231 - val_loss: 1.7400612024755417\n",
      "Epoch 5244 - loss: 2.0567581708694878 - val_loss: 1.8570905700555678\n",
      "Epoch 5580 - loss: 2.049675619337245 - val_loss: 1.8168296201215945\n",
      "Epoch 5692 - loss: 2.032294940940379 - val_loss: 1.7363103111068963\n",
      "Epoch 6141 - loss: 2.024495664881101 - val_loss: 1.8147109711195433\n",
      "Epoch 6874 - loss: 2.0239449688540354 - val_loss: 1.7691206194428453\n",
      "Epoch 7198 - loss: 2.0164550731469983 - val_loss: 1.763445453273277\n",
      "Epoch 7850 - loss: 2.0082599552027824 - val_loss: 1.7077909962458313\n",
      "Epoch 8080 - loss: 1.9982197767249577 - val_loss: 1.7041847775352665\n"
     ]
    }
   ],
   "source": [
    "#regressor = EvoRegressor(n = 100, hidden_layers = [25], activation = \"relu\", random_state = 42)\n",
    "regressor = VectorizedEvoRegressor(n = 8, hidden_layers = [8], activation = \"relu\", random_state = 42)\n",
    "\n",
    "\n",
    "regressor.fit(scaled_X_train, y_train, epochs = 10000, validation_data = (scaled_X_val, y_val), verbose = 1)"
   ]
  },
  {
   "cell_type": "code",
   "execution_count": 21,
   "metadata": {},
   "outputs": [
    {
     "name": "stdout",
     "output_type": "stream",
     "text": [
      "Loss on test data: 1.6849793398925432\n"
     ]
    },
    {
     "data": {
      "image/png": "[encoded data removed]",
      "text/plain": [
       "<Figure size 432x288 with 1 Axes>"
      ]
     },
     "metadata": {
      "needs_background": "light"
     },
     "output_type": "display_data"
    }
   ],
   "source": [
    "y_pred = regressor.predict(scaled_X_test)\n",
    "print(f\"Loss on test data: {mean_absolute_error(y_test, y_pred)}\")\n",
    "\n",
    "fig, ax = plt.subplots(1, 1)\n",
    "\n",
    "ax.plot(regressor.training_loss_history)\n",
    "ax.plot(regressor.validation_loss_history)\n",
    "\n",
    "plt.show()"
   ]
  },
  {
   "cell_type": "code",
   "execution_count": null,
   "metadata": {},
   "outputs": [],
   "source": []
  },
  {
   "cell_type": "code",
   "execution_count": 9,
   "metadata": {},
   "outputs": [
    {
     "data": {
      "text/plain": [
       "[<matplotlib.lines.Line2D at 0x12fb73bb0>]"
      ]
     },
     "execution_count": 9,
     "metadata": {},
     "output_type": "execute_result"
    },
    {
     "data": {
      "image/png": "[encoded data removed]",
      "text/plain": [
       "<Figure size 432x288 with 1 Axes>"
      ]
     },
     "metadata": {
      "needs_background": "light"
     },
     "output_type": "display_data"
    }
   ],
   "source": [
    "y = []\n",
    "xrange = 1000\n",
    "\n",
    "for x in range(1, xrange + 1):\n",
    "    y.append(5 * 1 / math.exp(x / (xrange / (10 * math.log10(xrange)))))\n",
    "\n",
    "plt.plot(list(range(xrange)), y)"
   ]
  },
  {
   "cell_type": "code",
   "execution_count": 10,
   "metadata": {},
   "outputs": [
    {
     "data": {
      "text/plain": [
       "[<matplotlib.lines.Line2D at 0x12fcf2a00>]"
      ]
     },
     "execution_count": 10,
     "metadata": {},
     "output_type": "execute_result"
    },
    {
     "data": {
      "image/png": "[encoded data removed]",
      "text/plain": [
       "<Figure size 432x288 with 1 Axes>"
      ]
     },
     "metadata": {
      "needs_background": "light"
     },
     "output_type": "display_data"
    }
   ],
   "source": [
    "y = []\n",
    "xrange = 10000\n",
    "\n",
    "for x in range(1, xrange + 1):\n",
    "    y.append(5 * 1 / math.exp(x / (xrange / 10)))\n",
    "\n",
    "plt.plot(list(range(xrange)), y)"
   ]
  }
 ],
 "metadata": {
  "interpreter": {
   "hash": "47d3b7ff548c1bae2d6b155a9b3d6f1122689b634566f833764ba5dd9fcfa2e0"
  },
  "kernelspec": {
   "display_name": "Python 3.9.12 ('Deep-learning-Daniel-Petersson-bXusHwTH')",
   "language": "python",
   "name": "python3"
  },
  "language_info": {
   "codemirror_mode": {
    "name": "ipython",
    "version": 3
   },
   "file_extension": ".py",
   "mimetype": "text/x-python",
   "name": "python",
   "nbconvert_exporter": "python",
   "pygments_lexer": "ipython3",
   "version": "3.9.12"
  },
  "orig_nbformat": 4
 },
 "nbformat": 4,
 "nbformat_minor": 2
}
