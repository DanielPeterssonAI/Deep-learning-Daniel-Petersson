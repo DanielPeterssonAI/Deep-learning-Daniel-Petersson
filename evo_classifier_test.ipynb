{
 "cells": [
  {
   "cell_type": "code",
   "execution_count": 7,
   "metadata": {},
   "outputs": [],
   "source": [
    "import math\n",
    "import pandas as pd\n",
    "import matplotlib.pyplot as plt\n",
    "import numpy as np\n",
    "from sklearn.model_selection import train_test_split\n",
    "from sklearn.linear_model import LogisticRegression\n",
    "from sklearn.preprocessing import StandardScaler, MinMaxScaler\n",
    "from sklearn.metrics import recall_score, classification_report, confusion_matrix, ConfusionMatrixDisplay\n",
    "folder = \"kaggle-cardio/\"\n",
    "cardio_file = \"cardio_train.csv\"\n",
    "\n",
    "df_cardio = pd.read_csv(f\"{folder}{cardio_file}\", sep = \";\")\n",
    "\n",
    "df_cardio[\"bmi\"] = df_cardio[\"weight\"] / (df_cardio[\"height\"] / 100) ** 2\n",
    "\n",
    "def plot_column(df, col_name, min, max):\n",
    "    return df[(df[col_name] > min) & (df[col_name] < max)]\n",
    "\n",
    "df_cardio = plot_column(df_cardio, \"bmi\", min = 15, max = 50)\n",
    "\n",
    "df_cardio[\"bmi_category\"] = pd.cut(\n",
    "    df_cardio[\"bmi\"], \n",
    "    bins = [0, 25, 30, 35, 40, 1000], \n",
    "    labels = [\"Normal\", \"Overweight\", \"Obese (Class I)\", \"Obese (Class II)\", \"Obese (Class III)\"], \n",
    "    right = False\n",
    ")\n",
    "\n",
    "df_cardio = plot_column(df_cardio, \"ap_hi\", min = 75, max = 200)\n",
    "\n",
    "df_cardio = plot_column(df_cardio, \"ap_lo\", min = 50, max = 150)"
   ]
  },
  {
   "cell_type": "code",
   "execution_count": 8,
   "metadata": {},
   "outputs": [],
   "source": [
    "def ap_categorizer(hi, lo):\n",
    "    '''ap_categorizer() takes blood two pressure values as arguments and returns the blood pressure category'''\n",
    "\n",
    "    if hi >= 180 or lo >= 120: return \"Hypertension crisis\"\n",
    "    if hi >= 140 or lo >= 90: return \"Stage 2 hypertension\"\n",
    "    if hi < 120 and lo < 80: return \"Healthy\"\n",
    "    if hi < 130 and lo < 80: return \"Elevated\"\n",
    "    return \"Stage 1 hypertension\"\n",
    "\n",
    "df_cardio[\"ap_category\"] = df_cardio.apply(lambda x: ap_categorizer(x[\"ap_hi\"], x[\"ap_lo\"]), axis = 1).astype(\"category\")"
   ]
  },
  {
   "cell_type": "code",
   "execution_count": 9,
   "metadata": {},
   "outputs": [
    {
     "data": {
      "text/html": [
       "<div>\n",
       "<style scoped>\n",
       "    .dataframe tbody tr th:only-of-type {\n",
       "        vertical-align: middle;\n",
       "    }\n",
       "\n",
       "    .dataframe tbody tr th {\n",
       "        vertical-align: top;\n",
       "    }\n",
       "\n",
       "    .dataframe thead th {\n",
       "        text-align: right;\n",
       "    }\n",
       "</style>\n",
       "<table border=\"1\" class=\"dataframe\">\n",
       "  <thead>\n",
       "    <tr style=\"text-align: right;\">\n",
       "      <th></th>\n",
       "      <th>id</th>\n",
       "      <th>age</th>\n",
       "      <th>ap_hi</th>\n",
       "      <th>ap_lo</th>\n",
       "      <th>cholesterol</th>\n",
       "      <th>gluc</th>\n",
       "      <th>smoke</th>\n",
       "      <th>alco</th>\n",
       "      <th>active</th>\n",
       "      <th>cardio</th>\n",
       "      <th>bmi</th>\n",
       "      <th>gender_2</th>\n",
       "    </tr>\n",
       "  </thead>\n",
       "  <tbody>\n",
       "    <tr>\n",
       "      <th>0</th>\n",
       "      <td>0</td>\n",
       "      <td>18393</td>\n",
       "      <td>110</td>\n",
       "      <td>80</td>\n",
       "      <td>1</td>\n",
       "      <td>1</td>\n",
       "      <td>0</td>\n",
       "      <td>0</td>\n",
       "      <td>1</td>\n",
       "      <td>0</td>\n",
       "      <td>21.967120</td>\n",
       "      <td>1</td>\n",
       "    </tr>\n",
       "    <tr>\n",
       "      <th>1</th>\n",
       "      <td>1</td>\n",
       "      <td>20228</td>\n",
       "      <td>140</td>\n",
       "      <td>90</td>\n",
       "      <td>3</td>\n",
       "      <td>1</td>\n",
       "      <td>0</td>\n",
       "      <td>0</td>\n",
       "      <td>1</td>\n",
       "      <td>1</td>\n",
       "      <td>34.927679</td>\n",
       "      <td>0</td>\n",
       "    </tr>\n",
       "    <tr>\n",
       "      <th>2</th>\n",
       "      <td>2</td>\n",
       "      <td>18857</td>\n",
       "      <td>130</td>\n",
       "      <td>70</td>\n",
       "      <td>3</td>\n",
       "      <td>1</td>\n",
       "      <td>0</td>\n",
       "      <td>0</td>\n",
       "      <td>0</td>\n",
       "      <td>1</td>\n",
       "      <td>23.507805</td>\n",
       "      <td>0</td>\n",
       "    </tr>\n",
       "    <tr>\n",
       "      <th>3</th>\n",
       "      <td>3</td>\n",
       "      <td>17623</td>\n",
       "      <td>150</td>\n",
       "      <td>100</td>\n",
       "      <td>1</td>\n",
       "      <td>1</td>\n",
       "      <td>0</td>\n",
       "      <td>0</td>\n",
       "      <td>1</td>\n",
       "      <td>1</td>\n",
       "      <td>28.710479</td>\n",
       "      <td>1</td>\n",
       "    </tr>\n",
       "    <tr>\n",
       "      <th>4</th>\n",
       "      <td>4</td>\n",
       "      <td>17474</td>\n",
       "      <td>100</td>\n",
       "      <td>60</td>\n",
       "      <td>1</td>\n",
       "      <td>1</td>\n",
       "      <td>0</td>\n",
       "      <td>0</td>\n",
       "      <td>0</td>\n",
       "      <td>0</td>\n",
       "      <td>23.011177</td>\n",
       "      <td>0</td>\n",
       "    </tr>\n",
       "  </tbody>\n",
       "</table>\n",
       "</div>"
      ],
      "text/plain": [
       "   id    age  ap_hi  ap_lo  cholesterol  gluc  smoke  alco  active  cardio  \\\n",
       "0   0  18393    110     80            1     1      0     0       1       0   \n",
       "1   1  20228    140     90            3     1      0     0       1       1   \n",
       "2   2  18857    130     70            3     1      0     0       0       1   \n",
       "3   3  17623    150    100            1     1      0     0       1       1   \n",
       "4   4  17474    100     60            1     1      0     0       0       0   \n",
       "\n",
       "         bmi  gender_2  \n",
       "0  21.967120         1  \n",
       "1  34.927679         0  \n",
       "2  23.507805         0  \n",
       "3  28.710479         1  \n",
       "4  23.011177         0  "
      ]
     },
     "execution_count": 9,
     "metadata": {},
     "output_type": "execute_result"
    }
   ],
   "source": [
    "df_cardio_first = df_cardio.drop([\"ap_hi\", \"ap_lo\", \"height\", \"weight\", \"bmi\"], axis = 1)\n",
    "df_cardio_first = pd.get_dummies(df_cardio_first, columns = [\"bmi_category\", \"ap_category\", \"gender\"], drop_first = True)\n",
    "\n",
    "df_cardio_second = df_cardio.drop([\"bmi_category\", \"ap_category\", \"height\", \"weight\"], axis = 1)\n",
    "df_cardio_second = pd.get_dummies(df_cardio_second, columns = [\"gender\"], drop_first = True)\n",
    "\n",
    "df_cardio_second.head()"
   ]
  },
  {
   "cell_type": "code",
   "execution_count": 10,
   "metadata": {},
   "outputs": [
    {
     "data": {
      "text/plain": [
       "((34130, 10), (17065, 10), (17065, 10), (34130,), (17065,), (17065,))"
      ]
     },
     "execution_count": 10,
     "metadata": {},
     "output_type": "execute_result"
    }
   ],
   "source": [
    "def tvt_split(X, y):\n",
    "    X_train, X_test, y_train, y_test = train_test_split(X.values, y.values, test_size = 0.5, random_state = 42)\n",
    "    X_val, X_test, y_val, y_test = train_test_split(X_test, y_test, test_size = 0.5, random_state = 42)\n",
    "\n",
    "    return X_train, X_val, X_test, y_train, y_val, y_test\n",
    "\n",
    "datasets = {}\n",
    "\n",
    "X_train, X_val, X_test, y_train, y_val, y_test = tvt_split(df_cardio_first.drop([\"id\", \"cardio\"], axis = 1), df_cardio_first[\"cardio\"])\n",
    "\n",
    "X_train, X_val, X_test, y_train, y_val, y_test = tvt_split(df_cardio_second.drop([\"id\", \"cardio\"], axis = 1), df_cardio_second[\"cardio\"])\n",
    "\n",
    "X_train.shape, X_val.shape, X_test.shape, y_train.shape, y_val.shape, y_test.shape"
   ]
  },
  {
   "cell_type": "code",
   "execution_count": 11,
   "metadata": {},
   "outputs": [],
   "source": [
    "scaler = StandardScaler()\n",
    "#scaler = MinMaxScaler()\n",
    "\n",
    "scaled_X_train = scaler.fit_transform(X_train)\n",
    "scaled_X_val = scaler.transform(X_val)\n",
    "scaled_X_test = scaler.transform(X_test)"
   ]
  },
  {
   "cell_type": "code",
   "execution_count": 12,
   "metadata": {},
   "outputs": [],
   "source": [
    "#from evolutionary_algos import EvoMLPClassifier\n",
    "#classifier = EvoMLPClassifier(n = 48, hidden_layers = [8], activation = \"relu\", random_state = 42)\n",
    "#classifier.fit(scaled_X_train, y_train, epochs = 1000, verbose = 1)"
   ]
  },
  {
   "cell_type": "code",
   "execution_count": 295,
   "metadata": {},
   "outputs": [],
   "source": [
    "class EvoMLPClassifier:\n",
    "    '''LATEST VERSION, TESTED WITH MULTICLASS AND BINARY'''\n",
    "\n",
    "    def __init__(self, n = 24, hidden_layers = False, activation = \"relu\", lr_target = 0.04, lr_initial_decay = 60, lr_final_decay = 0.03, random_state = None):\n",
    "\n",
    "        self.n = int(round(n / 8) * 8)\n",
    "        self.validation_loss_history = []\n",
    "        self.training_loss_history = []\n",
    "        self.random_state = random_state\n",
    "        self.activation = activation\n",
    "        self.lr_target = lr_target\n",
    "        self.lr_initial_decay = lr_initial_decay\n",
    "        self.lr_final_decay = lr_final_decay\n",
    "\n",
    "        \n",
    "        if hidden_layers:\n",
    "            self.hidden_layers = hidden_layers\n",
    "        else:\n",
    "            self.hidden_layers = False\n",
    "\n",
    "        \n",
    "\n",
    "    def fit(self, X_train, y_train, epochs = 100, validation_data = False, verbose = 0):\n",
    "\n",
    "        n = self.n\n",
    "        ndiv4 = n // 4\n",
    "\n",
    "        if self.random_state != None:\n",
    "            np.random.seed(self.random_state)\n",
    "\n",
    "        X_train = np.c_[np.ones(X_train.shape[0]), X_train]\n",
    "        y_train = y_train.astype(\"int8\")\n",
    "\n",
    "        if len(y_train.shape) == 1:\n",
    "            self.multiclass = False\n",
    "        elif len(y_train.shape) == 2 and y_train.shape[1] == 1:\n",
    "            self.multiclass = False\n",
    "            y_train = y_train.ravel()\n",
    "        else:\n",
    "            self.multiclass = True\n",
    "            \n",
    "\n",
    "        if validation_data:\n",
    "            X_val, y_val = validation_data\n",
    "\n",
    "        if self.activation == \"sigmoid\":\n",
    "            activation_function = lambda x: 1 / (1 + np.exp(-x))\n",
    "        elif self.activation == \"leaky_relu\":\n",
    "            activation_function = lambda x: np.maximum(0.1 * x, x)\n",
    "        else:\n",
    "            activation_function = lambda x: np.maximum(0, x)\n",
    "\n",
    "        if self.multiclass == True:\n",
    "            output_activation_function = lambda x: np.exp(x) / np.sum(np.exp(x), axis = 2, keepdims = True)\n",
    "            \n",
    "            def loss_function(y_train, y_preds):\n",
    "                return np.mean(np.sum(-y_train * np.log10(y_preds), axis = 2), axis = 1)\n",
    "\n",
    "        elif self.multiclass == False:\n",
    "            output_activation_function = lambda x: (1 / (1 + np.exp(-x))).reshape(x.shape[:2])\n",
    "\n",
    "            def loss_function(y_train, y_preds):\n",
    "                return np.mean(np.abs(y_preds - y_train), axis = 1)\n",
    "\n",
    "        lr_target = self.lr_target\n",
    "        lr_initial_decay = self.lr_initial_decay\n",
    "        lr_final_decay = self.lr_final_decay\n",
    "\n",
    "        layers = [X_train.shape[1]]\n",
    "\n",
    "        if self.hidden_layers:\n",
    "            layers = [X_train.shape[1]] + self.hidden_layers\n",
    "\n",
    "        if self.multiclass == True:\n",
    "            layers = layers + [y_train.shape[1]]\n",
    "        elif self.multiclass == False:\n",
    "            layers = layers + [1]\n",
    "\n",
    "        number_of_layers_minus_one = len(layers) - 1\n",
    "        \n",
    "        if self.multiclass == True:\n",
    "            y_preds = np.zeros((n, y_train.shape[0], y_train.shape[1]))\n",
    "            #y_preds = np.zeros((n, 1000, y_train.shape[1]))\n",
    "        elif self.multiclass == False:\n",
    "            y_preds = np.zeros((n, y_train.shape[0]))\n",
    "            #y_preds = np.zeros((n, 1000))\n",
    "\n",
    "        nets_loss = np.zeros(n)\n",
    "        sorted_indices = np.arange(-(ndiv4), n, 1)\n",
    "        sorted_indices = np.arange(0, n, 1)\n",
    "\n",
    "        best_net_index = -1\n",
    "\n",
    "        weights = []\n",
    "\n",
    "        for i in range(number_of_layers_minus_one):\n",
    "            weights += [np.random.normal(0, 1, (n, layers[i], layers[i + 1]))]\n",
    "\n",
    "        for epoch in range(epochs):\n",
    "            sample_indices = np.arange(0, X_train.shape[0])\n",
    "            np.random.shuffle(sample_indices)\n",
    "\n",
    "            while len(sample_indices) > 0:\n",
    "                forward_pass = X_train[sample_indices[:1000]].T\n",
    "                y_train_sampled = y_train[sample_indices[:1000]]\n",
    "\n",
    "                \n",
    "                for j in range(number_of_layers_minus_one - 1):\n",
    "                    forward_pass = activation_function(weights[j].transpose(0, 2, 1) @ forward_pass)\n",
    "                \n",
    "                forward_pass = weights[-1].transpose(0, 2, 1) @ forward_pass\n",
    "\n",
    "                #print(y_preds[sorted_indices[ndiv4:], sample_indices[:1000]].shape)\n",
    "                \n",
    "                y_preds[:, sample_indices[:1000]] = output_activation_function(forward_pass.transpose(0, 2, 1))\n",
    "\n",
    "                nets_loss = loss_function(y_train_sampled, y_preds[:, sample_indices[:1000]])\n",
    "\n",
    "                sorted_indices = np.argsort(nets_loss)\n",
    "                mutation_sigma = math.exp(-epoch / (epochs / (lr_initial_decay * math.log10(epochs + 1)))) + lr_final_decay * math.exp(-(epoch + 1) * (1 / (epochs))) + lr_target + (-0.036 * 10 * lr_final_decay)\n",
    "\n",
    "                for j in range(number_of_layers_minus_one):\n",
    "                    weights[j][sorted_indices[0 + ndiv4::6]] = (weights[j][sorted_indices[0: ndiv4: 2]] + weights[j][sorted_indices[1: ndiv4: 2]]) / 2 + np.random.normal(0, mutation_sigma, (ndiv4 // 2, layers[j], layers[j + 1]))\n",
    "                    weights[j][sorted_indices[1 + ndiv4::6]] = (weights[j][sorted_indices[0: ndiv4: 2]] + weights[j][sorted_indices[1: ndiv4: 2]]) / 2 + np.random.normal(0, mutation_sigma, (ndiv4 // 2, layers[j], layers[j + 1]))\n",
    "                    weights[j][sorted_indices[2 + ndiv4::6]] = (weights[j][sorted_indices[0: ndiv4: 2]] + weights[j][sorted_indices[1: ndiv4: 2]]) / 2 + np.random.normal(0, mutation_sigma, (ndiv4 // 2, layers[j], layers[j + 1]))\n",
    "                    weights[j][sorted_indices[3 + ndiv4::6]] = (weights[j][sorted_indices[0: ndiv4: 2]] + weights[j][sorted_indices[1: ndiv4: 2]]) / 2 + np.random.normal(0, mutation_sigma, (ndiv4 // 2, layers[j], layers[j + 1]))\n",
    "                    weights[j][sorted_indices[4 + ndiv4::6]] = (weights[j][sorted_indices[0: ndiv4: 2]] + weights[j][sorted_indices[1: ndiv4: 2]]) / 2 + np.random.normal(0, mutation_sigma, (ndiv4 // 2, layers[j], layers[j + 1]))\n",
    "                    weights[j][sorted_indices[5 + ndiv4::6]] = (weights[j][sorted_indices[0: ndiv4: 2]] + weights[j][sorted_indices[1: ndiv4: 2]]) / 2 + np.random.normal(0, mutation_sigma, (ndiv4 // 2, layers[j], layers[j + 1]))\n",
    "\n",
    "                if best_net_index != sorted_indices[0]:\n",
    "                    best_net_index = sorted_indices[0]\n",
    "                    self.training_loss_history += [nets_loss[best_net_index]]\n",
    "                    \n",
    "\n",
    "                    self.best_net_weights = []\n",
    "                    for j in range(number_of_layers_minus_one):\n",
    "                        self.best_net_weights += [weights[j][best_net_index]]\n",
    "                    \n",
    "                    if validation_data:\n",
    "                        self.validation_loss_history += [np.mean(np.abs(y_val - self.predict(X_val)))]\n",
    "                        if verbose == 1:\n",
    "                            print(f\"Epoch {epoch} - loss: {self.training_loss_history[-1]} - val_loss: {self.validation_loss_history[-1]}\")\n",
    "                    else:\n",
    "                        if verbose == 1:\n",
    "                            pass\n",
    "                            print(f\"Epoch {epoch} - loss: {self.training_loss_history[-1]} - {mutation_sigma}\")\n",
    "\n",
    "                sample_indices = sample_indices[1000:]\n",
    "\n",
    "\n",
    "    def predict(self, X):\n",
    "        X = np.c_[np.ones(X.shape[0]), X]\n",
    "\n",
    "        if self.activation == \"sigmoid\":\n",
    "            activation_function = lambda x: 1 / (1 + np.exp(-x))\n",
    "        elif self.activation == \"leaky_relu\":\n",
    "            activation_function = lambda x: np.maximum(0.1 * x, x)\n",
    "        else:\n",
    "            activation_function = lambda x: np.maximum(0, x)\n",
    "\n",
    "        if self.multiclass == True:\n",
    "            output_activation_function = lambda x: np.exp(x) / np.sum(np.exp(x), axis = 1, keepdims = True)\n",
    "\n",
    "        elif self.multiclass == False:\n",
    "            output_activation_function = lambda x: (1 / (1 + np.exp(-x))).reshape(x.shape[:1])\n",
    "\n",
    "        forward_pass = X.T\n",
    "\n",
    "        for j in range(len(self.best_net_weights) - 1):\n",
    "            forward_pass = activation_function(self.best_net_weights[j].T @ forward_pass)\n",
    "            \n",
    "        forward_pass = self.best_net_weights[-1].T @ forward_pass\n",
    "            \n",
    "        return output_activation_function(forward_pass.T)"
   ]
  },
  {
   "cell_type": "code",
   "execution_count": 293,
   "metadata": {},
   "outputs": [
    {
     "name": "stdout",
     "output_type": "stream",
     "text": [
      "Epoch 0 - loss: 0.37918163750230066 - val_loss: 0.38968283210568444\n",
      "Epoch 0 - loss: 0.3519839442170109 - val_loss: 0.3501530197326706\n",
      "Epoch 0 - loss: 0.33279584255532146 - val_loss: 0.3324322576935052\n",
      "Epoch 0 - loss: 0.2922150658986911 - val_loss: 0.30791141544493716\n",
      "Epoch 0 - loss: 0.28645695804593657 - val_loss: 0.30765297120692775\n",
      "Epoch 0 - loss: 0.2996603578308702 - val_loss: 0.2981230259940363\n",
      "Epoch 0 - loss: 0.30514945433121515 - val_loss: 0.31276338226139117\n",
      "Epoch 0 - loss: 0.2930353101765562 - val_loss: 0.2923143775670306\n",
      "Epoch 0 - loss: 0.281672150383948 - val_loss: 0.29700094365034746\n",
      "Epoch 0 - loss: 0.30003666584323574 - val_loss: 0.29388858936023643\n",
      "Epoch 0 - loss: 0.29964267816099965 - val_loss: 0.28625551335222443\n",
      "Epoch 0 - loss: 0.2674351881316396 - val_loss: 0.2900736682557648\n",
      "Epoch 0 - loss: 0.2745440291181876 - val_loss: 0.2968510658322562\n",
      "Epoch 0 - loss: 0.2781774025163572 - val_loss: 0.28807678873297016\n",
      "Epoch 0 - loss: 0.2685763619150532 - val_loss: 0.28625551335222443\n",
      "Epoch 0 - loss: 0.29003115209444413 - val_loss: 0.2894492171642593\n",
      "Epoch 0 - loss: 0.2639036780212844 - val_loss: 0.28628352650965105\n",
      "Epoch 0 - loss: 0.2707508484967183 - val_loss: 0.282482371035373\n",
      "Epoch 0 - loss: 0.2539895205962302 - val_loss: 0.28287880324623405\n",
      "Epoch 0 - loss: 0.27100689473657114 - val_loss: 0.28855500994424316\n",
      "Epoch 0 - loss: 0.28346236512023454 - val_loss: 0.2879121470533482\n",
      "Epoch 0 - loss: 0.26460230426822196 - val_loss: 0.2857643529423701\n",
      "Epoch 0 - loss: 0.27091239759584196 - val_loss: 0.2853792650552579\n",
      "Epoch 0 - loss: 0.2630182093408464 - val_loss: 0.2810971057964949\n",
      "Epoch 0 - loss: 0.23917658944958425 - val_loss: 0.2779553579341359\n",
      "Epoch 0 - loss: 0.2602485851970723 - val_loss: 0.27942070156421156\n",
      "Epoch 0 - loss: 0.2767075024634097 - val_loss: 0.27732788370361877\n",
      "Epoch 0 - loss: 0.2698173940136614 - val_loss: 0.2792334786157807\n",
      "Epoch 0 - loss: 0.23667613471649224 - val_loss: 0.2780312243191577\n",
      "Epoch 1 - loss: 0.2656675990490642 - val_loss: 0.2842172502968205\n",
      "Epoch 1 - loss: 0.2663653636657069 - val_loss: 0.2809103427818408\n",
      "Epoch 1 - loss: 0.2803423697560404 - val_loss: 0.2752114186108297\n",
      "Epoch 1 - loss: 0.2560600408270202 - val_loss: 0.2779725435568007\n",
      "Epoch 1 - loss: 0.27998758134263785 - val_loss: 0.2757979468834762\n",
      "Epoch 1 - loss: 0.2302974584213063 - val_loss: 0.27733569615158676\n",
      "Epoch 1 - loss: 0.2510667876448391 - val_loss: 0.2770810870019398\n",
      "Epoch 1 - loss: 0.25056008117117157 - val_loss: 0.2777703713429361\n",
      "Epoch 1 - loss: 0.2552773595864814 - val_loss: 0.2782671031047695\n",
      "Epoch 1 - loss: 0.2634887721360746 - val_loss: 0.279843834157614\n",
      "Epoch 1 - loss: 0.27586161519115937 - val_loss: 0.27589081321468373\n",
      "Epoch 1 - loss: 0.2672189143055159 - val_loss: 0.27981783527785486\n",
      "Epoch 1 - loss: 0.2560473721646794 - val_loss: 0.2769602376778039\n",
      "Epoch 1 - loss: 0.2658182102035169 - val_loss: 0.28082919267156736\n",
      "Epoch 1 - loss: 0.2542176573242294 - val_loss: 0.2782406465052268\n",
      "Epoch 1 - loss: 0.2887845397806337 - val_loss: 0.2775211836349971\n",
      "Epoch 1 - loss: 0.27655694417523174 - val_loss: 0.2782563366339525\n",
      "Epoch 1 - loss: 0.25718836500049674 - val_loss: 0.2779924313161955\n",
      "Epoch 1 - loss: 0.2578005377002552 - val_loss: 0.27625464915540476\n",
      "Epoch 1 - loss: 0.26471099460402064 - val_loss: 0.2826552692512987\n",
      "Epoch 1 - loss: 0.2675676676872934 - val_loss: 0.2761352045175285\n",
      "Epoch 1 - loss: 0.2680141370649452 - val_loss: 0.27625464915540476\n",
      "Epoch 1 - loss: 0.26921796475279025 - val_loss: 0.28311145398931203\n",
      "Epoch 1 - loss: 0.2619236139534242 - val_loss: 0.2799552574079331\n",
      "Epoch 1 - loss: 0.268801820643479 - val_loss: 0.27903261009153213\n",
      "Epoch 1 - loss: 0.26939801862572754 - val_loss: 0.27645535456853954\n",
      "Epoch 1 - loss: 0.2584467080348227 - val_loss: 0.2770157618022174\n",
      "Epoch 1 - loss: 0.26753458203364505 - val_loss: 0.28026832811855484\n",
      "Epoch 1 - loss: 0.2653877967074712 - val_loss: 0.27469620015623625\n",
      "Epoch 1 - loss: 0.26663918504287026 - val_loss: 0.2808504654826901\n"
     ]
    },
    {
     "name": "stderr",
     "output_type": "stream",
     "text": [
      "/var/folders/xz/f2gwbn5n3vs4pz044n49z3cw0000gn/T/ipykernel_89777/1840960108.py:60: RuntimeWarning: overflow encountered in exp\n",
      "  output_activation_function = lambda x: (1 / (1 + np.exp(-x))).reshape(x.shape[:2])\n"
     ]
    },
    {
     "name": "stdout",
     "output_type": "stream",
     "text": [
      "Epoch 1 - loss: 0.28268308034656303 - val_loss: 0.27379052706488216\n",
      "Epoch 1 - loss: 0.2672524983210719 - val_loss: 0.27261064662707785\n",
      "Epoch 1 - loss: 0.24481621414556 - val_loss: 0.2730890514293234\n",
      "Epoch 1 - loss: 0.2574780710812591 - val_loss: 0.27423161045944017\n",
      "Epoch 1 - loss: 0.1919595432991132 - val_loss: 0.2741576625140119\n",
      "Epoch 2 - loss: 0.2645567263767943 - val_loss: 0.2754563013381908\n",
      "Epoch 2 - loss: 0.26404371617590333 - val_loss: 0.2737883509436602\n",
      "Epoch 2 - loss: 0.2564201309139382 - val_loss: 0.2723609448278085\n",
      "Epoch 2 - loss: 0.2525211945037178 - val_loss: 0.2741773205656172\n",
      "Epoch 2 - loss: 0.24425699434262196 - val_loss: 0.2752825145093881\n",
      "Epoch 2 - loss: 0.2722379680505043 - val_loss: 0.2767985250575517\n",
      "Epoch 2 - loss: 0.26310924417022435 - val_loss: 0.27832354503703155\n",
      "Epoch 2 - loss: 0.283278396522973 - val_loss: 0.2774794108317614\n",
      "Epoch 2 - loss: 0.2533283505996998 - val_loss: 0.27411619545175475\n",
      "Epoch 2 - loss: 0.2819624422449374 - val_loss: 0.2757673719720599\n",
      "Epoch 2 - loss: 0.2613438393577253 - val_loss: 0.27518182125332\n",
      "Epoch 2 - loss: 0.2623349183349693 - val_loss: 0.2701525106363105\n",
      "Epoch 2 - loss: 0.27234042919128154 - val_loss: 0.27518182125332\n",
      "Epoch 2 - loss: 0.22180227792727739 - val_loss: 0.2740017352307045\n",
      "Epoch 2 - loss: 0.27475210217713925 - val_loss: 0.27366921019766355\n",
      "Epoch 2 - loss: 0.2743084172168754 - val_loss: 0.27377057963913937\n",
      "Epoch 2 - loss: 0.2497529524832144 - val_loss: 0.27471649943907384\n",
      "Epoch 2 - loss: 0.2655790281108258 - val_loss: 0.272108179753282\n",
      "Epoch 2 - loss: 0.2300473413168472 - val_loss: 0.27421977910038253\n",
      "Epoch 2 - loss: 0.25497380797291597 - val_loss: 0.27349621829235027\n",
      "Epoch 2 - loss: 0.2720455375295447 - val_loss: 0.27523665207575493\n",
      "Epoch 2 - loss: 0.24761096204467023 - val_loss: 0.27450030002069054\n",
      "Epoch 2 - loss: 0.27579884126444637 - val_loss: 0.2738447071958265\n",
      "Epoch 2 - loss: 0.26679532907163817 - val_loss: 0.273980977732359\n",
      "Epoch 2 - loss: 0.27415512141222065 - val_loss: 0.27982707046611166\n",
      "Epoch 2 - loss: 0.23860700292399786 - val_loss: 0.27611824571223126\n",
      "Epoch 2 - loss: 0.2661416291744327 - val_loss: 0.27999961227646386\n",
      "Epoch 2 - loss: 0.2642018352753909 - val_loss: 0.2753593550471157\n",
      "Epoch 2 - loss: 0.2523789696986409 - val_loss: 0.2758978342539493\n",
      "Epoch 2 - loss: 0.2626917196831343 - val_loss: 0.2753042761612896\n",
      "Epoch 2 - loss: 0.2636587738955831 - val_loss: 0.27618957915165987\n",
      "Epoch 2 - loss: 0.27072125922782975 - val_loss: 0.2734050709133159\n",
      "Epoch 2 - loss: 0.27108950124285625 - val_loss: 0.27309117471504596\n",
      "Epoch 2 - loss: 0.26921325893434644 - val_loss: 0.27455106020665954\n",
      "Epoch 2 - loss: 0.2575389604092507 - val_loss: 0.2768787708297824\n",
      "Epoch 3 - loss: 0.2495483581137613 - val_loss: 0.27295269195032457\n",
      "Epoch 3 - loss: 0.2608361283928121 - val_loss: 0.27127430843239614\n",
      "Epoch 3 - loss: 0.25345958963045856 - val_loss: 0.271411785030224\n",
      "Epoch 3 - loss: 0.2762863919970814 - val_loss: 0.2731404638182632\n",
      "Epoch 3 - loss: 0.25714862408312067 - val_loss: 0.27367282375100427\n"
     ]
    },
    {
     "ename": "KeyboardInterrupt",
     "evalue": "",
     "output_type": "error",
     "traceback": [
      "\u001b[0;31m---------------------------------------------------------------------------\u001b[0m",
      "\u001b[0;31mKeyboardInterrupt\u001b[0m                         Traceback (most recent call last)",
      "\u001b[1;32m/Users/dp/Documents/GitHub/Deep-learning-Daniel-Petersson/evo_classifier_test.ipynb Cell 8'\u001b[0m in \u001b[0;36m<cell line: 2>\u001b[0;34m()\u001b[0m\n\u001b[1;32m      <a href='vscode-notebook-cell:/Users/dp/Documents/GitHub/Deep-learning-Daniel-Petersson/evo_classifier_test.ipynb#ch0000005?line=0'>1</a>\u001b[0m classifier \u001b[39m=\u001b[39m EvoMLPClassifier(n \u001b[39m=\u001b[39m \u001b[39m48\u001b[39m, hidden_layers \u001b[39m=\u001b[39m [\u001b[39m8\u001b[39m], activation \u001b[39m=\u001b[39m \u001b[39m\"\u001b[39m\u001b[39mrelu\u001b[39m\u001b[39m\"\u001b[39m, random_state \u001b[39m=\u001b[39m \u001b[39m42\u001b[39m)\n\u001b[0;32m----> <a href='vscode-notebook-cell:/Users/dp/Documents/GitHub/Deep-learning-Daniel-Petersson/evo_classifier_test.ipynb#ch0000005?line=1'>2</a>\u001b[0m classifier\u001b[39m.\u001b[39;49mfit(scaled_X_train, y_train, epochs \u001b[39m=\u001b[39;49m \u001b[39m1000\u001b[39;49m, validation_data \u001b[39m=\u001b[39;49m (scaled_X_val, y_val), verbose \u001b[39m=\u001b[39;49m \u001b[39m1\u001b[39;49m)\n",
      "\u001b[1;32m/Users/dp/Documents/GitHub/Deep-learning-Daniel-Petersson/evo_classifier_test.ipynb Cell 7'\u001b[0m in \u001b[0;36mEvoMLPClassifier.fit\u001b[0;34m(self, X_train, y_train, epochs, validation_data, verbose)\u001b[0m\n\u001b[1;32m    <a href='vscode-notebook-cell:/Users/dp/Documents/GitHub/Deep-learning-Daniel-Petersson/evo_classifier_test.ipynb#ch0000010?line=104'>105</a>\u001b[0m y_train_sampled \u001b[39m=\u001b[39m y_train[sample_indices[:\u001b[39m1000\u001b[39m]]\n\u001b[1;32m    <a href='vscode-notebook-cell:/Users/dp/Documents/GitHub/Deep-learning-Daniel-Petersson/evo_classifier_test.ipynb#ch0000010?line=107'>108</a>\u001b[0m \u001b[39mfor\u001b[39;00m j \u001b[39min\u001b[39;00m \u001b[39mrange\u001b[39m(number_of_layers_minus_one \u001b[39m-\u001b[39m \u001b[39m1\u001b[39m):\n\u001b[0;32m--> <a href='vscode-notebook-cell:/Users/dp/Documents/GitHub/Deep-learning-Daniel-Petersson/evo_classifier_test.ipynb#ch0000010?line=108'>109</a>\u001b[0m     forward_pass \u001b[39m=\u001b[39m activation_function(weights[j]\u001b[39m.\u001b[39;49mtranspose(\u001b[39m0\u001b[39;49m, \u001b[39m2\u001b[39;49m, \u001b[39m1\u001b[39;49m) \u001b[39m@\u001b[39;49m forward_pass)\n\u001b[1;32m    <a href='vscode-notebook-cell:/Users/dp/Documents/GitHub/Deep-learning-Daniel-Petersson/evo_classifier_test.ipynb#ch0000010?line=110'>111</a>\u001b[0m forward_pass \u001b[39m=\u001b[39m weights[\u001b[39m-\u001b[39m\u001b[39m1\u001b[39m]\u001b[39m.\u001b[39mtranspose(\u001b[39m0\u001b[39m, \u001b[39m2\u001b[39m, \u001b[39m1\u001b[39m) \u001b[39m@\u001b[39m forward_pass\n\u001b[1;32m    <a href='vscode-notebook-cell:/Users/dp/Documents/GitHub/Deep-learning-Daniel-Petersson/evo_classifier_test.ipynb#ch0000010?line=112'>113</a>\u001b[0m \u001b[39m#print(y_preds[sorted_indices[ndiv4:], sample_indices[:1000]].shape)\u001b[39;00m\n",
      "\u001b[0;31mKeyboardInterrupt\u001b[0m: "
     ]
    }
   ],
   "source": [
    "classifier = EvoMLPClassifier(n = 48, hidden_layers = [8], activation = \"relu\", random_state = 42)\n",
    "classifier.fit(scaled_X_train, y_train, epochs = 1000, validation_data = (scaled_X_val, y_val), verbose = 1)"
   ]
  },
  {
   "cell_type": "code",
   "execution_count": 294,
   "metadata": {},
   "outputs": [
    {
     "name": "stdout",
     "output_type": "stream",
     "text": [
      "              precision    recall  f1-score   support\n",
      "\n",
      "           0       0.73      0.75      0.74      8683\n",
      "           1       0.73      0.71      0.72      8382\n",
      "\n",
      "    accuracy                           0.73     17065\n",
      "   macro avg       0.73      0.73      0.73     17065\n",
      "weighted avg       0.73      0.73      0.73     17065\n",
      "\n"
     ]
    },
    {
     "data": {
      "image/png": "[encoded data removed]",
      "text/plain": [
       "<Figure size 432x288 with 2 Axes>"
      ]
     },
     "metadata": {
      "needs_background": "light"
     },
     "output_type": "display_data"
    }
   ],
   "source": [
    "y_pred = classifier.predict(scaled_X_test)\n",
    "y_pred = (y_pred > 0.5) * 1\n",
    "\n",
    "print(classification_report(y_test, y_pred))\n",
    "disp = ConfusionMatrixDisplay(confusion_matrix(y_test, y_pred)).plot()\n",
    "plt.show()"
   ]
  },
  {
   "cell_type": "code",
   "execution_count": 255,
   "metadata": {},
   "outputs": [
    {
     "data": {
      "text/plain": [
       "array([[3, 4],\n",
       "       [1, 3],\n",
       "       [3, 4],\n",
       "       [1, 1],\n",
       "       [3, 2],\n",
       "       [3, 3],\n",
       "       [3, 3],\n",
       "       [4, 1],\n",
       "       [4, 4],\n",
       "       [4, 3]])"
      ]
     },
     "execution_count": 255,
     "metadata": {},
     "output_type": "execute_result"
    }
   ],
   "source": [
    "np.random.seed(42)\n",
    "\n",
    "a = np.random.randint(1, 5, (10, 2))\n",
    "a"
   ]
  },
  {
   "cell_type": "code",
   "execution_count": 257,
   "metadata": {},
   "outputs": [
    {
     "data": {
      "text/plain": [
       "array([3, 4])"
      ]
     },
     "execution_count": 257,
     "metadata": {},
     "output_type": "execute_result"
    }
   ],
   "source": [
    "a[2, [0, 1]]"
   ]
  },
  {
   "cell_type": "code",
   "execution_count": 228,
   "metadata": {},
   "outputs": [
    {
     "data": {
      "text/plain": [
       "array([0, 1, 2, 3, 4, 5, 6, 7, 8, 9])"
      ]
     },
     "execution_count": 228,
     "metadata": {},
     "output_type": "execute_result"
    }
   ],
   "source": [
    "b = np.arange(0, a.shape[0])\n",
    "b"
   ]
  },
  {
   "cell_type": "code",
   "execution_count": 222,
   "metadata": {},
   "outputs": [
    {
     "data": {
      "text/plain": [
       "array([8, 2, 0, 6, 7, 9, 3, 1, 4, 5])"
      ]
     },
     "execution_count": 222,
     "metadata": {},
     "output_type": "execute_result"
    }
   ],
   "source": [
    "np.random.shuffle(b)\n",
    "b"
   ]
  },
  {
   "cell_type": "code",
   "execution_count": 227,
   "metadata": {},
   "outputs": [
    {
     "data": {
      "text/plain": [
       "array([8, 2, 0])"
      ]
     },
     "execution_count": 227,
     "metadata": {},
     "output_type": "execute_result"
    }
   ],
   "source": [
    "k = b[:4]\n",
    "k[:3]"
   ]
  },
  {
   "cell_type": "code",
   "execution_count": 172,
   "metadata": {},
   "outputs": [
    {
     "data": {
      "text/plain": [
       "(array([7, 1, 4, 0]),\n",
       " array([[4, 1],\n",
       "        [1, 3],\n",
       "        [3, 2],\n",
       "        [3, 4]]))"
      ]
     },
     "execution_count": 172,
     "metadata": {},
     "output_type": "execute_result"
    }
   ],
   "source": [
    "c, a[b[c]]"
   ]
  },
  {
   "cell_type": "code",
   "execution_count": 175,
   "metadata": {},
   "outputs": [
    {
     "data": {
      "text/plain": [
       "array([9])"
      ]
     },
     "execution_count": 175,
     "metadata": {},
     "output_type": "execute_result"
    }
   ],
   "source": [
    "b = np.delete(b, [0, 1, 2], axis = 0)\n",
    "b"
   ]
  },
  {
   "cell_type": "code",
   "execution_count": 239,
   "metadata": {},
   "outputs": [
    {
     "data": {
      "text/plain": [
       "0"
      ]
     },
     "execution_count": 239,
     "metadata": {},
     "output_type": "execute_result"
    }
   ],
   "source": [
    "k = k[2:]\n",
    "k.__len__()"
   ]
  },
  {
   "cell_type": "code",
   "execution_count": 270,
   "metadata": {},
   "outputs": [
    {
     "data": {
      "text/plain": [
       "array([[6, 3, 7, 4, 6, 9, 2, 6, 7, 4],\n",
       "       [3, 7, 7, 2, 5, 4, 1, 7, 5, 1],\n",
       "       [4, 0, 9, 5, 8, 0, 9, 2, 6, 3],\n",
       "       [8, 2, 4, 2, 6, 4, 8, 6, 1, 3],\n",
       "       [8, 1, 9, 8, 9, 4, 1, 3, 6, 7],\n",
       "       [2, 0, 3, 1, 7, 3, 1, 5, 5, 9],\n",
       "       [3, 5, 1, 9, 1, 9, 3, 7, 6, 8],\n",
       "       [7, 4, 1, 4, 7, 9, 8, 8, 0, 8],\n",
       "       [6, 8, 7, 0, 7, 7, 2, 0, 7, 2],\n",
       "       [2, 0, 4, 9, 6, 9, 8, 6, 8, 7]])"
      ]
     },
     "execution_count": 270,
     "metadata": {},
     "output_type": "execute_result"
    }
   ],
   "source": [
    "np.random.seed(42)\n",
    "\n",
    "a = np.random.randint(0, 10, (10, 10))"
   ]
  },
  {
   "cell_type": "code",
   "execution_count": 279,
   "metadata": {},
   "outputs": [
    {
     "data": {
      "text/plain": [
       "array([[7, 7, 2],\n",
       "       [0, 9, 5],\n",
       "       [2, 4, 2]])"
      ]
     },
     "execution_count": 279,
     "metadata": {},
     "output_type": "execute_result"
    }
   ],
   "source": [
    "\n",
    "a[[1,2,3]][:,[1,2,3]]"
   ]
  },
  {
   "cell_type": "code",
   "execution_count": 283,
   "metadata": {},
   "outputs": [
    {
     "ename": "TypeError",
     "evalue": "slice indices must be integers or None or have an __index__ method",
     "output_type": "error",
     "traceback": [
      "\u001b[0;31m---------------------------------------------------------------------------\u001b[0m",
      "\u001b[0;31mTypeError\u001b[0m                                 Traceback (most recent call last)",
      "\u001b[1;32m/Users/dp/Documents/GitHub/Deep-learning-Daniel-Petersson/evo_classifier_test.ipynb Cell 20'\u001b[0m in \u001b[0;36m<cell line: 1>\u001b[0;34m()\u001b[0m\n\u001b[0;32m----> <a href='vscode-notebook-cell:/Users/dp/Documents/GitHub/Deep-learning-Daniel-Petersson/evo_classifier_test.ipynb#ch0000022?line=0'>1</a>\u001b[0m a[[\u001b[39m1\u001b[39;49m, \u001b[39m2\u001b[39;49m, \u001b[39m3\u001b[39;49m],:[\u001b[39m1\u001b[39;49m, \u001b[39m2\u001b[39;49m, \u001b[39m3\u001b[39;49m]]\n",
      "\u001b[0;31mTypeError\u001b[0m: slice indices must be integers or None or have an __index__ method"
     ]
    }
   ],
   "source": [
    "a[[1, 2, 3],:[1, 2, 3]]"
   ]
  }
 ],
 "metadata": {
  "interpreter": {
   "hash": "47d3b7ff548c1bae2d6b155a9b3d6f1122689b634566f833764ba5dd9fcfa2e0"
  },
  "kernelspec": {
   "display_name": "Python 3.9.12 ('Deep-learning-Daniel-Petersson-bXusHwTH')",
   "language": "python",
   "name": "python3"
  },
  "language_info": {
   "codemirror_mode": {
    "name": "ipython",
    "version": 3
   },
   "file_extension": ".py",
   "mimetype": "text/x-python",
   "name": "python",
   "nbconvert_exporter": "python",
   "pygments_lexer": "ipython3",
   "version": "3.9.12"
  },
  "orig_nbformat": 4
 },
 "nbformat": 4,
 "nbformat_minor": 2
}
