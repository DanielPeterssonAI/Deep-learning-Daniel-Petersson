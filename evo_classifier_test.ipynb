{
 "cells": [
  {
   "cell_type": "code",
   "execution_count": 1,
   "metadata": {},
   "outputs": [],
   "source": [
    "import math\n",
    "import pandas as pd\n",
    "import matplotlib.pyplot as plt\n",
    "import numpy as np\n",
    "from sklearn.model_selection import train_test_split\n",
    "from sklearn.linear_model import LogisticRegression\n",
    "from sklearn.preprocessing import StandardScaler, MinMaxScaler\n",
    "from sklearn.metrics import recall_score, classification_report, confusion_matrix, ConfusionMatrixDisplay\n",
    "folder = \"kaggle-cardio/\"\n",
    "cardio_file = \"cardio_train.csv\"\n",
    "\n",
    "df_cardio = pd.read_csv(f\"{folder}{cardio_file}\", sep = \";\")\n",
    "\n",
    "df_cardio[\"bmi\"] = df_cardio[\"weight\"] / (df_cardio[\"height\"] / 100) ** 2\n",
    "\n",
    "def plot_column(df, col_name, min, max):\n",
    "    return df[(df[col_name] > min) & (df[col_name] < max)]\n",
    "\n",
    "df_cardio = plot_column(df_cardio, \"bmi\", min = 15, max = 50)\n",
    "\n",
    "df_cardio[\"bmi_category\"] = pd.cut(\n",
    "    df_cardio[\"bmi\"], \n",
    "    bins = [0, 25, 30, 35, 40, 1000], \n",
    "    labels = [\"Normal\", \"Overweight\", \"Obese (Class I)\", \"Obese (Class II)\", \"Obese (Class III)\"], \n",
    "    right = False\n",
    ")\n",
    "\n",
    "df_cardio = plot_column(df_cardio, \"ap_hi\", min = 75, max = 200)\n",
    "\n",
    "df_cardio = plot_column(df_cardio, \"ap_lo\", min = 50, max = 150)"
   ]
  },
  {
   "cell_type": "code",
   "execution_count": 2,
   "metadata": {},
   "outputs": [],
   "source": [
    "def ap_categorizer(hi, lo):\n",
    "    '''ap_categorizer() takes blood two pressure values as arguments and returns the blood pressure category'''\n",
    "\n",
    "    if hi >= 180 or lo >= 120: return \"Hypertension crisis\"\n",
    "    if hi >= 140 or lo >= 90: return \"Stage 2 hypertension\"\n",
    "    if hi < 120 and lo < 80: return \"Healthy\"\n",
    "    if hi < 130 and lo < 80: return \"Elevated\"\n",
    "    return \"Stage 1 hypertension\"\n",
    "\n",
    "df_cardio[\"ap_category\"] = df_cardio.apply(lambda x: ap_categorizer(x[\"ap_hi\"], x[\"ap_lo\"]), axis = 1).astype(\"category\")"
   ]
  },
  {
   "cell_type": "code",
   "execution_count": 3,
   "metadata": {},
   "outputs": [
    {
     "data": {
      "text/html": [
       "<div>\n",
       "<style scoped>\n",
       "    .dataframe tbody tr th:only-of-type {\n",
       "        vertical-align: middle;\n",
       "    }\n",
       "\n",
       "    .dataframe tbody tr th {\n",
       "        vertical-align: top;\n",
       "    }\n",
       "\n",
       "    .dataframe thead th {\n",
       "        text-align: right;\n",
       "    }\n",
       "</style>\n",
       "<table border=\"1\" class=\"dataframe\">\n",
       "  <thead>\n",
       "    <tr style=\"text-align: right;\">\n",
       "      <th></th>\n",
       "      <th>id</th>\n",
       "      <th>age</th>\n",
       "      <th>ap_hi</th>\n",
       "      <th>ap_lo</th>\n",
       "      <th>cholesterol</th>\n",
       "      <th>gluc</th>\n",
       "      <th>smoke</th>\n",
       "      <th>alco</th>\n",
       "      <th>active</th>\n",
       "      <th>cardio</th>\n",
       "      <th>bmi</th>\n",
       "      <th>gender_2</th>\n",
       "    </tr>\n",
       "  </thead>\n",
       "  <tbody>\n",
       "    <tr>\n",
       "      <th>0</th>\n",
       "      <td>0</td>\n",
       "      <td>18393</td>\n",
       "      <td>110</td>\n",
       "      <td>80</td>\n",
       "      <td>1</td>\n",
       "      <td>1</td>\n",
       "      <td>0</td>\n",
       "      <td>0</td>\n",
       "      <td>1</td>\n",
       "      <td>0</td>\n",
       "      <td>21.967120</td>\n",
       "      <td>1</td>\n",
       "    </tr>\n",
       "    <tr>\n",
       "      <th>1</th>\n",
       "      <td>1</td>\n",
       "      <td>20228</td>\n",
       "      <td>140</td>\n",
       "      <td>90</td>\n",
       "      <td>3</td>\n",
       "      <td>1</td>\n",
       "      <td>0</td>\n",
       "      <td>0</td>\n",
       "      <td>1</td>\n",
       "      <td>1</td>\n",
       "      <td>34.927679</td>\n",
       "      <td>0</td>\n",
       "    </tr>\n",
       "    <tr>\n",
       "      <th>2</th>\n",
       "      <td>2</td>\n",
       "      <td>18857</td>\n",
       "      <td>130</td>\n",
       "      <td>70</td>\n",
       "      <td>3</td>\n",
       "      <td>1</td>\n",
       "      <td>0</td>\n",
       "      <td>0</td>\n",
       "      <td>0</td>\n",
       "      <td>1</td>\n",
       "      <td>23.507805</td>\n",
       "      <td>0</td>\n",
       "    </tr>\n",
       "    <tr>\n",
       "      <th>3</th>\n",
       "      <td>3</td>\n",
       "      <td>17623</td>\n",
       "      <td>150</td>\n",
       "      <td>100</td>\n",
       "      <td>1</td>\n",
       "      <td>1</td>\n",
       "      <td>0</td>\n",
       "      <td>0</td>\n",
       "      <td>1</td>\n",
       "      <td>1</td>\n",
       "      <td>28.710479</td>\n",
       "      <td>1</td>\n",
       "    </tr>\n",
       "    <tr>\n",
       "      <th>4</th>\n",
       "      <td>4</td>\n",
       "      <td>17474</td>\n",
       "      <td>100</td>\n",
       "      <td>60</td>\n",
       "      <td>1</td>\n",
       "      <td>1</td>\n",
       "      <td>0</td>\n",
       "      <td>0</td>\n",
       "      <td>0</td>\n",
       "      <td>0</td>\n",
       "      <td>23.011177</td>\n",
       "      <td>0</td>\n",
       "    </tr>\n",
       "  </tbody>\n",
       "</table>\n",
       "</div>"
      ],
      "text/plain": [
       "   id    age  ap_hi  ap_lo  cholesterol  gluc  smoke  alco  active  cardio  \\\n",
       "0   0  18393    110     80            1     1      0     0       1       0   \n",
       "1   1  20228    140     90            3     1      0     0       1       1   \n",
       "2   2  18857    130     70            3     1      0     0       0       1   \n",
       "3   3  17623    150    100            1     1      0     0       1       1   \n",
       "4   4  17474    100     60            1     1      0     0       0       0   \n",
       "\n",
       "         bmi  gender_2  \n",
       "0  21.967120         1  \n",
       "1  34.927679         0  \n",
       "2  23.507805         0  \n",
       "3  28.710479         1  \n",
       "4  23.011177         0  "
      ]
     },
     "execution_count": 3,
     "metadata": {},
     "output_type": "execute_result"
    }
   ],
   "source": [
    "df_cardio_first = df_cardio.drop([\"ap_hi\", \"ap_lo\", \"height\", \"weight\", \"bmi\"], axis = 1)\n",
    "df_cardio_first = pd.get_dummies(df_cardio_first, columns = [\"bmi_category\", \"ap_category\", \"gender\"], drop_first = True)\n",
    "\n",
    "df_cardio_second = df_cardio.drop([\"bmi_category\", \"ap_category\", \"height\", \"weight\"], axis = 1)\n",
    "df_cardio_second = pd.get_dummies(df_cardio_second, columns = [\"gender\"], drop_first = True)\n",
    "\n",
    "df_cardio_second.head()"
   ]
  },
  {
   "cell_type": "code",
   "execution_count": 4,
   "metadata": {},
   "outputs": [
    {
     "data": {
      "text/plain": [
       "((34130, 10), (17065, 10), (17065, 10), (34130,), (17065,), (17065,))"
      ]
     },
     "execution_count": 4,
     "metadata": {},
     "output_type": "execute_result"
    }
   ],
   "source": [
    "def tvt_split(X, y):\n",
    "    X_train, X_test, y_train, y_test = train_test_split(X.values, y.values, test_size = 0.5, random_state = 42)\n",
    "    X_val, X_test, y_val, y_test = train_test_split(X_test, y_test, test_size = 0.5, random_state = 42)\n",
    "\n",
    "    return X_train, X_val, X_test, y_train, y_val, y_test\n",
    "\n",
    "datasets = {}\n",
    "\n",
    "X_train, X_val, X_test, y_train, y_val, y_test = tvt_split(df_cardio_first.drop([\"id\", \"cardio\"], axis = 1), df_cardio_first[\"cardio\"])\n",
    "\n",
    "X_train, X_val, X_test, y_train, y_val, y_test = tvt_split(df_cardio_second.drop([\"id\", \"cardio\"], axis = 1), df_cardio_second[\"cardio\"])\n",
    "\n",
    "X_train.shape, X_val.shape, X_test.shape, y_train.shape, y_val.shape, y_test.shape"
   ]
  },
  {
   "cell_type": "code",
   "execution_count": 5,
   "metadata": {},
   "outputs": [],
   "source": [
    "scaler = StandardScaler()\n",
    "#scaler = MinMaxScaler()\n",
    "\n",
    "scaled_X_train = scaler.fit_transform(X_train)\n",
    "scaled_X_val = scaler.transform(X_val)\n",
    "scaled_X_test = scaler.transform(X_test)"
   ]
  },
  {
   "cell_type": "code",
   "execution_count": 6,
   "metadata": {},
   "outputs": [
    {
     "name": "stdout",
     "output_type": "stream",
     "text": [
      "Epoch 0 - loss: 0.39374032246301394 - 1.0591700149950014\n",
      "Epoch 1 - loss: 0.3397788346408439 - 0.8943885173353062\n",
      "Epoch 3 - loss: 0.33468340103248234 - 0.6417829614124327\n",
      "Epoch 4 - loss: 0.3334523129568803 - 0.5457519238109084\n",
      "Epoch 5 - loss: 0.30126881765951924 - 0.4655372572894703\n",
      "Epoch 6 - loss: 0.29681837002558825 - 0.3985331952020093\n",
      "Epoch 7 - loss: 0.2937070206555696 - 0.34256327497219746\n",
      "Epoch 8 - loss: 0.2886923266383625 - 0.2958096095857409\n",
      "Epoch 9 - loss: 0.2846693337818226 - 0.25675381171339234\n",
      "Epoch 10 - loss: 0.2826359437342934 - 0.22412765067582877\n",
      "Epoch 11 - loss: 0.28206415929834955 - 0.19687183874968364\n",
      "Epoch 12 - loss: 0.27939242712663925 - 0.1741016074932371\n",
      "Epoch 13 - loss: 0.2775301777112635 - 0.15507795542555194\n",
      "Epoch 14 - loss: 0.2768329184535879 - 0.13918363269482578\n",
      "Epoch 15 - loss: 0.2758143373228325 - 0.12590308230967884\n",
      "Epoch 16 - loss: 0.274729525322885 - 0.11480568608353034\n",
      "Epoch 17 - loss: 0.27360580596517575 - 0.10553177083548385\n",
      "Epoch 19 - loss: 0.27323163164919206 - 0.09130221144910564\n",
      "Epoch 20 - loss: 0.27301903522691245 - 0.08588606235552002\n",
      "Epoch 21 - loss: 0.2726639482251121 - 0.0813574193009857\n",
      "Epoch 22 - loss: 0.2724422255149849 - 0.07757006910695377\n",
      "Epoch 23 - loss: 0.27211251596240554 - 0.0744018874367853\n",
      "Epoch 24 - loss: 0.27207852255515463 - 0.07175087012189132\n",
      "Epoch 25 - loss: 0.2720466904795382 - 0.06953181833301364\n",
      "Epoch 26 - loss: 0.2719338406979684 - 0.06767356987465045\n",
      "Epoch 27 - loss: 0.27143908191149496 - 0.06611668662799661\n",
      "Epoch 28 - loss: 0.27128915037633583 - 0.06481152299122671\n",
      "Epoch 29 - loss: 0.2711199699799407 - 0.0637166125472213\n",
      "Epoch 30 - loss: 0.27086337104839303 - 0.06279732053027398\n",
      "Epoch 31 - loss: 0.27083848468761523 - 0.06202471830098714\n",
      "Epoch 32 - loss: 0.27053772700107226 - 0.061374643253164975\n",
      "Epoch 34 - loss: 0.2703642152416633 - 0.06036467254001166\n",
      "Epoch 35 - loss: 0.2702867624135522 - 0.05997384043727378\n",
      "Epoch 36 - loss: 0.27010659639792123 - 0.05964265730160307\n",
      "Epoch 37 - loss: 0.270022181322297 - 0.05936130061251422\n",
      "Epoch 38 - loss: 0.26970380672060973 - 0.059121566120187784\n",
      "Epoch 39 - loss: 0.2695725854464465 - 0.058916601232886466\n",
      "Epoch 40 - loss: 0.26950484110385325 - 0.058740682329205575\n",
      "Epoch 41 - loss: 0.26943605808700694 - 0.058589028758474014\n",
      "Epoch 42 - loss: 0.2691522702719726 - 0.058457647484875856\n",
      "Epoch 45 - loss: 0.26901061595656983 - 0.058154442461529794\n",
      "Epoch 46 - loss: 0.2688456997600548 - 0.058075855558411556\n",
      "Epoch 47 - loss: 0.2687928005871888 - 0.05800552661172321\n",
      "Epoch 48 - loss: 0.2687398908511884 - 0.057942099797417206\n",
      "Epoch 49 - loss: 0.2686122335616709 - 0.057884442660864656"
     ]
    },
    {
     "ename": "KeyboardInterrupt",
     "evalue": "",
     "output_type": "error",
     "traceback": [
      "\u001b[0;31m---------------------------------------------------------------------------\u001b[0m",
      "\u001b[0;31mKeyboardInterrupt\u001b[0m                         Traceback (most recent call last)",
      "\u001b[1;32m/Users/dp/Documents/GitHub/Deep-learning-Daniel-Petersson/evo_classifier_test.ipynb Cell 6'\u001b[0m in \u001b[0;36m<cell line: 3>\u001b[0;34m()\u001b[0m\n\u001b[1;32m      <a href='vscode-notebook-cell:/Users/dp/Documents/GitHub/Deep-learning-Daniel-Petersson/evo_classifier_test.ipynb#ch0000008?line=0'>1</a>\u001b[0m \u001b[39mfrom\u001b[39;00m \u001b[39mevolutionary_algos\u001b[39;00m \u001b[39mimport\u001b[39;00m EvoMLPClassifier\n\u001b[1;32m      <a href='vscode-notebook-cell:/Users/dp/Documents/GitHub/Deep-learning-Daniel-Petersson/evo_classifier_test.ipynb#ch0000008?line=1'>2</a>\u001b[0m classifier \u001b[39m=\u001b[39m EvoMLPClassifier(n \u001b[39m=\u001b[39m \u001b[39m48\u001b[39m, hidden_layers \u001b[39m=\u001b[39m [\u001b[39m8\u001b[39m], activation \u001b[39m=\u001b[39m \u001b[39m\"\u001b[39m\u001b[39mrelu\u001b[39m\u001b[39m\"\u001b[39m, random_state \u001b[39m=\u001b[39m \u001b[39m42\u001b[39m)\n\u001b[0;32m----> <a href='vscode-notebook-cell:/Users/dp/Documents/GitHub/Deep-learning-Daniel-Petersson/evo_classifier_test.ipynb#ch0000008?line=2'>3</a>\u001b[0m classifier\u001b[39m.\u001b[39;49mfit(scaled_X_train, y_train, epochs \u001b[39m=\u001b[39;49m \u001b[39m1000\u001b[39;49m, verbose \u001b[39m=\u001b[39;49m \u001b[39m1\u001b[39;49m)\n",
      "File \u001b[0;32m~/Documents/GitHub/Deep-learning-Daniel-Petersson/evolutionary_algos.py:255\u001b[0m, in \u001b[0;36mEvoMLPClassifier.fit\u001b[0;34m(self, X_train, y_train, epochs, validation_data, verbose)\u001b[0m\n\u001b[1;32m    <a href='file:///Users/dp/Documents/GitHub/Deep-learning-Daniel-Petersson/evolutionary_algos.py?line=252'>253</a>\u001b[0m \u001b[39mif\u001b[39;00m verbose \u001b[39m==\u001b[39m \u001b[39m1\u001b[39m:\n\u001b[1;32m    <a href='file:///Users/dp/Documents/GitHub/Deep-learning-Daniel-Petersson/evolutionary_algos.py?line=253'>254</a>\u001b[0m     \u001b[39mpass\u001b[39;00m\n\u001b[0;32m--> <a href='file:///Users/dp/Documents/GitHub/Deep-learning-Daniel-Petersson/evolutionary_algos.py?line=254'>255</a>\u001b[0m     \u001b[39mprint\u001b[39;49m(\u001b[39mf\u001b[39;49m\u001b[39m\"\u001b[39;49m\u001b[39mEpoch \u001b[39;49m\u001b[39m{\u001b[39;49;00mepoch\u001b[39m}\u001b[39;49;00m\u001b[39m - loss: \u001b[39;49m\u001b[39m{\u001b[39;49;00m\u001b[39mself\u001b[39;49m\u001b[39m.\u001b[39;49mtraining_loss_history[\u001b[39m-\u001b[39;49m\u001b[39m1\u001b[39;49m]\u001b[39m}\u001b[39;49;00m\u001b[39m - \u001b[39;49m\u001b[39m{\u001b[39;49;00mmutation_sigma\u001b[39m}\u001b[39;49;00m\u001b[39m\"\u001b[39;49m)\n",
      "File \u001b[0;32m~/.local/share/virtualenvs/Deep-learning-Daniel-Petersson-bXusHwTH/lib/python3.9/site-packages/ipykernel/iostream.py:562\u001b[0m, in \u001b[0;36mOutStream.write\u001b[0;34m(self, string)\u001b[0m\n\u001b[1;32m    <a href='file:///Users/dp/.local/share/virtualenvs/Deep-learning-Daniel-Petersson-bXusHwTH/lib/python3.9/site-packages/ipykernel/iostream.py?line=559'>560</a>\u001b[0m         \u001b[39mself\u001b[39m\u001b[39m.\u001b[39mpub_thread\u001b[39m.\u001b[39mschedule(\u001b[39mself\u001b[39m\u001b[39m.\u001b[39m_flush)\n\u001b[1;32m    <a href='file:///Users/dp/.local/share/virtualenvs/Deep-learning-Daniel-Petersson-bXusHwTH/lib/python3.9/site-packages/ipykernel/iostream.py?line=560'>561</a>\u001b[0m     \u001b[39melse\u001b[39;00m:\n\u001b[0;32m--> <a href='file:///Users/dp/.local/share/virtualenvs/Deep-learning-Daniel-Petersson-bXusHwTH/lib/python3.9/site-packages/ipykernel/iostream.py?line=561'>562</a>\u001b[0m         \u001b[39mself\u001b[39;49m\u001b[39m.\u001b[39;49m_schedule_flush()\n\u001b[1;32m    <a href='file:///Users/dp/.local/share/virtualenvs/Deep-learning-Daniel-Petersson-bXusHwTH/lib/python3.9/site-packages/ipykernel/iostream.py?line=563'>564</a>\u001b[0m \u001b[39mreturn\u001b[39;00m \u001b[39mlen\u001b[39m(string)\n",
      "File \u001b[0;32m~/.local/share/virtualenvs/Deep-learning-Daniel-Petersson-bXusHwTH/lib/python3.9/site-packages/ipykernel/iostream.py:468\u001b[0m, in \u001b[0;36mOutStream._schedule_flush\u001b[0;34m(self)\u001b[0m\n\u001b[1;32m    <a href='file:///Users/dp/.local/share/virtualenvs/Deep-learning-Daniel-Petersson-bXusHwTH/lib/python3.9/site-packages/ipykernel/iostream.py?line=464'>465</a>\u001b[0m \u001b[39mdef\u001b[39;00m \u001b[39m_schedule_in_thread\u001b[39m():\n\u001b[1;32m    <a href='file:///Users/dp/.local/share/virtualenvs/Deep-learning-Daniel-Petersson-bXusHwTH/lib/python3.9/site-packages/ipykernel/iostream.py?line=465'>466</a>\u001b[0m     \u001b[39mself\u001b[39m\u001b[39m.\u001b[39m_io_loop\u001b[39m.\u001b[39mcall_later(\u001b[39mself\u001b[39m\u001b[39m.\u001b[39mflush_interval, \u001b[39mself\u001b[39m\u001b[39m.\u001b[39m_flush)\n\u001b[0;32m--> <a href='file:///Users/dp/.local/share/virtualenvs/Deep-learning-Daniel-Petersson-bXusHwTH/lib/python3.9/site-packages/ipykernel/iostream.py?line=467'>468</a>\u001b[0m \u001b[39mself\u001b[39;49m\u001b[39m.\u001b[39;49mpub_thread\u001b[39m.\u001b[39;49mschedule(_schedule_in_thread)\n",
      "File \u001b[0;32m~/.local/share/virtualenvs/Deep-learning-Daniel-Petersson-bXusHwTH/lib/python3.9/site-packages/ipykernel/iostream.py:217\u001b[0m, in \u001b[0;36mIOPubThread.schedule\u001b[0;34m(self, f)\u001b[0m\n\u001b[1;32m    <a href='file:///Users/dp/.local/share/virtualenvs/Deep-learning-Daniel-Petersson-bXusHwTH/lib/python3.9/site-packages/ipykernel/iostream.py?line=214'>215</a>\u001b[0m     \u001b[39mself\u001b[39m\u001b[39m.\u001b[39m_events\u001b[39m.\u001b[39mappend(f)\n\u001b[1;32m    <a href='file:///Users/dp/.local/share/virtualenvs/Deep-learning-Daniel-Petersson-bXusHwTH/lib/python3.9/site-packages/ipykernel/iostream.py?line=215'>216</a>\u001b[0m     \u001b[39m# wake event thread (message content is ignored)\u001b[39;00m\n\u001b[0;32m--> <a href='file:///Users/dp/.local/share/virtualenvs/Deep-learning-Daniel-Petersson-bXusHwTH/lib/python3.9/site-packages/ipykernel/iostream.py?line=216'>217</a>\u001b[0m     \u001b[39mself\u001b[39;49m\u001b[39m.\u001b[39;49m_event_pipe\u001b[39m.\u001b[39;49msend(\u001b[39mb\u001b[39;49m\u001b[39m\"\u001b[39;49m\u001b[39m\"\u001b[39;49m)\n\u001b[1;32m    <a href='file:///Users/dp/.local/share/virtualenvs/Deep-learning-Daniel-Petersson-bXusHwTH/lib/python3.9/site-packages/ipykernel/iostream.py?line=217'>218</a>\u001b[0m \u001b[39melse\u001b[39;00m:\n\u001b[1;32m    <a href='file:///Users/dp/.local/share/virtualenvs/Deep-learning-Daniel-Petersson-bXusHwTH/lib/python3.9/site-packages/ipykernel/iostream.py?line=218'>219</a>\u001b[0m     f()\n",
      "File \u001b[0;32m~/.local/share/virtualenvs/Deep-learning-Daniel-Petersson-bXusHwTH/lib/python3.9/site-packages/zmq/sugar/socket.py:547\u001b[0m, in \u001b[0;36mSocket.send\u001b[0;34m(self, data, flags, copy, track, routing_id, group)\u001b[0m\n\u001b[1;32m    <a href='file:///Users/dp/.local/share/virtualenvs/Deep-learning-Daniel-Petersson-bXusHwTH/lib/python3.9/site-packages/zmq/sugar/socket.py?line=539'>540</a>\u001b[0m         data \u001b[39m=\u001b[39m zmq\u001b[39m.\u001b[39mFrame(\n\u001b[1;32m    <a href='file:///Users/dp/.local/share/virtualenvs/Deep-learning-Daniel-Petersson-bXusHwTH/lib/python3.9/site-packages/zmq/sugar/socket.py?line=540'>541</a>\u001b[0m             data,\n\u001b[1;32m    <a href='file:///Users/dp/.local/share/virtualenvs/Deep-learning-Daniel-Petersson-bXusHwTH/lib/python3.9/site-packages/zmq/sugar/socket.py?line=541'>542</a>\u001b[0m             track\u001b[39m=\u001b[39mtrack,\n\u001b[1;32m    <a href='file:///Users/dp/.local/share/virtualenvs/Deep-learning-Daniel-Petersson-bXusHwTH/lib/python3.9/site-packages/zmq/sugar/socket.py?line=542'>543</a>\u001b[0m             copy\u001b[39m=\u001b[39mcopy \u001b[39mor\u001b[39;00m \u001b[39mNone\u001b[39;00m,\n\u001b[1;32m    <a href='file:///Users/dp/.local/share/virtualenvs/Deep-learning-Daniel-Petersson-bXusHwTH/lib/python3.9/site-packages/zmq/sugar/socket.py?line=543'>544</a>\u001b[0m             copy_threshold\u001b[39m=\u001b[39m\u001b[39mself\u001b[39m\u001b[39m.\u001b[39mcopy_threshold,\n\u001b[1;32m    <a href='file:///Users/dp/.local/share/virtualenvs/Deep-learning-Daniel-Petersson-bXusHwTH/lib/python3.9/site-packages/zmq/sugar/socket.py?line=544'>545</a>\u001b[0m         )\n\u001b[1;32m    <a href='file:///Users/dp/.local/share/virtualenvs/Deep-learning-Daniel-Petersson-bXusHwTH/lib/python3.9/site-packages/zmq/sugar/socket.py?line=545'>546</a>\u001b[0m     data\u001b[39m.\u001b[39mgroup \u001b[39m=\u001b[39m group\n\u001b[0;32m--> <a href='file:///Users/dp/.local/share/virtualenvs/Deep-learning-Daniel-Petersson-bXusHwTH/lib/python3.9/site-packages/zmq/sugar/socket.py?line=546'>547</a>\u001b[0m \u001b[39mreturn\u001b[39;00m \u001b[39msuper\u001b[39;49m(Socket, \u001b[39mself\u001b[39;49m)\u001b[39m.\u001b[39;49msend(data, flags\u001b[39m=\u001b[39;49mflags, copy\u001b[39m=\u001b[39;49mcopy, track\u001b[39m=\u001b[39;49mtrack)\n",
      "File \u001b[0;32mzmq/backend/cython/socket.pyx:718\u001b[0m, in \u001b[0;36mzmq.backend.cython.socket.Socket.send\u001b[0;34m()\u001b[0m\n",
      "File \u001b[0;32mzmq/backend/cython/socket.pyx:765\u001b[0m, in \u001b[0;36mzmq.backend.cython.socket.Socket.send\u001b[0;34m()\u001b[0m\n",
      "File \u001b[0;32mzmq/backend/cython/socket.pyx:242\u001b[0m, in \u001b[0;36mzmq.backend.cython.socket._send_copy\u001b[0;34m()\u001b[0m\n",
      "File \u001b[0;32m~/.local/share/virtualenvs/Deep-learning-Daniel-Petersson-bXusHwTH/lib/python3.9/site-packages/zmq/backend/cython/checkrc.pxd:13\u001b[0m, in \u001b[0;36mzmq.backend.cython.checkrc._check_rc\u001b[0;34m()\u001b[0m\n",
      "\u001b[0;31mKeyboardInterrupt\u001b[0m: "
     ]
    }
   ],
   "source": [
    "from evolutionary_algos import EvoMLPClassifier\n",
    "classifier = EvoMLPClassifier(n = 48, hidden_layers = [8], activation = \"relu\", random_state = 42)\n",
    "classifier.fit(scaled_X_train, y_train, epochs = 1000, verbose = 1)"
   ]
  },
  {
   "cell_type": "code",
   "execution_count": 27,
   "metadata": {},
   "outputs": [
    {
     "name": "stdout",
     "output_type": "stream",
     "text": [
      "Epoch 0 - loss: 0.39374032246301394 - val_loss: 0.4997381344135041\n",
      "Epoch 1 - loss: 0.3397788346408439 - val_loss: 0.4999290068543316\n",
      "Epoch 3 - loss: 0.33468340103248234 - val_loss: 0.4999543746989206\n",
      "Epoch 4 - loss: 0.3334523129568803 - val_loss: 0.5000892567224086\n",
      "Epoch 5 - loss: 0.30126881765951924 - val_loss: 0.49999103729779376\n",
      "Epoch 6 - loss: 0.29681837002558825 - val_loss: 0.5001113339235693\n",
      "Epoch 7 - loss: 0.2937070206555696 - val_loss: 0.5000505066138872\n",
      "Epoch 8 - loss: 0.2886923266383625 - val_loss: 0.5000110472335842\n",
      "Epoch 9 - loss: 0.2846693337818226 - val_loss: 0.5000874972068665\n",
      "Epoch 10 - loss: 0.2826359437342934 - val_loss: 0.5000578390343878\n",
      "Epoch 11 - loss: 0.28206415929834955 - val_loss: 0.5000901655388642\n",
      "Epoch 12 - loss: 0.27939242712663925 - val_loss: 0.5001034368583305\n",
      "Epoch 13 - loss: 0.2775301777112635 - val_loss: 0.5001017231097088\n",
      "Epoch 14 - loss: 0.2768329184535879 - val_loss: 0.5000683870857484\n",
      "Epoch 15 - loss: 0.2758143373228325 - val_loss: 0.5000688113324735\n",
      "Epoch 16 - loss: 0.274729525322885 - val_loss: 0.5000723317277163\n",
      "Epoch 17 - loss: 0.27360580596517575 - val_loss: 0.5000768538723006\n",
      "Epoch 19 - loss: 0.27323163164919206 - val_loss: 0.5000654255973145\n",
      "Epoch 20 - loss: 0.27301903522691245 - val_loss: 0.5000781359179371\n",
      "Epoch 21 - loss: 0.2726639482251121 - val_loss: 0.5000750443192962\n",
      "Epoch 22 - loss: 0.2724422255149849 - val_loss: 0.5000646637173234\n",
      "Epoch 23 - loss: 0.27211251596240554 - val_loss: 0.5000603996107813\n",
      "Epoch 24 - loss: 0.27207852255515463 - val_loss: 0.500068618695793\n",
      "Epoch 25 - loss: 0.2720466904795382 - val_loss: 0.5000618795601913\n",
      "Epoch 26 - loss: 0.2719338406979684 - val_loss: 0.5000594028271295\n",
      "Epoch 27 - loss: 0.27143908191149496 - val_loss: 0.5000793506139705\n",
      "Epoch 28 - loss: 0.27128915037633583 - val_loss: 0.5000747409448015\n",
      "Epoch 29 - loss: 0.2711199699799407 - val_loss: 0.5000685999146969\n",
      "Epoch 30 - loss: 0.27086337104839303 - val_loss: 0.5000803826794777\n",
      "Epoch 31 - loss: 0.27083848468761523 - val_loss: 0.5000867902384796\n",
      "Epoch 32 - loss: 0.27053772700107226 - val_loss: 0.5000773012204225\n",
      "Epoch 34 - loss: 0.2703642152416633 - val_loss: 0.5000683225009119\n",
      "Epoch 35 - loss: 0.2702867624135522 - val_loss: 0.500083011051251\n",
      "Epoch 36 - loss: 0.27010659639792123 - val_loss: 0.5000731104875206\n",
      "Epoch 37 - loss: 0.270022181322297 - val_loss: 0.5000795320055839\n",
      "Epoch 38 - loss: 0.26970380672060973 - val_loss: 0.5000844193553271\n",
      "Epoch 39 - loss: 0.2695725854464465 - val_loss: 0.500079863998939\n",
      "Epoch 40 - loss: 0.26950484110385325 - val_loss: 0.5000711059774149\n",
      "Epoch 41 - loss: 0.26943605808700694 - val_loss: 0.5000764267766461\n",
      "Epoch 42 - loss: 0.2691522702719726 - val_loss: 0.500072738213745\n",
      "Epoch 45 - loss: 0.26901061595656983 - val_loss: 0.5000717034132051\n",
      "Epoch 46 - loss: 0.2688456997600548 - val_loss: 0.5000707813842022\n",
      "Epoch 47 - loss: 0.2687928005871888 - val_loss: 0.5000745925118532\n",
      "Epoch 48 - loss: 0.2687398908511884 - val_loss: 0.5000728792014878\n",
      "Epoch 49 - loss: 0.2686122335616709 - val_loss: 0.5000749682840786\n",
      "Epoch 51 - loss: 0.2685218892686798 - val_loss: 0.5000765645531646\n",
      "Epoch 52 - loss: 0.26841030243354363 - val_loss: 0.5000678267232269\n"
     ]
    },
    {
     "ename": "KeyboardInterrupt",
     "evalue": "",
     "output_type": "error",
     "traceback": [
      "\u001b[0;31m---------------------------------------------------------------------------\u001b[0m",
      "\u001b[0;31mKeyboardInterrupt\u001b[0m                         Traceback (most recent call last)",
      "\u001b[1;32m/Users/dp/Documents/GitHub/Deep-learning-Daniel-Petersson/evo_classifier_test.ipynb Cell 7'\u001b[0m in \u001b[0;36m<cell line: 2>\u001b[0;34m()\u001b[0m\n\u001b[1;32m      <a href='vscode-notebook-cell:/Users/dp/Documents/GitHub/Deep-learning-Daniel-Petersson/evo_classifier_test.ipynb#ch0000005?line=0'>1</a>\u001b[0m classifier \u001b[39m=\u001b[39m EvoMLPClassifier(n \u001b[39m=\u001b[39m \u001b[39m48\u001b[39m, hidden_layers \u001b[39m=\u001b[39m [\u001b[39m8\u001b[39m], activation \u001b[39m=\u001b[39m \u001b[39m\"\u001b[39m\u001b[39mrelu\u001b[39m\u001b[39m\"\u001b[39m, random_state \u001b[39m=\u001b[39m \u001b[39m42\u001b[39m)\n\u001b[0;32m----> <a href='vscode-notebook-cell:/Users/dp/Documents/GitHub/Deep-learning-Daniel-Petersson/evo_classifier_test.ipynb#ch0000005?line=1'>2</a>\u001b[0m classifier\u001b[39m.\u001b[39;49mfit(scaled_X_train, y_train, epochs \u001b[39m=\u001b[39;49m \u001b[39m1000\u001b[39;49m, validation_data \u001b[39m=\u001b[39;49m (scaled_X_val, y_val), verbose \u001b[39m=\u001b[39;49m \u001b[39m1\u001b[39;49m)\n",
      "\u001b[1;32m/Users/dp/Documents/GitHub/Deep-learning-Daniel-Petersson/evo_classifier_test.ipynb Cell 6'\u001b[0m in \u001b[0;36mEvoMLPClassifier.fit\u001b[0;34m(self, X_train, y_train, epochs, validation_data, verbose)\u001b[0m\n\u001b[1;32m    <a href='vscode-notebook-cell:/Users/dp/Documents/GitHub/Deep-learning-Daniel-Petersson/evo_classifier_test.ipynb#ch0000007?line=129'>130</a>\u001b[0m     \u001b[39mself\u001b[39m\u001b[39m.\u001b[39mbest_net_weights \u001b[39m+\u001b[39m\u001b[39m=\u001b[39m [weights[j][best_net_index]]\n\u001b[1;32m    <a href='vscode-notebook-cell:/Users/dp/Documents/GitHub/Deep-learning-Daniel-Petersson/evo_classifier_test.ipynb#ch0000007?line=131'>132</a>\u001b[0m \u001b[39mif\u001b[39;00m validation_data:\n\u001b[0;32m--> <a href='vscode-notebook-cell:/Users/dp/Documents/GitHub/Deep-learning-Daniel-Petersson/evo_classifier_test.ipynb#ch0000007?line=132'>133</a>\u001b[0m     \u001b[39mself\u001b[39m\u001b[39m.\u001b[39mvalidation_loss_history \u001b[39m+\u001b[39m\u001b[39m=\u001b[39m [np\u001b[39m.\u001b[39mmean(np\u001b[39m.\u001b[39;49mabs(y_val \u001b[39m-\u001b[39;49m \u001b[39mself\u001b[39;49m\u001b[39m.\u001b[39;49mpredict(X_val)))]\n\u001b[1;32m    <a href='vscode-notebook-cell:/Users/dp/Documents/GitHub/Deep-learning-Daniel-Petersson/evo_classifier_test.ipynb#ch0000007?line=133'>134</a>\u001b[0m     \u001b[39mif\u001b[39;00m verbose \u001b[39m==\u001b[39m \u001b[39m1\u001b[39m:\n\u001b[1;32m    <a href='vscode-notebook-cell:/Users/dp/Documents/GitHub/Deep-learning-Daniel-Petersson/evo_classifier_test.ipynb#ch0000007?line=134'>135</a>\u001b[0m         \u001b[39mprint\u001b[39m(\u001b[39mf\u001b[39m\u001b[39m\"\u001b[39m\u001b[39mEpoch \u001b[39m\u001b[39m{\u001b[39;00mepoch\u001b[39m}\u001b[39;00m\u001b[39m - loss: \u001b[39m\u001b[39m{\u001b[39;00m\u001b[39mself\u001b[39m\u001b[39m.\u001b[39mtraining_loss_history[\u001b[39m-\u001b[39m\u001b[39m1\u001b[39m]\u001b[39m}\u001b[39;00m\u001b[39m - val_loss: \u001b[39m\u001b[39m{\u001b[39;00m\u001b[39mself\u001b[39m\u001b[39m.\u001b[39mvalidation_loss_history[\u001b[39m-\u001b[39m\u001b[39m1\u001b[39m]\u001b[39m}\u001b[39;00m\u001b[39m\"\u001b[39m)\n",
      "\u001b[0;31mKeyboardInterrupt\u001b[0m: "
     ]
    }
   ],
   "source": [
    "classifier = EvoMLPClassifier(n = 48, hidden_layers = [8], activation = \"relu\", random_state = 42)\n",
    "classifier.fit(scaled_X_train, y_train, epochs = 1000, validation_data = (scaled_X_val, y_val), verbose = 1)"
   ]
  },
  {
   "cell_type": "code",
   "execution_count": 9,
   "metadata": {},
   "outputs": [
    {
     "name": "stdout",
     "output_type": "stream",
     "text": [
      "              precision    recall  f1-score   support\n",
      "\n",
      "           0       0.72      0.77      0.74      8683\n",
      "           1       0.74      0.69      0.72      8382\n",
      "\n",
      "    accuracy                           0.73     17065\n",
      "   macro avg       0.73      0.73      0.73     17065\n",
      "weighted avg       0.73      0.73      0.73     17065\n",
      "\n"
     ]
    },
    {
     "data": {
      "image/png": "[encoded data removed]",
      "text/plain": [
       "<Figure size 432x288 with 2 Axes>"
      ]
     },
     "metadata": {
      "needs_background": "light"
     },
     "output_type": "display_data"
    }
   ],
   "source": [
    "y_pred = classifier.predict(scaled_X_test)\n",
    "y_pred = (y_pred > 0.5) * 1\n",
    "\n",
    "print(classification_report(y_test, y_pred))\n",
    "disp = ConfusionMatrixDisplay(confusion_matrix(y_test, y_pred)).plot()\n",
    "plt.show()"
   ]
  }
 ],
 "metadata": {
  "interpreter": {
   "hash": "47d3b7ff548c1bae2d6b155a9b3d6f1122689b634566f833764ba5dd9fcfa2e0"
  },
  "kernelspec": {
   "display_name": "Python 3.9.12 ('Deep-learning-Daniel-Petersson-bXusHwTH')",
   "language": "python",
   "name": "python3"
  },
  "language_info": {
   "codemirror_mode": {
    "name": "ipython",
    "version": 3
   },
   "file_extension": ".py",
   "mimetype": "text/x-python",
   "name": "python",
   "nbconvert_exporter": "python",
   "pygments_lexer": "ipython3",
   "version": "3.9.12"
  },
  "orig_nbformat": 4
 },
 "nbformat": 4,
 "nbformat_minor": 2
}
