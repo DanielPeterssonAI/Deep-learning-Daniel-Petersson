{
 "cells": [
  {
   "cell_type": "code",
   "execution_count": 4,
   "metadata": {},
   "outputs": [],
   "source": [
    "import math\n",
    "import pandas as pd\n",
    "import matplotlib.pyplot as plt\n",
    "import numpy as np\n",
    "from sklearn.model_selection import train_test_split\n",
    "from sklearn.linear_model import LogisticRegression\n",
    "from sklearn.preprocessing import StandardScaler, MinMaxScaler\n",
    "from sklearn.metrics import recall_score, classification_report, confusion_matrix, ConfusionMatrixDisplay\n",
    "folder = \"kaggle-cardio/\"\n",
    "cardio_file = \"cardio_train.csv\"\n",
    "\n",
    "df_cardio = pd.read_csv(f\"{folder}{cardio_file}\", sep = \";\")\n",
    "\n",
    "df_cardio[\"bmi\"] = df_cardio[\"weight\"] / (df_cardio[\"height\"] / 100) ** 2\n",
    "\n",
    "def plot_column(df, col_name, min, max):\n",
    "    return df[(df[col_name] > min) & (df[col_name] < max)]\n",
    "\n",
    "df_cardio = plot_column(df_cardio, \"bmi\", min = 15, max = 50)\n",
    "\n",
    "df_cardio[\"bmi_category\"] = pd.cut(\n",
    "    df_cardio[\"bmi\"], \n",
    "    bins = [0, 25, 30, 35, 40, 1000], \n",
    "    labels = [\"Normal\", \"Overweight\", \"Obese (Class I)\", \"Obese (Class II)\", \"Obese (Class III)\"], \n",
    "    right = False\n",
    ")\n",
    "\n",
    "df_cardio = plot_column(df_cardio, \"ap_hi\", min = 75, max = 200)\n",
    "\n",
    "df_cardio = plot_column(df_cardio, \"ap_lo\", min = 50, max = 150)"
   ]
  },
  {
   "cell_type": "code",
   "execution_count": 5,
   "metadata": {},
   "outputs": [],
   "source": [
    "def ap_categorizer(hi, lo):\n",
    "    '''ap_categorizer() takes blood two pressure values as arguments and returns the blood pressure category'''\n",
    "\n",
    "    if hi >= 180 or lo >= 120: return \"Hypertension crisis\"\n",
    "    if hi >= 140 or lo >= 90: return \"Stage 2 hypertension\"\n",
    "    if hi < 120 and lo < 80: return \"Healthy\"\n",
    "    if hi < 130 and lo < 80: return \"Elevated\"\n",
    "    return \"Stage 1 hypertension\"\n",
    "\n",
    "df_cardio[\"ap_category\"] = df_cardio.apply(lambda x: ap_categorizer(x[\"ap_hi\"], x[\"ap_lo\"]), axis = 1).astype(\"category\")"
   ]
  },
  {
   "cell_type": "code",
   "execution_count": 6,
   "metadata": {},
   "outputs": [
    {
     "data": {
      "text/html": [
       "<div>\n",
       "<style scoped>\n",
       "    .dataframe tbody tr th:only-of-type {\n",
       "        vertical-align: middle;\n",
       "    }\n",
       "\n",
       "    .dataframe tbody tr th {\n",
       "        vertical-align: top;\n",
       "    }\n",
       "\n",
       "    .dataframe thead th {\n",
       "        text-align: right;\n",
       "    }\n",
       "</style>\n",
       "<table border=\"1\" class=\"dataframe\">\n",
       "  <thead>\n",
       "    <tr style=\"text-align: right;\">\n",
       "      <th></th>\n",
       "      <th>id</th>\n",
       "      <th>age</th>\n",
       "      <th>ap_hi</th>\n",
       "      <th>ap_lo</th>\n",
       "      <th>cholesterol</th>\n",
       "      <th>gluc</th>\n",
       "      <th>smoke</th>\n",
       "      <th>alco</th>\n",
       "      <th>active</th>\n",
       "      <th>cardio</th>\n",
       "      <th>bmi</th>\n",
       "      <th>gender_2</th>\n",
       "    </tr>\n",
       "  </thead>\n",
       "  <tbody>\n",
       "    <tr>\n",
       "      <th>0</th>\n",
       "      <td>0</td>\n",
       "      <td>18393</td>\n",
       "      <td>110</td>\n",
       "      <td>80</td>\n",
       "      <td>1</td>\n",
       "      <td>1</td>\n",
       "      <td>0</td>\n",
       "      <td>0</td>\n",
       "      <td>1</td>\n",
       "      <td>0</td>\n",
       "      <td>21.967120</td>\n",
       "      <td>1</td>\n",
       "    </tr>\n",
       "    <tr>\n",
       "      <th>1</th>\n",
       "      <td>1</td>\n",
       "      <td>20228</td>\n",
       "      <td>140</td>\n",
       "      <td>90</td>\n",
       "      <td>3</td>\n",
       "      <td>1</td>\n",
       "      <td>0</td>\n",
       "      <td>0</td>\n",
       "      <td>1</td>\n",
       "      <td>1</td>\n",
       "      <td>34.927679</td>\n",
       "      <td>0</td>\n",
       "    </tr>\n",
       "    <tr>\n",
       "      <th>2</th>\n",
       "      <td>2</td>\n",
       "      <td>18857</td>\n",
       "      <td>130</td>\n",
       "      <td>70</td>\n",
       "      <td>3</td>\n",
       "      <td>1</td>\n",
       "      <td>0</td>\n",
       "      <td>0</td>\n",
       "      <td>0</td>\n",
       "      <td>1</td>\n",
       "      <td>23.507805</td>\n",
       "      <td>0</td>\n",
       "    </tr>\n",
       "    <tr>\n",
       "      <th>3</th>\n",
       "      <td>3</td>\n",
       "      <td>17623</td>\n",
       "      <td>150</td>\n",
       "      <td>100</td>\n",
       "      <td>1</td>\n",
       "      <td>1</td>\n",
       "      <td>0</td>\n",
       "      <td>0</td>\n",
       "      <td>1</td>\n",
       "      <td>1</td>\n",
       "      <td>28.710479</td>\n",
       "      <td>1</td>\n",
       "    </tr>\n",
       "    <tr>\n",
       "      <th>4</th>\n",
       "      <td>4</td>\n",
       "      <td>17474</td>\n",
       "      <td>100</td>\n",
       "      <td>60</td>\n",
       "      <td>1</td>\n",
       "      <td>1</td>\n",
       "      <td>0</td>\n",
       "      <td>0</td>\n",
       "      <td>0</td>\n",
       "      <td>0</td>\n",
       "      <td>23.011177</td>\n",
       "      <td>0</td>\n",
       "    </tr>\n",
       "  </tbody>\n",
       "</table>\n",
       "</div>"
      ],
      "text/plain": [
       "   id    age  ap_hi  ap_lo  cholesterol  gluc  smoke  alco  active  cardio  \\\n",
       "0   0  18393    110     80            1     1      0     0       1       0   \n",
       "1   1  20228    140     90            3     1      0     0       1       1   \n",
       "2   2  18857    130     70            3     1      0     0       0       1   \n",
       "3   3  17623    150    100            1     1      0     0       1       1   \n",
       "4   4  17474    100     60            1     1      0     0       0       0   \n",
       "\n",
       "         bmi  gender_2  \n",
       "0  21.967120         1  \n",
       "1  34.927679         0  \n",
       "2  23.507805         0  \n",
       "3  28.710479         1  \n",
       "4  23.011177         0  "
      ]
     },
     "execution_count": 6,
     "metadata": {},
     "output_type": "execute_result"
    }
   ],
   "source": [
    "df_cardio_first = df_cardio.drop([\"ap_hi\", \"ap_lo\", \"height\", \"weight\", \"bmi\"], axis = 1)\n",
    "df_cardio_first = pd.get_dummies(df_cardio_first, columns = [\"bmi_category\", \"ap_category\", \"gender\"], drop_first = True)\n",
    "\n",
    "df_cardio_second = df_cardio.drop([\"bmi_category\", \"ap_category\", \"height\", \"weight\"], axis = 1)\n",
    "df_cardio_second = pd.get_dummies(df_cardio_second, columns = [\"gender\"], drop_first = True)\n",
    "\n",
    "df_cardio_second.head()"
   ]
  },
  {
   "cell_type": "code",
   "execution_count": 7,
   "metadata": {},
   "outputs": [
    {
     "data": {
      "text/plain": [
       "((34130, 10), (17065, 10), (17065, 10), (34130,), (17065,), (17065,))"
      ]
     },
     "execution_count": 7,
     "metadata": {},
     "output_type": "execute_result"
    }
   ],
   "source": [
    "def tvt_split(X, y):\n",
    "    X_train, X_test, y_train, y_test = train_test_split(X.values, y.values, test_size = 0.5, random_state = 42)\n",
    "    X_val, X_test, y_val, y_test = train_test_split(X_test, y_test, test_size = 0.5, random_state = 42)\n",
    "\n",
    "    return X_train, X_val, X_test, y_train, y_val, y_test\n",
    "\n",
    "datasets = {}\n",
    "\n",
    "X_train, X_val, X_test, y_train, y_val, y_test = tvt_split(df_cardio_first.drop([\"id\", \"cardio\"], axis = 1), df_cardio_first[\"cardio\"])\n",
    "\n",
    "X_train, X_val, X_test, y_train, y_val, y_test = tvt_split(df_cardio_second.drop([\"id\", \"cardio\"], axis = 1), df_cardio_second[\"cardio\"])\n",
    "\n",
    "X_train.shape, X_val.shape, X_test.shape, y_train.shape, y_val.shape, y_test.shape"
   ]
  },
  {
   "cell_type": "code",
   "execution_count": 8,
   "metadata": {},
   "outputs": [],
   "source": [
    "scaler = StandardScaler()\n",
    "#scaler = MinMaxScaler()\n",
    "\n",
    "scaled_X_train = scaler.fit_transform(X_train)\n",
    "scaled_X_val = scaler.transform(X_val)\n",
    "scaled_X_test = scaler.transform(X_test)"
   ]
  },
  {
   "cell_type": "code",
   "execution_count": 9,
   "metadata": {},
   "outputs": [
    {
     "name": "stdout",
     "output_type": "stream",
     "text": [
      "Epoch 0 - loss: 0.38444775748307275 - val_loss: 0.38199318477311384\n"
     ]
    },
    {
     "name": "stderr",
     "output_type": "stream",
     "text": [
      "/Users/dp/Documents/GitHub/Deep-learning-Daniel-Petersson/evolutionary_algos.py:295: RuntimeWarning: overflow encountered in exp\n",
      "  self.output_activation_function = lambda x: 1 / (1 + np.exp(-x))\n"
     ]
    },
    {
     "name": "stdout",
     "output_type": "stream",
     "text": [
      "Epoch 1 - loss: 0.35937322433431157 - val_loss: 0.35181214655698634\n",
      "Epoch 2 - loss: 0.34875292520222206 - val_loss: 0.3421079122757956\n",
      "Epoch 3 - loss: 0.33514800531373207 - val_loss: 0.3315221107216767\n",
      "Epoch 5 - loss: 0.3266702297160943 - val_loss: 0.3264258931280659\n",
      "Epoch 6 - loss: 0.31788460113894307 - val_loss: 0.3093505522134056\n",
      "Epoch 11 - loss: 0.3146049979339621 - val_loss: 0.3070462917996588\n",
      "Epoch 13 - loss: 0.31300097584301456 - val_loss: 0.30474769704415267\n",
      "Epoch 14 - loss: 0.31182453382696385 - val_loss: 0.3040000334544755\n",
      "Epoch 15 - loss: 0.3114278726047718 - val_loss: 0.30358025588662146\n",
      "Epoch 16 - loss: 0.31013958809390957 - val_loss: 0.30254859764938147\n",
      "Epoch 17 - loss: 0.3098684584964267 - val_loss: 0.3030865816568698\n",
      "Epoch 18 - loss: 0.30935958324923646 - val_loss: 0.30268612233945186\n",
      "Epoch 19 - loss: 0.30668870566424145 - val_loss: 0.2994062774063255\n",
      "Epoch 21 - loss: 0.3057199334234784 - val_loss: 0.2979441591549274\n",
      "Epoch 23 - loss: 0.3051052805030046 - val_loss: 0.29715673307663065\n",
      "Epoch 24 - loss: 0.30420170738888686 - val_loss: 0.29750756807469664\n",
      "Epoch 25 - loss: 0.30345740018037753 - val_loss: 0.29692456884912233\n",
      "Epoch 26 - loss: 0.30145232729599264 - val_loss: 0.29410972914182765\n",
      "Epoch 28 - loss: 0.2995497895627608 - val_loss: 0.2929012324075434\n",
      "Epoch 30 - loss: 0.29894912641828975 - val_loss: 0.29131501551816086\n",
      "Epoch 32 - loss: 0.29664284269643754 - val_loss: 0.2898669434047738\n",
      "Epoch 33 - loss: 0.29631830825638567 - val_loss: 0.2899058365129333\n",
      "Epoch 34 - loss: 0.2957376382203544 - val_loss: 0.2895651758120607\n",
      "Epoch 35 - loss: 0.29491937658231177 - val_loss: 0.28869720316982705\n",
      "Epoch 36 - loss: 0.29447750822447577 - val_loss: 0.2877371032572785\n",
      "Epoch 37 - loss: 0.2939971349655905 - val_loss: 0.288682985136593\n",
      "Epoch 38 - loss: 0.29341910651865977 - val_loss: 0.2869248332101641\n",
      "Epoch 39 - loss: 0.29326959238192607 - val_loss: 0.28776616499994784\n",
      "Epoch 40 - loss: 0.2925591693454713 - val_loss: 0.28664476698140334\n",
      "Epoch 41 - loss: 0.2919363937183554 - val_loss: 0.286575182969745\n",
      "Epoch 42 - loss: 0.2907573625467077 - val_loss: 0.28553058935663245\n",
      "Epoch 43 - loss: 0.29018258414887577 - val_loss: 0.2857207421221099\n",
      "Epoch 44 - loss: 0.29005632854825586 - val_loss: 0.28520997561958933\n",
      "Epoch 45 - loss: 0.289187411555929 - val_loss: 0.2844751043318278\n",
      "Epoch 46 - loss: 0.2888686817935598 - val_loss: 0.2843548245211179\n",
      "Epoch 47 - loss: 0.28779983318773533 - val_loss: 0.28367215870511475\n",
      "Epoch 49 - loss: 0.286367708410822 - val_loss: 0.28242914833614124\n",
      "Epoch 51 - loss: 0.2855892786491582 - val_loss: 0.2822920801250088\n",
      "Epoch 52 - loss: 0.28539080112400106 - val_loss: 0.2817833537716184\n",
      "Epoch 53 - loss: 0.2851988092624601 - val_loss: 0.28251407111739607\n",
      "Epoch 54 - loss: 0.2845628963339455 - val_loss: 0.28134935598123506\n",
      "Epoch 55 - loss: 0.283658789568262 - val_loss: 0.28108087642912055\n",
      "Epoch 56 - loss: 0.2827752129803179 - val_loss: 0.2805451328242741\n",
      "Epoch 57 - loss: 0.2820495194645716 - val_loss: 0.27979710047135525\n",
      "Epoch 58 - loss: 0.2815309640259052 - val_loss: 0.27913093017199314\n",
      "Epoch 61 - loss: 0.2809292427507347 - val_loss: 0.2791243095920049\n",
      "Epoch 62 - loss: 0.2809185707088517 - val_loss: 0.27931352399480097\n",
      "Epoch 63 - loss: 0.280803252316914 - val_loss: 0.27798117026131935\n",
      "Epoch 64 - loss: 0.2803318886823126 - val_loss: 0.2787182210410569\n",
      "Epoch 65 - loss: 0.2797238807546831 - val_loss: 0.27834972326480556\n",
      "Epoch 66 - loss: 0.27843550377624193 - val_loss: 0.27751102034658254\n",
      "Epoch 68 - loss: 0.2781722233763052 - val_loss: 0.2772351183198075\n",
      "Epoch 71 - loss: 0.2776057725244715 - val_loss: 0.2762804388891935\n",
      "Epoch 72 - loss: 0.2772588790950517 - val_loss: 0.27609097737582067\n",
      "Epoch 73 - loss: 0.2770823701053925 - val_loss: 0.2750114705643291\n",
      "Epoch 74 - loss: 0.2768596198576939 - val_loss: 0.27599874508692934\n",
      "Epoch 75 - loss: 0.2765736381615852 - val_loss: 0.2763039830404292\n",
      "Epoch 76 - loss: 0.27594102038562157 - val_loss: 0.2746605699759704\n",
      "Epoch 77 - loss: 0.27568909626343796 - val_loss: 0.27471475334533896\n",
      "Epoch 78 - loss: 0.27539925205466986 - val_loss: 0.2751066726966873\n",
      "Epoch 79 - loss: 0.2751091265924384 - val_loss: 0.27487652910687055\n",
      "Epoch 81 - loss: 0.2749363055302494 - val_loss: 0.2739763021508192\n",
      "Epoch 82 - loss: 0.2747141380053116 - val_loss: 0.27411422758393106\n",
      "Epoch 83 - loss: 0.2746518540275873 - val_loss: 0.27361336019245\n",
      "Epoch 84 - loss: 0.27424873293065627 - val_loss: 0.2734432091394969\n",
      "Epoch 85 - loss: 0.27418946151855506 - val_loss: 0.27264337707744307\n",
      "Epoch 87 - loss: 0.27388544710171225 - val_loss: 0.2731674557814381\n",
      "Epoch 89 - loss: 0.2734482056895911 - val_loss: 0.2732244775124684\n",
      "Epoch 91 - loss: 0.2730681258712334 - val_loss: 0.27244294056774526\n",
      "Epoch 93 - loss: 0.27272830266277964 - val_loss: 0.27266846215365387\n",
      "Epoch 96 - loss: 0.2725828817050651 - val_loss: 0.2726757882819636\n",
      "Epoch 97 - loss: 0.27250739997072343 - val_loss: 0.27212102651486647\n",
      "Epoch 99 - loss: 0.27227602509385135 - val_loss: 0.27226237295503325\n"
     ]
    }
   ],
   "source": [
    "from evolutionary_algos import VectorizedEvoClassifier\n",
    "\n",
    "classifier = VectorizedEvoClassifier(n = 100, hidden_layers = [6], activation = \"relu\", random_state = 42)\n",
    "classifier.fit(scaled_X_train, y_train, epochs = 100, validation_data = (scaled_X_val, y_val), verbose = 1)"
   ]
  },
  {
   "cell_type": "code",
   "execution_count": 11,
   "metadata": {},
   "outputs": [
    {
     "name": "stdout",
     "output_type": "stream",
     "text": [
      "              precision    recall  f1-score   support\n",
      "\n",
      "           0       0.71      0.77      0.74      8683\n",
      "           1       0.74      0.68      0.71      8382\n",
      "\n",
      "    accuracy                           0.72     17065\n",
      "   macro avg       0.73      0.72      0.72     17065\n",
      "weighted avg       0.73      0.72      0.72     17065\n",
      "\n"
     ]
    },
    {
     "data": {
      "image/png": "[encoded data removed]",
      "text/plain": [
       "<Figure size 432x288 with 2 Axes>"
      ]
     },
     "metadata": {
      "needs_background": "light"
     },
     "output_type": "display_data"
    }
   ],
   "source": [
    "y_pred = classifier.predict(scaled_X_test)\n",
    "y_pred = (y_pred > 0.5) * 1\n",
    "\n",
    "print(classification_report(y_test, y_pred))\n",
    "disp = ConfusionMatrixDisplay(confusion_matrix(y_test, y_pred)).plot()\n",
    "plt.show()"
   ]
  }
 ],
 "metadata": {
  "interpreter": {
   "hash": "47d3b7ff548c1bae2d6b155a9b3d6f1122689b634566f833764ba5dd9fcfa2e0"
  },
  "kernelspec": {
   "display_name": "Python 3.9.12 ('Deep-learning-Daniel-Petersson-bXusHwTH')",
   "language": "python",
   "name": "python3"
  },
  "language_info": {
   "codemirror_mode": {
    "name": "ipython",
    "version": 3
   },
   "file_extension": ".py",
   "mimetype": "text/x-python",
   "name": "python",
   "nbconvert_exporter": "python",
   "pygments_lexer": "ipython3",
   "version": "3.9.12"
  },
  "orig_nbformat": 4
 },
 "nbformat": 4,
 "nbformat_minor": 2
}
