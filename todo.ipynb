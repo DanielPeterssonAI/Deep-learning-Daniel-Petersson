{
 "cells": [
  {
   "cell_type": "markdown",
   "metadata": {},
   "source": [
    "## TODO\n",
    "\n",
    "- Leaky ReLU:\n",
    "-- lambda x: max(0.1 * x, x)\n",
    "\n",
    "- Relativ mutation, beroende av viktens storlek\n",
    "\n",
    "- Lägg till mean_squared_error\n",
    "\n",
    "- Gör det möjligt att träna vidare\n",
    "\n",
    "- Classification\n",
    "\n",
    "- Vektoriserad nätparning?"
   ]
  }
 ],
 "metadata": {
  "interpreter": {
   "hash": "47d3b7ff548c1bae2d6b155a9b3d6f1122689b634566f833764ba5dd9fcfa2e0"
  },
  "kernelspec": {
   "display_name": "Python 3.9.12 ('Deep-learning-Daniel-Petersson-bXusHwTH')",
   "language": "python",
   "name": "python3"
  },
  "language_info": {
   "name": "python",
   "version": "3.9.12"
  },
  "orig_nbformat": 4
 },
 "nbformat": 4,
 "nbformat_minor": 2
}
