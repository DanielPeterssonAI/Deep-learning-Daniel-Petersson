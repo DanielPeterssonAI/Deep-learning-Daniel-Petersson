{
 "cells": [
  {
   "cell_type": "code",
   "execution_count": 1,
   "metadata": {},
   "outputs": [
    {
     "data": {
      "text/plain": [
       "((60000, 28, 28), (60000,), (10000, 28, 28), (10000,))"
      ]
     },
     "execution_count": 1,
     "metadata": {},
     "output_type": "execute_result"
    }
   ],
   "source": [
    "import matplotlib.pyplot as plt\n",
    "import pandas as pd\n",
    "import numpy as np\n",
    "from tensorflow.keras.datasets.mnist import load_data\n",
    "\n",
    "(X_train, y_train), (X_test, y_test) = load_data()\n",
    "\n",
    "X_train.shape, y_train.shape, X_test.shape, y_test.shape"
   ]
  },
  {
   "cell_type": "code",
   "execution_count": 2,
   "metadata": {},
   "outputs": [
    {
     "name": "stdout",
     "output_type": "stream",
     "text": [
      "X_train.max()=255, X_train.min()=0\n"
     ]
    }
   ],
   "source": [
    "print(f\"{X_train.max()=}, {X_train.min()=}\")"
   ]
  },
  {
   "cell_type": "markdown",
   "metadata": {},
   "source": [
    "# Normalize data\n",
    "\n",
    "$$X' = \\frac{X}{X_{max}}$$"
   ]
  },
  {
   "cell_type": "code",
   "execution_count": 3,
   "metadata": {},
   "outputs": [
    {
     "name": "stdout",
     "output_type": "stream",
     "text": [
      "X_train.max()=1.0, X_train.min()=0.0\n"
     ]
    }
   ],
   "source": [
    "X_train = X_train.astype(\"float32\") / 255\n",
    "X_test = X_test.astype(\"float32\") / 255\n",
    "\n",
    "print(f\"{X_train.max()=}, {X_train.min()=}\")"
   ]
  },
  {
   "cell_type": "code",
   "execution_count": 19,
   "metadata": {},
   "outputs": [
    {
     "data": {
      "image/png": "[encoded data removed]",
      "text/plain": [
       "<Figure size 864x288 with 10 Axes>"
      ]
     },
     "metadata": {
      "needs_background": "light"
     },
     "output_type": "display_data"
    }
   ],
   "source": [
    "def display_images(data, nrows = 2, ncols = 5, figsize = (12,4)):\n",
    "    fig, axes = plt.subplots(nrows, ncols, figsize = figsize)\n",
    "\n",
    "    for i, ax in enumerate(axes.flatten()):\n",
    "        ax.imshow(data[i, :, :], cmap = \"gray\")\n",
    "        ax.axis(\"off\")\n",
    "\n",
    "    fig.subplots_adjust(wspace = 0, hspace = .1, bottom = 0)\n",
    "\n",
    "display_images(X_train)"
   ]
  },
  {
   "cell_type": "markdown",
   "metadata": {},
   "source": [
    "## MLP"
   ]
  },
  {
   "cell_type": "code",
   "execution_count": 5,
   "metadata": {},
   "outputs": [],
   "source": [
    "from tensorflow.keras import Sequential\n",
    "from tensorflow.keras.layers import Flatten, Dense\n",
    "\n",
    "def MLP_model(nodes = None, names = None, activations = []):\n",
    "    model = Sequential(name = \"mlp_model\")\n",
    "    model.add(Flatten(input_shape = (28, 28), name = \"input_layer\"))\n",
    "\n",
    "    for node, name, activation in zip(nodes, names, activations):\n",
    "        model.add(Dense(node, name = name, activation = activation))\n",
    "\n",
    "    \n",
    "        \n",
    "    model.compile(loss = \"sparse_categorical_crossentropy\", optimizer = \"adam\", metrics = [\"accuracy\"])\n",
    "\n",
    "    return model\n",
    "\n",
    "#model_1 = MLP_model(nodes = [10], names = [\"Output_layer\"], activations = [\"softmax\"])\n",
    "\n",
    "#model_1.summary()"
   ]
  },
  {
   "cell_type": "code",
   "execution_count": 6,
   "metadata": {},
   "outputs": [],
   "source": [
    "#model_1.fit(X_train, y_train, validation_split = 1/6, epochs = 20, verbose = 1)"
   ]
  },
  {
   "cell_type": "code",
   "execution_count": 7,
   "metadata": {},
   "outputs": [],
   "source": [
    "#metrics = pd.DataFrame(model_1.history.history)\n",
    "\n",
    "#metrics.index = range(len(metrics))\n",
    "\n",
    "#metrics.head()"
   ]
  },
  {
   "cell_type": "code",
   "execution_count": 8,
   "metadata": {},
   "outputs": [],
   "source": [
    "def plot_metrics(df_history, style = \"-o\"):\n",
    "    _, axes = plt.subplots(1, 2, figsize = (12, 4))\n",
    "    columns = [[\"loss\", \"val_loss\"], [\"accuracy\", \"val_accuracy\"]]\n",
    "    for ax, col in zip(axes, columns):\n",
    "        df_history.plot(y = col, xlabel = \"Epochs\", ylabel = col[0], ax = ax, style = style)\n",
    "\n",
    "        ax.grid()\n",
    "\n",
    "#plot_metrics(metrics)"
   ]
  },
  {
   "cell_type": "markdown",
   "metadata": {},
   "source": [
    "## Hidden layers"
   ]
  },
  {
   "cell_type": "code",
   "execution_count": 9,
   "metadata": {},
   "outputs": [
    {
     "name": "stdout",
     "output_type": "stream",
     "text": [
      "Metal device set to: Apple M1\n",
      "\n",
      "systemMemory: 16.00 GB\n",
      "maxCacheSize: 5.33 GB\n",
      "\n",
      "Model: \"mlp_model\"\n",
      "_________________________________________________________________\n",
      " Layer (type)                Output Shape              Param #   \n",
      "=================================================================\n",
      " input_layer (Flatten)       (None, 784)               0         \n",
      "                                                                 \n",
      " hidden1 (Dense)             (None, 128)               100480    \n",
      "                                                                 \n",
      " hidden2 (Dense)             (None, 128)               16512     \n",
      "                                                                 \n",
      " output (Dense)              (None, 10)                1290      \n",
      "                                                                 \n",
      "=================================================================\n",
      "Total params: 118,282\n",
      "Trainable params: 118,282\n",
      "Non-trainable params: 0\n",
      "_________________________________________________________________\n"
     ]
    },
    {
     "name": "stderr",
     "output_type": "stream",
     "text": [
      "2022-04-21 11:14:14.208863: I tensorflow/core/common_runtime/pluggable_device/pluggable_device_factory.cc:305] Could not identify NUMA node of platform GPU ID 0, defaulting to 0. Your kernel may not have been built with NUMA support.\n",
      "2022-04-21 11:14:14.208975: I tensorflow/core/common_runtime/pluggable_device/pluggable_device_factory.cc:271] Created TensorFlow device (/job:localhost/replica:0/task:0/device:GPU:0 with 0 MB memory) -> physical PluggableDevice (device: 0, name: METAL, pci bus id: <undefined>)\n"
     ]
    }
   ],
   "source": [
    "model_2 = MLP_model(nodes = [128, 128, 10], activations = [\"relu\", \"relu\", \"softmax\"], names = [\"hidden1\", \"hidden2\", \"output\"])\n",
    "\n",
    "model_2.summary()"
   ]
  },
  {
   "cell_type": "code",
   "execution_count": 11,
   "metadata": {},
   "outputs": [
    {
     "name": "stdout",
     "output_type": "stream",
     "text": [
      "Epoch 1/8\n",
      "1563/1563 [==============================] - 9s 6ms/step - loss: 0.0341 - accuracy: 0.9885 - val_loss: 0.0939 - val_accuracy: 0.9754\n",
      "Epoch 2/8\n",
      "1563/1563 [==============================] - 9s 6ms/step - loss: 0.0287 - accuracy: 0.9901 - val_loss: 0.0976 - val_accuracy: 0.9764\n",
      "Epoch 3/8\n",
      "1563/1563 [==============================] - 9s 6ms/step - loss: 0.0253 - accuracy: 0.9917 - val_loss: 0.1101 - val_accuracy: 0.9758\n",
      "Epoch 4/8\n",
      "1563/1563 [==============================] - 9s 6ms/step - loss: 0.0198 - accuracy: 0.9934 - val_loss: 0.1085 - val_accuracy: 0.9752\n",
      "Epoch 5/8\n",
      "1563/1563 [==============================] - 9s 6ms/step - loss: 0.0211 - accuracy: 0.9928 - val_loss: 0.0983 - val_accuracy: 0.9773\n",
      "Epoch 6/8\n",
      "1563/1563 [==============================] - 9s 6ms/step - loss: 0.0145 - accuracy: 0.9951 - val_loss: 0.1054 - val_accuracy: 0.9771\n",
      "Epoch 7/8\n",
      "1563/1563 [==============================] - 9s 6ms/step - loss: 0.0164 - accuracy: 0.9943 - val_loss: 0.1165 - val_accuracy: 0.9746\n",
      "Epoch 8/8\n",
      "1563/1563 [==============================] - 9s 6ms/step - loss: 0.0129 - accuracy: 0.9958 - val_loss: 0.1256 - val_accuracy: 0.9786\n"
     ]
    },
    {
     "data": {
      "text/plain": [
       "<keras.callbacks.History at 0x2970d6a90>"
      ]
     },
     "execution_count": 11,
     "metadata": {},
     "output_type": "execute_result"
    }
   ],
   "source": [
    "model_2.fit(X_train, y_train, validation_split = 1/6, epochs = 8, verbose = 1)"
   ]
  },
  {
   "cell_type": "code",
   "execution_count": 12,
   "metadata": {},
   "outputs": [
    {
     "data": {
      "image/png": "[encoded data removed]",
      "text/plain": [
       "<Figure size 864x288 with 2 Axes>"
      ]
     },
     "metadata": {
      "needs_background": "light"
     },
     "output_type": "display_data"
    }
   ],
   "source": [
    "metrics = pd.DataFrame(model_2.history.history)\n",
    "\n",
    "metrics.index = range(len(metrics))\n",
    "\n",
    "plot_metrics(metrics)"
   ]
  },
  {
   "cell_type": "code",
   "execution_count": 13,
   "metadata": {},
   "outputs": [
    {
     "name": "stderr",
     "output_type": "stream",
     "text": [
      "2022-04-21 11:16:59.193631: I tensorflow/core/grappler/optimizers/custom_graph_optimizer_registry.cc:113] Plugin optimizer for device_type GPU is enabled.\n"
     ]
    }
   ],
   "source": [
    "from sklearn.metrics import classification_report, confusion_matrix, ConfusionMatrixDisplay\n",
    "\n",
    "y_pred = model_2.predict(X_test)\n",
    "y_pred = np.argmax(y_pred, axis = 1)\n",
    "\n",
    "#print(classification_report(y_test, y_pred))\n",
    "#cm = confusion_matrix(y_test, y_pred)\n",
    "#ConfusionMatrixDisplay(cm).plot()"
   ]
  },
  {
   "cell_type": "code",
   "execution_count": 14,
   "metadata": {},
   "outputs": [
    {
     "data": {
      "text/plain": [
       "array([7, 2, 1, ..., 4, 5, 6], dtype=uint8)"
      ]
     },
     "execution_count": 14,
     "metadata": {},
     "output_type": "execute_result"
    }
   ],
   "source": [
    "y_test"
   ]
  },
  {
   "cell_type": "code",
   "execution_count": 15,
   "metadata": {},
   "outputs": [
    {
     "data": {
      "text/plain": [
       "array([7, 2, 1, ..., 4, 5, 6])"
      ]
     },
     "execution_count": 15,
     "metadata": {},
     "output_type": "execute_result"
    }
   ],
   "source": [
    "y_pred"
   ]
  },
  {
   "cell_type": "code",
   "execution_count": 16,
   "metadata": {},
   "outputs": [],
   "source": [
    "misclassified_indices = np.where(y_pred != y_test)[0]\n",
    "misclassified_samples = X_test[misclassified_indices]"
   ]
  },
  {
   "cell_type": "code",
   "execution_count": 20,
   "metadata": {},
   "outputs": [
    {
     "data": {
      "image/png": "[encoded data removed]",
      "text/plain": [
       "<Figure size 864x576 with 20 Axes>"
      ]
     },
     "metadata": {
      "needs_background": "light"
     },
     "output_type": "display_data"
    }
   ],
   "source": [
    "\n",
    "# a few misclassifications\n",
    "display_images(misclassified_samples, 4,5, (12,8))"
   ]
  }
 ],
 "metadata": {
  "interpreter": {
   "hash": "47d3b7ff548c1bae2d6b155a9b3d6f1122689b634566f833764ba5dd9fcfa2e0"
  },
  "kernelspec": {
   "display_name": "Python 3.9.12 ('Deep-learning-Daniel-Petersson-bXusHwTH')",
   "language": "python",
   "name": "python3"
  },
  "language_info": {
   "codemirror_mode": {
    "name": "ipython",
    "version": 3
   },
   "file_extension": ".py",
   "mimetype": "text/x-python",
   "name": "python",
   "nbconvert_exporter": "python",
   "pygments_lexer": "ipython3",
   "version": "3.9.12"
  },
  "orig_nbformat": 4
 },
 "nbformat": 4,
 "nbformat_minor": 2
}
