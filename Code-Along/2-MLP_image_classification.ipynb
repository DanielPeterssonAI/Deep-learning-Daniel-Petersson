{
 "cells": [
  {
   "cell_type": "code",
   "execution_count": 2,
   "metadata": {},
   "outputs": [
    {
     "data": {
      "text/plain": [
       "((60000, 28, 28), (60000,), (10000, 28, 28), (10000,))"
      ]
     },
     "execution_count": 2,
     "metadata": {},
     "output_type": "execute_result"
    }
   ],
   "source": [
    "import matplotlib.pyplot as plt\n",
    "import pandas as pd\n",
    "import numpy as np\n",
    "from tensorflow.keras.datasets.mnist import load_data\n",
    "\n",
    "(X_train, y_train), (X_test, y_test) = load_data()\n",
    "\n",
    "X_train.shape, y_train.shape, X_test.shape, y_test.shape"
   ]
  },
  {
   "cell_type": "code",
   "execution_count": 3,
   "metadata": {},
   "outputs": [
    {
     "data": {
      "text/plain": [
       "((60000, 10), (10000, 10))"
      ]
     },
     "execution_count": 3,
     "metadata": {},
     "output_type": "execute_result"
    }
   ],
   "source": [
    "y_train_onehot = pd.get_dummies(pd.DataFrame({\"digit\": y_train}), columns = [\"digit\"]).values\n",
    "y_test_onehot = pd.get_dummies(pd.DataFrame({\"digit\": y_test}), columns = [\"digit\"]).values\n",
    "\n",
    "y_train_onehot.shape, y_test_onehot.shape"
   ]
  },
  {
   "cell_type": "code",
   "execution_count": 3,
   "metadata": {},
   "outputs": [
    {
     "name": "stdout",
     "output_type": "stream",
     "text": [
      "X_train.max()=255, X_train.min()=0\n"
     ]
    }
   ],
   "source": [
    "print(f\"{X_train.max()=}, {X_train.min()=}\")"
   ]
  },
  {
   "cell_type": "markdown",
   "metadata": {},
   "source": [
    "# Normalize data\n",
    "\n",
    "$$X' = \\frac{X}{X_{max}}$$"
   ]
  },
  {
   "cell_type": "code",
   "execution_count": 4,
   "metadata": {},
   "outputs": [
    {
     "name": "stdout",
     "output_type": "stream",
     "text": [
      "X_train.max()=1.0, X_train.min()=0.0\n"
     ]
    }
   ],
   "source": [
    "X_train = X_train.astype(\"float32\") / 255\n",
    "X_test = X_test.astype(\"float32\") / 255\n",
    "\n",
    "print(f\"{X_train.max()=}, {X_train.min()=}\")"
   ]
  },
  {
   "cell_type": "code",
   "execution_count": 108,
   "metadata": {},
   "outputs": [
    {
     "data": {
      "image/png": "[encoded data removed]",
      "text/plain": [
       "<Figure size 864x288 with 10 Axes>"
      ]
     },
     "metadata": {
      "needs_background": "light"
     },
     "output_type": "display_data"
    }
   ],
   "source": [
    "def display_images(data, nrows = 2, ncols = 5, figsize = (12,4)):\n",
    "    fig, axes = plt.subplots(nrows, ncols, figsize = figsize)\n",
    "\n",
    "    for i, ax in enumerate(axes.flatten()):\n",
    "        ax.imshow(data[i, :, :], cmap = \"gray\")\n",
    "        ax.axis(\"off\")\n",
    "\n",
    "    fig.subplots_adjust(wspace = 0, hspace = .1, bottom = 0)\n",
    "\n",
    "display_images(X_train)"
   ]
  },
  {
   "cell_type": "markdown",
   "metadata": {},
   "source": [
    "## MLP"
   ]
  },
  {
   "cell_type": "code",
   "execution_count": 109,
   "metadata": {},
   "outputs": [],
   "source": [
    "from tensorflow.keras import Sequential\n",
    "from tensorflow.keras.layers import Flatten, Dense\n",
    "\n",
    "def MLP_model(nodes = None, names = None, activations = []):\n",
    "    model = Sequential(name = \"mlp_model\")\n",
    "    model.add(Flatten(input_shape = (28, 28), name = \"input_layer\"))\n",
    "\n",
    "    for node, name, activation in zip(nodes, names, activations):\n",
    "        model.add(Dense(node, name = name, activation = activation))\n",
    "\n",
    "    \n",
    "        \n",
    "    model.compile(loss = \"sparse_categorical_crossentropy\", optimizer = \"adam\", metrics = [\"accuracy\"])\n",
    "\n",
    "    return model\n",
    "\n",
    "#model_1 = MLP_model(nodes = [10], names = [\"Output_layer\"], activations = [\"softmax\"])\n",
    "\n",
    "#model_1.summary()"
   ]
  },
  {
   "cell_type": "code",
   "execution_count": 39,
   "metadata": {},
   "outputs": [],
   "source": [
    "#model_1.fit(X_train, y_train, validation_split = 1/6, epochs = 20, verbose = 1)"
   ]
  },
  {
   "cell_type": "code",
   "execution_count": 40,
   "metadata": {},
   "outputs": [],
   "source": [
    "#metrics = pd.DataFrame(model_1.history.history)\n",
    "\n",
    "#metrics.index = range(len(metrics))\n",
    "\n",
    "#metrics.head()"
   ]
  },
  {
   "cell_type": "code",
   "execution_count": 41,
   "metadata": {},
   "outputs": [],
   "source": [
    "def plot_metrics(df_history, style = \"-o\"):\n",
    "    _, axes = plt.subplots(1, 2, figsize = (12, 4))\n",
    "    columns = [[\"loss\", \"val_loss\"], [\"accuracy\", \"val_accuracy\"]]\n",
    "    for ax, col in zip(axes, columns):\n",
    "        df_history.plot(y = col, xlabel = \"Epochs\", ylabel = col[0], ax = ax, style = style)\n",
    "\n",
    "        ax.grid()\n",
    "\n",
    "#plot_metrics(metrics)"
   ]
  },
  {
   "cell_type": "markdown",
   "metadata": {},
   "source": [
    "## Hidden layers"
   ]
  },
  {
   "cell_type": "code",
   "execution_count": 110,
   "metadata": {},
   "outputs": [
    {
     "name": "stdout",
     "output_type": "stream",
     "text": [
      "Metal device set to: Apple M1\n",
      "\n",
      "systemMemory: 16.00 GB\n",
      "maxCacheSize: 5.33 GB\n",
      "\n",
      "Model: \"mlp_model\"\n",
      "_________________________________________________________________\n",
      " Layer (type)                Output Shape              Param #   \n",
      "=================================================================\n",
      " input_layer (Flatten)       (None, 784)               0         \n",
      "                                                                 \n",
      " hidden1 (Dense)             (None, 128)               100480    \n",
      "                                                                 \n",
      " hidden2 (Dense)             (None, 128)               16512     \n",
      "                                                                 \n",
      " output (Dense)              (None, 10)                1290      \n",
      "                                                                 \n",
      "=================================================================\n",
      "Total params: 118,282\n",
      "Trainable params: 118,282\n",
      "Non-trainable params: 0\n",
      "_________________________________________________________________\n"
     ]
    },
    {
     "name": "stderr",
     "output_type": "stream",
     "text": [
      "2022-05-06 23:26:06.769201: I tensorflow/core/common_runtime/pluggable_device/pluggable_device_factory.cc:305] Could not identify NUMA node of platform GPU ID 0, defaulting to 0. Your kernel may not have been built with NUMA support.\n",
      "2022-05-06 23:26:06.769378: I tensorflow/core/common_runtime/pluggable_device/pluggable_device_factory.cc:271] Created TensorFlow device (/job:localhost/replica:0/task:0/device:GPU:0 with 0 MB memory) -> physical PluggableDevice (device: 0, name: METAL, pci bus id: <undefined>)\n"
     ]
    }
   ],
   "source": [
    "model_2 = MLP_model(nodes = [128, 128, 10], activations = [\"relu\", \"relu\", \"softmax\"], names = [\"hidden1\", \"hidden2\", \"output\"])\n",
    "\n",
    "model_2.summary()"
   ]
  },
  {
   "cell_type": "code",
   "execution_count": 111,
   "metadata": {},
   "outputs": [
    {
     "name": "stdout",
     "output_type": "stream",
     "text": [
      "Epoch 1/3\n"
     ]
    },
    {
     "name": "stderr",
     "output_type": "stream",
     "text": [
      "2022-05-06 23:26:14.773459: W tensorflow/core/platform/profile_utils/cpu_utils.cc:128] Failed to get CPU frequency: 0 Hz\n",
      "2022-05-06 23:26:14.970998: I tensorflow/core/grappler/optimizers/custom_graph_optimizer_registry.cc:113] Plugin optimizer for device_type GPU is enabled.\n"
     ]
    },
    {
     "name": "stdout",
     "output_type": "stream",
     "text": [
      "1563/1563 [==============================] - ETA: 0s - loss: 0.2511 - accuracy: 0.9260"
     ]
    },
    {
     "name": "stderr",
     "output_type": "stream",
     "text": [
      "2022-05-06 23:26:24.849081: I tensorflow/core/grappler/optimizers/custom_graph_optimizer_registry.cc:113] Plugin optimizer for device_type GPU is enabled.\n"
     ]
    },
    {
     "name": "stdout",
     "output_type": "stream",
     "text": [
      "1563/1563 [==============================] - 11s 6ms/step - loss: 0.2511 - accuracy: 0.9260 - val_loss: 0.1262 - val_accuracy: 0.9624\n",
      "Epoch 2/3\n",
      "1563/1563 [==============================] - 11s 7ms/step - loss: 0.1040 - accuracy: 0.9689 - val_loss: 0.1015 - val_accuracy: 0.9698\n",
      "Epoch 3/3\n",
      "1563/1563 [==============================] - 10s 6ms/step - loss: 0.0714 - accuracy: 0.9773 - val_loss: 0.0963 - val_accuracy: 0.9714\n"
     ]
    },
    {
     "data": {
      "text/plain": [
       "<keras.callbacks.History at 0x14a06deb0>"
      ]
     },
     "execution_count": 111,
     "metadata": {},
     "output_type": "execute_result"
    }
   ],
   "source": [
    "model_2.fit(X_train, y_train, validation_split = 1/6, epochs = 3, verbose = 1)"
   ]
  },
  {
   "cell_type": "code",
   "execution_count": 112,
   "metadata": {},
   "outputs": [
    {
     "ename": "NameError",
     "evalue": "name 'plot_metrics' is not defined",
     "output_type": "error",
     "traceback": [
      "\u001b[0;31m---------------------------------------------------------------------------\u001b[0m",
      "\u001b[0;31mNameError\u001b[0m                                 Traceback (most recent call last)",
      "\u001b[1;32m/Users/dp/Documents/GitHub/Deep-learning-Daniel-Petersson/Code-Along/2-MLP_image_classification.ipynb Cell 15'\u001b[0m in \u001b[0;36m<cell line: 5>\u001b[0;34m()\u001b[0m\n\u001b[1;32m      <a href='vscode-notebook-cell:/Users/dp/Documents/GitHub/Deep-learning-Daniel-Petersson/Code-Along/2-MLP_image_classification.ipynb#ch0000014?line=0'>1</a>\u001b[0m metrics \u001b[39m=\u001b[39m pd\u001b[39m.\u001b[39mDataFrame(model_2\u001b[39m.\u001b[39mhistory\u001b[39m.\u001b[39mhistory)\n\u001b[1;32m      <a href='vscode-notebook-cell:/Users/dp/Documents/GitHub/Deep-learning-Daniel-Petersson/Code-Along/2-MLP_image_classification.ipynb#ch0000014?line=2'>3</a>\u001b[0m metrics\u001b[39m.\u001b[39mindex \u001b[39m=\u001b[39m \u001b[39mrange\u001b[39m(\u001b[39mlen\u001b[39m(metrics))\n\u001b[0;32m----> <a href='vscode-notebook-cell:/Users/dp/Documents/GitHub/Deep-learning-Daniel-Petersson/Code-Along/2-MLP_image_classification.ipynb#ch0000014?line=4'>5</a>\u001b[0m plot_metrics(metrics)\n",
      "\u001b[0;31mNameError\u001b[0m: name 'plot_metrics' is not defined"
     ]
    }
   ],
   "source": [
    "metrics = pd.DataFrame(model_2.history.history)\n",
    "\n",
    "metrics.index = range(len(metrics))\n",
    "\n",
    "plot_metrics(metrics)"
   ]
  },
  {
   "cell_type": "code",
   "execution_count": 113,
   "metadata": {},
   "outputs": [
    {
     "name": "stderr",
     "output_type": "stream",
     "text": [
      "2022-05-06 23:26:58.157630: I tensorflow/core/grappler/optimizers/custom_graph_optimizer_registry.cc:113] Plugin optimizer for device_type GPU is enabled.\n"
     ]
    },
    {
     "data": {
      "text/plain": [
       "array([8.6858080e-08, 8.9964709e-07, 2.1652222e-06, 8.6986140e-05,\n",
       "       5.8177013e-10, 5.2372215e-08, 8.8357273e-11, 9.9990320e-01,\n",
       "       1.9002327e-07, 6.4735841e-06], dtype=float32)"
      ]
     },
     "execution_count": 113,
     "metadata": {},
     "output_type": "execute_result"
    }
   ],
   "source": [
    "from sklearn.metrics import classification_report, confusion_matrix, ConfusionMatrixDisplay\n",
    "\n",
    "y_pred = model_2.predict(X_test)\n",
    "y_pred[0]\n"
   ]
  },
  {
   "cell_type": "code",
   "execution_count": 114,
   "metadata": {},
   "outputs": [
    {
     "name": "stdout",
     "output_type": "stream",
     "text": [
      "              precision    recall  f1-score   support\n",
      "\n",
      "           0       0.96      0.99      0.98       980\n",
      "           1       0.99      0.99      0.99      1135\n",
      "           2       0.98      0.96      0.97      1032\n",
      "           3       0.97      0.98      0.97      1010\n",
      "           4       0.95      0.99      0.97       982\n",
      "           5       0.99      0.97      0.98       892\n",
      "           6       0.97      0.99      0.98       958\n",
      "           7       0.97      0.97      0.97      1028\n",
      "           8       0.97      0.95      0.96       974\n",
      "           9       0.98      0.95      0.96      1009\n",
      "\n",
      "    accuracy                           0.97     10000\n",
      "   macro avg       0.97      0.97      0.97     10000\n",
      "weighted avg       0.97      0.97      0.97     10000\n",
      "\n"
     ]
    },
    {
     "data": {
      "text/plain": [
       "<sklearn.metrics._plot.confusion_matrix.ConfusionMatrixDisplay at 0x16a8bc850>"
      ]
     },
     "execution_count": 114,
     "metadata": {},
     "output_type": "execute_result"
    },
    {
     "data": {
      "image/png": "[encoded data removed]",
      "text/plain": [
       "<Figure size 432x288 with 2 Axes>"
      ]
     },
     "metadata": {
      "needs_background": "light"
     },
     "output_type": "display_data"
    }
   ],
   "source": [
    "y_pred = np.argmax(y_pred, axis = 1)\n",
    "\n",
    "print(classification_report(y_test, y_pred))\n",
    "cm = confusion_matrix(y_test, y_pred)\n",
    "ConfusionMatrixDisplay(cm).plot()"
   ]
  },
  {
   "cell_type": "code",
   "execution_count": null,
   "metadata": {},
   "outputs": [],
   "source": []
  },
  {
   "cell_type": "code",
   "execution_count": 47,
   "metadata": {},
   "outputs": [
    {
     "data": {
      "text/plain": [
       "array([7, 2, 1, ..., 4, 5, 6], dtype=uint8)"
      ]
     },
     "execution_count": 47,
     "metadata": {},
     "output_type": "execute_result"
    }
   ],
   "source": [
    "y_test"
   ]
  },
  {
   "cell_type": "code",
   "execution_count": 48,
   "metadata": {},
   "outputs": [
    {
     "data": {
      "text/plain": [
       "array([7, 2, 1, ..., 4, 5, 6])"
      ]
     },
     "execution_count": 48,
     "metadata": {},
     "output_type": "execute_result"
    }
   ],
   "source": [
    "y_pred"
   ]
  },
  {
   "cell_type": "code",
   "execution_count": 49,
   "metadata": {},
   "outputs": [],
   "source": [
    "misclassified_indices = np.where(y_pred != y_test)[0]\n",
    "misclassified_samples = X_test[misclassified_indices]"
   ]
  },
  {
   "cell_type": "code",
   "execution_count": 50,
   "metadata": {},
   "outputs": [
    {
     "data": {
      "image/png": "[encoded data removed]",
      "text/plain": [
       "<Figure size 864x576 with 20 Axes>"
      ]
     },
     "metadata": {
      "needs_background": "light"
     },
     "output_type": "display_data"
    }
   ],
   "source": [
    "\n",
    "# a few misclassifications\n",
    "display_images(misclassified_samples, 4,5, (12,8))"
   ]
  },
  {
   "cell_type": "code",
   "execution_count": 184,
   "metadata": {},
   "outputs": [],
   "source": [
    "import math\n",
    "import numpy as np\n",
    "\n",
    "class VectorizedEvoClassifier:\n",
    "    def __init__(self, n = 20, hidden_layers = False, activation = \"sigmoid\", random_state = None):\n",
    "\n",
    "        self.n = n // 2 * 2\n",
    "        self.best_net = -1\n",
    "        self.best_result = None\n",
    "        self.validation_loss_history = []\n",
    "        self.training_loss_history = []\n",
    "        self.mutation_sigma = 0\n",
    "\n",
    "        if activation == \"sigmoid\":\n",
    "            self.activation_function = lambda x: 1 / (1 + np.exp(-x))\n",
    "        elif activation == \"relu\":\n",
    "            self.activation_function = lambda x: np.maximum(0, x)\n",
    "        elif activation == \"leaky_relu\":\n",
    "            self.activation_function = lambda x: np.maximum(0.1 * x, x)\n",
    "        \n",
    "        self.output_activation_function = lambda x: np.exp(x) / np.sum(np.exp(x), axis=0)\n",
    "        \n",
    "        if hidden_layers:\n",
    "            self.layers = hidden_layers + [10]\n",
    "        else:\n",
    "            self.layers = [10]\n",
    "        \n",
    "        if random_state != None:\n",
    "            np.random.seed(random_state)\n",
    "\n",
    "    \n",
    "    def fit(self, X_train, y_train, epochs = 100, validation_data = False, verbose = 0):\n",
    "        X_train = np.c_[np.ones(X_train.shape[0]), X_train]\n",
    "\n",
    "        if validation_data:\n",
    "            X_val, y_val = validation_data\n",
    "\n",
    "        self.layers = [X_train.shape[1]] + self.layers\n",
    "\n",
    "        self.y_preds = np.zeros((self.n, y_train.shape[0]))\n",
    "        self.nets_loss = np.zeros(self.n)\n",
    "        self.sorted_indecies = np.zeros(self.n)\n",
    "\n",
    "        self.weights = []\n",
    "\n",
    "        for i in range(len(self.layers) - 1):\n",
    "            self.weights += [np.random.uniform(-1, 1, (self.n, self.layers[i], self.layers[i + 1]))]\n",
    "\n",
    "        for epoch in range(epochs):\n",
    "            forward_pass = X_train.T\n",
    "            \n",
    "            for j in range(0, len(self.layers) - 2):\n",
    "                forward_pass = self.activation_function(self.weights[j].transpose(0, 2, 1) @ forward_pass)\n",
    "\n",
    "            forward_pass = self.output_activation_function(self.weights[-1].transpose(0, 2, 1) @ forward_pass)\n",
    "            \n",
    "            self.y_preds = forward_pass.reshape(self.n, -1)\n",
    "\n",
    "            self.nets_loss = np.mean(np.abs(self.y_preds - y_train), axis = 1)\n",
    "            \n",
    "            \n",
    "            self.sorted_indecies = np.argsort(self.nets_loss)\n",
    "\n",
    "            self.mutation_sigma = 0.1 + 5 * 1 / math.exp(epoch / ((epochs + 1) / (100 * math.log10(epochs + 1))))\n",
    "\n",
    "            for j in range(0, len(self.layers) - 1):\n",
    "                self.weights[j][self.sorted_indecies[self.n // 2::2]] = np.mean((self.weights[j][self.sorted_indecies[:self.n // 2:2]], self.weights[j][self.sorted_indecies[1:1 + self.n // 2:2]]), axis = 0) + np.random.normal(0, self.mutation_sigma, (self.n // 4, self.layers[j], self.layers[j + 1]))\n",
    "                self.weights[j][self.sorted_indecies[1 + self.n // 2::2]] = np.mean((self.weights[j][self.sorted_indecies[:self.n // 2:2]], self.weights[j][self.sorted_indecies[1:1 + self.n // 2:2]]), axis = 0) + np.random.normal(0, self.mutation_sigma, (self.n // 4, self.layers[j], self.layers[j + 1]))\n",
    "\n",
    "            if self.best_net != self.sorted_indecies[0]:\n",
    "                self.best_net = self.sorted_indecies[0]\n",
    "                self.training_loss_history += [self.nets_loss[self.best_net]]\n",
    "                \n",
    "                if validation_data:\n",
    "                    self.validation_loss_history += [np.mean(np.abs(y_val - self.predict(X_val)))]\n",
    "                    if verbose == 1:\n",
    "                        print(f\"Epoch {epoch} - loss: {self.training_loss_history[-1]} - val_loss: {self.validation_loss_history[-1]}\")\n",
    "                else:\n",
    "                    if verbose == 1:\n",
    "                        pass\n",
    "                        print(f\"Epoch {epoch} - loss: {self.training_loss_history[-1]}\")\n",
    "\n",
    "\n",
    "    def predict(self, X):\n",
    "        X = np.c_[np.ones(X.shape[0]), X]\n",
    "\n",
    "        forward_pass = X.T\n",
    "        for j in range(0, len(self.layers) - 2):\n",
    "            forward_pass = self.activation_function(self.weights[j][self.best_net].T @ forward_pass)\n",
    "\n",
    "        forward_pass = self.output_activation_function(self.weights[-1][self.best_net].T @ forward_pass)\n",
    "        return forward_pass.reshape(-1)\n",
    "\n"
   ]
  },
  {
   "cell_type": "code",
   "execution_count": 186,
   "metadata": {},
   "outputs": [
    {
     "name": "stderr",
     "output_type": "stream",
     "text": [
      "/var/folders/xz/f2gwbn5n3vs4pz044n49z3cw0000gn/T/ipykernel_1401/2165102959.py:21: RuntimeWarning: overflow encountered in exp\n",
      "  self.output_activation_function = lambda x: 1 / (1 + np.exp(-x))\n"
     ]
    },
    {
     "name": "stdout",
     "output_type": "stream",
     "text": [
      "Epoch 0 - loss: 0.29421671368928914\n",
      "Epoch 1 - loss: 0.2635065011295324\n",
      "Epoch 5 - loss: 0.2577162782374886\n",
      "Epoch 6 - loss: 0.2318312351032709\n",
      "Epoch 7 - loss: 0.19927911788935723\n",
      "Epoch 9 - loss: 0.1819242212080481\n",
      "Epoch 10 - loss: 0.1778789383050943\n",
      "Epoch 11 - loss: 0.170292617116794\n",
      "Epoch 12 - loss: 0.16098163439461666\n",
      "Epoch 13 - loss: 0.1432018262963709\n",
      "Epoch 14 - loss: 0.1372708740126222\n",
      "Epoch 15 - loss: 0.1296998675440943\n",
      "Epoch 16 - loss: 0.12497968889155864\n",
      "Epoch 17 - loss: 0.1130190992467419\n",
      "Epoch 18 - loss: 0.1081402441293143\n",
      "Epoch 20 - loss: 0.10273354911650316\n",
      "Epoch 23 - loss: 0.10237870201789923\n",
      "Epoch 24 - loss: 0.10093426084162681\n",
      "Epoch 25 - loss: 0.09864373741280771\n",
      "Epoch 28 - loss: 0.09670009369663206\n",
      "Epoch 36 - loss: 0.09574728521424121\n",
      "Epoch 38 - loss: 0.0943170264995266\n",
      "Epoch 41 - loss: 0.09341179103447027\n",
      "Epoch 42 - loss: 0.09338547787909875\n",
      "Epoch 43 - loss: 0.0926405201652858\n",
      "Epoch 44 - loss: 0.09263192078688826\n",
      "Epoch 45 - loss: 0.09257245393018323\n",
      "Epoch 46 - loss: 0.09209297335917477\n",
      "Epoch 49 - loss: 0.09168657829933498\n",
      "Epoch 51 - loss: 0.0913314662671127\n",
      "Epoch 52 - loss: 0.09132248505540123\n",
      "Epoch 54 - loss: 0.09111713019227914\n",
      "Epoch 55 - loss: 0.09107012474930246\n",
      "Epoch 57 - loss: 0.09093960126380943\n",
      "Epoch 58 - loss: 0.09092866270860052\n",
      "Epoch 59 - loss: 0.09078314645065329\n",
      "Epoch 60 - loss: 0.0907773075004319\n",
      "Epoch 61 - loss: 0.09054954404682282\n",
      "Epoch 64 - loss: 0.09049222033390085\n",
      "Epoch 66 - loss: 0.09040634730797653\n",
      "Epoch 67 - loss: 0.09032703200013217\n",
      "Epoch 69 - loss: 0.09028574288850919\n",
      "Epoch 70 - loss: 0.09025242637329245\n",
      "Epoch 71 - loss: 0.09014022747854163\n",
      "Epoch 75 - loss: 0.090103135147482\n",
      "Epoch 77 - loss: 0.09006346677566399\n",
      "Epoch 80 - loss: 0.09005640630996427\n",
      "Epoch 81 - loss: 0.0900555718230837\n",
      "Epoch 82 - loss: 0.08998186203719753\n",
      "Epoch 87 - loss: 0.08997441072390525\n",
      "Epoch 88 - loss: 0.0899281678472432\n",
      "Epoch 91 - loss: 0.08991702777929479\n",
      "Epoch 92 - loss: 0.08987608391562982\n",
      "Epoch 94 - loss: 0.08987232996251363\n",
      "Epoch 95 - loss: 0.0898717630109179\n",
      "Epoch 96 - loss: 0.08983947846359873\n",
      "Epoch 97 - loss: 0.08980674619986312\n",
      "Epoch 102 - loss: 0.08979117528846327\n",
      "Epoch 105 - loss: 0.08978317869671511\n",
      "Epoch 107 - loss: 0.08978150273013955\n",
      "Epoch 108 - loss: 0.08978121422367953\n",
      "Epoch 109 - loss: 0.08977917707054801\n",
      "Epoch 111 - loss: 0.08976257175298918\n",
      "Epoch 112 - loss: 0.08975279771052602\n",
      "Epoch 113 - loss: 0.08974644346786965\n",
      "Epoch 114 - loss: 0.0897292956985083\n",
      "Epoch 117 - loss: 0.08971944288096316\n",
      "Epoch 119 - loss: 0.08970961065583614\n",
      "Epoch 122 - loss: 0.089697941504595\n",
      "Epoch 125 - loss: 0.08969344603066438\n",
      "Epoch 126 - loss: 0.08967800001697372\n",
      "Epoch 127 - loss: 0.08967453790769445\n",
      "Epoch 128 - loss: 0.08966407576240486\n",
      "Epoch 131 - loss: 0.08964581116325271\n",
      "Epoch 136 - loss: 0.08964233689980469\n",
      "Epoch 137 - loss: 0.08963279084523491\n",
      "Epoch 138 - loss: 0.08961990556589249\n",
      "Epoch 141 - loss: 0.08961547700102074\n",
      "Epoch 144 - loss: 0.0896101601287414\n",
      "Epoch 145 - loss: 0.08959844992050742\n",
      "Epoch 148 - loss: 0.08959590464776496\n",
      "Epoch 150 - loss: 0.08958529162646439\n",
      "Epoch 154 - loss: 0.08957062438917808\n",
      "Epoch 159 - loss: 0.0895705572303074\n",
      "Epoch 160 - loss: 0.08956579499257862\n",
      "Epoch 161 - loss: 0.08956271177076153\n",
      "Epoch 162 - loss: 0.08955816541995258\n",
      "Epoch 163 - loss: 0.08955281572787913\n",
      "Epoch 167 - loss: 0.08955174032049998\n",
      "Epoch 169 - loss: 0.08953969580728485\n",
      "Epoch 175 - loss: 0.0895376523807252\n",
      "Epoch 176 - loss: 0.08953561796423647\n",
      "Epoch 177 - loss: 0.08953552141944013\n",
      "Epoch 178 - loss: 0.08952953496273772\n",
      "Epoch 181 - loss: 0.08951005377475824\n",
      "Epoch 187 - loss: 0.08950395182403552\n",
      "Epoch 195 - loss: 0.08949423982287655\n",
      "Epoch 199 - loss: 0.08949198520131843\n",
      "Epoch 202 - loss: 0.08948138975087477\n",
      "Epoch 215 - loss: 0.08947981971213353\n",
      "Epoch 216 - loss: 0.08947734770488847\n",
      "Epoch 221 - loss: 0.08947305878147616\n",
      "Epoch 222 - loss: 0.08947289759245179\n",
      "Epoch 223 - loss: 0.08947258792195217\n",
      "Epoch 227 - loss: 0.08946289312695695\n",
      "Epoch 238 - loss: 0.0894587425815029\n",
      "Epoch 240 - loss: 0.08945440804558995\n",
      "Epoch 247 - loss: 0.08944915217161035\n",
      "Epoch 253 - loss: 0.08944146042621634\n",
      "Epoch 256 - loss: 0.08943794282289445\n",
      "Epoch 262 - loss: 0.08943619376354266\n",
      "Epoch 267 - loss: 0.08943523315212074\n",
      "Epoch 268 - loss: 0.08943458169318332\n",
      "Epoch 269 - loss: 0.08943325920259422\n",
      "Epoch 270 - loss: 0.08942721217770876\n",
      "Epoch 272 - loss: 0.08942465069513361\n",
      "Epoch 287 - loss: 0.08942238433056451\n",
      "Epoch 292 - loss: 0.08942062701703411\n",
      "Epoch 295 - loss: 0.08941950430742424\n",
      "Epoch 296 - loss: 0.08941727219254149\n",
      "Epoch 304 - loss: 0.08941694826447052\n",
      "Epoch 306 - loss: 0.08941281348935233\n",
      "Epoch 316 - loss: 0.08941098167083551\n",
      "Epoch 319 - loss: 0.08940974166402726\n",
      "Epoch 325 - loss: 0.08940561670375809\n",
      "Epoch 327 - loss: 0.08939642088777497\n",
      "Epoch 344 - loss: 0.08939001474767187\n",
      "Epoch 353 - loss: 0.08938799473512873\n",
      "Epoch 354 - loss: 0.08938769993552285\n",
      "Epoch 357 - loss: 0.08938472048491704\n",
      "Epoch 362 - loss: 0.08938059494171992\n",
      "Epoch 370 - loss: 0.08936899955731505\n",
      "Epoch 384 - loss: 0.08936881264771603\n",
      "Epoch 386 - loss: 0.08936819439847747\n",
      "Epoch 389 - loss: 0.08936495490659364\n",
      "Epoch 396 - loss: 0.0893595282992653\n",
      "Epoch 406 - loss: 0.08935815680694886\n",
      "Epoch 413 - loss: 0.0893577651601774\n",
      "Epoch 422 - loss: 0.08935751325384522\n",
      "Epoch 425 - loss: 0.0893560294854103\n",
      "Epoch 436 - loss: 0.08935568734762418\n",
      "Epoch 437 - loss: 0.08935434527108392\n",
      "Epoch 444 - loss: 0.08935234594884962\n",
      "Epoch 445 - loss: 0.08935064020513557\n",
      "Epoch 446 - loss: 0.08934945799515212\n",
      "Epoch 450 - loss: 0.08934828089373174\n",
      "Epoch 451 - loss: 0.0893458480458236\n",
      "Epoch 453 - loss: 0.08934464288053903\n",
      "Epoch 460 - loss: 0.08934096584628694\n",
      "Epoch 469 - loss: 0.08934037950081548\n",
      "Epoch 475 - loss: 0.08933706096266654\n",
      "Epoch 485 - loss: 0.0893357627728874\n",
      "Epoch 489 - loss: 0.08933442544597237\n",
      "Epoch 492 - loss: 0.0893340807122365\n",
      "Epoch 493 - loss: 0.0893337069414448\n",
      "Epoch 496 - loss: 0.08933300005046933\n",
      "Epoch 499 - loss: 0.08933195186085728\n",
      "Epoch 508 - loss: 0.08933003945096375\n",
      "Epoch 510 - loss: 0.08932846190824532\n",
      "Epoch 521 - loss: 0.08932532508682761\n",
      "Epoch 523 - loss: 0.08932458203853268\n",
      "Epoch 543 - loss: 0.0893202605801539\n",
      "Epoch 554 - loss: 0.08931751977009746\n",
      "Epoch 577 - loss: 0.08931450460011502\n",
      "Epoch 605 - loss: 0.08931351566514634\n",
      "Epoch 610 - loss: 0.08931169383905774\n",
      "Epoch 620 - loss: 0.08930995368536236\n",
      "Epoch 627 - loss: 0.08930687649402837\n",
      "Epoch 632 - loss: 0.08930480099436987\n",
      "Epoch 634 - loss: 0.08930312931681685\n",
      "Epoch 647 - loss: 0.08930111740086333\n",
      "Epoch 652 - loss: 0.0892993502649235\n",
      "Epoch 666 - loss: 0.0892961617954614\n",
      "Epoch 680 - loss: 0.08929385263798406\n",
      "Epoch 698 - loss: 0.08929304360321139\n",
      "Epoch 707 - loss: 0.08929268811269271\n",
      "Epoch 710 - loss: 0.08929177727878763\n",
      "Epoch 728 - loss: 0.08928904726482564\n",
      "Epoch 746 - loss: 0.08928693735629248\n",
      "Epoch 760 - loss: 0.08928415383465385\n",
      "Epoch 778 - loss: 0.08928356905381052\n",
      "Epoch 779 - loss: 0.08928255642032376\n",
      "Epoch 793 - loss: 0.08928068269473359\n",
      "Epoch 795 - loss: 0.08927952027084979\n",
      "Epoch 803 - loss: 0.08927516665967235\n",
      "Epoch 808 - loss: 0.089275055813168\n",
      "Epoch 820 - loss: 0.08927292883458954\n",
      "Epoch 839 - loss: 0.08927145268443033\n",
      "Epoch 841 - loss: 0.08927082085746912\n",
      "Epoch 852 - loss: 0.08926955542757381\n",
      "Epoch 856 - loss: 0.08926616517211693\n",
      "Epoch 900 - loss: 0.08926406889973526\n",
      "Epoch 907 - loss: 0.08926236630102896\n",
      "Epoch 927 - loss: 0.08926145877443861\n",
      "Epoch 932 - loss: 0.0892605459643025\n",
      "Epoch 945 - loss: 0.08925911883596419\n",
      "Epoch 950 - loss: 0.08925313591416745\n",
      "Epoch 956 - loss: 0.08924951589557376\n",
      "Epoch 964 - loss: 0.089245931742614\n",
      "Epoch 973 - loss: 0.08924113982650414\n",
      "Epoch 974 - loss: 0.08923880854381722\n",
      "Epoch 976 - loss: 0.08923848546244817\n",
      "Epoch 977 - loss: 0.08923045022746076\n",
      "Epoch 981 - loss: 0.08923043836647515\n",
      "Epoch 983 - loss: 0.08921769784830295\n",
      "Epoch 985 - loss: 0.08920307044220999\n",
      "Epoch 987 - loss: 0.08919898037188714\n",
      "Epoch 988 - loss: 0.08918009130255904\n",
      "Epoch 989 - loss: 0.08914254429188226\n",
      "Epoch 990 - loss: 0.08913005516674166\n",
      "Epoch 991 - loss: 0.08908564619059443\n",
      "Epoch 993 - loss: 0.08903463782665592\n",
      "Epoch 994 - loss: 0.0890019917601288\n",
      "Epoch 995 - loss: 0.08895354678810709\n",
      "Epoch 996 - loss: 0.08890143365813069\n",
      "Epoch 998 - loss: 0.08889373806312284\n",
      "Epoch 999 - loss: 0.08882834330762271\n"
     ]
    }
   ],
   "source": [
    "classifier = VectorizedEvoClassifier(n = 1, hidden_layers = [64], activation = \"relu\", random_state = 42)\n",
    "classifier.fit(X_train.reshape(-1, 28 * 28), y_train_onehot, epochs = 1000, verbose = 1)"
   ]
  },
  {
   "cell_type": "code",
   "execution_count": 188,
   "metadata": {},
   "outputs": [
    {
     "name": "stderr",
     "output_type": "stream",
     "text": [
      "/var/folders/xz/f2gwbn5n3vs4pz044n49z3cw0000gn/T/ipykernel_1401/2165102959.py:21: RuntimeWarning: overflow encountered in exp\n",
      "  self.output_activation_function = lambda x: 1 / (1 + np.exp(-x))\n"
     ]
    }
   ],
   "source": [
    "y_pred = classifier.predict(X_test.reshape(-1, 28 * 28))"
   ]
  },
  {
   "cell_type": "code",
   "execution_count": 189,
   "metadata": {},
   "outputs": [
    {
     "data": {
      "text/plain": [
       "(10000, 10)"
      ]
     },
     "execution_count": 189,
     "metadata": {},
     "output_type": "execute_result"
    }
   ],
   "source": [
    "y_pred.shape"
   ]
  },
  {
   "cell_type": "code",
   "execution_count": 197,
   "metadata": {},
   "outputs": [
    {
     "data": {
      "text/plain": [
       "4"
      ]
     },
     "execution_count": 197,
     "metadata": {},
     "output_type": "execute_result"
    }
   ],
   "source": [
    "y_pred[1]"
   ]
  },
  {
   "cell_type": "code",
   "execution_count": 192,
   "metadata": {},
   "outputs": [],
   "source": [
    "y_pred = np.argmax(y_pred, axis = 1)"
   ]
  },
  {
   "cell_type": "code",
   "execution_count": 196,
   "metadata": {},
   "outputs": [
    {
     "data": {
      "text/plain": [
       "array([0, 0, 0, 0, 0, 0, 0, 1, 0, 0], dtype=uint8)"
      ]
     },
     "execution_count": 196,
     "metadata": {},
     "output_type": "execute_result"
    }
   ],
   "source": [
    "y_test_onehot[0]"
   ]
  },
  {
   "cell_type": "code",
   "execution_count": 194,
   "metadata": {},
   "outputs": [
    {
     "data": {
      "text/plain": [
       "array([4, 4, 1, ..., 4, 4, 4])"
      ]
     },
     "execution_count": 194,
     "metadata": {},
     "output_type": "execute_result"
    }
   ],
   "source": [
    "y_pred"
   ]
  },
  {
   "cell_type": "code",
   "execution_count": 173,
   "metadata": {},
   "outputs": [
    {
     "data": {
      "text/plain": [
       "array([7, 2, 1, ..., 4, 5, 6], dtype=uint8)"
      ]
     },
     "execution_count": 173,
     "metadata": {},
     "output_type": "execute_result"
    }
   ],
   "source": [
    "y_test"
   ]
  },
  {
   "cell_type": "code",
   "execution_count": 179,
   "metadata": {},
   "outputs": [
    {
     "name": "stdout",
     "output_type": "stream",
     "text": [
      "              precision    recall  f1-score   support\n",
      "\n",
      "           0       0.10      0.08      0.09       980\n",
      "           1       0.01      0.01      0.01      1135\n",
      "           2       0.15      0.97      0.26      1032\n",
      "           3       0.06      0.01      0.02      1010\n",
      "           4       0.23      0.01      0.01       982\n",
      "           5       0.10      0.05      0.07       892\n",
      "           6       0.36      0.04      0.07       958\n",
      "           7       0.12      0.02      0.03      1028\n",
      "           8       0.07      0.00      0.01       974\n",
      "           9       0.09      0.03      0.05      1009\n",
      "\n",
      "    accuracy                           0.12     10000\n",
      "   macro avg       0.13      0.12      0.06     10000\n",
      "weighted avg       0.13      0.12      0.06     10000\n",
      "\n"
     ]
    },
    {
     "data": {
      "text/plain": [
       "<sklearn.metrics._plot.confusion_matrix.ConfusionMatrixDisplay at 0x17e39c7c0>"
      ]
     },
     "execution_count": 179,
     "metadata": {},
     "output_type": "execute_result"
    },
    {
     "data": {
      "image/png": "[encoded data removed]",
      "text/plain": [
       "<Figure size 432x288 with 2 Axes>"
      ]
     },
     "metadata": {
      "needs_background": "light"
     },
     "output_type": "display_data"
    }
   ],
   "source": [
    "print(classification_report(y_test, y_pred))\n",
    "cm = confusion_matrix(y_test, y_pred)\n",
    "ConfusionMatrixDisplay(cm).plot()"
   ]
  },
  {
   "cell_type": "code",
   "execution_count": 104,
   "metadata": {},
   "outputs": [],
   "source": [
    "import math\n",
    "\n",
    "class VectorizedEvoClassifier:\n",
    "    def __init__(self, n = 20, hidden_layers = False, activation = \"relu\", random_state = None):\n",
    "\n",
    "        self.n = n // 2 * 2\n",
    "        self.validation_loss_history = []\n",
    "        self.training_loss_history = []\n",
    "        self.random_state = random_state\n",
    "        self.activation = activation\n",
    "        self.number_of_layers = 0\n",
    "        \n",
    "        if hidden_layers:\n",
    "            self.layers = hidden_layers + [10]\n",
    "        else:\n",
    "            self.layers = [10]\n",
    "\n",
    "    def fit(self, X_train, y_train, epochs = 100, validation_data = False, verbose = 0):\n",
    "\n",
    "        if self.random_state != None:\n",
    "            np.random.seed(self.random_state)\n",
    "\n",
    "        if validation_data:\n",
    "            X_val, y_val = validation_data\n",
    "\n",
    "        if self.activation == \"sigmoid\":\n",
    "            activation_function = lambda x: 1 / (1 + np.exp(-x))\n",
    "        elif self.activation == \"leaky_relu\":\n",
    "            activation_function = lambda x: np.maximum(0.1 * x, x)\n",
    "        else:\n",
    "            activation_function = lambda x: np.maximum(0, x)\n",
    "\n",
    "        #output_activation_function = lambda x: 1 / (1 + np.exp(-x))\n",
    "        output_activation_function = lambda x: np.exp(x) / np.sum(np.exp(x), axis = 2, keepdims = True)\n",
    "\n",
    "        X_train = np.c_[np.ones(X_train.shape[0]), X_train]\n",
    "        y_train = y_train.astype(\"int8\")\n",
    "\n",
    "        n = self.n\n",
    "        layers = [X_train.shape[1]] + self.layers\n",
    "        number_of_layers_minus_one = len(layers) - 1\n",
    "        y_preds = np.zeros((n, y_train.shape[0], y_train.shape[1]))\n",
    "        nets_loss = np.zeros(n)\n",
    "        sorted_indecies = np.arange(-(n // 2), n, 1)\n",
    "        #sorted_indecies = np.zeros(n)\n",
    "        best_net_index = -1\n",
    "        weights = []\n",
    "\n",
    "        for i in range(number_of_layers_minus_one):\n",
    "            weights += [np.random.normal(0, 1, (n, layers[i], layers[i + 1]))]\n",
    "\n",
    "        for epoch in range(epochs):\n",
    "            forward_pass = X_train.T\n",
    "            \n",
    "            for j in range(number_of_layers_minus_one - 1):\n",
    "                forward_pass = activation_function(weights[j][sorted_indecies[n // 2:]].transpose(0, 2, 1) @ forward_pass)\n",
    "            \n",
    "            forward_pass = weights[-1][sorted_indecies[n // 2:]].transpose(0, 2, 1) @ forward_pass\n",
    "            \n",
    "            y_preds[sorted_indecies[n // 2:]] = output_activation_function(forward_pass.transpose(0, 2, 1))\n",
    "\n",
    "            nets_loss[sorted_indecies[n // 2:]] = np.mean(np.sum(-y_train * np.log10(y_preds[sorted_indecies[n // 2:]]), axis = 2), axis = 1)\n",
    "\n",
    "            sorted_indecies = np.argsort(nets_loss)\n",
    "\n",
    "            mutation_sigma = 0.08 + 0.5 * 1 / math.exp(epoch / ((epochs + 1) / (60 * math.log10(epochs + 1))))\n",
    "\n",
    "            for j in range(number_of_layers_minus_one):\n",
    "                weights[j][sorted_indecies[n // 2::2]] = (weights[j][sorted_indecies[:n // 2:2]] + weights[j][sorted_indecies[1:1 + n // 2:2]]) / 2 + np.random.normal(0, mutation_sigma, (n // 4, layers[j], layers[j + 1]))\n",
    "                weights[j][sorted_indecies[1 + n // 2::2]] = (weights[j][sorted_indecies[:n // 2:2]] + weights[j][sorted_indecies[1:1 + n // 2:2]]) / 2 + np.random.normal(0, mutation_sigma, (n // 4, layers[j], layers[j + 1]))\n",
    "\n",
    "            if best_net_index != sorted_indecies[0]:\n",
    "                best_net_index = sorted_indecies[0]\n",
    "                self.training_loss_history += [nets_loss[best_net_index]]\n",
    "                \n",
    "\n",
    "                self.best_net_weights = []\n",
    "                for j in range(number_of_layers_minus_one):\n",
    "                    self.best_net_weights += [weights[j][best_net_index]]\n",
    "                \n",
    "                if validation_data:\n",
    "                    self.validation_loss_history += [np.mean(np.abs(y_val - self.predict(X_val)))]\n",
    "                    if verbose == 1:\n",
    "                        print(f\"Epoch {epoch} - loss: {self.training_loss_history[-1]} - val_loss: {self.validation_loss_history[-1]}\")\n",
    "                else:\n",
    "                    if verbose == 1:\n",
    "                        pass\n",
    "                        print(f\"Epoch {epoch} - loss: {self.training_loss_history[-1]} - {mutation_sigma}\")\n",
    "\n",
    "\n",
    "    def predict(self, X):\n",
    "        X = np.c_[np.ones(X.shape[0]), X]\n",
    "\n",
    "        if self.activation == \"sigmoid\":\n",
    "            activation_function = lambda x: 1 / (1 + np.exp(-x))\n",
    "        elif self.activation == \"leaky_relu\":\n",
    "            activation_function = lambda x: np.maximum(0.1 * x, x)\n",
    "        else:\n",
    "            activation_function = lambda x: np.maximum(0, x)\n",
    "\n",
    "        #output_activation_function = lambda x: 1 / (1 + np.exp(-x))\n",
    "        output_activation_function = lambda x: np.exp(x) / np.sum(np.exp(x), axis = 1, keepdims = True)\n",
    "\n",
    "        forward_pass = X.T\n",
    "        for j in range(len(self.best_net_weights) - 1):\n",
    "            forward_pass = activation_function(self.best_net_weights[j].T @ forward_pass)\n",
    "\n",
    "        forward_pass = self.best_net_weights[-1].T @ forward_pass\n",
    "        \n",
    "        return output_activation_function(forward_pass.T)"
   ]
  },
  {
   "cell_type": "code",
   "execution_count": 105,
   "metadata": {},
   "outputs": [
    {
     "name": "stdout",
     "output_type": "stream",
     "text": [
      "Epoch 0 - loss: 24.43885738374188 - 0.58\n",
      "Epoch 1 - loss: 22.98704322796293 - 0.49769934357191403\n",
      "Epoch 2 - loss: 16.77816177697023 - 0.42894548324081583\n",
      "Epoch 3 - loss: 14.022931981006575 - 0.3715085985841462\n",
      "Epoch 4 - loss: 11.126893177146991 - 0.3235259005483329\n",
      "Epoch 7 - loss: 8.67341678991431 - 0.22197978797557333\n",
      "Epoch 9 - loss: 8.57144045141474 - 0.17908641145113002\n",
      "Epoch 10 - loss: 8.334587403506328 - 0.1627766580400672\n",
      "Epoch 11 - loss: 7.856254357439686 - 0.14915151145282574\n",
      "Epoch 12 - loss: 7.789702368552797 - 0.137769081881702\n",
      "Epoch 13 - loss: 7.557593469776091 - 0.12826021516147817\n",
      "Epoch 14 - loss: 7.102761990360758 - 0.12031652038717752\n",
      "Epoch 16 - loss: 6.798766213273377 - 0.10813653537818374\n",
      "Epoch 18 - loss: 6.660790815765778 - 0.09963623386852527\n",
      "Epoch 20 - loss: 6.64553677409613 - 0.09370395023256445\n",
      "Epoch 21 - loss: 6.25089050773869 - 0.09144826203296869\n",
      "Epoch 23 - loss: 6.01440994658477 - 0.08798963865472349\n",
      "Epoch 25 - loss: 5.944979357859373 - 0.08557589664258398\n",
      "Epoch 26 - loss: 5.900089847617087 - 0.08465809673486434\n",
      "Epoch 29 - loss: 5.868362241252693 - 0.08271575050249938\n",
      "Epoch 30 - loss: 5.79281047526817 - 0.08226873440439818\n",
      "Epoch 31 - loss: 5.7818752152301505 - 0.08189529774291227\n",
      "Epoch 32 - loss: 5.693009272173348 - 0.08158332924617558\n",
      "Epoch 33 - loss: 5.444680285054901 - 0.0813227111735715\n",
      "Epoch 37 - loss: 5.362062843600756 - 0.08064422885941869\n",
      "Epoch 40 - loss: 5.256063579774506 - 0.0803755965039532\n",
      "Epoch 43 - loss: 5.092625032426084 - 0.080218979221001\n",
      "Epoch 45 - loss: 4.946092697039433 - 0.08015282362018379\n",
      "Epoch 47 - loss: 4.754735622920753 - 0.08010665422399128\n",
      "Epoch 49 - loss: 4.649761727170328 - 0.08007443301946063\n",
      "Epoch 50 - loss: 4.601766801990094 - 0.08006218124673756\n",
      "Epoch 55 - loss: 4.463041258931126 - 0.0800253004570968\n",
      "Epoch 59 - loss: 4.337639122873683 - 0.08001232263319756\n",
      "Epoch 61 - loss: 4.283615062561518 - 0.08000859985439185\n",
      "Epoch 62 - loss: 4.2360427456368255 - 0.08000718430706857\n",
      "Epoch 65 - loss: 4.1661415447338 - 0.08000418857457071\n",
      "Epoch 66 - loss: 4.121325119189138 - 0.08000349912969738\n",
      "Epoch 69 - loss: 4.0487416841365045 - 0.0800020400527887\n",
      "Epoch 71 - loss: 4.020133989420399 - 0.08000142373441238\n",
      "Epoch 73 - loss: 3.835504317983372 - 0.08000099361138507\n",
      "Epoch 74 - loss: 3.822353295676285 - 0.08000083006164661\n",
      "Epoch 76 - loss: 3.8213220432295754 - 0.0800005792925248\n",
      "Epoch 78 - loss: 3.6465767208741178 - 0.08000040428302001\n",
      "Epoch 86 - loss: 3.5977815399372903 - 0.08000009590379846\n",
      "Epoch 91 - loss: 3.526356191825154 - 0.08000003902157106\n",
      "Epoch 93 - loss: 3.5118477793174327 - 0.08000002723280195\n",
      "Epoch 95 - loss: 3.4708762356820175 - 0.08000001900552647\n",
      "Epoch 96 - loss: 3.3556217986478845 - 0.08000001587719185\n",
      "Epoch 99 - loss: 3.344086017996082 - 0.0800000092566759\n",
      "Epoch 100 - loss: 3.2332595930677392 - 0.0800000077330149\n",
      "Epoch 101 - loss: 3.1702591939118205 - 0.08000000646015049\n",
      "Epoch 103 - loss: 3.169598180053993 - 0.08000000450848067\n",
      "Epoch 109 - loss: 3.123511643054951 - 0.08000000153247339\n",
      "Epoch 111 - loss: 3.0890508706681072 - 0.08000000106949934\n",
      "Epoch 118 - loss: 3.00205008433906 - 0.08000000030369459\n",
      "Epoch 125 - loss: 2.9761104511357734 - 0.08000000008623699\n",
      "Epoch 127 - loss: 2.940533769651673 - 0.08000000006018401\n",
      "Epoch 130 - loss: 2.9114429771870087 - 0.08000000003508831\n",
      "Epoch 132 - loss: 2.9066712172381406 - 0.08000000002448782\n",
      "Epoch 133 - loss: 2.8658348864879915 - 0.0800000000204571\n",
      "Epoch 135 - loss: 2.818640713548956 - 0.08000000001427682\n",
      "Epoch 136 - loss: 2.8025401334112603 - 0.08000000001192684\n",
      "Epoch 139 - loss: 2.744137762873257 - 0.08000000000695355\n",
      "Epoch 144 - loss: 2.693586624155294 - 0.08000000000282928\n",
      "Epoch 146 - loss: 2.6348218297570325 - 0.08000000000197453\n"
     ]
    },
    {
     "ename": "KeyboardInterrupt",
     "evalue": "",
     "output_type": "error",
     "traceback": [
      "\u001b[0;31m---------------------------------------------------------------------------\u001b[0m",
      "\u001b[0;31mKeyboardInterrupt\u001b[0m                         Traceback (most recent call last)",
      "\u001b[1;32m/Users/dp/Documents/GitHub/Deep-learning-Daniel-Petersson/Code-Along/2-MLP_image_classification.ipynb Cell 34'\u001b[0m in \u001b[0;36m<cell line: 2>\u001b[0;34m()\u001b[0m\n\u001b[1;32m      <a href='vscode-notebook-cell:/Users/dp/Documents/GitHub/Deep-learning-Daniel-Petersson/Code-Along/2-MLP_image_classification.ipynb#ch0000033?line=0'>1</a>\u001b[0m classifier \u001b[39m=\u001b[39m VectorizedEvoClassifier(n \u001b[39m=\u001b[39m \u001b[39m20\u001b[39m, hidden_layers \u001b[39m=\u001b[39m [\u001b[39m64\u001b[39m], activation \u001b[39m=\u001b[39m \u001b[39m\"\u001b[39m\u001b[39mrelu\u001b[39m\u001b[39m\"\u001b[39m, random_state \u001b[39m=\u001b[39m \u001b[39m42\u001b[39m)\n\u001b[0;32m----> <a href='vscode-notebook-cell:/Users/dp/Documents/GitHub/Deep-learning-Daniel-Petersson/Code-Along/2-MLP_image_classification.ipynb#ch0000033?line=1'>2</a>\u001b[0m classifier\u001b[39m.\u001b[39;49mfit(X_train\u001b[39m.\u001b[39;49mreshape(\u001b[39m-\u001b[39;49m\u001b[39m1\u001b[39;49m, \u001b[39m28\u001b[39;49m \u001b[39m*\u001b[39;49m \u001b[39m28\u001b[39;49m), y_train_onehot, epochs \u001b[39m=\u001b[39;49m \u001b[39m1000\u001b[39;49m, verbose \u001b[39m=\u001b[39;49m \u001b[39m1\u001b[39;49m)\n",
      "\u001b[1;32m/Users/dp/Documents/GitHub/Deep-learning-Daniel-Petersson/Code-Along/2-MLP_image_classification.ipynb Cell 33'\u001b[0m in \u001b[0;36mVectorizedEvoClassifier.fit\u001b[0;34m(self, X_train, y_train, epochs, validation_data, verbose)\u001b[0m\n\u001b[1;32m     <a href='vscode-notebook-cell:/Users/dp/Documents/GitHub/Deep-learning-Daniel-Petersson/Code-Along/2-MLP_image_classification.ipynb#ch0000032?line=52'>53</a>\u001b[0m forward_pass \u001b[39m=\u001b[39m X_train\u001b[39m.\u001b[39mT\n\u001b[1;32m     <a href='vscode-notebook-cell:/Users/dp/Documents/GitHub/Deep-learning-Daniel-Petersson/Code-Along/2-MLP_image_classification.ipynb#ch0000032?line=54'>55</a>\u001b[0m \u001b[39mfor\u001b[39;00m j \u001b[39min\u001b[39;00m \u001b[39mrange\u001b[39m(number_of_layers_minus_one \u001b[39m-\u001b[39m \u001b[39m1\u001b[39m):\n\u001b[0;32m---> <a href='vscode-notebook-cell:/Users/dp/Documents/GitHub/Deep-learning-Daniel-Petersson/Code-Along/2-MLP_image_classification.ipynb#ch0000032?line=55'>56</a>\u001b[0m     forward_pass \u001b[39m=\u001b[39m activation_function(weights[j][sorted_indecies[n \u001b[39m/\u001b[39;49m\u001b[39m/\u001b[39;49m \u001b[39m2\u001b[39;49m:]]\u001b[39m.\u001b[39;49mtranspose(\u001b[39m0\u001b[39;49m, \u001b[39m2\u001b[39;49m, \u001b[39m1\u001b[39;49m) \u001b[39m@\u001b[39;49m forward_pass)\n\u001b[1;32m     <a href='vscode-notebook-cell:/Users/dp/Documents/GitHub/Deep-learning-Daniel-Petersson/Code-Along/2-MLP_image_classification.ipynb#ch0000032?line=57'>58</a>\u001b[0m forward_pass \u001b[39m=\u001b[39m weights[\u001b[39m-\u001b[39m\u001b[39m1\u001b[39m][sorted_indecies[n \u001b[39m/\u001b[39m\u001b[39m/\u001b[39m \u001b[39m2\u001b[39m:]]\u001b[39m.\u001b[39mtranspose(\u001b[39m0\u001b[39m, \u001b[39m2\u001b[39m, \u001b[39m1\u001b[39m) \u001b[39m@\u001b[39m forward_pass\n\u001b[1;32m     <a href='vscode-notebook-cell:/Users/dp/Documents/GitHub/Deep-learning-Daniel-Petersson/Code-Along/2-MLP_image_classification.ipynb#ch0000032?line=59'>60</a>\u001b[0m y_preds[sorted_indecies[n \u001b[39m/\u001b[39m\u001b[39m/\u001b[39m \u001b[39m2\u001b[39m:]] \u001b[39m=\u001b[39m output_activation_function(forward_pass\u001b[39m.\u001b[39mtranspose(\u001b[39m0\u001b[39m, \u001b[39m2\u001b[39m, \u001b[39m1\u001b[39m))\n",
      "\u001b[0;31mKeyboardInterrupt\u001b[0m: "
     ]
    }
   ],
   "source": [
    "classifier = VectorizedEvoClassifier(n = 20, hidden_layers = [64], activation = \"relu\", random_state = 42)\n",
    "classifier.fit(X_train.reshape(-1, 28 * 28), y_train_onehot, epochs = 1000, verbose = 1)"
   ]
  },
  {
   "cell_type": "code",
   "execution_count": 106,
   "metadata": {},
   "outputs": [],
   "source": [
    "y_pred = classifier.predict(X_test.reshape(-1, 28 * 28))"
   ]
  },
  {
   "cell_type": "code",
   "execution_count": 69,
   "metadata": {},
   "outputs": [],
   "source": [
    "from sklearn.metrics import confusion_matrix, ConfusionMatrixDisplay"
   ]
  },
  {
   "cell_type": "code",
   "execution_count": 76,
   "metadata": {},
   "outputs": [
    {
     "data": {
      "text/plain": [
       "array([[2.05442834e-20, 4.48776955e-17, 5.08641657e-24, ...,\n",
       "        9.99999999e-01, 3.03079936e-15, 6.62632733e-10],\n",
       "       [6.32723670e-14, 3.67192565e-14, 9.99999994e-01, ...,\n",
       "        1.16079924e-21, 1.98764753e-21, 2.21747345e-14],\n",
       "       [1.64882131e-04, 9.27855510e-03, 8.71452063e-08, ...,\n",
       "        1.48364810e-07, 2.83967988e-03, 2.04617656e-07],\n",
       "       ...,\n",
       "       [1.45220955e-10, 1.66999636e-18, 1.23016135e-15, ...,\n",
       "        4.02906330e-07, 8.52447855e-10, 2.81732426e-06],\n",
       "       [1.36122792e-09, 6.76115580e-07, 7.18978979e-06, ...,\n",
       "        1.81561811e-05, 1.11307848e-04, 5.42026873e-06],\n",
       "       [1.93691391e-01, 6.29735204e-11, 2.25335014e-05, ...,\n",
       "        4.11890540e-07, 1.42938096e-07, 1.24621239e-06]])"
      ]
     },
     "execution_count": 76,
     "metadata": {},
     "output_type": "execute_result"
    }
   ],
   "source": [
    "y_pred"
   ]
  },
  {
   "cell_type": "code",
   "execution_count": 77,
   "metadata": {},
   "outputs": [
    {
     "data": {
      "text/plain": [
       "array([7, 2, 4, ..., 4, 5, 4])"
      ]
     },
     "execution_count": 77,
     "metadata": {},
     "output_type": "execute_result"
    }
   ],
   "source": [
    "np.argmax(y_pred, axis = 1)"
   ]
  },
  {
   "cell_type": "code",
   "execution_count": 34,
   "metadata": {},
   "outputs": [
    {
     "data": {
      "text/plain": [
       "array([[0, 0, 0, ..., 0, 1, 0],\n",
       "       [0, 0, 0, ..., 0, 0, 0],\n",
       "       [0, 0, 1, ..., 0, 0, 0],\n",
       "       ...,\n",
       "       [0, 0, 1, ..., 0, 0, 0],\n",
       "       [1, 0, 0, ..., 0, 0, 0],\n",
       "       [0, 0, 0, ..., 0, 0, 0]])"
      ]
     },
     "execution_count": 34,
     "metadata": {},
     "output_type": "execute_result"
    }
   ],
   "source": [
    "(y_pred > 0.3) * 1"
   ]
  },
  {
   "cell_type": "code",
   "execution_count": 107,
   "metadata": {},
   "outputs": [
    {
     "data": {
      "text/plain": [
       "<sklearn.metrics._plot.confusion_matrix.ConfusionMatrixDisplay at 0x13fa8bfd0>"
      ]
     },
     "execution_count": 107,
     "metadata": {},
     "output_type": "execute_result"
    },
    {
     "data": {
      "image/png": "[encoded data removed]",
      "text/plain": [
       "<Figure size 432x288 with 2 Axes>"
      ]
     },
     "metadata": {
      "needs_background": "light"
     },
     "output_type": "display_data"
    }
   ],
   "source": [
    "cm = confusion_matrix(np.where(y_test_onehot == 1)[1], np.argmax(y_pred, axis = 1))\n",
    "\n",
    "ConfusionMatrixDisplay(cm).plot()"
   ]
  }
 ],
 "metadata": {
  "interpreter": {
   "hash": "47d3b7ff548c1bae2d6b155a9b3d6f1122689b634566f833764ba5dd9fcfa2e0"
  },
  "kernelspec": {
   "display_name": "Python 3.9.12 ('Deep-learning-Daniel-Petersson-bXusHwTH')",
   "language": "python",
   "name": "python3"
  },
  "language_info": {
   "codemirror_mode": {
    "name": "ipython",
    "version": 3
   },
   "file_extension": ".py",
   "mimetype": "text/x-python",
   "name": "python",
   "nbconvert_exporter": "python",
   "pygments_lexer": "ipython3",
   "version": "3.9.12"
  },
  "orig_nbformat": 4
 },
 "nbformat": 4,
 "nbformat_minor": 2
}
