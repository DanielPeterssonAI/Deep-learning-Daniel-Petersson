{
 "cells": [
  {
   "cell_type": "markdown",
   "metadata": {},
   "source": [
    "## Data augmentation\n",
    "\n",
    "- Artificiellt skapar bilder\n",
    "- Slumpmässigt:\n",
    "    - rotera till en viss grad\n",
    "    - translatera slumpmässigt\n",
    "    - spegla\n",
    "    - shear\n",
    "    - ..."
   ]
  },
  {
   "cell_type": "code",
   "execution_count": 4,
   "metadata": {},
   "outputs": [
    {
     "data": {
      "text/plain": [
       "((60000, 28, 28), (60000,), (10000, 28, 28), (10000,))"
      ]
     },
     "execution_count": 4,
     "metadata": {},
     "output_type": "execute_result"
    }
   ],
   "source": [
    "import numpy as np\n",
    "import matplotlib.pyplot as plt\n",
    "import seaborn as sns\n",
    "import pandas as pd\n",
    "import os\n",
    "from tensorflow.keras.datasets.mnist import load_data\n",
    "\n",
    "(X_train, y_train), (X_test, y_test) = load_data()\n",
    "\n",
    "y_train = y_train.ravel()\n",
    "y_test = y_test.ravel()\n",
    "\n",
    "X_train.shape, y_train.shape, X_test.shape, y_test.shape"
   ]
  },
  {
   "cell_type": "code",
   "execution_count": 5,
   "metadata": {},
   "outputs": [
    {
     "name": "stdout",
     "output_type": "stream",
     "text": [
      "X_train.max()=1.0, X_train.min()=0.0\n"
     ]
    }
   ],
   "source": [
    "X_train = X_train.astype(\"float32\") / 255\n",
    "X_test = X_test.astype(\"float32\") / 255\n",
    "\n",
    "print(f\"{X_train.max()=}, {X_train.min()=}\")"
   ]
  },
  {
   "cell_type": "code",
   "execution_count": 6,
   "metadata": {},
   "outputs": [
    {
     "data": {
      "image/png": "[encoded data removed]",
      "text/plain": [
       "<Figure size 864x288 with 10 Axes>"
      ]
     },
     "metadata": {
      "needs_background": "light"
     },
     "output_type": "display_data"
    }
   ],
   "source": [
    "def display_images(data, nrows = 2, ncols = 5, figsize = (12,4)):\n",
    "    fig, axes = plt.subplots(nrows, ncols, figsize = figsize)\n",
    "\n",
    "    for i, ax in enumerate(axes.flatten()):\n",
    "        ax.imshow(data[i, :, :], cmap = \"gray\")\n",
    "        ax.axis(\"off\")\n",
    "\n",
    "    fig.subplots_adjust(wspace = 0, hspace = .1, bottom = 0)\n",
    "\n",
    "display_images(X_train)"
   ]
  },
  {
   "cell_type": "code",
   "execution_count": 7,
   "metadata": {},
   "outputs": [
    {
     "data": {
      "text/plain": [
       "(50000, 28, 28, 1)"
      ]
     },
     "execution_count": 7,
     "metadata": {},
     "output_type": "execute_result"
    }
   ],
   "source": [
    "from sklearn.model_selection import train_test_split\n",
    "\n",
    "X_train_val, X_val, y_train_val, y_val = train_test_split(X_train, y_train, test_size = 1/6, random_state = 42)\n",
    "\n",
    "X_train_val = X_train_val[:,:,:, None]\n",
    "X_train = X_train[:,:,:, None]\n",
    "X_val = X_val[:,:,:, None]\n",
    "X_test = X_test[:,:,:, None]\n",
    "\n",
    "X_train_val.shape"
   ]
  },
  {
   "cell_type": "code",
   "execution_count": 24,
   "metadata": {},
   "outputs": [
    {
     "data": {
      "text/plain": [
       "(<keras.preprocessing.image.NumpyArrayIterator at 0x2cd89b880>,\n",
       " <keras.preprocessing.image.NumpyArrayIterator at 0x2cd89b850>)"
      ]
     },
     "execution_count": 24,
     "metadata": {},
     "output_type": "execute_result"
    }
   ],
   "source": [
    "from tensorflow.keras.preprocessing.image import ImageDataGenerator\n",
    "\n",
    "train_image_generator = ImageDataGenerator(\n",
    "    #rotation_range = 90,\n",
    "    shear_range = .05,\n",
    "    zoom_range = .1,\n",
    "    #horizontal_flip = True,\n",
    "    height_shift_range = .2,\n",
    "    width_shift_range = .2\n",
    ")\n",
    "\n",
    "# don't augment valiadtion and test data\n",
    "\n",
    "test_image_generator = ImageDataGenerator()\n",
    "\n",
    "train_val_generator = train_image_generator.flow(X_train_val[0:2], y_train_val[0:2], batch_size = 32)\n",
    "\n",
    "val_generator = test_image_generator.flow(X_val, y_val, batch_size = 32)\n",
    "\n",
    "train_val_generator, val_generator"
   ]
  },
  {
   "cell_type": "code",
   "execution_count": 25,
   "metadata": {},
   "outputs": [
    {
     "name": "stdout",
     "output_type": "stream",
     "text": [
      "2\n",
      "(2, 28, 28, 1)\n"
     ]
    }
   ],
   "source": [
    "print(len(train_val_generator.next()))\n",
    "print(train_val_generator.next()[0].shape) # 32 samples in a batch"
   ]
  },
  {
   "cell_type": "code",
   "execution_count": 30,
   "metadata": {},
   "outputs": [
    {
     "ename": "IndexError",
     "evalue": "index 2 is out of bounds for axis 0 with size 2",
     "output_type": "error",
     "traceback": [
      "\u001b[0;31m---------------------------------------------------------------------------\u001b[0m",
      "\u001b[0;31mIndexError\u001b[0m                                Traceback (most recent call last)",
      "\u001b[1;32m/Users/dp/Documents/GitHub/Deep-learning-Daniel-Petersson/Code-Along/5-Data_augmentation.ipynb Cell 8'\u001b[0m in \u001b[0;36m<cell line: 3>\u001b[0;34m()\u001b[0m\n\u001b[1;32m      <a href='vscode-notebook-cell:/Users/dp/Documents/GitHub/Deep-learning-Daniel-Petersson/Code-Along/5-Data_augmentation.ipynb#ch0000007?line=0'>1</a>\u001b[0m test \u001b[39m=\u001b[39m train_val_generator\u001b[39m.\u001b[39mnext()\n\u001b[0;32m----> <a href='vscode-notebook-cell:/Users/dp/Documents/GitHub/Deep-learning-Daniel-Petersson/Code-Along/5-Data_augmentation.ipynb#ch0000007?line=2'>3</a>\u001b[0m display_images(test[\u001b[39m0\u001b[39;49m])\n\u001b[1;32m      <a href='vscode-notebook-cell:/Users/dp/Documents/GitHub/Deep-learning-Daniel-Petersson/Code-Along/5-Data_augmentation.ipynb#ch0000007?line=3'>4</a>\u001b[0m \u001b[39mprint\u001b[39m(test[\u001b[39m1\u001b[39m][:\u001b[39m10\u001b[39m])\n",
      "\u001b[1;32m/Users/dp/Documents/GitHub/Deep-learning-Daniel-Petersson/Code-Along/5-Data_augmentation.ipynb Cell 4'\u001b[0m in \u001b[0;36mdisplay_images\u001b[0;34m(data, nrows, ncols, figsize)\u001b[0m\n\u001b[1;32m      <a href='vscode-notebook-cell:/Users/dp/Documents/GitHub/Deep-learning-Daniel-Petersson/Code-Along/5-Data_augmentation.ipynb#ch0000003?line=1'>2</a>\u001b[0m fig, axes \u001b[39m=\u001b[39m plt\u001b[39m.\u001b[39msubplots(nrows, ncols, figsize \u001b[39m=\u001b[39m figsize)\n\u001b[1;32m      <a href='vscode-notebook-cell:/Users/dp/Documents/GitHub/Deep-learning-Daniel-Petersson/Code-Along/5-Data_augmentation.ipynb#ch0000003?line=3'>4</a>\u001b[0m \u001b[39mfor\u001b[39;00m i, ax \u001b[39min\u001b[39;00m \u001b[39menumerate\u001b[39m(axes\u001b[39m.\u001b[39mflatten()):\n\u001b[0;32m----> <a href='vscode-notebook-cell:/Users/dp/Documents/GitHub/Deep-learning-Daniel-Petersson/Code-Along/5-Data_augmentation.ipynb#ch0000003?line=4'>5</a>\u001b[0m     ax\u001b[39m.\u001b[39mimshow(data[i, :, :], cmap \u001b[39m=\u001b[39m \u001b[39m\"\u001b[39m\u001b[39mgray\u001b[39m\u001b[39m\"\u001b[39m)\n\u001b[1;32m      <a href='vscode-notebook-cell:/Users/dp/Documents/GitHub/Deep-learning-Daniel-Petersson/Code-Along/5-Data_augmentation.ipynb#ch0000003?line=5'>6</a>\u001b[0m     ax\u001b[39m.\u001b[39maxis(\u001b[39m\"\u001b[39m\u001b[39moff\u001b[39m\u001b[39m\"\u001b[39m)\n\u001b[1;32m      <a href='vscode-notebook-cell:/Users/dp/Documents/GitHub/Deep-learning-Daniel-Petersson/Code-Along/5-Data_augmentation.ipynb#ch0000003?line=7'>8</a>\u001b[0m fig\u001b[39m.\u001b[39msubplots_adjust(wspace \u001b[39m=\u001b[39m \u001b[39m0\u001b[39m, hspace \u001b[39m=\u001b[39m \u001b[39m.1\u001b[39m, bottom \u001b[39m=\u001b[39m \u001b[39m0\u001b[39m)\n",
      "\u001b[0;31mIndexError\u001b[0m: index 2 is out of bounds for axis 0 with size 2"
     ]
    },
    {
     "data": {
      "image/png": "[encoded data removed]",
      "text/plain": [
       "<Figure size 864x288 with 10 Axes>"
      ]
     },
     "metadata": {
      "needs_background": "light"
     },
     "output_type": "display_data"
    }
   ],
   "source": [
    "test = train_val_generator.next()\n",
    "\n",
    "display_images(test[0])\n",
    "print(test[1][:10])"
   ]
  },
  {
   "cell_type": "markdown",
   "metadata": {},
   "source": [
    "CNN model"
   ]
  },
  {
   "cell_type": "code",
   "execution_count": 11,
   "metadata": {},
   "outputs": [
    {
     "name": "stdout",
     "output_type": "stream",
     "text": [
      "Metal device set to: Apple M1\n",
      "\n",
      "systemMemory: 16.00 GB\n",
      "maxCacheSize: 5.33 GB\n",
      "\n",
      "Model: \"cnn_model\"\n",
      "_________________________________________________________________\n",
      " Layer (type)                Output Shape              Param #   \n",
      "=================================================================\n",
      " conv2d (Conv2D)             (None, 26, 26, 32)        320       \n",
      "                                                                 \n",
      " max_pooling2d (MaxPooling2D  (None, 13, 13, 32)       0         \n",
      " )                                                               \n",
      "                                                                 \n",
      " conv2d_1 (Conv2D)           (None, 11, 11, 32)        9248      \n",
      "                                                                 \n",
      " max_pooling2d_1 (MaxPooling  (None, 5, 5, 32)         0         \n",
      " 2D)                                                             \n",
      "                                                                 \n",
      " flatten (Flatten)           (None, 800)               0         \n",
      "                                                                 \n",
      " dropout (Dropout)           (None, 800)               0         \n",
      "                                                                 \n",
      " dense (Dense)               (None, 256)               205056    \n",
      "                                                                 \n",
      " dense_1 (Dense)             (None, 10)                2570      \n",
      "                                                                 \n",
      "=================================================================\n",
      "Total params: 217,194\n",
      "Trainable params: 217,194\n",
      "Non-trainable params: 0\n",
      "_________________________________________________________________\n"
     ]
    },
    {
     "name": "stderr",
     "output_type": "stream",
     "text": [
      "2022-04-28 18:41:04.850332: I tensorflow/core/common_runtime/pluggable_device/pluggable_device_factory.cc:305] Could not identify NUMA node of platform GPU ID 0, defaulting to 0. Your kernel may not have been built with NUMA support.\n",
      "2022-04-28 18:41:04.850596: I tensorflow/core/common_runtime/pluggable_device/pluggable_device_factory.cc:271] Created TensorFlow device (/job:localhost/replica:0/task:0/device:GPU:0 with 0 MB memory) -> physical PluggableDevice (device: 0, name: METAL, pci bus id: <undefined>)\n"
     ]
    }
   ],
   "source": [
    "from tensorflow.keras.models import Sequential\n",
    "from tensorflow.keras.layers import Dense, Conv2D, Flatten, Dropout, MaxPooling2D\n",
    "from tensorflow.keras.optimizers import Adam\n",
    "\n",
    "def CNN_model(learning_rate = 0.001, drop_rate = 0.5, kernels = [32, 32]):\n",
    "    adam = Adam(learning_rate = learning_rate)\n",
    "    model = Sequential(name = \"cnn_model\")\n",
    "\n",
    "    # Convolutional layers\n",
    "\n",
    "    for number_kernel in kernels:\n",
    "        conv_layer = Conv2D(\n",
    "            number_kernel, \n",
    "            kernel_size = (3, 3), \n",
    "            activation = \"relu\", \n",
    "            kernel_initializer = \"he_normal\",\n",
    "            input_shape = X_train.shape[1:]\n",
    "        )\n",
    "        model.add(conv_layer)\n",
    "        model.add(MaxPooling2D(pool_size = (2, 2), strides = 2))\n",
    "    \n",
    "    # MLP layers\n",
    "\n",
    "    model.add(Flatten())\n",
    "    model.add(Dropout(drop_rate))\n",
    "    model.add(Dense(256, activation = \"relu\", kernel_initializer = \"he_normal\"))\n",
    "    model.add(Dense(10, activation = \"softmax\"))\n",
    "\n",
    "    model.compile(loss = \"sparse_categorical_crossentropy\", optimizer = adam, metrics = [\"acc\"])\n",
    "\n",
    "    return model\n",
    "\n",
    "model = CNN_model(drop_rate = 0.5)\n",
    "model.summary()"
   ]
  },
  {
   "cell_type": "code",
   "execution_count": 12,
   "metadata": {},
   "outputs": [
    {
     "data": {
      "text/plain": [
       "(1562, 312)"
      ]
     },
     "execution_count": 12,
     "metadata": {},
     "output_type": "execute_result"
    }
   ],
   "source": [
    "steps_per_epoch = int(len(X_train_val) / 32)\n",
    "validation_steps = int(len(X_val) / 32)\n",
    "\n",
    "steps_per_epoch, validation_steps"
   ]
  },
  {
   "cell_type": "code",
   "execution_count": 13,
   "metadata": {},
   "outputs": [
    {
     "name": "stdout",
     "output_type": "stream",
     "text": [
      "Epoch 1/3\n"
     ]
    },
    {
     "name": "stderr",
     "output_type": "stream",
     "text": [
      "2022-04-28 18:41:34.406191: W tensorflow/core/platform/profile_utils/cpu_utils.cc:128] Failed to get CPU frequency: 0 Hz\n",
      "2022-04-28 18:41:34.733951: I tensorflow/core/grappler/optimizers/custom_graph_optimizer_registry.cc:113] Plugin optimizer for device_type GPU is enabled.\n"
     ]
    },
    {
     "name": "stdout",
     "output_type": "stream",
     "text": [
      "1558/1562 [============================>.] - ETA: 0s - loss: 0.5703 - acc: 0.8140"
     ]
    },
    {
     "name": "stderr",
     "output_type": "stream",
     "text": [
      "2022-04-28 18:41:50.251180: I tensorflow/core/grappler/optimizers/custom_graph_optimizer_registry.cc:113] Plugin optimizer for device_type GPU is enabled.\n"
     ]
    },
    {
     "name": "stdout",
     "output_type": "stream",
     "text": [
      "1562/1562 [==============================] - 17s 10ms/step - loss: 0.5694 - acc: 0.8143 - val_loss: 0.1651 - val_acc: 0.9522\n",
      "Epoch 2/3\n",
      "1562/1562 [==============================] - 16s 10ms/step - loss: 0.2318 - acc: 0.9263 - val_loss: 0.0748 - val_acc: 0.9768\n",
      "Epoch 3/3\n",
      "1562/1562 [==============================] - 16s 10ms/step - loss: 0.1786 - acc: 0.9441 - val_loss: 0.0720 - val_acc: 0.9792\n"
     ]
    },
    {
     "data": {
      "text/plain": [
       "<keras.callbacks.History at 0x294bde820>"
      ]
     },
     "execution_count": 13,
     "metadata": {},
     "output_type": "execute_result"
    }
   ],
   "source": [
    "from tensorflow.keras.callbacks import EarlyStopping\n",
    "\n",
    "early_stopper = EarlyStopping(monitor = \"val_acc\", mode = \"max\", patience = 5, restore_best_weights = True)\n",
    "\n",
    "model.fit(\n",
    "    train_val_generator,\n",
    "    steps_per_epoch = steps_per_epoch,\n",
    "    epochs = 3,\n",
    "    callbacks = [early_stopper],\n",
    "    validation_data = val_generator,\n",
    "    validation_steps = validation_steps\n",
    ")"
   ]
  },
  {
   "cell_type": "code",
   "execution_count": 15,
   "metadata": {},
   "outputs": [],
   "source": [
    "def plot_metrics(metrics):\n",
    "    _, ax = plt.subplots(1, 2, figsize = (12, 4))\n",
    "    metrics[[\"loss\", \"val_loss\"]].plot(ax = ax[0], grid = True)\n",
    "    metrics[[\"acc\", \"val_acc\"]].plot(ax = ax[1], grid = True)"
   ]
  },
  {
   "cell_type": "code",
   "execution_count": 16,
   "metadata": {},
   "outputs": [
    {
     "data": {
      "image/png": "[encoded data removed]",
      "text/plain": [
       "<Figure size 864x288 with 2 Axes>"
      ]
     },
     "metadata": {
      "needs_background": "light"
     },
     "output_type": "display_data"
    }
   ],
   "source": [
    "metrics = pd.DataFrame(model.history.history)\n",
    "plot_metrics(metrics)"
   ]
  },
  {
   "cell_type": "code",
   "execution_count": 18,
   "metadata": {},
   "outputs": [
    {
     "name": "stdout",
     "output_type": "stream",
     "text": [
      "Epoch 1/3\n",
      "   5/1562 [..............................] - ETA: 20s - loss: 2.4776 - acc: 0.1562 "
     ]
    },
    {
     "name": "stderr",
     "output_type": "stream",
     "text": [
      "2022-04-28 18:44:44.569978: I tensorflow/core/grappler/optimizers/custom_graph_optimizer_registry.cc:113] Plugin optimizer for device_type GPU is enabled.\n"
     ]
    },
    {
     "name": "stdout",
     "output_type": "stream",
     "text": [
      "1562/1562 [==============================] - 15s 9ms/step - loss: 0.5424 - acc: 0.8240\n",
      "Epoch 2/3\n",
      "1562/1562 [==============================] - 15s 10ms/step - loss: 0.2137 - acc: 0.9333\n",
      "Epoch 3/3\n",
      "1562/1562 [==============================] - 15s 9ms/step - loss: 0.1671 - acc: 0.9477\n"
     ]
    },
    {
     "data": {
      "text/plain": [
       "<keras.callbacks.History at 0x2d0317e20>"
      ]
     },
     "execution_count": 18,
     "metadata": {},
     "output_type": "execute_result"
    }
   ],
   "source": [
    "model = CNN_model()\n",
    "\n",
    "train_generator = train_image_generator.flow(X_train, y_train, batch_size = 32)\n",
    "\n",
    "\n",
    "model.fit(train_generator, steps_per_epoch = steps_per_epoch, epochs = 3)"
   ]
  },
  {
   "cell_type": "code",
   "execution_count": 19,
   "metadata": {},
   "outputs": [
    {
     "name": "stderr",
     "output_type": "stream",
     "text": [
      "2022-04-28 18:45:39.969690: I tensorflow/core/grappler/optimizers/custom_graph_optimizer_registry.cc:113] Plugin optimizer for device_type GPU is enabled.\n"
     ]
    },
    {
     "name": "stdout",
     "output_type": "stream",
     "text": [
      "              precision    recall  f1-score   support\n",
      "\n",
      "           0       0.98      0.99      0.98       980\n",
      "           1       1.00      0.99      0.99      1135\n",
      "           2       0.98      0.99      0.98      1032\n",
      "           3       0.96      1.00      0.98      1010\n",
      "           4       0.98      0.99      0.99       982\n",
      "           5       0.99      0.97      0.98       892\n",
      "           6       0.99      0.98      0.98       958\n",
      "           7       0.99      0.98      0.98      1028\n",
      "           8       0.98      0.98      0.98       974\n",
      "           9       0.99      0.96      0.98      1009\n",
      "\n",
      "    accuracy                           0.98     10000\n",
      "   macro avg       0.98      0.98      0.98     10000\n",
      "weighted avg       0.98      0.98      0.98     10000\n",
      "\n"
     ]
    },
    {
     "data": {
      "text/plain": [
       "<sklearn.metrics._plot.confusion_matrix.ConfusionMatrixDisplay at 0x2d02fb9a0>"
      ]
     },
     "execution_count": 19,
     "metadata": {},
     "output_type": "execute_result"
    },
    {
     "data": {
      "image/png": "[encoded data removed]",
      "text/plain": [
       "<Figure size 432x288 with 2 Axes>"
      ]
     },
     "metadata": {
      "needs_background": "light"
     },
     "output_type": "display_data"
    }
   ],
   "source": [
    "from sklearn.metrics import classification_report, confusion_matrix, ConfusionMatrixDisplay\n",
    "\n",
    "y_pred = model.predict(X_test)\n",
    "y_pred = np.argmax(y_pred, axis = 1)\n",
    "\n",
    "print(classification_report(y_test, y_pred))\n",
    "cm = confusion_matrix(y_test, y_pred)\n",
    "ConfusionMatrixDisplay(cm).plot()"
   ]
  }
 ],
 "metadata": {
  "interpreter": {
   "hash": "47d3b7ff548c1bae2d6b155a9b3d6f1122689b634566f833764ba5dd9fcfa2e0"
  },
  "kernelspec": {
   "display_name": "Python 3.9.12 ('Deep-learning-Daniel-Petersson-bXusHwTH')",
   "language": "python",
   "name": "python3"
  },
  "language_info": {
   "codemirror_mode": {
    "name": "ipython",
    "version": 3
   },
   "file_extension": ".py",
   "mimetype": "text/x-python",
   "name": "python",
   "nbconvert_exporter": "python",
   "pygments_lexer": "ipython3",
   "version": "3.9.12"
  },
  "orig_nbformat": 4
 },
 "nbformat": 4,
 "nbformat_minor": 2
}
