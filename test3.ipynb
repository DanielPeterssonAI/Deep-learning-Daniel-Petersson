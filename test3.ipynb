{
 "cells": [
  {
   "cell_type": "code",
   "execution_count": 98,
   "metadata": {},
   "outputs": [],
   "source": [
    "import math\n",
    "import numpy as np\n",
    "import pandas as pd\n",
    "import matplotlib.pyplot as plt\n",
    "import seaborn as sns\n",
    "from sklearn.linear_model import LinearRegression\n",
    "from sklearn.model_selection import train_test_split\n",
    "from sklearn.preprocessing import StandardScaler\n",
    "from sklearn.metrics import mean_absolute_error"
   ]
  },
  {
   "cell_type": "code",
   "execution_count": 99,
   "metadata": {},
   "outputs": [
    {
     "data": {
      "text/html": [
       "<div>\n",
       "<style scoped>\n",
       "    .dataframe tbody tr th:only-of-type {\n",
       "        vertical-align: middle;\n",
       "    }\n",
       "\n",
       "    .dataframe tbody tr th {\n",
       "        vertical-align: top;\n",
       "    }\n",
       "\n",
       "    .dataframe thead th {\n",
       "        text-align: right;\n",
       "    }\n",
       "</style>\n",
       "<table border=\"1\" class=\"dataframe\">\n",
       "  <thead>\n",
       "    <tr style=\"text-align: right;\">\n",
       "      <th></th>\n",
       "      <th>mpg</th>\n",
       "      <th>cylinders</th>\n",
       "      <th>displacement</th>\n",
       "      <th>horsepower</th>\n",
       "      <th>weight</th>\n",
       "      <th>acceleration</th>\n",
       "      <th>model_year</th>\n",
       "      <th>origin_europe</th>\n",
       "      <th>origin_japan</th>\n",
       "      <th>origin_usa</th>\n",
       "    </tr>\n",
       "  </thead>\n",
       "  <tbody>\n",
       "    <tr>\n",
       "      <th>0</th>\n",
       "      <td>18.0</td>\n",
       "      <td>8</td>\n",
       "      <td>307.0</td>\n",
       "      <td>130.0</td>\n",
       "      <td>3504</td>\n",
       "      <td>12.0</td>\n",
       "      <td>70</td>\n",
       "      <td>0</td>\n",
       "      <td>0</td>\n",
       "      <td>1</td>\n",
       "    </tr>\n",
       "    <tr>\n",
       "      <th>1</th>\n",
       "      <td>15.0</td>\n",
       "      <td>8</td>\n",
       "      <td>350.0</td>\n",
       "      <td>165.0</td>\n",
       "      <td>3693</td>\n",
       "      <td>11.5</td>\n",
       "      <td>70</td>\n",
       "      <td>0</td>\n",
       "      <td>0</td>\n",
       "      <td>1</td>\n",
       "    </tr>\n",
       "    <tr>\n",
       "      <th>2</th>\n",
       "      <td>18.0</td>\n",
       "      <td>8</td>\n",
       "      <td>318.0</td>\n",
       "      <td>150.0</td>\n",
       "      <td>3436</td>\n",
       "      <td>11.0</td>\n",
       "      <td>70</td>\n",
       "      <td>0</td>\n",
       "      <td>0</td>\n",
       "      <td>1</td>\n",
       "    </tr>\n",
       "    <tr>\n",
       "      <th>3</th>\n",
       "      <td>16.0</td>\n",
       "      <td>8</td>\n",
       "      <td>304.0</td>\n",
       "      <td>150.0</td>\n",
       "      <td>3433</td>\n",
       "      <td>12.0</td>\n",
       "      <td>70</td>\n",
       "      <td>0</td>\n",
       "      <td>0</td>\n",
       "      <td>1</td>\n",
       "    </tr>\n",
       "    <tr>\n",
       "      <th>4</th>\n",
       "      <td>17.0</td>\n",
       "      <td>8</td>\n",
       "      <td>302.0</td>\n",
       "      <td>140.0</td>\n",
       "      <td>3449</td>\n",
       "      <td>10.5</td>\n",
       "      <td>70</td>\n",
       "      <td>0</td>\n",
       "      <td>0</td>\n",
       "      <td>1</td>\n",
       "    </tr>\n",
       "  </tbody>\n",
       "</table>\n",
       "</div>"
      ],
      "text/plain": [
       "    mpg  cylinders  displacement  horsepower  weight  acceleration  \\\n",
       "0  18.0          8         307.0       130.0    3504          12.0   \n",
       "1  15.0          8         350.0       165.0    3693          11.5   \n",
       "2  18.0          8         318.0       150.0    3436          11.0   \n",
       "3  16.0          8         304.0       150.0    3433          12.0   \n",
       "4  17.0          8         302.0       140.0    3449          10.5   \n",
       "\n",
       "   model_year  origin_europe  origin_japan  origin_usa  \n",
       "0          70              0             0           1  \n",
       "1          70              0             0           1  \n",
       "2          70              0             0           1  \n",
       "3          70              0             0           1  \n",
       "4          70              0             0           1  "
      ]
     },
     "execution_count": 99,
     "metadata": {},
     "output_type": "execute_result"
    }
   ],
   "source": [
    "df = sns.load_dataset(\"mpg\")\n",
    "\n",
    "X_train, y_train = df[~df[\"horsepower\"].isna()][[\"displacement\", \"acceleration\"]], df[~df[\"horsepower\"].isna()][\"horsepower\"]\n",
    "X_pred = df[df[\"horsepower\"].isna()][[\"displacement\", \"acceleration\"]]\n",
    "\n",
    "linreg = LinearRegression()\n",
    "linreg.fit(X_train, y_train)\n",
    "y_pred = linreg.predict(X_pred)\n",
    "y_pred = np.round(y_pred)\n",
    "df.loc[X_pred.index, \"horsepower\"] = y_pred\n",
    "df = pd.get_dummies(df.drop(\"name\", axis = 1), columns = [\"origin\"])\n",
    "df.head()"
   ]
  },
  {
   "cell_type": "code",
   "execution_count": 100,
   "metadata": {},
   "outputs": [],
   "source": [
    "X, y = df.drop([\"mpg\"], axis = 1).values, df[\"mpg\"].values\n",
    "\n",
    "X_train, X_test, y_train, y_test = train_test_split(X, y, test_size = 0.2, random_state = 42)\n",
    "X_val, X_test, y_val, y_test = train_test_split(X_test, y_test, test_size = 0.5, random_state = 42)"
   ]
  },
  {
   "cell_type": "code",
   "execution_count": 101,
   "metadata": {},
   "outputs": [],
   "source": [
    "scaler = StandardScaler()\n",
    "#scaler = MinMaxScaler()\n",
    "\n",
    "scaled_X_train = scaler.fit_transform(X_train)\n",
    "scaled_X_val = scaler.transform(X_val)\n",
    "scaled_X_test = scaler.transform(X_test)"
   ]
  },
  {
   "cell_type": "code",
   "execution_count": 102,
   "metadata": {},
   "outputs": [],
   "source": [
    "sigmoid = np.vectorize(lambda x: 1 / (1 + math.exp(-x)))\n",
    "\n",
    "def seed_np(integer):\n",
    "    np.random.seed(integer)\n",
    "\n",
    "class ERegressor:\n",
    "    class Net:\n",
    "        def __init__(self):\n",
    "            pass\n",
    "\n",
    "        def set_input_size(self, input_size):\n",
    "            self.input_size = input_size\n",
    "        \n",
    "        def set_weights(self, weights_and_biases):\n",
    "            self.w1 = weights_and_biases[0]\n",
    "            self.w2 = weights_and_biases[1]\n",
    "            self.b1 = weights_and_biases[2]\n",
    "            self.b2 = weights_and_biases[3]\n",
    "        \n",
    "        def predict(self, input):\n",
    "            return (self.w2.T @ sigmoid(self.w1 @ input.T + self.b1) + self.b2).reshape(-1)\n",
    "        \n",
    "        def __add__(self, other):\n",
    "            w1 = (self.w1 + other.w1) / 2 + np.random.normal(0, 3, (self.input_size, self.input_size))\n",
    "            w2 = (self.w2 + other.w2) / 2 + np.random.normal(0, 3, (self.input_size, 1))\n",
    "            b1 = (self.b1 + other.b1) / 2 + np.random.normal(0, 3, (self.input_size, 1))\n",
    "            b2 = (self.b2 + other.b2) / 2 + np.random.normal(0, 3, 1)\n",
    "\n",
    "            return w1, w2, b1, b2\n",
    "    \n",
    "    def __init__(self, n = 100, random_state = None):\n",
    "        self.nets = {}\n",
    "        self.y_preds = {}\n",
    "        self.best_net = None\n",
    "        self.best_result = None\n",
    "        self.n = n - n % 2\n",
    "        \n",
    "        for i in range(n - n % 2):\n",
    "            self.nets[i] = self.Net()\n",
    "\n",
    "        if random_state != None:\n",
    "            seed_np(random_state)\n",
    "    \n",
    "    def fit(self, X_train, y_train, epochs = 100):\n",
    "        self.input_size = X_train.shape[1]\n",
    "\n",
    "        for key in self.nets.keys():\n",
    "            self.nets[key].set_input_size(self.input_size)\n",
    "\n",
    "            self.nets[key].set_weights((\n",
    "                np.random.uniform(-3, 3, (self.input_size, self.input_size)),\n",
    "                np.random.uniform(-3, 3, (self.input_size, 1)),\n",
    "                np.random.uniform(-3, 3, (self.input_size, 1)),\n",
    "                np.random.uniform(-3, 3, 1))\n",
    "            )\n",
    "\n",
    "        for epoch in range(epochs):\n",
    "            for key, _ in self.nets.items():\n",
    "                self.y_preds[key] = self.nets[key].predict(X_train)\n",
    "            \n",
    "            self.mean_absolute_errors = {}\n",
    "            \n",
    "            for key, _ in self.y_preds.items():\n",
    "                self.mean_absolute_errors[key] = mean_absolute_error(y_train, self.y_preds[key])\n",
    "\n",
    "            self.sorted_indecies = [key for key, _ in sorted(self.mean_absolute_errors.items(), key = lambda x: x[1])]\n",
    "\n",
    "            if self.best_result != None:\n",
    "                if self.best_result[1] > sorted(self.mean_absolute_errors.items(), key = lambda x: x[1])[0][1]:\n",
    "                    self.best_result = sorted(self.mean_absolute_errors.items(), key = lambda x: x[1])[0]\n",
    "                    print(f\"Epoch {epoch}: MAE: {self.best_result[1]}\")\n",
    "            else:        \n",
    "                self.best_result = sorted(self.mean_absolute_errors.items(), key = lambda x: x[1])[0]\n",
    "                print(f\"Epoch {epoch}: MAE: {self.best_result[1]}\")\n",
    "\n",
    "\n",
    "            self.best_net = self.sorted_indecies[0]\n",
    "            \n",
    "            for i in range(0, self.n // 2, 2):\n",
    "                self.nets[self.sorted_indecies[self.n // 2 + i]].set_weights(self.nets[self.sorted_indecies[i]] + self.nets[self.sorted_indecies[i + 1]])\n",
    "                self.nets[self.sorted_indecies[self.n // 2 + i + 1]].set_weights(self.nets[self.sorted_indecies[i]] + self.nets[self.sorted_indecies[i + 1]])\n",
    "\n",
    "    def predict(self, X_test):\n",
    "        return self.nets[self.best_net].predict(X_test)"
   ]
  },
  {
   "cell_type": "code",
   "execution_count": 103,
   "metadata": {},
   "outputs": [
    {
     "name": "stdout",
     "output_type": "stream",
     "text": [
      "Epoch 0: MAE: 15.84001299310242\n",
      "Epoch 1: MAE: 7.527820295753187\n",
      "Epoch 3: MAE: 4.925029384674258\n",
      "Epoch 7: MAE: 3.4242206497323875\n",
      "Epoch 35: MAE: 3.312248348272221\n",
      "Epoch 65: MAE: 3.1676560147925197\n",
      "Epoch 70: MAE: 3.082059255656698\n",
      "Epoch 151: MAE: 2.936089156576874\n",
      "Epoch 359: MAE: 2.904530499787042\n",
      "Epoch 634: MAE: 2.7407265046466605\n",
      "Epoch 676: MAE: 2.6587334235964124\n"
     ]
    }
   ],
   "source": [
    "regressor = ERegressor(n = 100, random_state = 42)\n",
    "regressor.fit(scaled_X_train, y_train, epochs = 1000)"
   ]
  },
  {
   "cell_type": "code",
   "execution_count": 106,
   "metadata": {},
   "outputs": [],
   "source": [
    "y_pred = regressor.predict(scaled_X_test)"
   ]
  },
  {
   "cell_type": "code",
   "execution_count": 107,
   "metadata": {},
   "outputs": [
    {
     "data": {
      "text/plain": [
       "array([28.28567143, 31.09631271, 29.04365286, 33.09716287, 15.37019921,\n",
       "       20.63192101, 15.65547006, 34.94404715, 14.82618516, 23.6077323 ,\n",
       "       25.6636302 , 25.71918686, 34.61056749, 16.27544884, 25.5053893 ,\n",
       "       32.05333024, 15.45064559, 30.73091585, 14.85482581, 25.98605003,\n",
       "       21.78998809, 21.65877268, 25.71736893, 23.34083676, 32.13035426,\n",
       "       22.54832179, 21.55406572, 30.15462987, 29.77898494, 22.63721163,\n",
       "       15.4206301 , 18.37488417, 15.73142314, 22.11371326, 14.5973163 ,\n",
       "       33.33992368, 22.79083189, 34.84747029, 25.85861526, 15.23366704])"
      ]
     },
     "execution_count": 107,
     "metadata": {},
     "output_type": "execute_result"
    }
   ],
   "source": [
    "y_pred"
   ]
  },
  {
   "cell_type": "code",
   "execution_count": 108,
   "metadata": {},
   "outputs": [
    {
     "data": {
      "text/plain": [
       "2.190027265628705"
      ]
     },
     "execution_count": 108,
     "metadata": {},
     "output_type": "execute_result"
    }
   ],
   "source": [
    "mean_absolute_error(y_test, y_pred)"
   ]
  }
 ],
 "metadata": {
  "interpreter": {
   "hash": "47d3b7ff548c1bae2d6b155a9b3d6f1122689b634566f833764ba5dd9fcfa2e0"
  },
  "kernelspec": {
   "display_name": "Python 3.9.12 ('Deep-learning-Daniel-Petersson-bXusHwTH')",
   "language": "python",
   "name": "python3"
  },
  "language_info": {
   "codemirror_mode": {
    "name": "ipython",
    "version": 3
   },
   "file_extension": ".py",
   "mimetype": "text/x-python",
   "name": "python",
   "nbconvert_exporter": "python",
   "pygments_lexer": "ipython3",
   "version": "3.9.12"
  },
  "orig_nbformat": 4
 },
 "nbformat": 4,
 "nbformat_minor": 2
}
