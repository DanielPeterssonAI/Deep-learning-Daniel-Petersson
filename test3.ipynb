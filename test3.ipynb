{
 "cells": [
  {
   "cell_type": "code",
   "execution_count": 44,
   "metadata": {},
   "outputs": [],
   "source": [
    "import math\n",
    "import numpy as np\n",
    "import pandas as pd\n",
    "import matplotlib.pyplot as plt\n",
    "import seaborn as sns\n",
    "from sklearn.linear_model import LinearRegression\n",
    "from sklearn.model_selection import train_test_split\n",
    "from sklearn.preprocessing import StandardScaler\n",
    "from sklearn.metrics import mean_absolute_error"
   ]
  },
  {
   "cell_type": "code",
   "execution_count": 45,
   "metadata": {},
   "outputs": [
    {
     "data": {
      "text/html": [
       "<div>\n",
       "<style scoped>\n",
       "    .dataframe tbody tr th:only-of-type {\n",
       "        vertical-align: middle;\n",
       "    }\n",
       "\n",
       "    .dataframe tbody tr th {\n",
       "        vertical-align: top;\n",
       "    }\n",
       "\n",
       "    .dataframe thead th {\n",
       "        text-align: right;\n",
       "    }\n",
       "</style>\n",
       "<table border=\"1\" class=\"dataframe\">\n",
       "  <thead>\n",
       "    <tr style=\"text-align: right;\">\n",
       "      <th></th>\n",
       "      <th>mpg</th>\n",
       "      <th>cylinders</th>\n",
       "      <th>displacement</th>\n",
       "      <th>horsepower</th>\n",
       "      <th>weight</th>\n",
       "      <th>acceleration</th>\n",
       "      <th>model_year</th>\n",
       "      <th>origin_europe</th>\n",
       "      <th>origin_japan</th>\n",
       "      <th>origin_usa</th>\n",
       "    </tr>\n",
       "  </thead>\n",
       "  <tbody>\n",
       "    <tr>\n",
       "      <th>0</th>\n",
       "      <td>18.0</td>\n",
       "      <td>8</td>\n",
       "      <td>307.0</td>\n",
       "      <td>130.0</td>\n",
       "      <td>3504</td>\n",
       "      <td>12.0</td>\n",
       "      <td>70</td>\n",
       "      <td>0</td>\n",
       "      <td>0</td>\n",
       "      <td>1</td>\n",
       "    </tr>\n",
       "    <tr>\n",
       "      <th>1</th>\n",
       "      <td>15.0</td>\n",
       "      <td>8</td>\n",
       "      <td>350.0</td>\n",
       "      <td>165.0</td>\n",
       "      <td>3693</td>\n",
       "      <td>11.5</td>\n",
       "      <td>70</td>\n",
       "      <td>0</td>\n",
       "      <td>0</td>\n",
       "      <td>1</td>\n",
       "    </tr>\n",
       "    <tr>\n",
       "      <th>2</th>\n",
       "      <td>18.0</td>\n",
       "      <td>8</td>\n",
       "      <td>318.0</td>\n",
       "      <td>150.0</td>\n",
       "      <td>3436</td>\n",
       "      <td>11.0</td>\n",
       "      <td>70</td>\n",
       "      <td>0</td>\n",
       "      <td>0</td>\n",
       "      <td>1</td>\n",
       "    </tr>\n",
       "    <tr>\n",
       "      <th>3</th>\n",
       "      <td>16.0</td>\n",
       "      <td>8</td>\n",
       "      <td>304.0</td>\n",
       "      <td>150.0</td>\n",
       "      <td>3433</td>\n",
       "      <td>12.0</td>\n",
       "      <td>70</td>\n",
       "      <td>0</td>\n",
       "      <td>0</td>\n",
       "      <td>1</td>\n",
       "    </tr>\n",
       "    <tr>\n",
       "      <th>4</th>\n",
       "      <td>17.0</td>\n",
       "      <td>8</td>\n",
       "      <td>302.0</td>\n",
       "      <td>140.0</td>\n",
       "      <td>3449</td>\n",
       "      <td>10.5</td>\n",
       "      <td>70</td>\n",
       "      <td>0</td>\n",
       "      <td>0</td>\n",
       "      <td>1</td>\n",
       "    </tr>\n",
       "  </tbody>\n",
       "</table>\n",
       "</div>"
      ],
      "text/plain": [
       "    mpg  cylinders  displacement  horsepower  weight  acceleration  \\\n",
       "0  18.0          8         307.0       130.0    3504          12.0   \n",
       "1  15.0          8         350.0       165.0    3693          11.5   \n",
       "2  18.0          8         318.0       150.0    3436          11.0   \n",
       "3  16.0          8         304.0       150.0    3433          12.0   \n",
       "4  17.0          8         302.0       140.0    3449          10.5   \n",
       "\n",
       "   model_year  origin_europe  origin_japan  origin_usa  \n",
       "0          70              0             0           1  \n",
       "1          70              0             0           1  \n",
       "2          70              0             0           1  \n",
       "3          70              0             0           1  \n",
       "4          70              0             0           1  "
      ]
     },
     "execution_count": 45,
     "metadata": {},
     "output_type": "execute_result"
    }
   ],
   "source": [
    "df = sns.load_dataset(\"mpg\")\n",
    "\n",
    "X_train, y_train = df[~df[\"horsepower\"].isna()][[\"displacement\", \"acceleration\"]], df[~df[\"horsepower\"].isna()][\"horsepower\"]\n",
    "X_pred = df[df[\"horsepower\"].isna()][[\"displacement\", \"acceleration\"]]\n",
    "\n",
    "linreg = LinearRegression()\n",
    "linreg.fit(X_train, y_train)\n",
    "y_pred = linreg.predict(X_pred)\n",
    "y_pred = np.round(y_pred)\n",
    "df.loc[X_pred.index, \"horsepower\"] = y_pred\n",
    "df = pd.get_dummies(df.drop(\"name\", axis = 1), columns = [\"origin\"])\n",
    "df.head()"
   ]
  },
  {
   "cell_type": "code",
   "execution_count": 46,
   "metadata": {},
   "outputs": [],
   "source": [
    "X, y = df.drop([\"mpg\"], axis = 1).values, df[\"mpg\"].values\n",
    "\n",
    "X_train, X_test, y_train, y_test = train_test_split(X, y, test_size = 0.2, random_state = 42)\n",
    "X_val, X_test, y_val, y_test = train_test_split(X_test, y_test, test_size = 0.5, random_state = 42)"
   ]
  },
  {
   "cell_type": "code",
   "execution_count": 47,
   "metadata": {},
   "outputs": [],
   "source": [
    "scaler = StandardScaler()\n",
    "#scaler = MinMaxScaler()\n",
    "\n",
    "scaled_X_train = scaler.fit_transform(X_train)\n",
    "scaled_X_val = scaler.transform(X_val)\n",
    "scaled_X_test = scaler.transform(X_test)"
   ]
  },
  {
   "cell_type": "code",
   "execution_count": 48,
   "metadata": {},
   "outputs": [],
   "source": [
    "sigmoid = np.vectorize(lambda x: 1 / (1 + math.exp(-x)))\n",
    "\n",
    "def seed_np(integer):\n",
    "    np.random.seed(integer)\n",
    "\n",
    "class ERegressor:\n",
    "    class Net:\n",
    "        def __init__(self):\n",
    "            self.w1 = np.random.uniform(-3, 3, (9, 9))\n",
    "            self.w2 = np.random.uniform(-3, 3, (9, 1))\n",
    "            self.b1 = np.random.uniform(-3, 3, (9, 1))\n",
    "            self.b2 = np.random.uniform(-3, 3, 1)\n",
    "        \n",
    "        def set_weights(self, weights_and_biases):\n",
    "            self.w1 = weights_and_biases[0]\n",
    "            self.w2 = weights_and_biases[1]\n",
    "            self.b1 = weights_and_biases[2]\n",
    "            self.b2 = weights_and_biases[3]\n",
    "        \n",
    "        def predict(self, input):\n",
    "            return (self.w2.T @ sigmoid(self.w1 @ input.T + self.b1) + self.b2).reshape(-1)\n",
    "        \n",
    "        def __add__(self, other):\n",
    "            w1 = (self.w1 + other.w1) / 2 + np.random.normal(0, 3, (9, 9))\n",
    "            w2 = (self.w2 + other.w2) / 2 + np.random.normal(0, 3, (9, 1))\n",
    "            b1 = (self.b1 + other.b1) / 2 + np.random.normal(0, 3, (9, 1))\n",
    "            b2 = (self.b2 + other.b2) / 2 + np.random.normal(0, 3, 1)\n",
    "\n",
    "            return w1, w2, b1, b2\n",
    "    \n",
    "    def __init__(self, n = 100, random_state = None):\n",
    "        self.nets = {}\n",
    "        self.y_preds = {}\n",
    "        self.best_net = None\n",
    "        self.best_result = None\n",
    "        self.n = n - n % 2\n",
    "        \n",
    "        for i in range(n - n % 2):\n",
    "            self.nets[i] = self.Net()\n",
    "\n",
    "        if random_state != None:\n",
    "            seed_np(random_state)\n",
    "    \n",
    "    def fit(self, X_train, y_train, epochs = 100):\n",
    "        for epoch in range(epochs):\n",
    "            for key, _ in self.nets.items():\n",
    "                self.y_preds[key] = self.nets[key].predict(X_train)\n",
    "            \n",
    "            self.mean_absolute_errors = {}\n",
    "            \n",
    "            for key, _ in self.y_preds.items():\n",
    "                self.mean_absolute_errors[key] = mean_absolute_error(y_train, self.y_preds[key])\n",
    "\n",
    "            self.sorted_indecies = [key for key, _ in sorted(self.mean_absolute_errors.items(), key = lambda x: x[1])]\n",
    "\n",
    "            if self.best_result != None:\n",
    "                if self.best_result[1] > sorted(self.mean_absolute_errors.items(), key = lambda x: x[1])[0][1]:\n",
    "                    self.best_result = sorted(self.mean_absolute_errors.items(), key = lambda x: x[1])[0]\n",
    "                    print(f\"Epoch {epoch}: MAE: {self.best_result[1]}\")\n",
    "            else:        \n",
    "                self.best_result = sorted(self.mean_absolute_errors.items(), key = lambda x: x[1])[0]\n",
    "                print(f\"Epoch {epoch}: MAE: {self.best_result[1]}\")\n",
    "\n",
    "\n",
    "            self.best_net = self.sorted_indecies[0]\n",
    "            \n",
    "            for i in range(0, self.n // 2, 2):\n",
    "                self.nets[self.sorted_indecies[self.n // 2 + i]].set_weights(self.nets[self.sorted_indecies[i]] + self.nets[self.sorted_indecies[i + 1]])\n",
    "                self.nets[self.sorted_indecies[self.n // 2 + i + 1]].set_weights(self.nets[self.sorted_indecies[i]] + self.nets[self.sorted_indecies[i + 1]])\n",
    "\n",
    "    def predict(self, X_test):\n",
    "        return self.nets[self.best_net].predict(X_test)"
   ]
  },
  {
   "cell_type": "code",
   "execution_count": 49,
   "metadata": {},
   "outputs": [
    {
     "name": "stdout",
     "output_type": "stream",
     "text": [
      "Epoch 0: MAE: 15.84001299310242\n",
      "Epoch 1: MAE: 12.160116518184195\n",
      "Epoch 2: MAE: 9.46738855468636\n",
      "Epoch 3: MAE: 7.157972534219814\n",
      "Epoch 4: MAE: 6.078718760070636\n",
      "Epoch 5: MAE: 5.3154709423402355\n",
      "Epoch 7: MAE: 5.076937287645865\n",
      "Epoch 10: MAE: 4.735542393202827\n",
      "Epoch 11: MAE: 4.486880792228267\n",
      "Epoch 12: MAE: 3.8995922480462313\n",
      "Epoch 24: MAE: 3.8323596085522933\n",
      "Epoch 28: MAE: 3.2412848021623697\n"
     ]
    }
   ],
   "source": [
    "regressor = ERegressor(n = 100, random_state = 42)\n",
    "regressor.fit(scaled_X_train, y_train, epochs = 50)"
   ]
  },
  {
   "cell_type": "code",
   "execution_count": 50,
   "metadata": {},
   "outputs": [],
   "source": [
    "y_pred = regressor.predict(scaled_X_test)"
   ]
  },
  {
   "cell_type": "code",
   "execution_count": 51,
   "metadata": {},
   "outputs": [
    {
     "data": {
      "text/plain": [
       "array([30.08511919, 30.77377575, 19.31188864, 29.62682207, 11.71138863,\n",
       "       15.44474498, 12.01899416, 29.40205974, 12.92980078, 25.77048839,\n",
       "       27.94258579, 24.50705998, 29.27802357, 11.86168117, 28.24897748,\n",
       "       30.72010163, 10.98187081, 30.72660262, 12.01788374, 25.79454759,\n",
       "       21.34816681, 21.50193462, 27.19592104, 24.52979746, 30.79077001,\n",
       "       26.3726391 , 18.79797702, 28.46991298, 29.01648896, 27.12497   ,\n",
       "       11.80916525, 15.32912239, 11.86045187, 24.45383506, 11.95940396,\n",
       "       30.79631861, 27.75330595, 29.64248341, 23.0065641 , 12.30938232])"
      ]
     },
     "execution_count": 51,
     "metadata": {},
     "output_type": "execute_result"
    }
   ],
   "source": [
    "y_pred"
   ]
  },
  {
   "cell_type": "code",
   "execution_count": 52,
   "metadata": {},
   "outputs": [
    {
     "data": {
      "text/plain": [
       "3.026027534455666"
      ]
     },
     "execution_count": 52,
     "metadata": {},
     "output_type": "execute_result"
    }
   ],
   "source": [
    "mean_absolute_error(y_test, y_pred)"
   ]
  }
 ],
 "metadata": {
  "interpreter": {
   "hash": "47d3b7ff548c1bae2d6b155a9b3d6f1122689b634566f833764ba5dd9fcfa2e0"
  },
  "kernelspec": {
   "display_name": "Python 3.9.12 ('Deep-learning-Daniel-Petersson-bXusHwTH')",
   "language": "python",
   "name": "python3"
  },
  "language_info": {
   "codemirror_mode": {
    "name": "ipython",
    "version": 3
   },
   "file_extension": ".py",
   "mimetype": "text/x-python",
   "name": "python",
   "nbconvert_exporter": "python",
   "pygments_lexer": "ipython3",
   "version": "3.9.12"
  },
  "orig_nbformat": 4
 },
 "nbformat": 4,
 "nbformat_minor": 2
}
