{
 "cells": [
  {
   "cell_type": "code",
   "execution_count": 1,
   "metadata": {},
   "outputs": [],
   "source": [
    "import math\n",
    "import numpy as np\n",
    "import pandas as pd\n",
    "import matplotlib.pyplot as plt\n",
    "import seaborn as sns\n",
    "from sklearn.linear_model import LinearRegression\n",
    "from sklearn.model_selection import train_test_split\n",
    "from sklearn.preprocessing import StandardScaler\n",
    "from sklearn.metrics import mean_absolute_error, mean_squared_error"
   ]
  },
  {
   "cell_type": "code",
   "execution_count": 2,
   "metadata": {},
   "outputs": [
    {
     "data": {
      "text/html": [
       "<div>\n",
       "<style scoped>\n",
       "    .dataframe tbody tr th:only-of-type {\n",
       "        vertical-align: middle;\n",
       "    }\n",
       "\n",
       "    .dataframe tbody tr th {\n",
       "        vertical-align: top;\n",
       "    }\n",
       "\n",
       "    .dataframe thead th {\n",
       "        text-align: right;\n",
       "    }\n",
       "</style>\n",
       "<table border=\"1\" class=\"dataframe\">\n",
       "  <thead>\n",
       "    <tr style=\"text-align: right;\">\n",
       "      <th></th>\n",
       "      <th>mpg</th>\n",
       "      <th>cylinders</th>\n",
       "      <th>displacement</th>\n",
       "      <th>horsepower</th>\n",
       "      <th>weight</th>\n",
       "      <th>acceleration</th>\n",
       "      <th>model_year</th>\n",
       "      <th>origin_europe</th>\n",
       "      <th>origin_japan</th>\n",
       "      <th>origin_usa</th>\n",
       "    </tr>\n",
       "  </thead>\n",
       "  <tbody>\n",
       "    <tr>\n",
       "      <th>0</th>\n",
       "      <td>18.0</td>\n",
       "      <td>8</td>\n",
       "      <td>307.0</td>\n",
       "      <td>130.0</td>\n",
       "      <td>3504</td>\n",
       "      <td>12.0</td>\n",
       "      <td>70</td>\n",
       "      <td>0</td>\n",
       "      <td>0</td>\n",
       "      <td>1</td>\n",
       "    </tr>\n",
       "    <tr>\n",
       "      <th>1</th>\n",
       "      <td>15.0</td>\n",
       "      <td>8</td>\n",
       "      <td>350.0</td>\n",
       "      <td>165.0</td>\n",
       "      <td>3693</td>\n",
       "      <td>11.5</td>\n",
       "      <td>70</td>\n",
       "      <td>0</td>\n",
       "      <td>0</td>\n",
       "      <td>1</td>\n",
       "    </tr>\n",
       "    <tr>\n",
       "      <th>2</th>\n",
       "      <td>18.0</td>\n",
       "      <td>8</td>\n",
       "      <td>318.0</td>\n",
       "      <td>150.0</td>\n",
       "      <td>3436</td>\n",
       "      <td>11.0</td>\n",
       "      <td>70</td>\n",
       "      <td>0</td>\n",
       "      <td>0</td>\n",
       "      <td>1</td>\n",
       "    </tr>\n",
       "    <tr>\n",
       "      <th>3</th>\n",
       "      <td>16.0</td>\n",
       "      <td>8</td>\n",
       "      <td>304.0</td>\n",
       "      <td>150.0</td>\n",
       "      <td>3433</td>\n",
       "      <td>12.0</td>\n",
       "      <td>70</td>\n",
       "      <td>0</td>\n",
       "      <td>0</td>\n",
       "      <td>1</td>\n",
       "    </tr>\n",
       "    <tr>\n",
       "      <th>4</th>\n",
       "      <td>17.0</td>\n",
       "      <td>8</td>\n",
       "      <td>302.0</td>\n",
       "      <td>140.0</td>\n",
       "      <td>3449</td>\n",
       "      <td>10.5</td>\n",
       "      <td>70</td>\n",
       "      <td>0</td>\n",
       "      <td>0</td>\n",
       "      <td>1</td>\n",
       "    </tr>\n",
       "  </tbody>\n",
       "</table>\n",
       "</div>"
      ],
      "text/plain": [
       "    mpg  cylinders  displacement  horsepower  weight  acceleration  \\\n",
       "0  18.0          8         307.0       130.0    3504          12.0   \n",
       "1  15.0          8         350.0       165.0    3693          11.5   \n",
       "2  18.0          8         318.0       150.0    3436          11.0   \n",
       "3  16.0          8         304.0       150.0    3433          12.0   \n",
       "4  17.0          8         302.0       140.0    3449          10.5   \n",
       "\n",
       "   model_year  origin_europe  origin_japan  origin_usa  \n",
       "0          70              0             0           1  \n",
       "1          70              0             0           1  \n",
       "2          70              0             0           1  \n",
       "3          70              0             0           1  \n",
       "4          70              0             0           1  "
      ]
     },
     "execution_count": 2,
     "metadata": {},
     "output_type": "execute_result"
    }
   ],
   "source": [
    "df = sns.load_dataset(\"mpg\")\n",
    "\n",
    "X_train, y_train = df[~df[\"horsepower\"].isna()][[\"displacement\", \"acceleration\"]], df[~df[\"horsepower\"].isna()][\"horsepower\"]\n",
    "X_pred = df[df[\"horsepower\"].isna()][[\"displacement\", \"acceleration\"]]\n",
    "\n",
    "linreg = LinearRegression()\n",
    "linreg.fit(X_train, y_train)\n",
    "y_pred = linreg.predict(X_pred)\n",
    "y_pred = np.round(y_pred)\n",
    "df.loc[X_pred.index, \"horsepower\"] = y_pred\n",
    "df = pd.get_dummies(df.drop(\"name\", axis = 1), columns = [\"origin\"])\n",
    "df.head()"
   ]
  },
  {
   "cell_type": "code",
   "execution_count": 3,
   "metadata": {},
   "outputs": [],
   "source": [
    "X, y = df.drop([\"mpg\"], axis = 1).values, df[\"mpg\"].values\n",
    "\n",
    "X_train, X_test, y_train, y_test = train_test_split(X, y, test_size = 0.2, random_state = 42)\n",
    "X_val, X_test, y_val, y_test = train_test_split(X_test, y_test, test_size = 0.5, random_state = 42)"
   ]
  },
  {
   "cell_type": "code",
   "execution_count": 4,
   "metadata": {},
   "outputs": [],
   "source": [
    "scaler = StandardScaler()\n",
    "#scaler = MinMaxScaler()\n",
    "\n",
    "scaled_X_train = scaler.fit_transform(X_train)\n",
    "scaled_X_val = scaler.transform(X_val)\n",
    "scaled_X_test = scaler.transform(X_test)"
   ]
  },
  {
   "cell_type": "code",
   "execution_count": null,
   "metadata": {},
   "outputs": [],
   "source": [
    "%load_ext line_profiler\n"
   ]
  },
  {
   "cell_type": "code",
   "execution_count": 60,
   "metadata": {},
   "outputs": [
    {
     "name": "stdout",
     "output_type": "stream",
     "text": [
      "Epoch 0 - loss: 86.80315411771315 - val_loss: 85.92074829122775\n",
      "Epoch 52 - loss: 48.529593658799364 - val_loss: 37.92957627771934\n",
      "Epoch 57 - loss: 46.16809098692537 - val_loss: 43.64601834537365\n",
      "Epoch 61 - loss: 37.3078808650963 - val_loss: 43.2594308856887\n",
      "Epoch 62 - loss: 24.374492409724166 - val_loss: 22.50102748409874\n",
      "Epoch 64 - loss: 24.180719007757904 - val_loss: 28.8056701432513\n",
      "Epoch 65 - loss: 21.465531030081713 - val_loss: 27.533882300689108\n",
      "Epoch 67 - loss: 18.667022843275195 - val_loss: 14.55088036528893\n",
      "Epoch 69 - loss: 15.348983235566964 - val_loss: 14.005709298107476\n",
      "Epoch 72 - loss: 13.672580233853704 - val_loss: 16.69099270184025\n",
      "Epoch 73 - loss: 13.46701468086422 - val_loss: 14.523411262108272\n",
      "Epoch 76 - loss: 12.406823812751375 - val_loss: 13.043480970327625\n",
      "Epoch 80 - loss: 10.727750323068534 - val_loss: 10.37402824278321\n",
      "Epoch 85 - loss: 10.580806571953136 - val_loss: 9.454668235858986\n",
      "Epoch 86 - loss: 9.319042955912032 - val_loss: 9.35616942541465\n",
      "Epoch 91 - loss: 9.227494211751777 - val_loss: 9.751139334346686\n",
      "Epoch 93 - loss: 8.685065580924013 - val_loss: 8.258699347539212\n",
      "Epoch 95 - loss: 8.590472621484302 - val_loss: 9.112801866718195\n",
      "Epoch 99 - loss: 8.567062623724281 - val_loss: 6.515020659011594\n",
      "Epoch 101 - loss: 8.387210595778738 - val_loss: 8.225520742514249\n",
      "Epoch 102 - loss: 8.059172606461475 - val_loss: 8.184442685654805\n",
      "Epoch 109 - loss: 7.317029638091781 - val_loss: 6.976512886461753\n",
      "Epoch 110 - loss: 6.678086829016301 - val_loss: 6.122172804916998\n",
      "Epoch 111 - loss: 6.442734196022677 - val_loss: 6.54898925841735\n",
      "Epoch 119 - loss: 6.207188718736794 - val_loss: 4.571786922746756\n",
      "Epoch 126 - loss: 6.179850901197369 - val_loss: 6.012283792460144\n",
      "Epoch 127 - loss: 5.534235022230099 - val_loss: 5.068677753200768\n",
      "Epoch 134 - loss: 5.207215101095058 - val_loss: 4.616642576121398\n",
      "Epoch 137 - loss: 5.074851512370854 - val_loss: 4.710326843698819\n",
      "Epoch 140 - loss: 4.95833228814692 - val_loss: 4.723307397879798\n",
      "Epoch 143 - loss: 4.910196837513111 - val_loss: 4.5892815615070734\n",
      "Epoch 147 - loss: 4.732930517536688 - val_loss: 4.108252826021447\n",
      "Epoch 148 - loss: 4.663781198104056 - val_loss: 6.028154572999664\n",
      "Epoch 149 - loss: 4.48819446921432 - val_loss: 4.530928050857052\n",
      "Epoch 150 - loss: 4.2054947670193865 - val_loss: 4.1586117280069095\n",
      "Epoch 152 - loss: 4.145107469305194 - val_loss: 4.26594709920441\n",
      "Epoch 159 - loss: 4.10286019356557 - val_loss: 4.131875410066675\n",
      "Epoch 160 - loss: 4.028597636591922 - val_loss: 3.8096594499552836\n",
      "Epoch 161 - loss: 3.9428987073939545 - val_loss: 3.0532354781392517\n",
      "Epoch 166 - loss: 3.651444449598221 - val_loss: 3.3208033751567543\n",
      "Epoch 173 - loss: 3.641634864296532 - val_loss: 2.9599119375806198\n",
      "Epoch 177 - loss: 3.4393902290889313 - val_loss: 3.532441714171051\n",
      "Epoch 185 - loss: 3.435879384579252 - val_loss: 3.158505170839633\n",
      "Epoch 189 - loss: 3.363907940170303 - val_loss: 3.0908643496010972\n",
      "Epoch 198 - loss: 3.3465333137198567 - val_loss: 2.8324315054073024\n",
      "Epoch 200 - loss: 3.2609138242914595 - val_loss: 3.363322403007726\n",
      "Epoch 205 - loss: 3.117475066062231 - val_loss: 2.9229987074319133\n",
      "Epoch 214 - loss: 3.1063851733860965 - val_loss: 3.1668801122739003\n",
      "Epoch 218 - loss: 2.9970997781418247 - val_loss: 3.4988414606829474\n",
      "Epoch 247 - loss: 2.9794302232204712 - val_loss: 3.1150041327652436\n",
      "Epoch 254 - loss: 2.9597027640100806 - val_loss: 3.27484221076892\n",
      "Epoch 265 - loss: 2.9051976779255044 - val_loss: 2.635476546600571\n",
      "Epoch 280 - loss: 2.8633911471470843 - val_loss: 2.903812096216422\n",
      "Epoch 292 - loss: 2.8610146175685487 - val_loss: 3.307424175893737\n",
      "Epoch 305 - loss: 2.686748455145268 - val_loss: 3.105648985531557\n",
      "Epoch 323 - loss: 2.656468215955884 - val_loss: 2.879650444865784\n",
      "Epoch 328 - loss: 2.6547416737727603 - val_loss: 2.5297930766052614\n",
      "Epoch 404 - loss: 2.6204131008028098 - val_loss: 2.837866300920448\n",
      "Epoch 463 - loss: 2.6136210991158793 - val_loss: 2.923604679427118\n",
      "Epoch 467 - loss: 2.5143837205534494 - val_loss: 2.4937707411890955\n",
      "Epoch 571 - loss: 2.4989589858750487 - val_loss: 2.628753528563479\n",
      "Epoch 624 - loss: 2.4760797177777554 - val_loss: 2.7133116545591287\n",
      "Epoch 655 - loss: 2.4149124829332043 - val_loss: 2.865516873489553\n",
      "Epoch 705 - loss: 2.3684904742298554 - val_loss: 3.023825589144791\n",
      "Epoch 726 - loss: 2.2836870655255153 - val_loss: 2.6958976199311473\n",
      "Epoch 924 - loss: 2.2077708821821482 - val_loss: 2.2344702256602207\n"
     ]
    },
    {
     "name": "stdout",
     "output_type": "stream",
     "text": [
      "Timer unit: 1e-06 s\n",
      "\n",
      "Total time: 5.24456 s\n",
      "File: /var/folders/xz/f2gwbn5n3vs4pz044n49z3cw0000gn/T/ipykernel_97253/3792550349.py\n",
      "Function: fit at line 28\n",
      "\n",
      "Line #      Hits         Time  Per Hit   % Time  Line Contents\n",
      "==============================================================\n",
      "    28                                               def fit(self, X_train, y_train, epochs = 100, validation_data = False, verbose = 0):\n",
      "    29         1         99.0     99.0      0.0          X_train = np.c_[np.ones(X_train.shape[0]), X_train]\n",
      "    30                                           \n",
      "    31         1          1.0      1.0      0.0          if validation_data:\n",
      "    32         1          1.0      1.0      0.0              X_val, y_val = validation_data\n",
      "    33                                                   \n",
      "    34         1          1.0      1.0      0.0          self.layers = [X_train.shape[1]] + self.layers\n",
      "    35                                           \n",
      "    36       101         35.0      0.3      0.0          for i in range(self.n):\n",
      "    37       100         46.0      0.5      0.0              self.nets += [[]]\n",
      "    38       500        210.0      0.4      0.0              for j in range(len(self.layers) - 1):\n",
      "    39       400       1204.0      3.0      0.0                  self.nets[i] += [np.random.uniform(-3, 3, (self.layers[j], self.layers[j + 1]))]\n",
      "    40                                           \n",
      "    41         1         19.0     19.0      0.0          self.y_preds = np.zeros((len(self.nets), y_train.shape[0]))\n",
      "    42         1          3.0      3.0      0.0          self.nets_loss = np.zeros(len(self.nets))\n",
      "    43         1          1.0      1.0      0.0          self.sorted_indecies = np.zeros(len(self.nets))\n",
      "    44                                           \n",
      "    45      1001        389.0      0.4      0.0          for epoch in range(epochs):\n",
      "    46    101000      35449.0      0.4      0.7              for i in range(len(self.nets)):\n",
      "    47    100000      47586.0      0.5      0.9                  forward_pass = X_train.T\n",
      "    48                                           \n",
      "    49    400000     162300.0      0.4      3.1                  for j in range(0, len(self.layers) - 2):\n",
      "    50                                                               #forward_pass = self.activation_function(self.nets[i][j].T @ forward_pass)\n",
      "    51                                                               #forward_pass = 1 / (1 + np.exp(-(self.nets[i][j].T @ forward_pass)))\n",
      "    52    300000    3090819.0     10.3     58.9                      forward_pass = np.maximum(0, (self.nets[i][j].T @ forward_pass))\n",
      "    53                                           \n",
      "    54    100000     316067.0      3.2      6.0                  forward_pass = self.nets[i][-1].T @ forward_pass\n",
      "    55                                           \n",
      "    56    100000     105441.0      1.1      2.0                  self.y_preds[i] = forward_pass.reshape(-1)\n",
      "    57                                                       \n",
      "    58      1000      18596.0     18.6      0.4              self.test = y_train - self.y_preds\n",
      "    59      1000      50346.0     50.3      1.0              self.nets_loss = np.mean(np.abs(self.y_preds - y_train), axis = 1)\n",
      "    60                                                       \n",
      "    61      1000       6867.0      6.9      0.1              self.sorted_indecies = np.argsort(regressor.nets_loss)\n",
      "    62                                                       \n",
      "    63      1000       1482.0      1.5      0.0              self.mutation_sigma = 0.1 + 5 * 1 / math.exp(epoch / (epochs / (10 * math.log10(epochs))))\n",
      "    64                                                       \n",
      "    65     26000       9643.0      0.4      0.2              for i in range(0, self.n // 2, 2):\n",
      "    66    125000      49671.0      0.4      0.9                  for j in range(len(self.layers) - 1):\n",
      "    67    100000     669796.0      6.7     12.8                      self.nets[self.sorted_indecies[self.n // 2 + i]][j] = (self.nets[self.sorted_indecies[i]][j] + self.nets[self.sorted_indecies[1 + i]][j]) / 2 + np.random.normal(0, self.mutation_sigma, (self.layers[j], self.layers[j + 1]))\n",
      "    68    100000     658051.0      6.6     12.5                      self.nets[self.sorted_indecies[self.n // 2 + 1 + i]][j] = (self.nets[self.sorted_indecies[i]][j] + self.nets[self.sorted_indecies[1 + i]][j]) / 2 + np.random.normal(0, self.mutation_sigma, (self.layers[j], self.layers[j + 1]))\n",
      "    69                                           \n",
      "    70      1000        588.0      0.6      0.0              if self.best_net != self.sorted_indecies[0]:\n",
      "    71        66         30.0      0.5      0.0                  self.best_net = self.sorted_indecies[0]\n",
      "    72        66        109.0      1.7      0.0                  self.training_loss_history += [self.nets_loss[self.best_net]]\n",
      "    73                                           \n",
      "    74        66         32.0      0.5      0.0                  if validation_data:\n",
      "    75        66      17899.0    271.2      0.3                      self.validation_loss_history += [mean_absolute_error(y_val, self.predict(X_val))]\n",
      "    76        66         42.0      0.6      0.0                      if verbose == 1:\n",
      "    77        66       1739.0     26.3      0.0                          print(f\"Epoch {epoch} - loss: {self.training_loss_history[-1]} - val_loss: {self.validation_loss_history[-1]}\")\n",
      "    78                                                           else:\n",
      "    79                                                               if verbose == 1:\n",
      "    80                                                                   print(f\"Epoch {epoch} - loss: {self.training_loss_history[-1]}\")"
     ]
    }
   ],
   "source": [
    "%reload_ext line_profiler\n",
    "class ERegressor:\n",
    "    def __init__(self, n = 100, hidden_layers = False, activation = \"sigmoid\", random_state = None):\n",
    "\n",
    "        self.n = n // 2 * 2\n",
    "        self.nets = []\n",
    "        self.best_net = -1\n",
    "        self.best_result = None\n",
    "        self.validation_loss_history = []\n",
    "        self.training_loss_history = []\n",
    "        self.mutation_sigma = 0\n",
    "\n",
    "        if activation == \"sigmoid\":\n",
    "            #self.activation_function = np.vectorize(lambda x: 1 / (1 + math.exp(-x)))\n",
    "            self.activation_function = lambda x: 1 / (1 + np.exp(-x))\n",
    "        elif activation == \"relu\":\n",
    "            self.activation_function = lambda x: np.maximum(0, x)\n",
    "        \n",
    "        if hidden_layers:\n",
    "            self.layers = hidden_layers + [1]\n",
    "        else:\n",
    "            self.layers = [1]\n",
    "        \n",
    "        if random_state != None:\n",
    "            np.random.seed(random_state)\n",
    "\n",
    "    \n",
    "    def fit(self, X_train, y_train, epochs = 100, validation_data = False, verbose = 0):\n",
    "        X_train = np.c_[np.ones(X_train.shape[0]), X_train]\n",
    "\n",
    "        if validation_data:\n",
    "            X_val, y_val = validation_data\n",
    "        \n",
    "        self.layers = [X_train.shape[1]] + self.layers\n",
    "\n",
    "        for i in range(self.n):\n",
    "            self.nets += [[]]\n",
    "            for j in range(len(self.layers) - 1):\n",
    "                self.nets[i] += [np.random.uniform(-3, 3, (self.layers[j], self.layers[j + 1]))]\n",
    "\n",
    "        self.y_preds = np.zeros((len(self.nets), y_train.shape[0]))\n",
    "        self.nets_loss = np.zeros(len(self.nets))\n",
    "        self.sorted_indecies = np.zeros(len(self.nets))\n",
    "\n",
    "        for epoch in range(epochs):\n",
    "            for i in range(len(self.nets)):\n",
    "                forward_pass = X_train.T\n",
    "\n",
    "                for j in range(0, len(self.layers) - 2):\n",
    "                    #forward_pass = self.activation_function(self.nets[i][j].T @ forward_pass)\n",
    "                    #forward_pass = 1 / (1 + np.exp(-(self.nets[i][j].T @ forward_pass)))\n",
    "                    forward_pass = np.maximum(0, (self.nets[i][j].T @ forward_pass))\n",
    "\n",
    "                forward_pass = self.nets[i][-1].T @ forward_pass\n",
    "\n",
    "                self.y_preds[i] = forward_pass.reshape(-1)\n",
    "            \n",
    "            self.test = y_train - self.y_preds\n",
    "            self.nets_loss = np.mean(np.abs(self.y_preds - y_train), axis = 1)\n",
    "            \n",
    "            self.sorted_indecies = np.argsort(regressor.nets_loss)\n",
    "            \n",
    "            self.mutation_sigma = 0.1 + 5 * 1 / math.exp(epoch / (epochs / (10 * math.log10(epochs))))\n",
    "            \n",
    "            for i in range(0, self.n // 2, 2):\n",
    "                for j in range(len(self.layers) - 1):\n",
    "                    self.nets[self.sorted_indecies[self.n // 2 + i]][j] = (self.nets[self.sorted_indecies[i]][j] + self.nets[self.sorted_indecies[1 + i]][j]) / 2 + np.random.normal(0, self.mutation_sigma, (self.layers[j], self.layers[j + 1]))\n",
    "                    self.nets[self.sorted_indecies[self.n // 2 + 1 + i]][j] = (self.nets[self.sorted_indecies[i]][j] + self.nets[self.sorted_indecies[1 + i]][j]) / 2 + np.random.normal(0, self.mutation_sigma, (self.layers[j], self.layers[j + 1]))\n",
    "\n",
    "            if self.best_net != self.sorted_indecies[0]:\n",
    "                self.best_net = self.sorted_indecies[0]\n",
    "                self.training_loss_history += [self.nets_loss[self.best_net]]\n",
    "\n",
    "                if validation_data:\n",
    "                    self.validation_loss_history += [mean_absolute_error(y_val, self.predict(X_val))]\n",
    "                    if verbose == 1:\n",
    "                        print(f\"Epoch {epoch} - loss: {self.training_loss_history[-1]} - val_loss: {self.validation_loss_history[-1]}\")\n",
    "                else:\n",
    "                    if verbose == 1:\n",
    "                        print(f\"Epoch {epoch} - loss: {self.training_loss_history[-1]}\")\n",
    "\n",
    "\n",
    "    def predict(self, X):\n",
    "        X = np.c_[np.ones(X.shape[0]), X]\n",
    "\n",
    "        forward_pass = X.T\n",
    "        for j in range(0, len(self.layers) - 2):\n",
    "            forward_pass = self.activation_function(self.nets[self.best_net][j].T @ forward_pass)\n",
    "\n",
    "        forward_pass = self.nets[self.best_net][-1].T @ forward_pass\n",
    "\n",
    "        return forward_pass.reshape(-1)\n",
    "        \n",
    "regressor = ERegressor(n = 100, hidden_layers = [16, 16, 16], activation = \"relu\", random_state = 42)\n",
    "#regressor.fit(scaled_X_train, y_train, epochs = 100, validation_data = (scaled_X_val, y_val), verbose = 1)\n",
    "\n",
    "%lprun -f regressor.fit regressor.fit(scaled_X_train, y_train, epochs = 1000, validation_data = (scaled_X_val, y_val), verbose = 1)"
   ]
  },
  {
   "cell_type": "code",
   "execution_count": 53,
   "metadata": {},
   "outputs": [
    {
     "data": {
      "text/plain": [
       "array([20.38907808, 27.40096933, 38.22823466, 36.39181638, 24.67730235,\n",
       "       19.19756314, 34.45134532, 33.44129524, 21.23348381, 17.5762968 ,\n",
       "       19.99514027, 23.098856  , 26.08849498, 38.93722181, 19.32271763,\n",
       "       40.59873279, 31.57602559, 24.06227958, 29.25335776, 18.80163188,\n",
       "       37.69902226, 22.23814778, 20.57754002, 21.35357074, 20.76608974,\n",
       "       19.20174384, 30.77163694, 18.57135058, 35.3205911 , 38.435405  ,\n",
       "       34.30007285, 29.79981516, 23.98802951, 32.59205133, 29.08561504,\n",
       "       21.47165532, 29.11661789, 23.32646117, 39.56458541, 18.38459341,\n",
       "       20.37645257, 22.92599093, 23.82833175, 23.10993197, 23.78347165,\n",
       "       25.6312341 , 34.5173398 , 29.63963419, 39.00109399, 33.10990631,\n",
       "       39.35769109, 33.5781582 , 42.13792762, 21.74119642, 21.61103486,\n",
       "       24.66470606, 20.32280888, 35.58398435, 32.07925002, 33.81352409,\n",
       "       22.34234932, 19.28604595, 20.3722272 , 18.55651073, 25.20357646,\n",
       "       32.59249667, 28.00596188, 17.41155408, 25.97512463, 24.46276061,\n",
       "       19.13038877, 21.36457599, 22.15105744, 25.99599806, 19.65874849,\n",
       "       34.76585706, 17.32551735, 28.53498541, 21.80415936, 30.18170089,\n",
       "       31.85140566, 19.46653685, 29.2350791 , 24.43061619, 19.40567454,\n",
       "       22.32273939, 21.07799573, 25.88615052, 23.17821654, 18.14068881,\n",
       "       17.2933096 , 19.95276741, 17.30615877, 27.67073665, 36.17331937,\n",
       "       20.18697036, 21.41014303, 18.4549387 , 27.73445512, 20.88397325,\n",
       "       31.9316352 , 25.47038556, 16.03488136, 23.9416765 , 33.10121612,\n",
       "       33.67548641, 22.2590407 , 26.68060636, 22.23966947, 28.87919412,\n",
       "       30.89467757, 18.29495333, 37.10704609, 31.07482539, 25.31002811,\n",
       "       20.29585179, 23.32596225, 35.88395027, 27.39446823, 39.33920263,\n",
       "       24.03572708, 22.32864778, 22.75161158, 32.44387841, 19.02521804,\n",
       "       18.75502554, 47.87457195, 27.07103642, 33.76943983, 20.15475021,\n",
       "       23.69346309, 26.7710492 , 32.85940502, 32.76274543, 21.13083263,\n",
       "       26.45084735, 35.04889447, 22.33379199, 33.88767917, 23.0883135 ,\n",
       "       38.69110138, 20.87426208, 18.90243656, 22.87555876, 30.85716656,\n",
       "       32.36654889, 22.42652341, 32.37738129, 19.99310314, 21.0039861 ,\n",
       "       36.77386158, 14.83435842, 20.94746455, 29.85685842, 20.04304321,\n",
       "       33.30237955, 31.55101553, 28.49066553, 32.01602491, 21.19705593,\n",
       "       18.09232838, 32.30002938, 27.16507649, 28.89355999, 44.39688632,\n",
       "       20.1846955 , 40.50934003, 26.36694736, 19.33039809, 46.86949357,\n",
       "       25.59473864, 21.7421012 , 19.39723288, 23.46170312, 18.96277035,\n",
       "       37.06184778, 17.46841374, 22.74113035, 28.79952012, 19.58257796,\n",
       "       20.42696728, 20.05691487, 14.38066236, 24.43685321, 28.05976803,\n",
       "       36.63332985, 23.99462629, 22.03182218, 17.15106476, 33.76112098,\n",
       "       32.28641274, 28.7484213 , 48.1229083 , 25.51066455, 18.98776292,\n",
       "       32.50379213, 27.96831698, 22.93245336, 41.71546129, 21.5098171 ,\n",
       "       23.17084227, 33.26275763, 20.79745083, 23.13393648, 27.80616829,\n",
       "       17.95909793, 23.57937323, 18.66240663, 17.21117176, 21.9296665 ,\n",
       "       22.06006608, 27.33177531, 27.13005534, 21.65218616, 36.88136322,\n",
       "       15.59092563, 33.99618823, 20.02539288, 21.39782741, 22.91972218,\n",
       "       17.93299769, 29.34319809, 19.22320526, 18.02157534, 20.78275559,\n",
       "       17.73599964, 18.94746003, 19.88581473, 28.86581268, 24.35500932,\n",
       "       21.55890063, 19.06194598, 31.93090876, 47.5216559 , 32.62772494,\n",
       "       29.82459285, 29.80002904, 26.51209254, 21.93050161, 21.10080065,\n",
       "       37.01330252, 24.5959671 , 24.58975543, 28.28716406, 25.69068213,\n",
       "       33.11832968, 32.30420271, 21.38305187, 19.25085154, 18.92662664,\n",
       "       31.05376341, 19.49589988, 43.74630961, 23.52172536, 18.31194137,\n",
       "       32.95952614, 19.59778626, 23.90377504, 22.89107972, 28.17864636,\n",
       "       18.96111787, 19.43385737, 18.8228286 , 28.91158285, 31.87845023,\n",
       "       22.33073006, 22.01351308, 18.10751203, 26.90136126, 18.81702436,\n",
       "       23.59244421, 17.06056693, 33.7022503 , 38.31468316, 18.88480097,\n",
       "       31.22849156, 36.43063825, 32.37848772, 21.05554958, 36.56152897,\n",
       "       29.66278447, 19.99270312, 20.5329304 , 34.25747738, 22.51021206,\n",
       "       22.27634457, 26.15806029, 21.34497643, 41.62079087, 26.97765106,\n",
       "       22.03442865, 26.2088538 , 29.79066641, 20.26407815, 23.16499201,\n",
       "       24.47193593, 34.07571927, 39.83928682, 22.23509819, 34.95192527,\n",
       "       23.83903918, 26.84227801, 33.15919891, 31.23605356, 20.2405223 ,\n",
       "       29.72215374, 17.84887   , 43.51584716, 17.62718674, 19.10734838,\n",
       "       34.07340295, 28.40136754, 20.83816944, 18.52909978, 16.878228  ,\n",
       "       20.90518372, 38.56921015, 30.32429227])"
      ]
     },
     "execution_count": 53,
     "metadata": {},
     "output_type": "execute_result"
    }
   ],
   "source": [
    "np.mean(regressor.test, axis = 0)"
   ]
  },
  {
   "cell_type": "code",
   "execution_count": 504,
   "metadata": {},
   "outputs": [
    {
     "name": "stdout",
     "output_type": "stream",
     "text": [
      "The line_profiler extension is already loaded. To reload it, use:\n",
      "  %reload_ext line_profiler\n",
      "hi\n"
     ]
    },
    {
     "name": "stdout",
     "output_type": "stream",
     "text": [
      "Timer unit: 1e-06 s\n",
      "\n",
      "Total time: 2.2e-05 s\n",
      "File: /var/folders/xz/f2gwbn5n3vs4pz044n49z3cw0000gn/T/ipykernel_79586/3696412895.py\n",
      "Function: func at line 3\n",
      "\n",
      "Line #      Hits         Time  Per Hit   % Time  Line Contents\n",
      "==============================================================\n",
      "     3                                           def func():\n",
      "     4        11          3.0      0.3     13.6      for i in range(10):\n",
      "     5        10          9.0      0.9     40.9          i ** i\n",
      "     6         1         10.0     10.0     45.5      print(\"hi\")"
     ]
    }
   ],
   "source": [
    "%load_ext line_profiler"
   ]
  },
  {
   "cell_type": "code",
   "execution_count": 506,
   "metadata": {},
   "outputs": [
    {
     "name": "stdout",
     "output_type": "stream",
     "text": [
      "hi\n"
     ]
    },
    {
     "name": "stdout",
     "output_type": "stream",
     "text": [
      "Timer unit: 1e-06 s\n",
      "\n",
      "Total time: 0.000111 s\n",
      "File: /var/folders/xz/f2gwbn5n3vs4pz044n49z3cw0000gn/T/ipykernel_79586/2797496209.py\n",
      "Function: func at line 3\n",
      "\n",
      "Line #      Hits         Time  Per Hit   % Time  Line Contents\n",
      "==============================================================\n",
      "     3                                           def func():\n",
      "     4         1          1.0      1.0      0.9      a = 0\n",
      "     5        11          3.0      0.3      2.7      for i in range(10):\n",
      "     6        10          7.0      0.7      6.3          a *= i ** i\n",
      "     7         1        100.0    100.0     90.1      print(\"hi\")"
     ]
    }
   ],
   "source": [
    "%reload_ext line_profiler\n",
    "\n",
    "\n",
    "%lprun -f func func()"
   ]
  },
  {
   "cell_type": "code",
   "execution_count": 497,
   "metadata": {},
   "outputs": [],
   "source": [
    "y_pred = regressor.predict(scaled_X_test)"
   ]
  },
  {
   "cell_type": "code",
   "execution_count": 498,
   "metadata": {},
   "outputs": [
    {
     "data": {
      "text/plain": [
       "1.9816996383925645"
      ]
     },
     "execution_count": 498,
     "metadata": {},
     "output_type": "execute_result"
    }
   ],
   "source": [
    "mean_absolute_error(y_test, y_pred)"
   ]
  },
  {
   "cell_type": "code",
   "execution_count": 474,
   "metadata": {},
   "outputs": [
    {
     "data": {
      "text/plain": [
       "[<matplotlib.lines.Line2D at 0x176732850>]"
      ]
     },
     "execution_count": 474,
     "metadata": {},
     "output_type": "execute_result"
    },
    {
     "data": {
      "image/png": "[encoded data removed]",
      "text/plain": [
       "<Figure size 432x288 with 1 Axes>"
      ]
     },
     "metadata": {
      "needs_background": "light"
     },
     "output_type": "display_data"
    }
   ],
   "source": [
    "y = []\n",
    "xrange = 10000\n",
    "\n",
    "for x in range(1, xrange + 1):\n",
    "    y.append(5 * 1 / math.exp(x / (xrange / (10 * math.log10(xrange)))))\n",
    "\n",
    "plt.plot(list(range(xrange)), y)"
   ]
  },
  {
   "cell_type": "code",
   "execution_count": 464,
   "metadata": {},
   "outputs": [
    {
     "data": {
      "text/plain": [
       "[<matplotlib.lines.Line2D at 0x176666850>]"
      ]
     },
     "execution_count": 464,
     "metadata": {},
     "output_type": "execute_result"
    },
    {
     "data": {
      "image/png": "[encoded data removed]",
      "text/plain": [
       "<Figure size 432x288 with 1 Axes>"
      ]
     },
     "metadata": {
      "needs_background": "light"
     },
     "output_type": "display_data"
    }
   ],
   "source": [
    "y = []\n",
    "xrange = 10000\n",
    "\n",
    "for x in range(1, xrange + 1):\n",
    "    y.append(5 * 1 / math.exp(x / (xrange / 10)))\n",
    "\n",
    "plt.plot(list(range(xrange)), y)"
   ]
  }
 ],
 "metadata": {
  "interpreter": {
   "hash": "47d3b7ff548c1bae2d6b155a9b3d6f1122689b634566f833764ba5dd9fcfa2e0"
  },
  "kernelspec": {
   "display_name": "Python 3.9.12 ('Deep-learning-Daniel-Petersson-bXusHwTH')",
   "language": "python",
   "name": "python3"
  },
  "language_info": {
   "codemirror_mode": {
    "name": "ipython",
    "version": 3
   },
   "file_extension": ".py",
   "mimetype": "text/x-python",
   "name": "python",
   "nbconvert_exporter": "python",
   "pygments_lexer": "ipython3",
   "version": "3.9.12"
  },
  "orig_nbformat": 4
 },
 "nbformat": 4,
 "nbformat_minor": 2
}
