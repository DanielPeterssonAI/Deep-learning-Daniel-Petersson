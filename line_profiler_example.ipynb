{
 "cells": [
  {
   "cell_type": "code",
   "execution_count": 1,
   "metadata": {},
   "outputs": [],
   "source": [
    "%load_ext line_profiler"
   ]
  },
  {
   "cell_type": "code",
   "execution_count": 17,
   "metadata": {},
   "outputs": [
    {
     "name": "stdout",
     "output_type": "stream",
     "text": [
      "Timer unit: 1e-06 s\n",
      "\n",
      "Total time: 0.000505 s\n",
      "File: /var/folders/xz/f2gwbn5n3vs4pz044n49z3cw0000gn/T/ipykernel_41818/2268091475.py\n",
      "Function: function_to_profile at line 3\n",
      "\n",
      "Line #      Hits         Time  Per Hit   % Time  Line Contents\n",
      "==============================================================\n",
      "     3                                           def function_to_profile():\n",
      "     4         1          1.0      1.0      0.2      test_assign_value = \"1000\"\n",
      "     5                                               \n",
      "     6         1          1.0      1.0      0.2      b = 1\n",
      "     7         1          0.0      0.0      0.0      n = 1000\n",
      "     8      1001        246.0      0.2     48.7      for a in range(n):\n",
      "     9      1000        256.0      0.3     50.7          b = b + a\n",
      "    10                                               \n",
      "    11         1          1.0      1.0      0.2      return b"
     ]
    }
   ],
   "source": [
    "%reload_ext line_profiler\n",
    "\n",
    "def function_to_profile():\n",
    "    test_assign_value = \"1000\"\n",
    "    \n",
    "    b = 1\n",
    "    n = 1000\n",
    "    for a in range(n):\n",
    "        b = b + a\n",
    "    \n",
    "    return b\n",
    "\n",
    "\n",
    "%lprun -f function_to_profile function_to_profile()"
   ]
  },
  {
   "cell_type": "code",
   "execution_count": 18,
   "metadata": {},
   "outputs": [
    {
     "data": {
      "text/plain": [
       "499501"
      ]
     },
     "execution_count": 18,
     "metadata": {},
     "output_type": "execute_result"
    }
   ],
   "source": [
    "function_to_profile()"
   ]
  }
 ],
 "metadata": {
  "interpreter": {
   "hash": "47d3b7ff548c1bae2d6b155a9b3d6f1122689b634566f833764ba5dd9fcfa2e0"
  },
  "kernelspec": {
   "display_name": "Python 3.9.12 ('Deep-learning-Daniel-Petersson-bXusHwTH')",
   "language": "python",
   "name": "python3"
  },
  "language_info": {
   "codemirror_mode": {
    "name": "ipython",
    "version": 3
   },
   "file_extension": ".py",
   "mimetype": "text/x-python",
   "name": "python",
   "nbconvert_exporter": "python",
   "pygments_lexer": "ipython3",
   "version": "3.9.12"
  },
  "orig_nbformat": 4
 },
 "nbformat": 4,
 "nbformat_minor": 2
}
