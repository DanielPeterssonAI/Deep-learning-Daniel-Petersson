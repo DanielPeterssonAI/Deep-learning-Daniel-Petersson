{
 "cells": [
  {
   "cell_type": "code",
   "execution_count": 1,
   "metadata": {},
   "outputs": [],
   "source": [
    "import math\n",
    "import numpy as np\n",
    "import pandas as pd\n",
    "import matplotlib.pyplot as plt\n",
    "import seaborn as sns\n",
    "from sklearn.linear_model import LinearRegression\n",
    "from sklearn.model_selection import train_test_split\n",
    "from sklearn.preprocessing import StandardScaler\n",
    "from sklearn.metrics import mean_absolute_error, mean_squared_error"
   ]
  },
  {
   "cell_type": "code",
   "execution_count": 2,
   "metadata": {},
   "outputs": [
    {
     "data": {
      "text/html": [
       "<div>\n",
       "<style scoped>\n",
       "    .dataframe tbody tr th:only-of-type {\n",
       "        vertical-align: middle;\n",
       "    }\n",
       "\n",
       "    .dataframe tbody tr th {\n",
       "        vertical-align: top;\n",
       "    }\n",
       "\n",
       "    .dataframe thead th {\n",
       "        text-align: right;\n",
       "    }\n",
       "</style>\n",
       "<table border=\"1\" class=\"dataframe\">\n",
       "  <thead>\n",
       "    <tr style=\"text-align: right;\">\n",
       "      <th></th>\n",
       "      <th>mpg</th>\n",
       "      <th>cylinders</th>\n",
       "      <th>displacement</th>\n",
       "      <th>horsepower</th>\n",
       "      <th>weight</th>\n",
       "      <th>acceleration</th>\n",
       "      <th>model_year</th>\n",
       "      <th>origin_europe</th>\n",
       "      <th>origin_japan</th>\n",
       "      <th>origin_usa</th>\n",
       "    </tr>\n",
       "  </thead>\n",
       "  <tbody>\n",
       "    <tr>\n",
       "      <th>0</th>\n",
       "      <td>18.0</td>\n",
       "      <td>8</td>\n",
       "      <td>307.0</td>\n",
       "      <td>130.0</td>\n",
       "      <td>3504</td>\n",
       "      <td>12.0</td>\n",
       "      <td>70</td>\n",
       "      <td>0</td>\n",
       "      <td>0</td>\n",
       "      <td>1</td>\n",
       "    </tr>\n",
       "    <tr>\n",
       "      <th>1</th>\n",
       "      <td>15.0</td>\n",
       "      <td>8</td>\n",
       "      <td>350.0</td>\n",
       "      <td>165.0</td>\n",
       "      <td>3693</td>\n",
       "      <td>11.5</td>\n",
       "      <td>70</td>\n",
       "      <td>0</td>\n",
       "      <td>0</td>\n",
       "      <td>1</td>\n",
       "    </tr>\n",
       "    <tr>\n",
       "      <th>2</th>\n",
       "      <td>18.0</td>\n",
       "      <td>8</td>\n",
       "      <td>318.0</td>\n",
       "      <td>150.0</td>\n",
       "      <td>3436</td>\n",
       "      <td>11.0</td>\n",
       "      <td>70</td>\n",
       "      <td>0</td>\n",
       "      <td>0</td>\n",
       "      <td>1</td>\n",
       "    </tr>\n",
       "    <tr>\n",
       "      <th>3</th>\n",
       "      <td>16.0</td>\n",
       "      <td>8</td>\n",
       "      <td>304.0</td>\n",
       "      <td>150.0</td>\n",
       "      <td>3433</td>\n",
       "      <td>12.0</td>\n",
       "      <td>70</td>\n",
       "      <td>0</td>\n",
       "      <td>0</td>\n",
       "      <td>1</td>\n",
       "    </tr>\n",
       "    <tr>\n",
       "      <th>4</th>\n",
       "      <td>17.0</td>\n",
       "      <td>8</td>\n",
       "      <td>302.0</td>\n",
       "      <td>140.0</td>\n",
       "      <td>3449</td>\n",
       "      <td>10.5</td>\n",
       "      <td>70</td>\n",
       "      <td>0</td>\n",
       "      <td>0</td>\n",
       "      <td>1</td>\n",
       "    </tr>\n",
       "  </tbody>\n",
       "</table>\n",
       "</div>"
      ],
      "text/plain": [
       "    mpg  cylinders  displacement  horsepower  weight  acceleration  \\\n",
       "0  18.0          8         307.0       130.0    3504          12.0   \n",
       "1  15.0          8         350.0       165.0    3693          11.5   \n",
       "2  18.0          8         318.0       150.0    3436          11.0   \n",
       "3  16.0          8         304.0       150.0    3433          12.0   \n",
       "4  17.0          8         302.0       140.0    3449          10.5   \n",
       "\n",
       "   model_year  origin_europe  origin_japan  origin_usa  \n",
       "0          70              0             0           1  \n",
       "1          70              0             0           1  \n",
       "2          70              0             0           1  \n",
       "3          70              0             0           1  \n",
       "4          70              0             0           1  "
      ]
     },
     "execution_count": 2,
     "metadata": {},
     "output_type": "execute_result"
    }
   ],
   "source": [
    "df = sns.load_dataset(\"mpg\")\n",
    "\n",
    "X_train, y_train = df[~df[\"horsepower\"].isna()][[\"displacement\", \"acceleration\"]], df[~df[\"horsepower\"].isna()][\"horsepower\"]\n",
    "X_pred = df[df[\"horsepower\"].isna()][[\"displacement\", \"acceleration\"]]\n",
    "\n",
    "linreg = LinearRegression()\n",
    "linreg.fit(X_train, y_train)\n",
    "y_pred = linreg.predict(X_pred)\n",
    "y_pred = np.round(y_pred)\n",
    "df.loc[X_pred.index, \"horsepower\"] = y_pred\n",
    "df = pd.get_dummies(df.drop(\"name\", axis = 1), columns = [\"origin\"])\n",
    "df.head()"
   ]
  },
  {
   "cell_type": "code",
   "execution_count": 3,
   "metadata": {},
   "outputs": [],
   "source": [
    "X, y = df.drop([\"mpg\"], axis = 1).values, df[\"mpg\"].values\n",
    "\n",
    "X_train, X_test, y_train, y_test = train_test_split(X, y, test_size = 0.2, random_state = 42)\n",
    "X_val, X_test, y_val, y_test = train_test_split(X_test, y_test, test_size = 0.5, random_state = 42)"
   ]
  },
  {
   "cell_type": "code",
   "execution_count": 4,
   "metadata": {},
   "outputs": [],
   "source": [
    "scaler = StandardScaler()\n",
    "#scaler = MinMaxScaler()\n",
    "\n",
    "scaled_X_train = scaler.fit_transform(X_train)\n",
    "scaled_X_val = scaler.transform(X_val)\n",
    "scaled_X_test = scaler.transform(X_test)"
   ]
  },
  {
   "cell_type": "code",
   "execution_count": 5,
   "metadata": {},
   "outputs": [],
   "source": [
    "from evolutionary_algos import EvoMLPRegressor"
   ]
  },
  {
   "cell_type": "code",
   "execution_count": 12,
   "metadata": {},
   "outputs": [
    {
     "name": "stdout",
     "output_type": "stream",
     "text": [
      "Epoch 0 - loss: 7.737057559160331 - val_loss: 8.01487563511419\n",
      "Epoch 1 - loss: 7.508279026964524 - val_loss: 8.802670863613885\n",
      "Epoch 3 - loss: 6.981234475961248 - val_loss: 6.678973593775709\n",
      "Epoch 4 - loss: 6.31194339492415 - val_loss: 6.96310651568723\n",
      "Epoch 6 - loss: 6.187507313489505 - val_loss: 5.634552759483364\n",
      "Epoch 8 - loss: 5.302866776998057 - val_loss: 5.067706846182031\n",
      "Epoch 12 - loss: 4.799048574775743 - val_loss: 3.9874504107856077\n",
      "Epoch 15 - loss: 4.059817603448945 - val_loss: 4.265392744609368\n",
      "Epoch 27 - loss: 3.7935006992777796 - val_loss: 3.767884960248856\n",
      "Epoch 29 - loss: 3.619570013869156 - val_loss: 4.003528601388888\n",
      "Epoch 32 - loss: 2.6554637237753718 - val_loss: 2.647525027696792\n",
      "Epoch 55 - loss: 2.586000881936203 - val_loss: 2.3847110670728333\n",
      "Epoch 57 - loss: 2.3484593389973516 - val_loss: 2.1045510723115037\n",
      "Epoch 64 - loss: 2.219348560217962 - val_loss: 1.9744037039740718\n",
      "Epoch 68 - loss: 2.212276995395548 - val_loss: 2.454788999557846\n",
      "Epoch 75 - loss: 2.119510563193938 - val_loss: 2.237008866608837\n",
      "Epoch 85 - loss: 2.0504780025621256 - val_loss: 1.95228490975621\n",
      "Epoch 90 - loss: 2.0406913088006204 - val_loss: 1.8161729749305884\n",
      "Epoch 94 - loss: 2.0354503285446772 - val_loss: 1.9147777761545455\n",
      "Epoch 95 - loss: 1.9912196521722345 - val_loss: 1.8278563814456963\n",
      "Epoch 96 - loss: 1.9768619054241092 - val_loss: 1.782006758952241\n",
      "Epoch 99 - loss: 1.9566422972063227 - val_loss: 1.6909718295781082\n",
      "Epoch 109 - loss: 1.8976579524234423 - val_loss: 1.6000263676113764\n",
      "Epoch 119 - loss: 1.869018019657457 - val_loss: 1.7177862525278278\n",
      "Epoch 125 - loss: 1.8644336663160492 - val_loss: 1.6134439564883725\n",
      "Epoch 128 - loss: 1.8617702659182032 - val_loss: 1.5915100071540924\n",
      "Epoch 129 - loss: 1.860997473489256 - val_loss: 1.752307713793553\n",
      "Epoch 130 - loss: 1.856702254409556 - val_loss: 1.625333231192418\n",
      "Epoch 133 - loss: 1.8424787194116001 - val_loss: 1.5720916853895428\n",
      "Epoch 134 - loss: 1.828702713705454 - val_loss: 1.5899754165623796\n",
      "Epoch 137 - loss: 1.8282964498700018 - val_loss: 1.5512315654275723\n",
      "Epoch 141 - loss: 1.8236245427191828 - val_loss: 1.663566075081175\n",
      "Epoch 145 - loss: 1.8043129141470922 - val_loss: 1.6372974530669182\n",
      "Epoch 147 - loss: 1.8005739983627402 - val_loss: 1.710899287267862\n",
      "Epoch 150 - loss: 1.7934458812560583 - val_loss: 1.4881922181107001\n",
      "Epoch 161 - loss: 1.7773553727887195 - val_loss: 1.644336468483305\n",
      "Epoch 167 - loss: 1.7698683812104796 - val_loss: 1.6606446208412542\n",
      "Epoch 172 - loss: 1.7642408484123724 - val_loss: 1.6026472817975752\n",
      "Epoch 174 - loss: 1.7590704572756175 - val_loss: 1.4795952620331412\n",
      "Epoch 187 - loss: 1.7561912969914877 - val_loss: 1.5178962504271092\n",
      "Epoch 191 - loss: 1.7509566949791708 - val_loss: 1.467576960383994\n",
      "Epoch 199 - loss: 1.7418624927679993 - val_loss: 1.5626733986095902\n",
      "Epoch 209 - loss: 1.7389857102729964 - val_loss: 1.4537030083423286\n",
      "Epoch 217 - loss: 1.7345553288628404 - val_loss: 1.5099076477262332\n",
      "Epoch 219 - loss: 1.73155896806688 - val_loss: 1.5280240875886313\n",
      "Epoch 220 - loss: 1.71807143898308 - val_loss: 1.4233598168867203\n",
      "Epoch 256 - loss: 1.7179503998520125 - val_loss: 1.558834243472841\n",
      "Epoch 257 - loss: 1.7169193435782362 - val_loss: 1.517916274371737\n",
      "Epoch 258 - loss: 1.7024242175713826 - val_loss: 1.4491460111504775\n",
      "Epoch 274 - loss: 1.7021879814758847 - val_loss: 1.4986847367085452\n",
      "Epoch 312 - loss: 1.7021744283075173 - val_loss: 1.4917428421670142\n",
      "Epoch 326 - loss: 1.6930738093642417 - val_loss: 1.4764497234318956\n",
      "Epoch 345 - loss: 1.6926337095291288 - val_loss: 1.452820424556115\n",
      "Epoch 353 - loss: 1.692322842433597 - val_loss: 1.4345679622193275\n",
      "Epoch 373 - loss: 1.6912381087253645 - val_loss: 1.3973287515461208\n",
      "Epoch 375 - loss: 1.6896238240262478 - val_loss: 1.429411495429439\n",
      "Epoch 391 - loss: 1.6859254104967496 - val_loss: 1.3838463964808332\n",
      "Epoch 419 - loss: 1.6841507079038651 - val_loss: 1.396985532206021\n",
      "Epoch 439 - loss: 1.6828430975868751 - val_loss: 1.4492223843377823\n",
      "Epoch 463 - loss: 1.6806689844189162 - val_loss: 1.4265113002850138\n",
      "Epoch 485 - loss: 1.6751187054370902 - val_loss: 1.412466715410487\n",
      "Epoch 547 - loss: 1.6746310578124552 - val_loss: 1.4244379589433858\n",
      "Epoch 551 - loss: 1.6726734869516997 - val_loss: 1.4674268252107305\n",
      "Epoch 560 - loss: 1.6704261684177604 - val_loss: 1.3996555316847712\n",
      "Epoch 577 - loss: 1.6663454079142295 - val_loss: 1.4487763416402988\n",
      "Epoch 694 - loss: 1.6645136635000939 - val_loss: 1.3805919079231168\n",
      "Epoch 772 - loss: 1.6631832146793306 - val_loss: 1.4557898942683525\n",
      "Epoch 824 - loss: 1.6622270052923152 - val_loss: 1.3987573538732225\n",
      "Epoch 870 - loss: 1.6609572072422356 - val_loss: 1.4930158019715323\n",
      "Epoch 879 - loss: 1.656252607845651 - val_loss: 1.3947534114423363\n",
      "Epoch 1180 - loss: 1.654861009454616 - val_loss: 1.42672988808729\n",
      "Epoch 1363 - loss: 1.6532477997127522 - val_loss: 1.3880768572259168\n",
      "Epoch 1463 - loss: 1.6529634957228594 - val_loss: 1.426178736311302\n",
      "Epoch 1493 - loss: 1.652706485368938 - val_loss: 1.3871332693725358\n",
      "Epoch 1516 - loss: 1.650672717021339 - val_loss: 1.4328009837517315\n",
      "Epoch 1761 - loss: 1.648909006599817 - val_loss: 1.4412336078940904\n",
      "Epoch 1823 - loss: 1.6426063131395183 - val_loss: 1.3796874967933896\n",
      "Epoch 2170 - loss: 1.6414769271100766 - val_loss: 1.447747926284493\n",
      "Epoch 2528 - loss: 1.6407378858534045 - val_loss: 1.3934495611867865\n",
      "Epoch 2797 - loss: 1.6402616552283036 - val_loss: 1.3975426333489809\n",
      "Epoch 3017 - loss: 1.6379052943707342 - val_loss: 1.342824856985959\n",
      "Epoch 3077 - loss: 1.6378432185901914 - val_loss: 1.3670930851973189\n",
      "Epoch 3164 - loss: 1.6370890526972284 - val_loss: 1.351594677080166\n",
      "Epoch 3408 - loss: 1.634653776382898 - val_loss: 1.4148021006290268\n",
      "Epoch 3628 - loss: 1.6342827331502212 - val_loss: 1.3849475172253027\n",
      "Epoch 3675 - loss: 1.630812911970399 - val_loss: 1.3728337048714452\n",
      "Epoch 4206 - loss: 1.6268585035511882 - val_loss: 1.4138339236444915\n",
      "Epoch 4651 - loss: 1.626372706116112 - val_loss: 1.3378339037235996\n",
      "Epoch 4889 - loss: 1.6255469498140924 - val_loss: 1.410004099132494\n",
      "Epoch 5007 - loss: 1.6242923699804905 - val_loss: 1.406949240655852\n",
      "Epoch 5078 - loss: 1.6211170262282293 - val_loss: 1.365470244436344\n",
      "Epoch 5338 - loss: 1.6187125542381295 - val_loss: 1.4259426124749104\n",
      "Epoch 5670 - loss: 1.6141123358371858 - val_loss: 1.3916210268779832\n",
      "Epoch 5987 - loss: 1.6138913487254454 - val_loss: 1.3633733287453829\n",
      "Epoch 6358 - loss: 1.613768254234626 - val_loss: 1.3671824910414077\n",
      "Epoch 6371 - loss: 1.6120171046160519 - val_loss: 1.337002116197056\n",
      "Epoch 6445 - loss: 1.6082814781162842 - val_loss: 1.3978793648864776\n",
      "Epoch 6724 - loss: 1.6075977305172462 - val_loss: 1.3284617644240868\n",
      "Epoch 7336 - loss: 1.6062078014325338 - val_loss: 1.3636027022113795\n",
      "Epoch 7435 - loss: 1.6061566290972784 - val_loss: 1.3698070619014049\n",
      "Epoch 7456 - loss: 1.6047424989925718 - val_loss: 1.3688709335105411\n",
      "Epoch 7669 - loss: 1.6042258249298198 - val_loss: 1.333976561779838\n",
      "Epoch 7829 - loss: 1.6013838169689778 - val_loss: 1.4032218588741339\n",
      "Epoch 8025 - loss: 1.6011325874723414 - val_loss: 1.3657549615827556\n",
      "Epoch 8168 - loss: 1.600471362728823 - val_loss: 1.3851068660278003\n",
      "Epoch 8176 - loss: 1.5992784556372228 - val_loss: 1.3514446922622827\n",
      "Epoch 8329 - loss: 1.5960082237945443 - val_loss: 1.3218700741266454\n",
      "Epoch 8399 - loss: 1.5957104106944788 - val_loss: 1.334827691978018\n",
      "Epoch 8539 - loss: 1.5948274661134085 - val_loss: 1.4055245945414805\n",
      "Epoch 8643 - loss: 1.593953128133266 - val_loss: 1.3355843705329427\n",
      "Epoch 8681 - loss: 1.5932206350773415 - val_loss: 1.3538132717296099\n",
      "Epoch 8768 - loss: 1.5910655170565193 - val_loss: 1.3570402854364436\n",
      "Epoch 8936 - loss: 1.5909230955615576 - val_loss: 1.3019424100206385\n",
      "Epoch 9172 - loss: 1.588633626347866 - val_loss: 1.3642848641295238\n",
      "Epoch 9186 - loss: 1.5871893109589892 - val_loss: 1.3351338495471996\n",
      "Epoch 9507 - loss: 1.5869136958174537 - val_loss: 1.386069335381967\n",
      "Epoch 9825 - loss: 1.5864364051076374 - val_loss: 1.375506460442287\n",
      "Epoch 9882 - loss: 1.5860021195822764 - val_loss: 1.39052602286818\n",
      "Epoch 9946 - loss: 1.5816838895548295 - val_loss: 1.3653356156983434\n"
     ]
    }
   ],
   "source": [
    "regressor = EvoMLPRegressor(n = 480 // 2, hidden_layers = [16], activation = \"relu\", random_state = 42, lr_target = 0.03, lr_final_decay = 0.03)\n",
    "regressor.fit(scaled_X_train, y_train, epochs = 10000, validation_data = (scaled_X_val, y_val), verbose = 1)"
   ]
  },
  {
   "cell_type": "code",
   "execution_count": 13,
   "metadata": {},
   "outputs": [
    {
     "name": "stdout",
     "output_type": "stream",
     "text": [
      "Loss on test data: 1.6264509909536329\n"
     ]
    },
    {
     "data": {
      "image/png": "[encoded data removed]",
      "text/plain": [
       "<Figure size 432x288 with 1 Axes>"
      ]
     },
     "metadata": {
      "needs_background": "light"
     },
     "output_type": "display_data"
    }
   ],
   "source": [
    "y_pred = regressor.predict(scaled_X_test)\n",
    "print(f\"Loss on test data: {mean_absolute_error(y_test, y_pred)}\")\n",
    "\n",
    "fig, ax = plt.subplots(1, 1)\n",
    "\n",
    "ax.plot(regressor.training_loss_history)\n",
    "ax.plot(regressor.validation_loss_history)\n",
    "\n",
    "plt.show()"
   ]
  },
  {
   "cell_type": "code",
   "execution_count": 25,
   "metadata": {},
   "outputs": [
    {
     "data": {
      "text/plain": [
       "[<matplotlib.lines.Line2D at 0x169ae4e50>]"
      ]
     },
     "execution_count": 25,
     "metadata": {},
     "output_type": "execute_result"
    },
    {
     "data": {
      "image/png": "[encoded data removed]",
      "text/plain": [
       "<Figure size 432x288 with 1 Axes>"
      ]
     },
     "metadata": {
      "needs_background": "light"
     },
     "output_type": "display_data"
    }
   ],
   "source": [
    "y = []\n",
    "xrange = 1000\n",
    "\n",
    "for x in range(1, xrange + 1):\n",
    "    y.append(5 * 1 / math.exp(x / (xrange / (10 * math.log10(xrange)))))\n",
    "\n",
    "plt.plot(list(range(xrange)), y)"
   ]
  },
  {
   "cell_type": "code",
   "execution_count": 75,
   "metadata": {},
   "outputs": [
    {
     "name": "stdout",
     "output_type": "stream",
     "text": [
      "1.1\n"
     ]
    },
    {
     "data": {
      "text/plain": [
       "[<matplotlib.lines.Line2D at 0x17eac0e50>]"
      ]
     },
     "execution_count": 75,
     "metadata": {},
     "output_type": "execute_result"
    },
    {
     "data": {
      "image/png": "[encoded data removed]",
      "text/plain": [
       "<Figure size 432x288 with 1 Axes>"
      ]
     },
     "metadata": {
      "needs_background": "light"
     },
     "output_type": "display_data"
    }
   ],
   "source": [
    "epochs = 100\n",
    "#y = lambda epoch: \n",
    "\n",
    "f = lambda x: 1.1 + 0.8 * math.exp(-x * (50 / (epochs)))\n",
    "\n",
    "a = list(range(epochs))\n",
    "alist = [f(x) for x in a]\n",
    "\n",
    "\n",
    "print(alist[-1])\n",
    "fig, ax = plt.subplots(1, 1)\n",
    "ax.plot(alist)"
   ]
  }
 ],
 "metadata": {
  "interpreter": {
   "hash": "47d3b7ff548c1bae2d6b155a9b3d6f1122689b634566f833764ba5dd9fcfa2e0"
  },
  "kernelspec": {
   "display_name": "Python 3.9.12 ('Deep-learning-Daniel-Petersson-bXusHwTH')",
   "language": "python",
   "name": "python3"
  },
  "language_info": {
   "codemirror_mode": {
    "name": "ipython",
    "version": 3
   },
   "file_extension": ".py",
   "mimetype": "text/x-python",
   "name": "python",
   "nbconvert_exporter": "python",
   "pygments_lexer": "ipython3",
   "version": "3.9.12"
  },
  "orig_nbformat": 4
 },
 "nbformat": 4,
 "nbformat_minor": 2
}
