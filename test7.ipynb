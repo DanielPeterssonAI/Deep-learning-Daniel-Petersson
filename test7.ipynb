{
 "cells": [
  {
   "cell_type": "code",
   "execution_count": 7,
   "metadata": {},
   "outputs": [
    {
     "name": "stdout",
     "output_type": "stream",
     "text": [
      "('hej', 'ho')\n",
      "('test', 'hoj')\n"
     ]
    }
   ],
   "source": [
    "def test():\n",
    "    a = ret()\n",
    "\n",
    "    for item in a:\n",
    "        print(item)\n",
    "\n",
    "def ret():\n",
    "    w = [\"hej\", \"test\"]\n",
    "    b = [\"ho\", \"hoj\"]\n",
    "\n",
    "    return zip(w, b)\n",
    "\n",
    "test()"
   ]
  },
  {
   "cell_type": "code",
   "execution_count": 31,
   "metadata": {},
   "outputs": [
    {
     "name": "stdout",
     "output_type": "stream",
     "text": [
      "Output: 9, i=0\n"
     ]
    }
   ],
   "source": [
    "layers = [9, 1]\n",
    "\n",
    "for i in range(0, len(layers) - 1):\n",
    "    if i < len(layers) - 2:\n",
    "        print(f\"Layer: {layers[i]}, {i=}\")\n",
    "    else:\n",
    "        print(f\"Output: {layers[i]}, {i=}\")"
   ]
  },
  {
   "cell_type": "code",
   "execution_count": 41,
   "metadata": {},
   "outputs": [
    {
     "data": {
      "text/plain": [
       "[9, 1]"
      ]
     },
     "execution_count": 41,
     "metadata": {},
     "output_type": "execute_result"
    }
   ],
   "source": [
    "layers = [1]\n",
    "\n",
    "lista = 9\n",
    "\n",
    "layers = [lista] + [layers[-1]]\n",
    "\n",
    "layers"
   ]
  },
  {
   "cell_type": "code",
   "execution_count": null,
   "metadata": {},
   "outputs": [],
   "source": [
    "def __init__(self, n = 100, hidden_layers = False, random_state = None):\n",
    "        self.nets = {}\n",
    "        self.y_preds = {}\n",
    "        self.best_net = None\n",
    "        self.best_result = None\n",
    "        self.n = n // 2 * 2\n",
    "        self.layers = [1]\n",
    "        if hidden_layers != False:\n",
    "            self.layers = hidden_layers + [1]\n",
    "        else:\n",
    "            self.layers = [1]\n",
    "\n",
    "        \n",
    "        for i in range(self.n):\n",
    "            self.nets[i] = self.Net(self.layers)\n",
    "\n",
    "        if random_state != None:\n",
    "            seed_np(random_state)\n",
    "    \n",
    "    def fit(self, X_train, y_train, epochs = 100):\n",
    "        self.input_size = X_train.shape[1]\n",
    "\n",
    "        self.layers = [X_train.shape[1]] + self.layers\n",
    "\n",
    "\n",
    "        print(self.layers)\n",
    "\n",
    "        for key in self.nets.keys():\n",
    "            self.nets[key].set_input_size(self.input_size)\n",
    "            "
   ]
  }
 ],
 "metadata": {
  "interpreter": {
   "hash": "47d3b7ff548c1bae2d6b155a9b3d6f1122689b634566f833764ba5dd9fcfa2e0"
  },
  "kernelspec": {
   "display_name": "Python 3.9.12 ('Deep-learning-Daniel-Petersson-bXusHwTH')",
   "language": "python",
   "name": "python3"
  },
  "language_info": {
   "codemirror_mode": {
    "name": "ipython",
    "version": 3
   },
   "file_extension": ".py",
   "mimetype": "text/x-python",
   "name": "python",
   "nbconvert_exporter": "python",
   "pygments_lexer": "ipython3",
   "version": "3.9.12"
  },
  "orig_nbformat": 4
 },
 "nbformat": 4,
 "nbformat_minor": 2
}
