{
 "cells": [
  {
   "cell_type": "code",
   "execution_count": 2,
   "metadata": {},
   "outputs": [],
   "source": [
    "import math\n",
    "import numpy as np\n",
    "import pandas as pd\n",
    "import matplotlib.pyplot as plt\n",
    "import seaborn as sns\n",
    "from sklearn.linear_model import LinearRegression\n",
    "from sklearn.model_selection import train_test_split\n",
    "from sklearn.preprocessing import StandardScaler\n",
    "from sklearn.metrics import mean_absolute_error, mean_squared_error"
   ]
  },
  {
   "cell_type": "code",
   "execution_count": 3,
   "metadata": {},
   "outputs": [
    {
     "data": {
      "text/html": [
       "<div>\n",
       "<style scoped>\n",
       "    .dataframe tbody tr th:only-of-type {\n",
       "        vertical-align: middle;\n",
       "    }\n",
       "\n",
       "    .dataframe tbody tr th {\n",
       "        vertical-align: top;\n",
       "    }\n",
       "\n",
       "    .dataframe thead th {\n",
       "        text-align: right;\n",
       "    }\n",
       "</style>\n",
       "<table border=\"1\" class=\"dataframe\">\n",
       "  <thead>\n",
       "    <tr style=\"text-align: right;\">\n",
       "      <th></th>\n",
       "      <th>mpg</th>\n",
       "      <th>cylinders</th>\n",
       "      <th>displacement</th>\n",
       "      <th>horsepower</th>\n",
       "      <th>weight</th>\n",
       "      <th>acceleration</th>\n",
       "      <th>model_year</th>\n",
       "      <th>origin_europe</th>\n",
       "      <th>origin_japan</th>\n",
       "      <th>origin_usa</th>\n",
       "    </tr>\n",
       "  </thead>\n",
       "  <tbody>\n",
       "    <tr>\n",
       "      <th>0</th>\n",
       "      <td>18.0</td>\n",
       "      <td>8</td>\n",
       "      <td>307.0</td>\n",
       "      <td>130.0</td>\n",
       "      <td>3504</td>\n",
       "      <td>12.0</td>\n",
       "      <td>70</td>\n",
       "      <td>0</td>\n",
       "      <td>0</td>\n",
       "      <td>1</td>\n",
       "    </tr>\n",
       "    <tr>\n",
       "      <th>1</th>\n",
       "      <td>15.0</td>\n",
       "      <td>8</td>\n",
       "      <td>350.0</td>\n",
       "      <td>165.0</td>\n",
       "      <td>3693</td>\n",
       "      <td>11.5</td>\n",
       "      <td>70</td>\n",
       "      <td>0</td>\n",
       "      <td>0</td>\n",
       "      <td>1</td>\n",
       "    </tr>\n",
       "    <tr>\n",
       "      <th>2</th>\n",
       "      <td>18.0</td>\n",
       "      <td>8</td>\n",
       "      <td>318.0</td>\n",
       "      <td>150.0</td>\n",
       "      <td>3436</td>\n",
       "      <td>11.0</td>\n",
       "      <td>70</td>\n",
       "      <td>0</td>\n",
       "      <td>0</td>\n",
       "      <td>1</td>\n",
       "    </tr>\n",
       "    <tr>\n",
       "      <th>3</th>\n",
       "      <td>16.0</td>\n",
       "      <td>8</td>\n",
       "      <td>304.0</td>\n",
       "      <td>150.0</td>\n",
       "      <td>3433</td>\n",
       "      <td>12.0</td>\n",
       "      <td>70</td>\n",
       "      <td>0</td>\n",
       "      <td>0</td>\n",
       "      <td>1</td>\n",
       "    </tr>\n",
       "    <tr>\n",
       "      <th>4</th>\n",
       "      <td>17.0</td>\n",
       "      <td>8</td>\n",
       "      <td>302.0</td>\n",
       "      <td>140.0</td>\n",
       "      <td>3449</td>\n",
       "      <td>10.5</td>\n",
       "      <td>70</td>\n",
       "      <td>0</td>\n",
       "      <td>0</td>\n",
       "      <td>1</td>\n",
       "    </tr>\n",
       "  </tbody>\n",
       "</table>\n",
       "</div>"
      ],
      "text/plain": [
       "    mpg  cylinders  displacement  horsepower  weight  acceleration  \\\n",
       "0  18.0          8         307.0       130.0    3504          12.0   \n",
       "1  15.0          8         350.0       165.0    3693          11.5   \n",
       "2  18.0          8         318.0       150.0    3436          11.0   \n",
       "3  16.0          8         304.0       150.0    3433          12.0   \n",
       "4  17.0          8         302.0       140.0    3449          10.5   \n",
       "\n",
       "   model_year  origin_europe  origin_japan  origin_usa  \n",
       "0          70              0             0           1  \n",
       "1          70              0             0           1  \n",
       "2          70              0             0           1  \n",
       "3          70              0             0           1  \n",
       "4          70              0             0           1  "
      ]
     },
     "execution_count": 3,
     "metadata": {},
     "output_type": "execute_result"
    }
   ],
   "source": [
    "df = sns.load_dataset(\"mpg\")\n",
    "\n",
    "X_train, y_train = df[~df[\"horsepower\"].isna()][[\"displacement\", \"acceleration\"]], df[~df[\"horsepower\"].isna()][\"horsepower\"]\n",
    "X_pred = df[df[\"horsepower\"].isna()][[\"displacement\", \"acceleration\"]]\n",
    "\n",
    "linreg = LinearRegression()\n",
    "linreg.fit(X_train, y_train)\n",
    "y_pred = linreg.predict(X_pred)\n",
    "y_pred = np.round(y_pred)\n",
    "df.loc[X_pred.index, \"horsepower\"] = y_pred\n",
    "df = pd.get_dummies(df.drop(\"name\", axis = 1), columns = [\"origin\"])\n",
    "df.head()"
   ]
  },
  {
   "cell_type": "code",
   "execution_count": 4,
   "metadata": {},
   "outputs": [],
   "source": [
    "X, y = df.drop([\"mpg\"], axis = 1).values, df[\"mpg\"].values\n",
    "\n",
    "X_train, X_test, y_train, y_test = train_test_split(X, y, test_size = 0.2, random_state = 42)\n",
    "X_val, X_test, y_val, y_test = train_test_split(X_test, y_test, test_size = 0.5, random_state = 42)"
   ]
  },
  {
   "cell_type": "code",
   "execution_count": 5,
   "metadata": {},
   "outputs": [],
   "source": [
    "scaler = StandardScaler()\n",
    "#scaler = MinMaxScaler()\n",
    "\n",
    "scaled_X_train = scaler.fit_transform(X_train)\n",
    "scaled_X_val = scaler.transform(X_val)\n",
    "scaled_X_test = scaler.transform(X_test)"
   ]
  },
  {
   "cell_type": "code",
   "execution_count": 117,
   "metadata": {},
   "outputs": [],
   "source": [
    "class ERegressor:\n",
    "    def __init__(self, n = 100, hidden_layers = False, activation = \"sigmoid\", random_state = None, verbose = 0):\n",
    "\n",
    "        self.n = n // 2 * 2\n",
    "        self.nets = []\n",
    "        self.best_net = -1\n",
    "        self.best_result = None\n",
    "        self.mutation_sigma = 0\n",
    "\n",
    "        if activation == \"sigmoid\":\n",
    "            self.activation_function = lambda x: 1 / (1 + np.exp(-x))\n",
    "        elif activation == \"relu\":\n",
    "            self.activation_function = lambda x: np.maximum(0, x)\n",
    "        \n",
    "        if hidden_layers:\n",
    "            self.layers = hidden_layers + [1]\n",
    "        else:\n",
    "            self.layers = [1]\n",
    "        \n",
    "        if random_state != None:\n",
    "            np.random.seed(random_state)\n",
    "\n",
    "        self.verbose = verbose\n",
    "\n",
    "    \n",
    "    def fit(self, X_train, y_train, epochs = 100):\n",
    "        X_train = np.c_[np.ones(X_train.shape[0]), X_train]\n",
    "\n",
    "        self.layers = [X_train.shape[1]] + self.layers\n",
    "\n",
    "        self.nets_loss = np.zeros(self.n)\n",
    "\n",
    "        self.weights = []\n",
    "\n",
    "        for i in range(len(self.layers) - 1):\n",
    "            self.weights += [np.random.uniform(-3, 3, (self.n, self.layers[i], self.layers[i + 1]))]\n",
    "\n",
    "        for epoch in range(epochs):\n",
    "            forward_pass = X_train.T\n",
    "            \n",
    "            for j in range(0, len(self.layers) - 2):\n",
    "                forward_pass = self.activation_function(self.weights[j].transpose(0, 2, 1) @ forward_pass)\n",
    "\n",
    "            forward_pass = self.weights[-1].transpose(0, 2, 1) @ forward_pass\n",
    "            y_pred = forward_pass.reshape(self.n, -1)\n",
    "\n",
    "            for i in range(self.n):\n",
    "                self.nets_loss[i] = mean_absolute_error(y_train, y_pred[i])\n",
    "\n",
    "            self.sorted_indecies = np.argsort(regressor.nets_loss)\n",
    "\n",
    "            self.mutation_sigma = 0.1 + 5 * 1 / math.exp(epoch / (epochs / (10 * math.log10(epochs))))\n",
    "\n",
    "            for j in range(0, len(self.layers) - 1):\n",
    "                self.weights[j][self.sorted_indecies[50::2]] = (self.weights[j][self.sorted_indecies[:50:2]] + self.weights[j][self.sorted_indecies[1:51:2]]) / 2 + np.random.normal(0, self.mutation_sigma, (self.layers[j], self.layers[j + 1]))\n",
    "                self.weights[j][self.sorted_indecies[51::2]] = (self.weights[j][self.sorted_indecies[:50:2]] + self.weights[j][self.sorted_indecies[1:51:2]]) / 2 + np.random.normal(0, self.mutation_sigma, (self.layers[j], self.layers[j + 1]))\n",
    "\n",
    "            if self.best_net != self.sorted_indecies[0]:\n",
    "                self.best_net = self.sorted_indecies[0]\n",
    "                print(f\"{epoch=}, {self.nets_loss[self.best_net]=}\")\n",
    "\n",
    "\n",
    "    def predict(self, X):\n",
    "        X = np.c_[np.ones(X.shape[0]), X]\n",
    "\n",
    "        forward_pass = X.T\n",
    "        for j in range(0, len(self.layers) - 2):\n",
    "            forward_pass = self.activation_function(self.nets[self.best_net][j].T @ forward_pass)\n",
    "\n",
    "        forward_pass = self.nets[self.best_net][-1].T @ forward_pass\n",
    "\n",
    "        return forward_pass.reshape(-1)\n",
    "        "
   ]
  },
  {
   "cell_type": "code",
   "execution_count": 110,
   "metadata": {},
   "outputs": [
    {
     "data": {
      "text/plain": [
       "array([ 1,  3,  5,  7,  9, 11, 13, 15, 17, 19, 21, 23, 25, 27, 29, 31, 33,\n",
       "       35, 37, 39, 41, 43, 45, 47, 49])"
      ]
     },
     "execution_count": 110,
     "metadata": {},
     "output_type": "execute_result"
    }
   ],
   "source": [
    "a = np.arange(0, 100, 1)\n",
    "a[1:50:2]"
   ]
  },
  {
   "cell_type": "code",
   "execution_count": 118,
   "metadata": {},
   "outputs": [
    {
     "name": "stdout",
     "output_type": "stream",
     "text": [
      "epoch=0, self.nets_loss[self.best_net]=17.56782493519148\n",
      "epoch=1, self.nets_loss[self.best_net]=15.974575857839325\n",
      "epoch=2, self.nets_loss[self.best_net]=5.601920374634118\n",
      "epoch=7, self.nets_loss[self.best_net]=4.7338417082199085\n",
      "epoch=29, self.nets_loss[self.best_net]=4.479081184035511\n",
      "epoch=34, self.nets_loss[self.best_net]=4.044377832080722\n",
      "epoch=38, self.nets_loss[self.best_net]=3.801946991850709\n",
      "epoch=48, self.nets_loss[self.best_net]=3.756698125246128\n",
      "epoch=52, self.nets_loss[self.best_net]=3.633761564301533\n",
      "epoch=54, self.nets_loss[self.best_net]=3.4467858456370295\n",
      "epoch=59, self.nets_loss[self.best_net]=3.4235065088773413\n",
      "epoch=63, self.nets_loss[self.best_net]=3.2660020377920853\n",
      "epoch=64, self.nets_loss[self.best_net]=3.2562159872869323\n",
      "epoch=68, self.nets_loss[self.best_net]=3.194990089686999\n",
      "epoch=70, self.nets_loss[self.best_net]=3.1254823152245006\n",
      "epoch=73, self.nets_loss[self.best_net]=2.996637066649249\n",
      "epoch=81, self.nets_loss[self.best_net]=2.9821689073375772\n",
      "epoch=86, self.nets_loss[self.best_net]=2.967661395065839\n",
      "epoch=88, self.nets_loss[self.best_net]=2.9283034649745616\n",
      "epoch=89, self.nets_loss[self.best_net]=2.8611267319293865\n",
      "epoch=93, self.nets_loss[self.best_net]=2.852847859744581\n",
      "epoch=95, self.nets_loss[self.best_net]=2.7899048604146968\n",
      "epoch=103, self.nets_loss[self.best_net]=2.752052395967166\n",
      "epoch=105, self.nets_loss[self.best_net]=2.7315719334957884\n",
      "epoch=108, self.nets_loss[self.best_net]=2.7132338887220415\n",
      "epoch=111, self.nets_loss[self.best_net]=2.6823306742806614\n",
      "epoch=118, self.nets_loss[self.best_net]=2.638583226103525\n",
      "epoch=121, self.nets_loss[self.best_net]=2.628014279234996\n",
      "epoch=125, self.nets_loss[self.best_net]=2.618417287693474\n",
      "epoch=130, self.nets_loss[self.best_net]=2.6099991971519794\n",
      "epoch=131, self.nets_loss[self.best_net]=2.584811540219514\n",
      "epoch=134, self.nets_loss[self.best_net]=2.5759286131505204\n",
      "epoch=136, self.nets_loss[self.best_net]=2.575018230480147\n",
      "epoch=139, self.nets_loss[self.best_net]=2.5660925597988506\n",
      "epoch=140, self.nets_loss[self.best_net]=2.5626091955998573\n",
      "epoch=141, self.nets_loss[self.best_net]=2.5375646866241635\n",
      "epoch=152, self.nets_loss[self.best_net]=2.528958323427344\n",
      "epoch=160, self.nets_loss[self.best_net]=2.525018341645106\n",
      "epoch=161, self.nets_loss[self.best_net]=2.512252186825326\n",
      "epoch=166, self.nets_loss[self.best_net]=2.495631280819411\n",
      "epoch=167, self.nets_loss[self.best_net]=2.4875740342688495\n",
      "epoch=171, self.nets_loss[self.best_net]=2.4601863747489787\n",
      "epoch=175, self.nets_loss[self.best_net]=2.4509528657202937\n",
      "epoch=176, self.nets_loss[self.best_net]=2.450889044443559\n",
      "epoch=178, self.nets_loss[self.best_net]=2.4384676580339795\n",
      "epoch=180, self.nets_loss[self.best_net]=2.4204043443526966\n",
      "epoch=182, self.nets_loss[self.best_net]=2.4162196932551048\n",
      "epoch=187, self.nets_loss[self.best_net]=2.4097689057047775\n",
      "epoch=193, self.nets_loss[self.best_net]=2.3957930205225595\n",
      "epoch=198, self.nets_loss[self.best_net]=2.3926147514695697\n",
      "epoch=206, self.nets_loss[self.best_net]=2.383543635474253\n",
      "epoch=208, self.nets_loss[self.best_net]=2.3785168143148443\n",
      "epoch=209, self.nets_loss[self.best_net]=2.3774949856565364\n",
      "epoch=211, self.nets_loss[self.best_net]=2.377282912210695\n",
      "epoch=214, self.nets_loss[self.best_net]=2.3623043940001636\n",
      "epoch=216, self.nets_loss[self.best_net]=2.3432784942457343\n",
      "epoch=219, self.nets_loss[self.best_net]=2.338958251740611\n",
      "epoch=220, self.nets_loss[self.best_net]=2.3354586490967426\n",
      "epoch=231, self.nets_loss[self.best_net]=2.331613569072531\n",
      "epoch=232, self.nets_loss[self.best_net]=2.3285108767042573\n",
      "epoch=237, self.nets_loss[self.best_net]=2.317600735370668\n",
      "epoch=242, self.nets_loss[self.best_net]=2.3095953422200868\n",
      "epoch=254, self.nets_loss[self.best_net]=2.303442565386169\n",
      "epoch=262, self.nets_loss[self.best_net]=2.3031166528547744\n",
      "epoch=270, self.nets_loss[self.best_net]=2.2996414713918885\n",
      "epoch=271, self.nets_loss[self.best_net]=2.297133280204303\n",
      "epoch=275, self.nets_loss[self.best_net]=2.285251443982391\n",
      "epoch=276, self.nets_loss[self.best_net]=2.2846676964854127\n",
      "epoch=280, self.nets_loss[self.best_net]=2.2814989566369768\n",
      "epoch=281, self.nets_loss[self.best_net]=2.279281930196838\n",
      "epoch=282, self.nets_loss[self.best_net]=2.2728329041277298\n",
      "epoch=285, self.nets_loss[self.best_net]=2.2722879787254633\n",
      "epoch=288, self.nets_loss[self.best_net]=2.2696595612435697\n",
      "epoch=291, self.nets_loss[self.best_net]=2.2571750850982193\n",
      "epoch=292, self.nets_loss[self.best_net]=2.2562546402961576\n",
      "epoch=294, self.nets_loss[self.best_net]=2.2531219202235366\n",
      "epoch=296, self.nets_loss[self.best_net]=2.250241308708597\n",
      "epoch=301, self.nets_loss[self.best_net]=2.236587596571221\n",
      "epoch=306, self.nets_loss[self.best_net]=2.2330347539476567\n",
      "epoch=312, self.nets_loss[self.best_net]=2.226429798810877\n",
      "epoch=313, self.nets_loss[self.best_net]=2.224558689190792\n",
      "epoch=314, self.nets_loss[self.best_net]=2.224173998133723\n",
      "epoch=318, self.nets_loss[self.best_net]=2.2062892636707105\n",
      "epoch=324, self.nets_loss[self.best_net]=2.203838319751971\n",
      "epoch=325, self.nets_loss[self.best_net]=2.188569466835911\n",
      "epoch=329, self.nets_loss[self.best_net]=2.1794906259634392\n",
      "epoch=337, self.nets_loss[self.best_net]=2.172186585192203\n",
      "epoch=340, self.nets_loss[self.best_net]=2.1694230344291143\n",
      "epoch=343, self.nets_loss[self.best_net]=2.157324612496833\n",
      "epoch=345, self.nets_loss[self.best_net]=2.1530394692441903\n",
      "epoch=346, self.nets_loss[self.best_net]=2.1530025880719252\n",
      "epoch=347, self.nets_loss[self.best_net]=2.1510603972112268\n",
      "epoch=350, self.nets_loss[self.best_net]=2.1507493978783527\n",
      "epoch=351, self.nets_loss[self.best_net]=2.1505443375655076\n",
      "epoch=353, self.nets_loss[self.best_net]=2.1458349641225185\n",
      "epoch=354, self.nets_loss[self.best_net]=2.139393411224748\n",
      "epoch=358, self.nets_loss[self.best_net]=2.1385597549150774\n",
      "epoch=368, self.nets_loss[self.best_net]=2.1361533048732406\n",
      "epoch=370, self.nets_loss[self.best_net]=2.1340560099289823\n",
      "epoch=373, self.nets_loss[self.best_net]=2.126607417958739\n",
      "epoch=376, self.nets_loss[self.best_net]=2.119038975201965\n",
      "epoch=388, self.nets_loss[self.best_net]=2.117107957588971\n",
      "epoch=397, self.nets_loss[self.best_net]=2.113172904122284\n",
      "epoch=405, self.nets_loss[self.best_net]=2.112626051914423\n",
      "epoch=406, self.nets_loss[self.best_net]=2.106821574457002\n",
      "epoch=408, self.nets_loss[self.best_net]=2.105376728705622\n",
      "epoch=410, self.nets_loss[self.best_net]=2.1010853840957178\n",
      "epoch=412, self.nets_loss[self.best_net]=2.0942001250346935\n",
      "epoch=424, self.nets_loss[self.best_net]=2.092336203709764\n",
      "epoch=464, self.nets_loss[self.best_net]=2.0905288660496915\n",
      "epoch=467, self.nets_loss[self.best_net]=2.089093753675236\n",
      "epoch=469, self.nets_loss[self.best_net]=2.080694340286408\n",
      "epoch=515, self.nets_loss[self.best_net]=2.0803502926197313\n",
      "epoch=537, self.nets_loss[self.best_net]=2.0758303580700135\n",
      "epoch=562, self.nets_loss[self.best_net]=2.0701882178183055\n",
      "epoch=575, self.nets_loss[self.best_net]=2.066260297757606\n",
      "epoch=606, self.nets_loss[self.best_net]=2.0626908805807056\n",
      "epoch=613, self.nets_loss[self.best_net]=2.056704154612963\n",
      "epoch=623, self.nets_loss[self.best_net]=2.053674425249657\n",
      "epoch=639, self.nets_loss[self.best_net]=2.0468949941332104\n",
      "epoch=642, self.nets_loss[self.best_net]=2.0419092280618014\n",
      "epoch=653, self.nets_loss[self.best_net]=2.0416748078681035\n",
      "epoch=669, self.nets_loss[self.best_net]=2.0415961672099168\n",
      "epoch=681, self.nets_loss[self.best_net]=2.0407163423487664\n",
      "epoch=683, self.nets_loss[self.best_net]=2.0349634511779633\n",
      "epoch=717, self.nets_loss[self.best_net]=2.0317235181005207\n",
      "epoch=762, self.nets_loss[self.best_net]=2.030543621261832\n",
      "epoch=768, self.nets_loss[self.best_net]=2.030075133481337\n",
      "epoch=781, self.nets_loss[self.best_net]=2.0271742593879583\n",
      "epoch=788, self.nets_loss[self.best_net]=2.0217301561340313\n",
      "epoch=823, self.nets_loss[self.best_net]=2.018770740560385\n",
      "epoch=864, self.nets_loss[self.best_net]=2.0167510948609246\n",
      "epoch=894, self.nets_loss[self.best_net]=2.015303210943448\n",
      "epoch=928, self.nets_loss[self.best_net]=2.0122574129670108\n",
      "epoch=939, self.nets_loss[self.best_net]=2.011619350578187\n",
      "epoch=965, self.nets_loss[self.best_net]=2.009228618044929\n",
      "epoch=971, self.nets_loss[self.best_net]=2.0047157570457275\n"
     ]
    }
   ],
   "source": [
    "regressor = ERegressor(n = 100, hidden_layers = [10], activation = \"sigmoid\", random_state = 42, verbose = 0)\n",
    "regressor.fit(scaled_X_train, y_train, epochs = 1000)"
   ]
  },
  {
   "cell_type": "code",
   "execution_count": 93,
   "metadata": {},
   "outputs": [
    {
     "name": "stdout",
     "output_type": "stream",
     "text": [
      "[ 0  2  4  6  8 10 12 14 16 18 20 22 24 26 28 30 32 34 36 38 40 42 44 46\n",
      " 48]\n",
      "[ 1  3  5  7  9 11 13 15 17 19 21 23 25 27 29 31 33 35 37 39 41 43 45 47\n",
      " 49]\n"
     ]
    }
   ],
   "source": [
    "a = np.arange(0, 100)\n",
    "\n",
    "print(a[0:50:2])\n",
    "print(a[1:51:2])"
   ]
  },
  {
   "cell_type": "code",
   "execution_count": 72,
   "metadata": {},
   "outputs": [
    {
     "data": {
      "text/plain": [
       "array([30, 57, 64, 44, 65, 36, 99, 54, 37, 69, 14,  3, 97, 38, 41, 62, 80,\n",
       "       84, 92, 81, 46, 85, 90, 60, 27, 52, 45, 56,  5,  7, 55, 39, 23, 58,\n",
       "       34, 21, 95, 51, 59, 18, 22, 94, 12, 82, 10,  4, 72, 26, 74, 75,  8,\n",
       "       29, 63, 15,  2,  6,  0, 31, 24, 53, 87, 78, 73, 42, 83, 48,  9, 71,\n",
       "       33, 61, 19, 68, 47, 16, 70, 50, 67, 76, 17, 98, 25, 77, 91, 43, 96,\n",
       "       28, 79, 35, 86, 93,  1, 66, 32, 88, 13, 40, 20, 89, 49, 11])"
      ]
     },
     "execution_count": 72,
     "metadata": {},
     "output_type": "execute_result"
    }
   ],
   "source": [
    "regressor.sorted_indecies"
   ]
  },
  {
   "cell_type": "code",
   "execution_count": 69,
   "metadata": {},
   "outputs": [
    {
     "data": {
      "text/plain": [
       "(10, 1)"
      ]
     },
     "execution_count": 69,
     "metadata": {},
     "output_type": "execute_result"
    }
   ],
   "source": [
    "regressor.weights[1][regressor.sorted_indecies[1]].shape"
   ]
  },
  {
   "cell_type": "code",
   "execution_count": 245,
   "metadata": {},
   "outputs": [
    {
     "data": {
      "text/plain": [
       "[<matplotlib.lines.Line2D at 0x16bb9c520>]"
      ]
     },
     "execution_count": 245,
     "metadata": {},
     "output_type": "execute_result"
    },
    {
     "data": {
      "image/png": "[encoded data removed]",
      "text/plain": [
       "<Figure size 432x288 with 1 Axes>"
      ]
     },
     "metadata": {
      "needs_background": "light"
     },
     "output_type": "display_data"
    }
   ],
   "source": [
    "y = []\n",
    "xrange = 100\n",
    "\n",
    "for x in range(1, xrange + 1):\n",
    "    y.append(5 * 1 / math.exp(x / (xrange / 10)))\n",
    "\n",
    "plt.plot(list(range(xrange)), y)"
   ]
  },
  {
   "cell_type": "code",
   "execution_count": 243,
   "metadata": {},
   "outputs": [],
   "source": [
    "y_pred = regressor.predict(scaled_X_test)"
   ]
  },
  {
   "cell_type": "code",
   "execution_count": 244,
   "metadata": {},
   "outputs": [
    {
     "data": {
      "text/plain": [
       "1.8509913997406002"
      ]
     },
     "execution_count": 244,
     "metadata": {},
     "output_type": "execute_result"
    }
   ],
   "source": [
    "mean_absolute_error(y_test, y_pred)"
   ]
  },
  {
   "cell_type": "code",
   "execution_count": 361,
   "metadata": {},
   "outputs": [],
   "source": [
    "activation_function = np.vectorize(lambda x: 1 / (1 + math.exp(-x)))\n",
    "\n",
    "w = [np.array([[[0, 3],[2, 0]],[[1, 3],[9, 7]],[[5, 8],[3, 3]]]),\n",
    "    np.array([[[2],[6]],[[0],[4]],[[6],[9]]])]\n",
    "#w1 = np.array([[[0, 3],[2, 0]],[[1, 3],[9, 7]],[[5, 8],[3, 3]]])\n",
    "#w2 = np.array([[[2],[6]],[[0],[4]],[[6],[9]]])\n",
    "\n",
    "np.random.seed(42)\n",
    "\n",
    "B = np.array([  [8, 0],\n",
    "                [9, 2],\n",
    "                [6, 3]])\n",
    "\n",
    "pred = []\n",
    "\n",
    "for i in range(3):\n",
    "    forward_pass = B.T\n",
    "    forward_pass = activation_function(w[0][i].T @ forward_pass)\n",
    "\n",
    "    forward_pass = w[1][i].T @ forward_pass\n",
    "\n",
    "    pred.append(forward_pass.reshape(-1))\n",
    "\n"
   ]
  },
  {
   "cell_type": "code",
   "execution_count": 363,
   "metadata": {},
   "outputs": [
    {
     "data": {
      "text/plain": [
       "[array([7.        , 7.96402758, 7.99505466]),\n",
       " array([4., 4., 4.]),\n",
       " array([15., 15., 15.])]"
      ]
     },
     "execution_count": 363,
     "metadata": {},
     "output_type": "execute_result"
    }
   ],
   "source": [
    "pred"
   ]
  },
  {
   "cell_type": "code",
   "execution_count": 364,
   "metadata": {},
   "outputs": [],
   "source": [
    "\n",
    "\n",
    "forward_pass = B.T\n",
    "forward_pass = activation_function(w[0].transpose(0, 2, 1) @ forward_pass)\n",
    "forward_pass = w[1].transpose(0, 2, 1) @ forward_pass\n",
    "pred = forward_pass.reshape(3, 3)\n"
   ]
  },
  {
   "cell_type": "code",
   "execution_count": 365,
   "metadata": {},
   "outputs": [
    {
     "data": {
      "text/plain": [
       "array([[ 7.        ,  7.96402758,  7.99505466],\n",
       "       [ 4.        ,  4.        ,  4.        ],\n",
       "       [15.        , 15.        , 15.        ]])"
      ]
     },
     "execution_count": 365,
     "metadata": {},
     "output_type": "execute_result"
    }
   ],
   "source": [
    "pred.reshape(3, 3)"
   ]
  },
  {
   "cell_type": "code",
   "execution_count": 309,
   "metadata": {},
   "outputs": [
    {
     "data": {
      "text/plain": [
       "(3, 2, 1)"
      ]
     },
     "execution_count": 309,
     "metadata": {},
     "output_type": "execute_result"
    }
   ],
   "source": [
    "w2.shape"
   ]
  },
  {
   "cell_type": "code",
   "execution_count": 279,
   "metadata": {},
   "outputs": [
    {
     "data": {
      "text/plain": [
       "[array([48, 58, 42, 72, 93, 72]),\n",
       " array([56, 73, 57, 16, 26, 24]),\n",
       " array([32, 54, 51,  0, 10, 15])]"
      ]
     },
     "execution_count": 279,
     "metadata": {},
     "output_type": "execute_result"
    }
   ],
   "source": [
    "pred"
   ]
  },
  {
   "cell_type": "code",
   "execution_count": 282,
   "metadata": {},
   "outputs": [
    {
     "ename": "TypeError",
     "evalue": "Unsupported dtype dtype('O') for randint",
     "output_type": "error",
     "traceback": [
      "\u001b[0;31m---------------------------------------------------------------------------\u001b[0m",
      "\u001b[0;31mTypeError\u001b[0m                                 Traceback (most recent call last)",
      "\u001b[1;32m/Users/dp/Documents/GitHub/Deep-learning-Daniel-Petersson/test8.ipynb Cell 12'\u001b[0m in \u001b[0;36m<cell line: 1>\u001b[0;34m()\u001b[0m\n\u001b[0;32m----> <a href='vscode-notebook-cell:/Users/dp/Documents/GitHub/Deep-learning-Daniel-Petersson/test8.ipynb#ch0000023?line=0'>1</a>\u001b[0m np\u001b[39m.\u001b[39;49mrandom\u001b[39m.\u001b[39;49mrandint(\u001b[39m0\u001b[39;49m, \u001b[39m10\u001b[39;49m, (\u001b[39m2\u001b[39;49m, \u001b[39m2\u001b[39;49m, (\u001b[39m1\u001b[39;49m, \u001b[39m1\u001b[39;49m)), dtype \u001b[39m=\u001b[39;49m \u001b[39m\"\u001b[39;49m\u001b[39mobject\u001b[39;49m\u001b[39m\"\u001b[39;49m)\n",
      "File \u001b[0;32mmtrand.pyx:764\u001b[0m, in \u001b[0;36mnumpy.random.mtrand.RandomState.randint\u001b[0;34m()\u001b[0m\n",
      "\u001b[0;31mTypeError\u001b[0m: Unsupported dtype dtype('O') for randint"
     ]
    }
   ],
   "source": [
    "np.random.randint(0, 10, (2, 2, (1, 1)), dtype = \"object\")"
   ]
  }
 ],
 "metadata": {
  "interpreter": {
   "hash": "47d3b7ff548c1bae2d6b155a9b3d6f1122689b634566f833764ba5dd9fcfa2e0"
  },
  "kernelspec": {
   "display_name": "Python 3.9.12 ('Deep-learning-Daniel-Petersson-bXusHwTH')",
   "language": "python",
   "name": "python3"
  },
  "language_info": {
   "codemirror_mode": {
    "name": "ipython",
    "version": 3
   },
   "file_extension": ".py",
   "mimetype": "text/x-python",
   "name": "python",
   "nbconvert_exporter": "python",
   "pygments_lexer": "ipython3",
   "version": "3.9.12"
  },
  "orig_nbformat": 4
 },
 "nbformat": 4,
 "nbformat_minor": 2
}
